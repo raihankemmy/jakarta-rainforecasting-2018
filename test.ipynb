{
 "cells": [
  {
   "cell_type": "code",
   "execution_count": 426,
   "metadata": {},
   "outputs": [],
   "source": [
    "import numpy as np\n",
    "import pandas as pd\n",
    "import matplotlib.pyplot as plt\n",
    "import seaborn as sns\n",
    "from sklearn.model_selection import train_test_split\n",
    "from sklearn.pipeline import Pipeline\n",
    "from sklearn.compose import ColumnTransformer\n",
    "\n",
    "from jcopml.pipeline import num_pipe, cat_pipe\n",
    "from jcopml.utils import save_model, load_model\n",
    "from jcopml.plot import plot_missing_value\n",
    "from jcopml.feature_importance import mean_score_decrease"
   ]
  },
  {
   "cell_type": "code",
   "execution_count": 427,
   "metadata": {},
   "outputs": [
    {
     "data": {
      "text/html": [
       "<div>\n",
       "<style scoped>\n",
       "    .dataframe tbody tr th:only-of-type {\n",
       "        vertical-align: middle;\n",
       "    }\n",
       "\n",
       "    .dataframe tbody tr th {\n",
       "        vertical-align: top;\n",
       "    }\n",
       "\n",
       "    .dataframe thead th {\n",
       "        text-align: right;\n",
       "    }\n",
       "</style>\n",
       "<table border=\"1\" class=\"dataframe\">\n",
       "  <thead>\n",
       "    <tr style=\"text-align: right;\">\n",
       "      <th></th>\n",
       "      <th>tanggal</th>\n",
       "      <th>wilayah</th>\n",
       "      <th>waktu</th>\n",
       "      <th>cuaca</th>\n",
       "      <th>kelembaban_persen</th>\n",
       "      <th>suhu_derajat_celcius</th>\n",
       "    </tr>\n",
       "  </thead>\n",
       "  <tbody>\n",
       "    <tr>\n",
       "      <th>0</th>\n",
       "      <td>2018-12-31</td>\n",
       "      <td>Kepulauan Seribu</td>\n",
       "      <td>Siang</td>\n",
       "      <td>Hujan Lokal</td>\n",
       "      <td>70 - 90</td>\n",
       "      <td>24 - 32</td>\n",
       "    </tr>\n",
       "    <tr>\n",
       "      <th>1</th>\n",
       "      <td>2018-12-31</td>\n",
       "      <td>Kepulauan Seribu</td>\n",
       "      <td>Pagi</td>\n",
       "      <td>Hujan Lokal</td>\n",
       "      <td>70 - 90</td>\n",
       "      <td>24 - 32</td>\n",
       "    </tr>\n",
       "    <tr>\n",
       "      <th>2</th>\n",
       "      <td>2018-12-31</td>\n",
       "      <td>Kepulauan Seribu</td>\n",
       "      <td>Malam</td>\n",
       "      <td>Hujan Lokal</td>\n",
       "      <td>70 - 90</td>\n",
       "      <td>24 - 32</td>\n",
       "    </tr>\n",
       "    <tr>\n",
       "      <th>3</th>\n",
       "      <td>2018-12-31</td>\n",
       "      <td>Kepulauan Seribu</td>\n",
       "      <td>Dini Hari</td>\n",
       "      <td>Hujan Ringan</td>\n",
       "      <td>70 - 90</td>\n",
       "      <td>24 - 32</td>\n",
       "    </tr>\n",
       "    <tr>\n",
       "      <th>4</th>\n",
       "      <td>2018-12-31</td>\n",
       "      <td>Jakarta Utara</td>\n",
       "      <td>Siang</td>\n",
       "      <td>Hujan Lokal</td>\n",
       "      <td>70 - 90</td>\n",
       "      <td>24 - 32</td>\n",
       "    </tr>\n",
       "  </tbody>\n",
       "</table>\n",
       "</div>"
      ],
      "text/plain": [
       "      tanggal           wilayah      waktu         cuaca kelembaban_persen  \\\n",
       "0  2018-12-31  Kepulauan Seribu      Siang   Hujan Lokal           70 - 90   \n",
       "1  2018-12-31  Kepulauan Seribu       Pagi   Hujan Lokal           70 - 90   \n",
       "2  2018-12-31  Kepulauan Seribu      Malam   Hujan Lokal           70 - 90   \n",
       "3  2018-12-31  Kepulauan Seribu  Dini Hari  Hujan Ringan           70 - 90   \n",
       "4  2018-12-31     Jakarta Utara      Siang   Hujan Lokal           70 - 90   \n",
       "\n",
       "  suhu_derajat_celcius  \n",
       "0              24 - 32  \n",
       "1              24 - 32  \n",
       "2              24 - 32  \n",
       "3              24 - 32  \n",
       "4              24 - 32  "
      ]
     },
     "execution_count": 427,
     "metadata": {},
     "output_type": "execute_result"
    }
   ],
   "source": [
    "df = pd.read_csv(\"dataset.csv\")\n",
    "df.head()"
   ]
  },
  {
   "cell_type": "code",
   "execution_count": 428,
   "metadata": {},
   "outputs": [
    {
     "data": {
      "text/plain": [
       "(8535, 6)"
      ]
     },
     "execution_count": 428,
     "metadata": {},
     "output_type": "execute_result"
    }
   ],
   "source": [
    "df.shape"
   ]
  },
  {
   "cell_type": "code",
   "execution_count": 429,
   "metadata": {},
   "outputs": [
    {
     "data": {
      "text/plain": [
       "tanggal                 135\n",
       "wilayah                 135\n",
       "waktu                   135\n",
       "cuaca                   135\n",
       "kelembaban_persen       135\n",
       "suhu_derajat_celcius    135\n",
       "dtype: int64"
      ]
     },
     "execution_count": 429,
     "metadata": {},
     "output_type": "execute_result"
    }
   ],
   "source": [
    "df.isna().sum()"
   ]
  },
  {
   "cell_type": "code",
   "execution_count": 430,
   "metadata": {},
   "outputs": [],
   "source": [
    "df.dropna(inplace=True)"
   ]
  },
  {
   "cell_type": "code",
   "execution_count": 431,
   "metadata": {},
   "outputs": [
    {
     "data": {
      "text/plain": [
       "(8400, 6)"
      ]
     },
     "execution_count": 431,
     "metadata": {},
     "output_type": "execute_result"
    }
   ],
   "source": [
    "df.shape"
   ]
  },
  {
   "cell_type": "code",
   "execution_count": 432,
   "metadata": {},
   "outputs": [
    {
     "data": {
      "text/plain": [
       "Cerah Berawan     3307\n",
       "Berawan           2758\n",
       "Hujan Lokal       1006\n",
       "Hujan Ringan       431\n",
       "Cerah              427\n",
       "Hujan Petir        137\n",
       "Berawan Tebal      115\n",
       "Hujan Sedang       110\n",
       "Cerah Berawan       32\n",
       "Cerah               24\n",
       "Berawan             19\n",
       "Hujan Lokal         13\n",
       " Berawan             3\n",
       "Hujan                2\n",
       "Cerah berawan        2\n",
       "Hujan Ringan         2\n",
       "Cerah Berawah        2\n",
       "Cerah                1\n",
       "Cerah Berawn         1\n",
       "Hujan Petir          1\n",
       "Hujan Sedang         1\n",
       "Cerang Berawan       1\n",
       "Hujan Ringanl        1\n",
       "Berawa               1\n",
       "Hujang Sedang        1\n",
       "Hujan Loka           1\n",
       "Beawan               1\n",
       "Name: cuaca, dtype: int64"
      ]
     },
     "execution_count": 432,
     "metadata": {},
     "output_type": "execute_result"
    }
   ],
   "source": [
    "df[\"cuaca\"].value_counts()"
   ]
  },
  {
   "cell_type": "code",
   "execution_count": 433,
   "metadata": {},
   "outputs": [],
   "source": [
    "df[\"cuaca\"].replace(\"Hujan Loka\", \"Hujan Lokal\", inplace=True)\n",
    "df[\"cuaca\"].replace(\" Berawan\", \"Berawan\", inplace=True)\n",
    "df[\"cuaca\"].replace(\"Hujan Lokal \", \"Hujan Lokal\", inplace=True)\n",
    "df[\"cuaca\"].replace(\"Hujan Ringan \", \"Hujan Ringan\", inplace=True)\n",
    "df[\"cuaca\"].replace(\"Cerah Berawan \", \"Cerah Berawan\", inplace=True)\n",
    "df[\"cuaca\"].replace(\"Berawan \", \"Berawan\", inplace=True)"
   ]
  },
  {
   "cell_type": "code",
   "execution_count": 434,
   "metadata": {},
   "outputs": [
    {
     "data": {
      "text/plain": [
       "Cerah Berawan     3339\n",
       "Berawan           2780\n",
       "Hujan Lokal       1020\n",
       "Hujan Ringan       433\n",
       "Cerah              427\n",
       "Hujan Petir        137\n",
       "Berawan Tebal      115\n",
       "Hujan Sedang       110\n",
       "Cerah               24\n",
       "Cerah Berawah        2\n",
       "Hujan                2\n",
       "Cerah berawan        2\n",
       "Cerah Berawn         1\n",
       "Cerang Berawan       1\n",
       "Beawan               1\n",
       "Cerah                1\n",
       "Hujan Petir          1\n",
       "Hujan Sedang         1\n",
       "Hujan Ringanl        1\n",
       "Berawa               1\n",
       "Hujang Sedang        1\n",
       "Name: cuaca, dtype: int64"
      ]
     },
     "execution_count": 434,
     "metadata": {},
     "output_type": "execute_result"
    }
   ],
   "source": [
    "df[\"cuaca\"].value_counts()"
   ]
  },
  {
   "cell_type": "code",
   "execution_count": 435,
   "metadata": {},
   "outputs": [],
   "source": [
    "df[\"cuaca\"].replace(\"Hujan Lokal\", \"Hujan\", inplace=True)\n",
    "df[\"cuaca\"].replace(\"Berawan\", \"Berawan\", inplace=True)\n",
    "df[\"cuaca\"].replace(\"Hujan Lokal\", \"Hujan\", inplace=True)\n",
    "df[\"cuaca\"].replace(\"Hujan Ringan\", \"Hujan\", inplace=True)\n",
    "df[\"cuaca\"].replace(\"Berawan Tebal\", \"Berawan\", inplace=True)\n",
    "df[\"cuaca\"].replace(\"Hujan Petir\", \"Hujan\", inplace=True)\n",
    "df[\"cuaca\"].replace(\"Hujan Sedang\", \"Hujan\", inplace=True)\n",
    "df[\"cuaca\"].replace(\"Cerah Berawan\", \"Cerah\", inplace=True)\n"
   ]
  },
  {
   "cell_type": "code",
   "execution_count": 436,
   "metadata": {},
   "outputs": [
    {
     "data": {
      "text/plain": [
       "Cerah      3796\n",
       "Berawan    2896\n",
       "Hujan      1706\n",
       "Gamasok       2\n",
       "Name: cuaca, dtype: int64"
      ]
     },
     "execution_count": 436,
     "metadata": {},
     "output_type": "execute_result"
    }
   ],
   "source": [
    "import re\n",
    "\n",
    "def cuaca(x):\n",
    "  if (re.findall(\"Cerah\", x)):\n",
    "    return 'Cerah'\n",
    "  elif (re.findall(\"Hujan\", x)):\n",
    "    return 'Hujan'\n",
    "  elif (re.findall(\"Berawan\", x)):\n",
    "    return 'Berawan'\n",
    "  else:\n",
    "    return 'Gamasok'\n",
    "\n",
    "df[\"cuaca\"] = df.cuaca.apply(cuaca)\n",
    "df[\"cuaca\"].value_counts()\n",
    "\n"
   ]
  },
  {
   "cell_type": "code",
   "execution_count": 437,
   "metadata": {},
   "outputs": [
    {
     "data": {
      "text/plain": [
       "array(['Hujan', 'Berawan', 'Cerah'], dtype=object)"
      ]
     },
     "execution_count": 437,
     "metadata": {},
     "output_type": "execute_result"
    }
   ],
   "source": [
    "df.drop(df[df[\"cuaca\"] == \"Gamasok\"].index, inplace=True)\n",
    "df[\"cuaca\"].unique()"
   ]
  },
  {
   "cell_type": "code",
   "execution_count": 438,
   "metadata": {},
   "outputs": [
    {
     "data": {
      "text/plain": [
       "70    1727\n",
       "55    1296\n",
       "65    1272\n",
       "60    1224\n",
       "75     839\n",
       "45     624\n",
       "50     600\n",
       "80     480\n",
       "40     192\n",
       "35      96\n",
       "85      48\n",
       "Name: kelembapan_min, dtype: int64"
      ]
     },
     "execution_count": 438,
     "metadata": {},
     "output_type": "execute_result"
    }
   ],
   "source": [
    "df[\"kelembapan_min\"] = df.kelembaban_persen.apply(lambda x: x.split(\"-\")[0])\n",
    "df[\"kelembapan_min\"] = [x.strip(' ') for x in df[\"kelembapan_min\"]]\n",
    "df.kelembapan_min.head()\n",
    "df.kelembapan_min.value_counts()"
   ]
  },
  {
   "cell_type": "code",
   "execution_count": 439,
   "metadata": {},
   "outputs": [
    {
     "data": {
      "text/html": [
       "<div>\n",
       "<style scoped>\n",
       "    .dataframe tbody tr th:only-of-type {\n",
       "        vertical-align: middle;\n",
       "    }\n",
       "\n",
       "    .dataframe tbody tr th {\n",
       "        vertical-align: top;\n",
       "    }\n",
       "\n",
       "    .dataframe thead th {\n",
       "        text-align: right;\n",
       "    }\n",
       "</style>\n",
       "<table border=\"1\" class=\"dataframe\">\n",
       "  <thead>\n",
       "    <tr style=\"text-align: right;\">\n",
       "      <th></th>\n",
       "      <th>tanggal</th>\n",
       "      <th>wilayah</th>\n",
       "      <th>waktu</th>\n",
       "      <th>cuaca</th>\n",
       "      <th>kelembaban_persen</th>\n",
       "      <th>suhu_derajat_celcius</th>\n",
       "      <th>kelembapan_min</th>\n",
       "    </tr>\n",
       "  </thead>\n",
       "  <tbody>\n",
       "    <tr>\n",
       "      <th>0</th>\n",
       "      <td>2018-12-31</td>\n",
       "      <td>Kepulauan Seribu</td>\n",
       "      <td>Siang</td>\n",
       "      <td>Hujan</td>\n",
       "      <td>70 - 90</td>\n",
       "      <td>24 - 32</td>\n",
       "      <td>70</td>\n",
       "    </tr>\n",
       "    <tr>\n",
       "      <th>1</th>\n",
       "      <td>2018-12-31</td>\n",
       "      <td>Kepulauan Seribu</td>\n",
       "      <td>Pagi</td>\n",
       "      <td>Hujan</td>\n",
       "      <td>70 - 90</td>\n",
       "      <td>24 - 32</td>\n",
       "      <td>70</td>\n",
       "    </tr>\n",
       "    <tr>\n",
       "      <th>2</th>\n",
       "      <td>2018-12-31</td>\n",
       "      <td>Kepulauan Seribu</td>\n",
       "      <td>Malam</td>\n",
       "      <td>Hujan</td>\n",
       "      <td>70 - 90</td>\n",
       "      <td>24 - 32</td>\n",
       "      <td>70</td>\n",
       "    </tr>\n",
       "    <tr>\n",
       "      <th>3</th>\n",
       "      <td>2018-12-31</td>\n",
       "      <td>Kepulauan Seribu</td>\n",
       "      <td>Dini Hari</td>\n",
       "      <td>Hujan</td>\n",
       "      <td>70 - 90</td>\n",
       "      <td>24 - 32</td>\n",
       "      <td>70</td>\n",
       "    </tr>\n",
       "    <tr>\n",
       "      <th>4</th>\n",
       "      <td>2018-12-31</td>\n",
       "      <td>Jakarta Utara</td>\n",
       "      <td>Siang</td>\n",
       "      <td>Hujan</td>\n",
       "      <td>70 - 90</td>\n",
       "      <td>24 - 32</td>\n",
       "      <td>70</td>\n",
       "    </tr>\n",
       "  </tbody>\n",
       "</table>\n",
       "</div>"
      ],
      "text/plain": [
       "      tanggal           wilayah      waktu  cuaca kelembaban_persen  \\\n",
       "0  2018-12-31  Kepulauan Seribu      Siang  Hujan           70 - 90   \n",
       "1  2018-12-31  Kepulauan Seribu       Pagi  Hujan           70 - 90   \n",
       "2  2018-12-31  Kepulauan Seribu      Malam  Hujan           70 - 90   \n",
       "3  2018-12-31  Kepulauan Seribu  Dini Hari  Hujan           70 - 90   \n",
       "4  2018-12-31     Jakarta Utara      Siang  Hujan           70 - 90   \n",
       "\n",
       "  suhu_derajat_celcius kelembapan_min  \n",
       "0              24 - 32             70  \n",
       "1              24 - 32             70  \n",
       "2              24 - 32             70  \n",
       "3              24 - 32             70  \n",
       "4              24 - 32             70  "
      ]
     },
     "execution_count": 439,
     "metadata": {},
     "output_type": "execute_result"
    }
   ],
   "source": [
    "df.head()"
   ]
  },
  {
   "cell_type": "code",
   "execution_count": 440,
   "metadata": {},
   "outputs": [
    {
     "data": {
      "text/plain": [
       "95     3264\n",
       "90     2375\n",
       "85     1128\n",
       "100    1031\n",
       "80      504\n",
       "75       96\n",
       "Name: kelembapan_max, dtype: int64"
      ]
     },
     "execution_count": 440,
     "metadata": {},
     "output_type": "execute_result"
    }
   ],
   "source": [
    "df[\"kelembapan_max\"] = df.kelembaban_persen.apply(lambda x: x.split(\"-\")[1])\n",
    "df[\"kelembapan_max\"] = [x.strip(' ') for x in df[\"kelembapan_max\"]]\n",
    "df.kelembapan_max.head()\n",
    "df.kelembapan_max.value_counts()"
   ]
  },
  {
   "cell_type": "code",
   "execution_count": 441,
   "metadata": {},
   "outputs": [
    {
     "data": {
      "text/html": [
       "<div>\n",
       "<style scoped>\n",
       "    .dataframe tbody tr th:only-of-type {\n",
       "        vertical-align: middle;\n",
       "    }\n",
       "\n",
       "    .dataframe tbody tr th {\n",
       "        vertical-align: top;\n",
       "    }\n",
       "\n",
       "    .dataframe thead th {\n",
       "        text-align: right;\n",
       "    }\n",
       "</style>\n",
       "<table border=\"1\" class=\"dataframe\">\n",
       "  <thead>\n",
       "    <tr style=\"text-align: right;\">\n",
       "      <th></th>\n",
       "      <th>tanggal</th>\n",
       "      <th>wilayah</th>\n",
       "      <th>waktu</th>\n",
       "      <th>cuaca</th>\n",
       "      <th>kelembaban_persen</th>\n",
       "      <th>suhu_derajat_celcius</th>\n",
       "      <th>kelembapan_min</th>\n",
       "      <th>kelembapan_max</th>\n",
       "    </tr>\n",
       "  </thead>\n",
       "  <tbody>\n",
       "    <tr>\n",
       "      <th>0</th>\n",
       "      <td>2018-12-31</td>\n",
       "      <td>Kepulauan Seribu</td>\n",
       "      <td>Siang</td>\n",
       "      <td>Hujan</td>\n",
       "      <td>70 - 90</td>\n",
       "      <td>24 - 32</td>\n",
       "      <td>70</td>\n",
       "      <td>90</td>\n",
       "    </tr>\n",
       "    <tr>\n",
       "      <th>1</th>\n",
       "      <td>2018-12-31</td>\n",
       "      <td>Kepulauan Seribu</td>\n",
       "      <td>Pagi</td>\n",
       "      <td>Hujan</td>\n",
       "      <td>70 - 90</td>\n",
       "      <td>24 - 32</td>\n",
       "      <td>70</td>\n",
       "      <td>90</td>\n",
       "    </tr>\n",
       "    <tr>\n",
       "      <th>2</th>\n",
       "      <td>2018-12-31</td>\n",
       "      <td>Kepulauan Seribu</td>\n",
       "      <td>Malam</td>\n",
       "      <td>Hujan</td>\n",
       "      <td>70 - 90</td>\n",
       "      <td>24 - 32</td>\n",
       "      <td>70</td>\n",
       "      <td>90</td>\n",
       "    </tr>\n",
       "    <tr>\n",
       "      <th>3</th>\n",
       "      <td>2018-12-31</td>\n",
       "      <td>Kepulauan Seribu</td>\n",
       "      <td>Dini Hari</td>\n",
       "      <td>Hujan</td>\n",
       "      <td>70 - 90</td>\n",
       "      <td>24 - 32</td>\n",
       "      <td>70</td>\n",
       "      <td>90</td>\n",
       "    </tr>\n",
       "    <tr>\n",
       "      <th>4</th>\n",
       "      <td>2018-12-31</td>\n",
       "      <td>Jakarta Utara</td>\n",
       "      <td>Siang</td>\n",
       "      <td>Hujan</td>\n",
       "      <td>70 - 90</td>\n",
       "      <td>24 - 32</td>\n",
       "      <td>70</td>\n",
       "      <td>90</td>\n",
       "    </tr>\n",
       "  </tbody>\n",
       "</table>\n",
       "</div>"
      ],
      "text/plain": [
       "      tanggal           wilayah      waktu  cuaca kelembaban_persen  \\\n",
       "0  2018-12-31  Kepulauan Seribu      Siang  Hujan           70 - 90   \n",
       "1  2018-12-31  Kepulauan Seribu       Pagi  Hujan           70 - 90   \n",
       "2  2018-12-31  Kepulauan Seribu      Malam  Hujan           70 - 90   \n",
       "3  2018-12-31  Kepulauan Seribu  Dini Hari  Hujan           70 - 90   \n",
       "4  2018-12-31     Jakarta Utara      Siang  Hujan           70 - 90   \n",
       "\n",
       "  suhu_derajat_celcius kelembapan_min kelembapan_max  \n",
       "0              24 - 32             70             90  \n",
       "1              24 - 32             70             90  \n",
       "2              24 - 32             70             90  \n",
       "3              24 - 32             70             90  \n",
       "4              24 - 32             70             90  "
      ]
     },
     "execution_count": 441,
     "metadata": {},
     "output_type": "execute_result"
    }
   ],
   "source": [
    "df.head()"
   ]
  },
  {
   "cell_type": "code",
   "execution_count": 442,
   "metadata": {},
   "outputs": [
    {
     "data": {
      "text/plain": [
       "24    4102\n",
       "23    3072\n",
       "25     576\n",
       "22     552\n",
       "21      48\n",
       "20      24\n",
       "26      24\n",
       "Name: suhu_min, dtype: int64"
      ]
     },
     "execution_count": 442,
     "metadata": {},
     "output_type": "execute_result"
    }
   ],
   "source": [
    "df[\"suhu_min\"] = df.suhu_derajat_celcius.apply(lambda x: x.split(\"-\")[0])\n",
    "df[\"suhu_min\"] = [x.strip(' ') for x in df[\"suhu_min\"]]\n",
    "df.suhu_min.head()\n",
    "df.suhu_min.value_counts()"
   ]
  },
  {
   "cell_type": "code",
   "execution_count": 443,
   "metadata": {},
   "outputs": [
    {
     "data": {
      "text/plain": [
       "33    3431\n",
       "32    1991\n",
       "34    1440\n",
       "31     696\n",
       "30     360\n",
       "35     288\n",
       "29     120\n",
       "28      72\n",
       "Name: suhu_max, dtype: int64"
      ]
     },
     "execution_count": 443,
     "metadata": {},
     "output_type": "execute_result"
    }
   ],
   "source": [
    "df[\"suhu_max\"] = df.suhu_derajat_celcius.apply(lambda x: x.split(\"-\")[1])\n",
    "df[\"suhu_max\"] = [x.strip(' ') for x in df[\"suhu_max\"]]\n",
    "df.suhu_max.head()\n",
    "df.suhu_max.value_counts()"
   ]
  },
  {
   "cell_type": "code",
   "execution_count": 444,
   "metadata": {},
   "outputs": [
    {
     "data": {
      "text/html": [
       "<div>\n",
       "<style scoped>\n",
       "    .dataframe tbody tr th:only-of-type {\n",
       "        vertical-align: middle;\n",
       "    }\n",
       "\n",
       "    .dataframe tbody tr th {\n",
       "        vertical-align: top;\n",
       "    }\n",
       "\n",
       "    .dataframe thead th {\n",
       "        text-align: right;\n",
       "    }\n",
       "</style>\n",
       "<table border=\"1\" class=\"dataframe\">\n",
       "  <thead>\n",
       "    <tr style=\"text-align: right;\">\n",
       "      <th></th>\n",
       "      <th>tanggal</th>\n",
       "      <th>wilayah</th>\n",
       "      <th>waktu</th>\n",
       "      <th>cuaca</th>\n",
       "      <th>kelembaban_persen</th>\n",
       "      <th>suhu_derajat_celcius</th>\n",
       "      <th>kelembapan_min</th>\n",
       "      <th>kelembapan_max</th>\n",
       "      <th>suhu_min</th>\n",
       "      <th>suhu_max</th>\n",
       "    </tr>\n",
       "  </thead>\n",
       "  <tbody>\n",
       "    <tr>\n",
       "      <th>0</th>\n",
       "      <td>2018-12-31</td>\n",
       "      <td>Kepulauan Seribu</td>\n",
       "      <td>Siang</td>\n",
       "      <td>Hujan</td>\n",
       "      <td>70 - 90</td>\n",
       "      <td>24 - 32</td>\n",
       "      <td>70</td>\n",
       "      <td>90</td>\n",
       "      <td>24</td>\n",
       "      <td>32</td>\n",
       "    </tr>\n",
       "    <tr>\n",
       "      <th>1</th>\n",
       "      <td>2018-12-31</td>\n",
       "      <td>Kepulauan Seribu</td>\n",
       "      <td>Pagi</td>\n",
       "      <td>Hujan</td>\n",
       "      <td>70 - 90</td>\n",
       "      <td>24 - 32</td>\n",
       "      <td>70</td>\n",
       "      <td>90</td>\n",
       "      <td>24</td>\n",
       "      <td>32</td>\n",
       "    </tr>\n",
       "    <tr>\n",
       "      <th>2</th>\n",
       "      <td>2018-12-31</td>\n",
       "      <td>Kepulauan Seribu</td>\n",
       "      <td>Malam</td>\n",
       "      <td>Hujan</td>\n",
       "      <td>70 - 90</td>\n",
       "      <td>24 - 32</td>\n",
       "      <td>70</td>\n",
       "      <td>90</td>\n",
       "      <td>24</td>\n",
       "      <td>32</td>\n",
       "    </tr>\n",
       "    <tr>\n",
       "      <th>3</th>\n",
       "      <td>2018-12-31</td>\n",
       "      <td>Kepulauan Seribu</td>\n",
       "      <td>Dini Hari</td>\n",
       "      <td>Hujan</td>\n",
       "      <td>70 - 90</td>\n",
       "      <td>24 - 32</td>\n",
       "      <td>70</td>\n",
       "      <td>90</td>\n",
       "      <td>24</td>\n",
       "      <td>32</td>\n",
       "    </tr>\n",
       "    <tr>\n",
       "      <th>4</th>\n",
       "      <td>2018-12-31</td>\n",
       "      <td>Jakarta Utara</td>\n",
       "      <td>Siang</td>\n",
       "      <td>Hujan</td>\n",
       "      <td>70 - 90</td>\n",
       "      <td>24 - 32</td>\n",
       "      <td>70</td>\n",
       "      <td>90</td>\n",
       "      <td>24</td>\n",
       "      <td>32</td>\n",
       "    </tr>\n",
       "  </tbody>\n",
       "</table>\n",
       "</div>"
      ],
      "text/plain": [
       "      tanggal           wilayah      waktu  cuaca kelembaban_persen  \\\n",
       "0  2018-12-31  Kepulauan Seribu      Siang  Hujan           70 - 90   \n",
       "1  2018-12-31  Kepulauan Seribu       Pagi  Hujan           70 - 90   \n",
       "2  2018-12-31  Kepulauan Seribu      Malam  Hujan           70 - 90   \n",
       "3  2018-12-31  Kepulauan Seribu  Dini Hari  Hujan           70 - 90   \n",
       "4  2018-12-31     Jakarta Utara      Siang  Hujan           70 - 90   \n",
       "\n",
       "  suhu_derajat_celcius kelembapan_min kelembapan_max suhu_min suhu_max  \n",
       "0              24 - 32             70             90       24       32  \n",
       "1              24 - 32             70             90       24       32  \n",
       "2              24 - 32             70             90       24       32  \n",
       "3              24 - 32             70             90       24       32  \n",
       "4              24 - 32             70             90       24       32  "
      ]
     },
     "execution_count": 444,
     "metadata": {},
     "output_type": "execute_result"
    }
   ],
   "source": [
    "df.head()"
   ]
  },
  {
   "cell_type": "code",
   "execution_count": 445,
   "metadata": {},
   "outputs": [],
   "source": [
    "df.drop(columns=[\"kelembaban_persen\", \"suhu_derajat_celcius\", \"tanggal\"], inplace=True)"
   ]
  },
  {
   "cell_type": "code",
   "execution_count": 446,
   "metadata": {},
   "outputs": [
    {
     "data": {
      "text/html": [
       "<div>\n",
       "<style scoped>\n",
       "    .dataframe tbody tr th:only-of-type {\n",
       "        vertical-align: middle;\n",
       "    }\n",
       "\n",
       "    .dataframe tbody tr th {\n",
       "        vertical-align: top;\n",
       "    }\n",
       "\n",
       "    .dataframe thead th {\n",
       "        text-align: right;\n",
       "    }\n",
       "</style>\n",
       "<table border=\"1\" class=\"dataframe\">\n",
       "  <thead>\n",
       "    <tr style=\"text-align: right;\">\n",
       "      <th></th>\n",
       "      <th>wilayah</th>\n",
       "      <th>waktu</th>\n",
       "      <th>cuaca</th>\n",
       "      <th>kelembapan_min</th>\n",
       "      <th>kelembapan_max</th>\n",
       "      <th>suhu_min</th>\n",
       "      <th>suhu_max</th>\n",
       "    </tr>\n",
       "  </thead>\n",
       "  <tbody>\n",
       "    <tr>\n",
       "      <th>0</th>\n",
       "      <td>Kepulauan Seribu</td>\n",
       "      <td>Siang</td>\n",
       "      <td>Hujan</td>\n",
       "      <td>70</td>\n",
       "      <td>90</td>\n",
       "      <td>24</td>\n",
       "      <td>32</td>\n",
       "    </tr>\n",
       "    <tr>\n",
       "      <th>1</th>\n",
       "      <td>Kepulauan Seribu</td>\n",
       "      <td>Pagi</td>\n",
       "      <td>Hujan</td>\n",
       "      <td>70</td>\n",
       "      <td>90</td>\n",
       "      <td>24</td>\n",
       "      <td>32</td>\n",
       "    </tr>\n",
       "    <tr>\n",
       "      <th>2</th>\n",
       "      <td>Kepulauan Seribu</td>\n",
       "      <td>Malam</td>\n",
       "      <td>Hujan</td>\n",
       "      <td>70</td>\n",
       "      <td>90</td>\n",
       "      <td>24</td>\n",
       "      <td>32</td>\n",
       "    </tr>\n",
       "    <tr>\n",
       "      <th>3</th>\n",
       "      <td>Kepulauan Seribu</td>\n",
       "      <td>Dini Hari</td>\n",
       "      <td>Hujan</td>\n",
       "      <td>70</td>\n",
       "      <td>90</td>\n",
       "      <td>24</td>\n",
       "      <td>32</td>\n",
       "    </tr>\n",
       "    <tr>\n",
       "      <th>4</th>\n",
       "      <td>Jakarta Utara</td>\n",
       "      <td>Siang</td>\n",
       "      <td>Hujan</td>\n",
       "      <td>70</td>\n",
       "      <td>90</td>\n",
       "      <td>24</td>\n",
       "      <td>32</td>\n",
       "    </tr>\n",
       "    <tr>\n",
       "      <th>5</th>\n",
       "      <td>Jakarta Utara</td>\n",
       "      <td>Pagi</td>\n",
       "      <td>Berawan</td>\n",
       "      <td>70</td>\n",
       "      <td>90</td>\n",
       "      <td>24</td>\n",
       "      <td>32</td>\n",
       "    </tr>\n",
       "    <tr>\n",
       "      <th>6</th>\n",
       "      <td>Jakarta Utara</td>\n",
       "      <td>Malam</td>\n",
       "      <td>Berawan</td>\n",
       "      <td>70</td>\n",
       "      <td>90</td>\n",
       "      <td>24</td>\n",
       "      <td>32</td>\n",
       "    </tr>\n",
       "    <tr>\n",
       "      <th>7</th>\n",
       "      <td>Jakarta Utara</td>\n",
       "      <td>Dini Hari</td>\n",
       "      <td>Hujan</td>\n",
       "      <td>70</td>\n",
       "      <td>90</td>\n",
       "      <td>24</td>\n",
       "      <td>32</td>\n",
       "    </tr>\n",
       "    <tr>\n",
       "      <th>8</th>\n",
       "      <td>Jakarta Timur</td>\n",
       "      <td>Siang</td>\n",
       "      <td>Hujan</td>\n",
       "      <td>70</td>\n",
       "      <td>90</td>\n",
       "      <td>24</td>\n",
       "      <td>32</td>\n",
       "    </tr>\n",
       "    <tr>\n",
       "      <th>9</th>\n",
       "      <td>Jakarta Timur</td>\n",
       "      <td>Pagi</td>\n",
       "      <td>Berawan</td>\n",
       "      <td>70</td>\n",
       "      <td>90</td>\n",
       "      <td>24</td>\n",
       "      <td>32</td>\n",
       "    </tr>\n",
       "    <tr>\n",
       "      <th>10</th>\n",
       "      <td>Jakarta Timur</td>\n",
       "      <td>Malam</td>\n",
       "      <td>Berawan</td>\n",
       "      <td>70</td>\n",
       "      <td>90</td>\n",
       "      <td>24</td>\n",
       "      <td>32</td>\n",
       "    </tr>\n",
       "    <tr>\n",
       "      <th>11</th>\n",
       "      <td>Jakarta Timur</td>\n",
       "      <td>Dini Hari</td>\n",
       "      <td>Berawan</td>\n",
       "      <td>70</td>\n",
       "      <td>90</td>\n",
       "      <td>24</td>\n",
       "      <td>32</td>\n",
       "    </tr>\n",
       "    <tr>\n",
       "      <th>12</th>\n",
       "      <td>Jakarta Selatan</td>\n",
       "      <td>Siang</td>\n",
       "      <td>Hujan</td>\n",
       "      <td>70</td>\n",
       "      <td>90</td>\n",
       "      <td>24</td>\n",
       "      <td>32</td>\n",
       "    </tr>\n",
       "    <tr>\n",
       "      <th>13</th>\n",
       "      <td>Jakarta Selatan</td>\n",
       "      <td>Pagi</td>\n",
       "      <td>Berawan</td>\n",
       "      <td>70</td>\n",
       "      <td>90</td>\n",
       "      <td>24</td>\n",
       "      <td>32</td>\n",
       "    </tr>\n",
       "    <tr>\n",
       "      <th>14</th>\n",
       "      <td>Jakarta Selatan</td>\n",
       "      <td>Malam</td>\n",
       "      <td>Berawan</td>\n",
       "      <td>70</td>\n",
       "      <td>90</td>\n",
       "      <td>24</td>\n",
       "      <td>32</td>\n",
       "    </tr>\n",
       "    <tr>\n",
       "      <th>15</th>\n",
       "      <td>Jakarta Selatan</td>\n",
       "      <td>Dini Hari</td>\n",
       "      <td>Berawan</td>\n",
       "      <td>70</td>\n",
       "      <td>90</td>\n",
       "      <td>24</td>\n",
       "      <td>32</td>\n",
       "    </tr>\n",
       "    <tr>\n",
       "      <th>16</th>\n",
       "      <td>Jakarta Pusat</td>\n",
       "      <td>Siang</td>\n",
       "      <td>Berawan</td>\n",
       "      <td>70</td>\n",
       "      <td>90</td>\n",
       "      <td>24</td>\n",
       "      <td>32</td>\n",
       "    </tr>\n",
       "    <tr>\n",
       "      <th>17</th>\n",
       "      <td>Jakarta Pusat</td>\n",
       "      <td>Pagi</td>\n",
       "      <td>Berawan</td>\n",
       "      <td>70</td>\n",
       "      <td>90</td>\n",
       "      <td>24</td>\n",
       "      <td>32</td>\n",
       "    </tr>\n",
       "    <tr>\n",
       "      <th>18</th>\n",
       "      <td>Jakarta Pusat</td>\n",
       "      <td>Malam</td>\n",
       "      <td>Berawan</td>\n",
       "      <td>70</td>\n",
       "      <td>90</td>\n",
       "      <td>24</td>\n",
       "      <td>32</td>\n",
       "    </tr>\n",
       "    <tr>\n",
       "      <th>19</th>\n",
       "      <td>Jakarta Pusat</td>\n",
       "      <td>Dini Hari</td>\n",
       "      <td>Berawan</td>\n",
       "      <td>70</td>\n",
       "      <td>90</td>\n",
       "      <td>24</td>\n",
       "      <td>32</td>\n",
       "    </tr>\n",
       "  </tbody>\n",
       "</table>\n",
       "</div>"
      ],
      "text/plain": [
       "             wilayah      waktu    cuaca kelembapan_min kelembapan_max  \\\n",
       "0   Kepulauan Seribu      Siang    Hujan             70             90   \n",
       "1   Kepulauan Seribu       Pagi    Hujan             70             90   \n",
       "2   Kepulauan Seribu      Malam    Hujan             70             90   \n",
       "3   Kepulauan Seribu  Dini Hari    Hujan             70             90   \n",
       "4      Jakarta Utara      Siang    Hujan             70             90   \n",
       "5      Jakarta Utara       Pagi  Berawan             70             90   \n",
       "6      Jakarta Utara      Malam  Berawan             70             90   \n",
       "7      Jakarta Utara  Dini Hari    Hujan             70             90   \n",
       "8      Jakarta Timur      Siang    Hujan             70             90   \n",
       "9      Jakarta Timur       Pagi  Berawan             70             90   \n",
       "10     Jakarta Timur      Malam  Berawan             70             90   \n",
       "11     Jakarta Timur  Dini Hari  Berawan             70             90   \n",
       "12   Jakarta Selatan      Siang    Hujan             70             90   \n",
       "13   Jakarta Selatan       Pagi  Berawan             70             90   \n",
       "14   Jakarta Selatan      Malam  Berawan             70             90   \n",
       "15   Jakarta Selatan  Dini Hari  Berawan             70             90   \n",
       "16     Jakarta Pusat      Siang  Berawan             70             90   \n",
       "17     Jakarta Pusat       Pagi  Berawan             70             90   \n",
       "18     Jakarta Pusat      Malam  Berawan             70             90   \n",
       "19     Jakarta Pusat  Dini Hari  Berawan             70             90   \n",
       "\n",
       "   suhu_min suhu_max  \n",
       "0        24       32  \n",
       "1        24       32  \n",
       "2        24       32  \n",
       "3        24       32  \n",
       "4        24       32  \n",
       "5        24       32  \n",
       "6        24       32  \n",
       "7        24       32  \n",
       "8        24       32  \n",
       "9        24       32  \n",
       "10       24       32  \n",
       "11       24       32  \n",
       "12       24       32  \n",
       "13       24       32  \n",
       "14       24       32  \n",
       "15       24       32  \n",
       "16       24       32  \n",
       "17       24       32  \n",
       "18       24       32  \n",
       "19       24       32  "
      ]
     },
     "execution_count": 446,
     "metadata": {},
     "output_type": "execute_result"
    }
   ],
   "source": [
    "df.head(20)"
   ]
  },
  {
   "cell_type": "code",
   "execution_count": 447,
   "metadata": {},
   "outputs": [
    {
     "data": {
      "text/plain": [
       "(8398, 7)"
      ]
     },
     "execution_count": 447,
     "metadata": {},
     "output_type": "execute_result"
    }
   ],
   "source": [
    "df.shape"
   ]
  },
  {
   "cell_type": "code",
   "execution_count": 448,
   "metadata": {},
   "outputs": [
    {
     "data": {
      "text/plain": [
       "Jakarta Utara       1400\n",
       "Jakarta Timur       1400\n",
       "Jakarta Selatan     1400\n",
       "Jakarta Pusat       1400\n",
       "Kepulauan Seribu    1399\n",
       "Jakarta Barat       1399\n",
       "Name: wilayah, dtype: int64"
      ]
     },
     "execution_count": 448,
     "metadata": {},
     "output_type": "execute_result"
    }
   ],
   "source": [
    "df.wilayah.value_counts()"
   ]
  },
  {
   "cell_type": "code",
   "execution_count": 449,
   "metadata": {},
   "outputs": [],
   "source": [
    "from sklearn.preprocessing import LabelEncoder\n",
    "\n",
    "df2 = df.copy()\n",
    "\n",
    "le = LabelEncoder()\n",
    "df2[\"wilayah\"] = le.fit_transform(df2.wilayah)\n",
    "df2[\"waktu\"] = le.fit_transform(df2.waktu)\n",
    "df2[\"cuaca\"] = le.fit_transform(df2.cuaca)"
   ]
  },
  {
   "cell_type": "code",
   "execution_count": 450,
   "metadata": {},
   "outputs": [
    {
     "data": {
      "text/html": [
       "<div>\n",
       "<style scoped>\n",
       "    .dataframe tbody tr th:only-of-type {\n",
       "        vertical-align: middle;\n",
       "    }\n",
       "\n",
       "    .dataframe tbody tr th {\n",
       "        vertical-align: top;\n",
       "    }\n",
       "\n",
       "    .dataframe thead th {\n",
       "        text-align: right;\n",
       "    }\n",
       "</style>\n",
       "<table border=\"1\" class=\"dataframe\">\n",
       "  <thead>\n",
       "    <tr style=\"text-align: right;\">\n",
       "      <th></th>\n",
       "      <th>wilayah</th>\n",
       "      <th>waktu</th>\n",
       "      <th>cuaca</th>\n",
       "      <th>kelembapan_min</th>\n",
       "      <th>kelembapan_max</th>\n",
       "      <th>suhu_min</th>\n",
       "      <th>suhu_max</th>\n",
       "    </tr>\n",
       "  </thead>\n",
       "  <tbody>\n",
       "    <tr>\n",
       "      <th>0</th>\n",
       "      <td>Kepulauan Seribu</td>\n",
       "      <td>Siang</td>\n",
       "      <td>Hujan</td>\n",
       "      <td>70</td>\n",
       "      <td>90</td>\n",
       "      <td>24</td>\n",
       "      <td>32</td>\n",
       "    </tr>\n",
       "    <tr>\n",
       "      <th>1</th>\n",
       "      <td>Kepulauan Seribu</td>\n",
       "      <td>Pagi</td>\n",
       "      <td>Hujan</td>\n",
       "      <td>70</td>\n",
       "      <td>90</td>\n",
       "      <td>24</td>\n",
       "      <td>32</td>\n",
       "    </tr>\n",
       "    <tr>\n",
       "      <th>2</th>\n",
       "      <td>Kepulauan Seribu</td>\n",
       "      <td>Malam</td>\n",
       "      <td>Hujan</td>\n",
       "      <td>70</td>\n",
       "      <td>90</td>\n",
       "      <td>24</td>\n",
       "      <td>32</td>\n",
       "    </tr>\n",
       "    <tr>\n",
       "      <th>3</th>\n",
       "      <td>Kepulauan Seribu</td>\n",
       "      <td>Dini Hari</td>\n",
       "      <td>Hujan</td>\n",
       "      <td>70</td>\n",
       "      <td>90</td>\n",
       "      <td>24</td>\n",
       "      <td>32</td>\n",
       "    </tr>\n",
       "    <tr>\n",
       "      <th>4</th>\n",
       "      <td>Jakarta Utara</td>\n",
       "      <td>Siang</td>\n",
       "      <td>Hujan</td>\n",
       "      <td>70</td>\n",
       "      <td>90</td>\n",
       "      <td>24</td>\n",
       "      <td>32</td>\n",
       "    </tr>\n",
       "    <tr>\n",
       "      <th>5</th>\n",
       "      <td>Jakarta Utara</td>\n",
       "      <td>Pagi</td>\n",
       "      <td>Berawan</td>\n",
       "      <td>70</td>\n",
       "      <td>90</td>\n",
       "      <td>24</td>\n",
       "      <td>32</td>\n",
       "    </tr>\n",
       "    <tr>\n",
       "      <th>6</th>\n",
       "      <td>Jakarta Utara</td>\n",
       "      <td>Malam</td>\n",
       "      <td>Berawan</td>\n",
       "      <td>70</td>\n",
       "      <td>90</td>\n",
       "      <td>24</td>\n",
       "      <td>32</td>\n",
       "    </tr>\n",
       "    <tr>\n",
       "      <th>7</th>\n",
       "      <td>Jakarta Utara</td>\n",
       "      <td>Dini Hari</td>\n",
       "      <td>Hujan</td>\n",
       "      <td>70</td>\n",
       "      <td>90</td>\n",
       "      <td>24</td>\n",
       "      <td>32</td>\n",
       "    </tr>\n",
       "    <tr>\n",
       "      <th>8</th>\n",
       "      <td>Jakarta Timur</td>\n",
       "      <td>Siang</td>\n",
       "      <td>Hujan</td>\n",
       "      <td>70</td>\n",
       "      <td>90</td>\n",
       "      <td>24</td>\n",
       "      <td>32</td>\n",
       "    </tr>\n",
       "    <tr>\n",
       "      <th>9</th>\n",
       "      <td>Jakarta Timur</td>\n",
       "      <td>Pagi</td>\n",
       "      <td>Berawan</td>\n",
       "      <td>70</td>\n",
       "      <td>90</td>\n",
       "      <td>24</td>\n",
       "      <td>32</td>\n",
       "    </tr>\n",
       "    <tr>\n",
       "      <th>10</th>\n",
       "      <td>Jakarta Timur</td>\n",
       "      <td>Malam</td>\n",
       "      <td>Berawan</td>\n",
       "      <td>70</td>\n",
       "      <td>90</td>\n",
       "      <td>24</td>\n",
       "      <td>32</td>\n",
       "    </tr>\n",
       "    <tr>\n",
       "      <th>11</th>\n",
       "      <td>Jakarta Timur</td>\n",
       "      <td>Dini Hari</td>\n",
       "      <td>Berawan</td>\n",
       "      <td>70</td>\n",
       "      <td>90</td>\n",
       "      <td>24</td>\n",
       "      <td>32</td>\n",
       "    </tr>\n",
       "    <tr>\n",
       "      <th>12</th>\n",
       "      <td>Jakarta Selatan</td>\n",
       "      <td>Siang</td>\n",
       "      <td>Hujan</td>\n",
       "      <td>70</td>\n",
       "      <td>90</td>\n",
       "      <td>24</td>\n",
       "      <td>32</td>\n",
       "    </tr>\n",
       "    <tr>\n",
       "      <th>13</th>\n",
       "      <td>Jakarta Selatan</td>\n",
       "      <td>Pagi</td>\n",
       "      <td>Berawan</td>\n",
       "      <td>70</td>\n",
       "      <td>90</td>\n",
       "      <td>24</td>\n",
       "      <td>32</td>\n",
       "    </tr>\n",
       "    <tr>\n",
       "      <th>14</th>\n",
       "      <td>Jakarta Selatan</td>\n",
       "      <td>Malam</td>\n",
       "      <td>Berawan</td>\n",
       "      <td>70</td>\n",
       "      <td>90</td>\n",
       "      <td>24</td>\n",
       "      <td>32</td>\n",
       "    </tr>\n",
       "    <tr>\n",
       "      <th>15</th>\n",
       "      <td>Jakarta Selatan</td>\n",
       "      <td>Dini Hari</td>\n",
       "      <td>Berawan</td>\n",
       "      <td>70</td>\n",
       "      <td>90</td>\n",
       "      <td>24</td>\n",
       "      <td>32</td>\n",
       "    </tr>\n",
       "    <tr>\n",
       "      <th>16</th>\n",
       "      <td>Jakarta Pusat</td>\n",
       "      <td>Siang</td>\n",
       "      <td>Berawan</td>\n",
       "      <td>70</td>\n",
       "      <td>90</td>\n",
       "      <td>24</td>\n",
       "      <td>32</td>\n",
       "    </tr>\n",
       "    <tr>\n",
       "      <th>17</th>\n",
       "      <td>Jakarta Pusat</td>\n",
       "      <td>Pagi</td>\n",
       "      <td>Berawan</td>\n",
       "      <td>70</td>\n",
       "      <td>90</td>\n",
       "      <td>24</td>\n",
       "      <td>32</td>\n",
       "    </tr>\n",
       "    <tr>\n",
       "      <th>18</th>\n",
       "      <td>Jakarta Pusat</td>\n",
       "      <td>Malam</td>\n",
       "      <td>Berawan</td>\n",
       "      <td>70</td>\n",
       "      <td>90</td>\n",
       "      <td>24</td>\n",
       "      <td>32</td>\n",
       "    </tr>\n",
       "    <tr>\n",
       "      <th>19</th>\n",
       "      <td>Jakarta Pusat</td>\n",
       "      <td>Dini Hari</td>\n",
       "      <td>Berawan</td>\n",
       "      <td>70</td>\n",
       "      <td>90</td>\n",
       "      <td>24</td>\n",
       "      <td>32</td>\n",
       "    </tr>\n",
       "  </tbody>\n",
       "</table>\n",
       "</div>"
      ],
      "text/plain": [
       "             wilayah      waktu    cuaca kelembapan_min kelembapan_max  \\\n",
       "0   Kepulauan Seribu      Siang    Hujan             70             90   \n",
       "1   Kepulauan Seribu       Pagi    Hujan             70             90   \n",
       "2   Kepulauan Seribu      Malam    Hujan             70             90   \n",
       "3   Kepulauan Seribu  Dini Hari    Hujan             70             90   \n",
       "4      Jakarta Utara      Siang    Hujan             70             90   \n",
       "5      Jakarta Utara       Pagi  Berawan             70             90   \n",
       "6      Jakarta Utara      Malam  Berawan             70             90   \n",
       "7      Jakarta Utara  Dini Hari    Hujan             70             90   \n",
       "8      Jakarta Timur      Siang    Hujan             70             90   \n",
       "9      Jakarta Timur       Pagi  Berawan             70             90   \n",
       "10     Jakarta Timur      Malam  Berawan             70             90   \n",
       "11     Jakarta Timur  Dini Hari  Berawan             70             90   \n",
       "12   Jakarta Selatan      Siang    Hujan             70             90   \n",
       "13   Jakarta Selatan       Pagi  Berawan             70             90   \n",
       "14   Jakarta Selatan      Malam  Berawan             70             90   \n",
       "15   Jakarta Selatan  Dini Hari  Berawan             70             90   \n",
       "16     Jakarta Pusat      Siang  Berawan             70             90   \n",
       "17     Jakarta Pusat       Pagi  Berawan             70             90   \n",
       "18     Jakarta Pusat      Malam  Berawan             70             90   \n",
       "19     Jakarta Pusat  Dini Hari  Berawan             70             90   \n",
       "\n",
       "   suhu_min suhu_max  \n",
       "0        24       32  \n",
       "1        24       32  \n",
       "2        24       32  \n",
       "3        24       32  \n",
       "4        24       32  \n",
       "5        24       32  \n",
       "6        24       32  \n",
       "7        24       32  \n",
       "8        24       32  \n",
       "9        24       32  \n",
       "10       24       32  \n",
       "11       24       32  \n",
       "12       24       32  \n",
       "13       24       32  \n",
       "14       24       32  \n",
       "15       24       32  \n",
       "16       24       32  \n",
       "17       24       32  \n",
       "18       24       32  \n",
       "19       24       32  "
      ]
     },
     "execution_count": 450,
     "metadata": {},
     "output_type": "execute_result"
    }
   ],
   "source": [
    "df.head(20)"
   ]
  },
  {
   "cell_type": "code",
   "execution_count": 451,
   "metadata": {},
   "outputs": [],
   "source": [
    "df2.dtypes\n",
    "df2[\"kelembapan_min\"] = df2.kelembapan_min.astype(float)\n",
    "df2[\"kelembapan_max\"] = df2.kelembapan_max.astype(float)\n",
    "df2[\"suhu_min\"] = df2.suhu_min.astype(float)\n",
    "df2[\"suhu_max\"] = df2.suhu_max.astype(float)"
   ]
  },
  {
   "cell_type": "code",
   "execution_count": 452,
   "metadata": {},
   "outputs": [
    {
     "data": {
      "text/plain": [
       "Jakarta Utara       1400\n",
       "Jakarta Timur       1400\n",
       "Jakarta Selatan     1400\n",
       "Jakarta Pusat       1400\n",
       "Kepulauan Seribu    1399\n",
       "Jakarta Barat       1399\n",
       "Name: wilayah, dtype: int64"
      ]
     },
     "execution_count": 452,
     "metadata": {},
     "output_type": "execute_result"
    }
   ],
   "source": [
    "df.wilayah.value_counts()"
   ]
  },
  {
   "cell_type": "markdown",
   "metadata": {},
   "source": [
    "## wilayah\n",
    "\n",
    "5 = kepulauan seribu <br/>\n",
    "4 = jakarta utara <br/>\n",
    "3 = jakarta timur <br/>\n",
    "2 = jakarta selatan <br/>\n",
    "1 = jakarta pusat <br/>\n",
    "0 = jakarta barat <br/>"
   ]
  },
  {
   "cell_type": "markdown",
   "metadata": {},
   "source": [
    "## Waktu\n",
    "\n",
    "3 = siang <br>\n",
    "2 = pagi <br>\n",
    "1 = malam <br>\n",
    "0 = dini hari"
   ]
  },
  {
   "cell_type": "markdown",
   "metadata": {},
   "source": [
    "## cuaca\n",
    "\n",
    "2 = Hujan <br>\n",
    "1 = Cerah <br>\n",
    "0 = Berawan"
   ]
  },
  {
   "cell_type": "code",
   "execution_count": 453,
   "metadata": {},
   "outputs": [
    {
     "data": {
      "text/plain": [
       "<seaborn.axisgrid.PairGrid at 0x1b075249510>"
      ]
     },
     "execution_count": 453,
     "metadata": {},
     "output_type": "execute_result"
    },
    {
     "data": {
      "image/png": "[encoded data removed]",
      "text/plain": [
       "<Figure size 1122.38x1080 with 27 Axes>"
      ]
     },
     "metadata": {
      "needs_background": "light"
     },
     "output_type": "display_data"
    }
   ],
   "source": [
    "sns.pairplot(df2, hue=\"cuaca\", corner=True)"
   ]
  },
  {
   "cell_type": "code",
   "execution_count": 454,
   "metadata": {},
   "outputs": [
    {
     "data": {
      "text/plain": [
       "((6718, 6), (1680, 6), (6718,), (1680,))"
      ]
     },
     "execution_count": 454,
     "metadata": {},
     "output_type": "execute_result"
    }
   ],
   "source": [
    "X = df2.drop(columns=[\"cuaca\"])\n",
    "y = df2[\"cuaca\"]\n",
    "\n",
    "X_train, X_test, y_train, y_test = train_test_split(X, y, test_size=0.2, stratify=y, random_state=42)\n",
    "X_train.shape, X_test.shape, y_train.shape, y_test.shape"
   ]
  },
  {
   "cell_type": "markdown",
   "metadata": {},
   "source": [
    "# Random Forest"
   ]
  },
  {
   "cell_type": "code",
   "execution_count": 455,
   "metadata": {},
   "outputs": [],
   "source": [
    "params = {'n_estimators': [100, 150, 200], \n",
    "          'max_depth': [20, 50, 80],\n",
    "          'max_features': [0.3, 0.6, 0.8],\n",
    "          'min_samples_leaf': [1, 5, 10]\n",
    "}\n",
    "  "
   ]
  },
  {
   "cell_type": "code",
   "execution_count": 456,
   "metadata": {},
   "outputs": [
    {
     "name": "stdout",
     "output_type": "stream",
     "text": [
      "Fitting 3 folds for each of 81 candidates, totalling 243 fits\n"
     ]
    },
    {
     "name": "stderr",
     "output_type": "stream",
     "text": [
      "D:\\python\\lib\\site-packages\\sklearn\\model_selection\\_search.py:969: UserWarning: One or more of the test scores are non-finite: [nan nan nan nan nan nan nan nan nan nan nan nan nan nan nan nan nan nan\n",
      " nan nan nan nan nan nan nan nan nan nan nan nan nan nan nan nan nan nan\n",
      " nan nan nan nan nan nan nan nan nan nan nan nan nan nan nan nan nan nan\n",
      " nan nan nan nan nan nan nan nan nan nan nan nan nan nan nan nan nan nan\n",
      " nan nan nan nan nan nan nan nan nan]\n",
      "  warnings.warn(\n"
     ]
    },
    {
     "data": {
      "text/plain": [
       "GridSearchCV(cv=3, estimator=RandomForestClassifier(random_state=42), n_jobs=-1,\n",
       "             param_grid={'max_depth': [20, 50, 80],\n",
       "                         'max_features': [0.3, 0.6, 0.8],\n",
       "                         'min_samples_leaf': [1, 5, 10],\n",
       "                         'n_estimators': [100, 150, 200]},\n",
       "             scoring='f1', verbose=1)"
      ]
     },
     "execution_count": 456,
     "metadata": {},
     "output_type": "execute_result"
    }
   ],
   "source": [
    "from sklearn.ensemble import RandomForestClassifier\n",
    "rf = RandomForestClassifier(random_state=42)\n",
    "\n",
    "from sklearn.model_selection import GridSearchCV\n",
    "from jcopml.tuning import grid_search_params as gsp\n",
    "\n",
    "model = GridSearchCV(rf, params, cv=3, scoring='f1', n_jobs=-1, verbose=1)\n",
    "model.fit(X_train, y_train)"
   ]
  },
  {
   "cell_type": "code",
   "execution_count": 457,
   "metadata": {},
   "outputs": [
    {
     "name": "stdout",
     "output_type": "stream",
     "text": [
      "{'max_depth': 20, 'max_features': 0.3, 'min_samples_leaf': 1, 'n_estimators': 100}\n",
      "[[312 193  74]\n",
      " [155 559  46]\n",
      " [ 99  56 186]]\n",
      "\n",
      "\n",
      "              precision    recall  f1-score   support\n",
      "\n",
      "           0       0.82      0.80      0.81      2317\n",
      "           1       0.86      0.89      0.88      3036\n",
      "           2       0.84      0.81      0.82      1365\n",
      "\n",
      "    accuracy                           0.84      6718\n",
      "   macro avg       0.84      0.83      0.84      6718\n",
      "weighted avg       0.84      0.84      0.84      6718\n",
      "\n",
      "\n",
      "\n",
      "              precision    recall  f1-score   support\n",
      "\n",
      "           0       0.55      0.54      0.54       579\n",
      "           1       0.69      0.74      0.71       760\n",
      "           2       0.61      0.55      0.57       341\n",
      "\n",
      "    accuracy                           0.63      1680\n",
      "   macro avg       0.62      0.61      0.61      1680\n",
      "weighted avg       0.63      0.63      0.63      1680\n",
      "\n"
     ]
    }
   ],
   "source": [
    "print(model.best_params_)\n",
    "y_pred = model.predict(X_test)\n",
    "y_pred_Train = model.predict(X_train)\n",
    "\n",
    "from sklearn.metrics import confusion_matrix, classification_report\n",
    "print(confusion_matrix(y_test, y_pred))\n",
    "print(\"\\n\")\n",
    "print(classification_report(y_train, y_pred_Train))\n",
    "print(\"\\n\")\n",
    "print(classification_report(y_test, y_pred))"
   ]
  },
  {
   "cell_type": "markdown",
   "metadata": {},
   "source": [
    "# SVM"
   ]
  },
  {
   "cell_type": "code",
   "execution_count": 458,
   "metadata": {},
   "outputs": [],
   "source": [
    "params = {'gamma': np.logspace(-3, 3, 7),\n",
    "          'C': np.logspace(-3, 3, 7),\n",
    "}"
   ]
  },
  {
   "cell_type": "code",
   "execution_count": 459,
   "metadata": {},
   "outputs": [
    {
     "name": "stdout",
     "output_type": "stream",
     "text": [
      "Fitting 3 folds for each of 49 candidates, totalling 147 fits\n"
     ]
    },
    {
     "name": "stderr",
     "output_type": "stream",
     "text": [
      "D:\\python\\lib\\site-packages\\sklearn\\model_selection\\_search.py:969: UserWarning: One or more of the test scores are non-finite: [nan nan nan nan nan nan nan nan nan nan nan nan nan nan nan nan nan nan\n",
      " nan nan nan nan nan nan nan nan nan nan nan nan nan nan nan nan nan nan\n",
      " nan nan nan nan nan nan nan nan nan nan nan nan nan]\n",
      "  warnings.warn(\n"
     ]
    },
    {
     "data": {
      "text/plain": [
       "GridSearchCV(cv=3, estimator=SVC(random_state=42), n_jobs=-1,\n",
       "             param_grid={'C': array([1.e-03, 1.e-02, 1.e-01, 1.e+00, 1.e+01, 1.e+02, 1.e+03]),\n",
       "                         'gamma': array([1.e-03, 1.e-02, 1.e-01, 1.e+00, 1.e+01, 1.e+02, 1.e+03])},\n",
       "             scoring='f1', verbose=1)"
      ]
     },
     "execution_count": 459,
     "metadata": {},
     "output_type": "execute_result"
    }
   ],
   "source": [
    "from sklearn.svm import SVC\n",
    "svc = SVC(random_state=42)\n",
    "\n",
    "from sklearn.model_selection import GridSearchCV\n",
    "from jcopml.tuning import grid_search_params as gsp\n",
    "\n",
    "model = GridSearchCV(svc, params, cv=3, scoring='f1', n_jobs=-1, verbose=1)\n",
    "model.fit(X_train, y_train)\n"
   ]
  },
  {
   "cell_type": "code",
   "execution_count": 460,
   "metadata": {},
   "outputs": [
    {
     "name": "stdout",
     "output_type": "stream",
     "text": [
      "{'C': 0.001, 'gamma': 0.001}\n",
      "[[  0 579   0]\n",
      " [  0 760   0]\n",
      " [  0 341   0]]\n",
      "\n",
      "\n",
      "              precision    recall  f1-score   support\n",
      "\n",
      "           0       0.00      0.00      0.00      2317\n",
      "           1       0.45      1.00      0.62      3036\n",
      "           2       0.00      0.00      0.00      1365\n",
      "\n",
      "    accuracy                           0.45      6718\n",
      "   macro avg       0.15      0.33      0.21      6718\n",
      "weighted avg       0.20      0.45      0.28      6718\n",
      "\n",
      "\n",
      "\n",
      "              precision    recall  f1-score   support\n",
      "\n",
      "           0       0.00      0.00      0.00       579\n",
      "           1       0.45      1.00      0.62       760\n",
      "           2       0.00      0.00      0.00       341\n",
      "\n",
      "    accuracy                           0.45      1680\n",
      "   macro avg       0.15      0.33      0.21      1680\n",
      "weighted avg       0.20      0.45      0.28      1680\n",
      "\n"
     ]
    },
    {
     "name": "stderr",
     "output_type": "stream",
     "text": [
      "D:\\python\\lib\\site-packages\\sklearn\\metrics\\_classification.py:1318: UndefinedMetricWarning: Precision and F-score are ill-defined and being set to 0.0 in labels with no predicted samples. Use `zero_division` parameter to control this behavior.\n",
      "  _warn_prf(average, modifier, msg_start, len(result))\n",
      "D:\\python\\lib\\site-packages\\sklearn\\metrics\\_classification.py:1318: UndefinedMetricWarning: Precision and F-score are ill-defined and being set to 0.0 in labels with no predicted samples. Use `zero_division` parameter to control this behavior.\n",
      "  _warn_prf(average, modifier, msg_start, len(result))\n",
      "D:\\python\\lib\\site-packages\\sklearn\\metrics\\_classification.py:1318: UndefinedMetricWarning: Precision and F-score are ill-defined and being set to 0.0 in labels with no predicted samples. Use `zero_division` parameter to control this behavior.\n",
      "  _warn_prf(average, modifier, msg_start, len(result))\n",
      "D:\\python\\lib\\site-packages\\sklearn\\metrics\\_classification.py:1318: UndefinedMetricWarning: Precision and F-score are ill-defined and being set to 0.0 in labels with no predicted samples. Use `zero_division` parameter to control this behavior.\n",
      "  _warn_prf(average, modifier, msg_start, len(result))\n",
      "D:\\python\\lib\\site-packages\\sklearn\\metrics\\_classification.py:1318: UndefinedMetricWarning: Precision and F-score are ill-defined and being set to 0.0 in labels with no predicted samples. Use `zero_division` parameter to control this behavior.\n",
      "  _warn_prf(average, modifier, msg_start, len(result))\n",
      "D:\\python\\lib\\site-packages\\sklearn\\metrics\\_classification.py:1318: UndefinedMetricWarning: Precision and F-score are ill-defined and being set to 0.0 in labels with no predicted samples. Use `zero_division` parameter to control this behavior.\n",
      "  _warn_prf(average, modifier, msg_start, len(result))\n"
     ]
    }
   ],
   "source": [
    "print(model.best_params_)\n",
    "y_pred = model.predict(X_test)\n",
    "y_pred_Train = model.predict(X_train)\n",
    "\n",
    "from sklearn.metrics import confusion_matrix, classification_report\n",
    "print(confusion_matrix(y_test, y_pred))\n",
    "print(\"\\n\")\n",
    "print(classification_report(y_train, y_pred_Train))\n",
    "print(\"\\n\")\n",
    "print(classification_report(y_test, y_pred))"
   ]
  },
  {
   "cell_type": "markdown",
   "metadata": {},
   "source": [
    "# KNN"
   ]
  },
  {
   "cell_type": "code",
   "execution_count": 461,
   "metadata": {},
   "outputs": [],
   "source": [
    "params = {'n_neighbors': [ 1,  3,  5,  7,  9, 11, 13, 15, 17, 19, 21, 23, 25, 27, 29],\n",
    "          'weights': ['uniform', 'distance'],\n",
    "          'p': [1, 1.5, 2]}"
   ]
  },
  {
   "cell_type": "code",
   "execution_count": 462,
   "metadata": {},
   "outputs": [
    {
     "name": "stdout",
     "output_type": "stream",
     "text": [
      "Fitting 3 folds for each of 90 candidates, totalling 270 fits\n"
     ]
    },
    {
     "name": "stderr",
     "output_type": "stream",
     "text": [
      "D:\\python\\lib\\site-packages\\sklearn\\model_selection\\_search.py:969: UserWarning: One or more of the test scores are non-finite: [nan nan nan nan nan nan nan nan nan nan nan nan nan nan nan nan nan nan\n",
      " nan nan nan nan nan nan nan nan nan nan nan nan nan nan nan nan nan nan\n",
      " nan nan nan nan nan nan nan nan nan nan nan nan nan nan nan nan nan nan\n",
      " nan nan nan nan nan nan nan nan nan nan nan nan nan nan nan nan nan nan\n",
      " nan nan nan nan nan nan nan nan nan nan nan nan nan nan nan nan nan nan]\n",
      "  warnings.warn(\n"
     ]
    },
    {
     "data": {
      "text/plain": [
       "GridSearchCV(cv=3, estimator=KNeighborsClassifier(), n_jobs=-1,\n",
       "             param_grid={'n_neighbors': [1, 3, 5, 7, 9, 11, 13, 15, 17, 19, 21,\n",
       "                                         23, 25, 27, 29],\n",
       "                         'p': [1, 1.5, 2], 'weights': ['uniform', 'distance']},\n",
       "             scoring='f1', verbose=1)"
      ]
     },
     "execution_count": 462,
     "metadata": {},
     "output_type": "execute_result"
    }
   ],
   "source": [
    "from sklearn.neighbors import KNeighborsClassifier\n",
    "knn = KNeighborsClassifier()\n",
    "\n",
    "from sklearn.model_selection import GridSearchCV\n",
    "\n",
    "model = GridSearchCV(knn, params, cv=3, scoring='f1', n_jobs=-1, verbose=1)\n",
    "model.fit(X_train, y_train)"
   ]
  },
  {
   "cell_type": "code",
   "execution_count": 463,
   "metadata": {},
   "outputs": [
    {
     "name": "stdout",
     "output_type": "stream",
     "text": [
      "{'n_neighbors': 1, 'p': 1, 'weights': 'uniform'}\n",
      "[[288 199  92]\n",
      " [174 535  51]\n",
      " [ 97  64 180]]\n",
      "\n",
      "\n",
      "              precision    recall  f1-score   support\n",
      "\n",
      "           0       0.78      0.77      0.77      2317\n",
      "           1       0.85      0.85      0.85      3036\n",
      "           2       0.79      0.81      0.80      1365\n",
      "\n",
      "    accuracy                           0.81      6718\n",
      "   macro avg       0.81      0.81      0.81      6718\n",
      "weighted avg       0.81      0.81      0.81      6718\n",
      "\n",
      "\n",
      "\n",
      "              precision    recall  f1-score   support\n",
      "\n",
      "           0       0.52      0.50      0.51       579\n",
      "           1       0.67      0.70      0.69       760\n",
      "           2       0.56      0.53      0.54       341\n",
      "\n",
      "    accuracy                           0.60      1680\n",
      "   macro avg       0.58      0.58      0.58      1680\n",
      "weighted avg       0.59      0.60      0.60      1680\n",
      "\n"
     ]
    }
   ],
   "source": [
    "print(model.best_params_)\n",
    "y_pred = model.predict(X_test)\n",
    "y_pred_Train = model.predict(X_train)\n",
    "\n",
    "from sklearn.metrics import confusion_matrix, classification_report\n",
    "print(confusion_matrix(y_test, y_pred))\n",
    "print(\"\\n\")\n",
    "print(classification_report(y_train, y_pred_Train))\n",
    "print(\"\\n\")\n",
    "print(classification_report(y_test, y_pred))"
   ]
  },
  {
   "cell_type": "markdown",
   "metadata": {},
   "source": [
    "# XGB"
   ]
  },
  {
   "cell_type": "code",
   "execution_count": 464,
   "metadata": {},
   "outputs": [],
   "source": [
    "from jcopml.tuning.space import Integer, Real\n",
    "params = {'max_depth': Integer(low=1, high=10),\n",
    "          'learning_rate': Real(low=-2, high=0, prior='log-uniform'),\n",
    "          'n_estimators': Integer(low=100, high=200),\n",
    "          'subsample': Real(low=0.3, high=0.8, prior='uniform'),\n",
    "          'gamma': Integer(low=1, high=10),\n",
    "          'colsample_bytree': Real(low=0.1, high=1, prior='uniform'),\n",
    "          'reg_alpha': Real(low=-3, high=1, prior='log-uniform'),\n",
    "          'reg_lambda': Real(low=-3, high=1, prior='log-uniform')\n",
    "}"
   ]
  },
  {
   "cell_type": "code",
   "execution_count": 465,
   "metadata": {},
   "outputs": [
    {
     "name": "stdout",
     "output_type": "stream",
     "text": [
      "Fitting 3 folds for each of 100 candidates, totalling 300 fits\n"
     ]
    },
    {
     "name": "stderr",
     "output_type": "stream",
     "text": [
      "D:\\python\\lib\\site-packages\\xgboost\\sklearn.py:1224: UserWarning: The use of label encoder in XGBClassifier is deprecated and will be removed in a future release. To remove this warning, do the following: 1) Pass option use_label_encoder=False when constructing XGBClassifier object; and 2) Encode your labels (y) as integers starting with 0, i.e. 0, 1, 2, ..., [num_class - 1].\n",
      "  warnings.warn(label_encoder_deprecation_msg, UserWarning)\n",
      "D:\\python\\lib\\site-packages\\xgboost\\data.py:262: FutureWarning: pandas.Int64Index is deprecated and will be removed from pandas in a future version. Use pandas.Index with the appropriate dtype instead.\n",
      "  elif isinstance(data.columns, (pd.Int64Index, pd.RangeIndex)):\n"
     ]
    },
    {
     "name": "stdout",
     "output_type": "stream",
     "text": [
      "[10:19:53] WARNING: C:/Users/Administrator/workspace/xgboost-win64_release_1.5.1/src/learner.cc:1115: Starting in XGBoost 1.3.0, the default evaluation metric used with the objective 'multi:softprob' was changed from 'merror' to 'mlogloss'. Explicitly set eval_metric if you'd like to restore the old behavior.\n",
      "{'colsample_bytree': 0.770895526765897, 'gamma': 1, 'learning_rate': 0.13456034286213814, 'max_depth': 10, 'n_estimators': 140, 'reg_alpha': 0.02237625154136126, 'reg_lambda': 3.968163778862806, 'subsample': 0.6037776111467865}\n"
     ]
    }
   ],
   "source": [
    "from sklearn.model_selection import RandomizedSearchCV\n",
    "from jcopml.tuning import random_search_params as rsp\n",
    "from xgboost import XGBClassifier\n",
    "\n",
    "xgb = XGBClassifier(random_state=42)\n",
    "\n",
    "model = RandomizedSearchCV(xgb, params, cv=3, n_iter=100, n_jobs=-1, verbose=1, random_state=42)\n",
    "model.fit(X_train, y_train)\n",
    "\n",
    "print(model.best_params_)"
   ]
  },
  {
   "cell_type": "code",
   "execution_count": 466,
   "metadata": {},
   "outputs": [
    {
     "name": "stdout",
     "output_type": "stream",
     "text": [
      "{'colsample_bytree': 0.770895526765897, 'gamma': 1, 'learning_rate': 0.13456034286213814, 'max_depth': 10, 'n_estimators': 140, 'reg_alpha': 0.02237625154136126, 'reg_lambda': 3.968163778862806, 'subsample': 0.6037776111467865}\n",
      "[[348 168  63]\n",
      " [120 609  31]\n",
      " [ 88  39 214]]\n",
      "\n",
      "\n",
      "              precision    recall  f1-score   support\n",
      "\n",
      "           0       0.70      0.69      0.70      2317\n",
      "           1       0.80      0.84      0.82      3036\n",
      "           2       0.75      0.68      0.71      1365\n",
      "\n",
      "    accuracy                           0.76      6718\n",
      "   macro avg       0.75      0.74      0.74      6718\n",
      "weighted avg       0.75      0.76      0.75      6718\n",
      "\n",
      "\n",
      "\n",
      "              precision    recall  f1-score   support\n",
      "\n",
      "           0       0.63      0.60      0.61       579\n",
      "           1       0.75      0.80      0.77       760\n",
      "           2       0.69      0.63      0.66       341\n",
      "\n",
      "    accuracy                           0.70      1680\n",
      "   macro avg       0.69      0.68      0.68      1680\n",
      "weighted avg       0.69      0.70      0.69      1680\n",
      "\n"
     ]
    }
   ],
   "source": [
    "print(model.best_params_)\n",
    "y_pred = model.predict(X_test)\n",
    "y_pred_Train = model.predict(X_train)\n",
    "\n",
    "from sklearn.metrics import confusion_matrix, classification_report\n",
    "print(confusion_matrix(y_test, y_pred))\n",
    "print(\"\\n\")\n",
    "print(classification_report(y_train, y_pred_Train))\n",
    "print(\"\\n\")\n",
    "print(classification_report(y_test, y_pred))"
   ]
  },
  {
   "cell_type": "markdown",
   "metadata": {},
   "source": [
    "# ANN"
   ]
  },
  {
   "cell_type": "code",
   "execution_count": 467,
   "metadata": {},
   "outputs": [],
   "source": [
    "params = {\n",
    "  \"solver\": [\"lbfgs\", \"adam\"],\n",
    "  \"hidden_layer_sizes\": [(5, 2), (5, 3), (5, 4), (5, 5), (5, 6), (5, 7), (5, 8), (5, 9), (5, 10)],\n",
    "  \"alpha\": [0.0001, 0.001, 0.1, 1],  \n",
    "}"
   ]
  },
  {
   "cell_type": "code",
   "execution_count": 468,
   "metadata": {},
   "outputs": [
    {
     "name": "stdout",
     "output_type": "stream",
     "text": [
      "Fitting 3 folds for each of 72 candidates, totalling 216 fits\n"
     ]
    },
    {
     "name": "stderr",
     "output_type": "stream",
     "text": [
      "D:\\python\\lib\\site-packages\\sklearn\\neural_network\\_multilayer_perceptron.py:549: ConvergenceWarning: lbfgs failed to converge (status=1):\n",
      "STOP: TOTAL NO. of ITERATIONS REACHED LIMIT.\n",
      "\n",
      "Increase the number of iterations (max_iter) or scale the data as shown in:\n",
      "    https://scikit-learn.org/stable/modules/preprocessing.html\n",
      "  self.n_iter_ = _check_optimize_result(\"lbfgs\", opt_res, self.max_iter)\n"
     ]
    },
    {
     "data": {
      "text/plain": [
       "GridSearchCV(cv=3, estimator=MLPClassifier(random_state=42), n_jobs=-1,\n",
       "             param_grid={'alpha': [0.0001, 0.001, 0.1, 1],\n",
       "                         'hidden_layer_sizes': [(5, 2), (5, 3), (5, 4), (5, 5),\n",
       "                                                (5, 6), (5, 7), (5, 8), (5, 9),\n",
       "                                                (5, 10)],\n",
       "                         'solver': ['lbfgs', 'adam']},\n",
       "             verbose=1)"
      ]
     },
     "execution_count": 468,
     "metadata": {},
     "output_type": "execute_result"
    }
   ],
   "source": [
    "from sklearn.model_selection import RandomizedSearchCV\n",
    "from jcopml.tuning import random_search_params as rsp\n",
    "\n",
    "from sklearn.neural_network import MLPClassifier\n",
    "\n",
    "mlp = MLPClassifier(random_state=42)\n",
    "\n",
    "from sklearn.model_selection import GridSearchCV\n",
    "from jcopml.tuning import grid_search_params as gsp\n",
    "\n",
    "model = GridSearchCV(mlp, params, cv=3, n_jobs=-1, verbose=1)\n",
    "model.fit(X_train, y_train)"
   ]
  },
  {
   "cell_type": "code",
   "execution_count": 469,
   "metadata": {},
   "outputs": [
    {
     "name": "stdout",
     "output_type": "stream",
     "text": [
      "{'alpha': 1, 'hidden_layer_sizes': (5, 9), 'solver': 'lbfgs'}\n",
      "[[275 248  56]\n",
      " [132 600  28]\n",
      " [166 100  75]]\n",
      "\n",
      "\n",
      "              precision    recall  f1-score   support\n",
      "\n",
      "           0       0.46      0.45      0.46      2317\n",
      "           1       0.63      0.77      0.69      3036\n",
      "           2       0.46      0.26      0.33      1365\n",
      "\n",
      "    accuracy                           0.55      6718\n",
      "   macro avg       0.52      0.49      0.49      6718\n",
      "weighted avg       0.54      0.55      0.54      6718\n",
      "\n",
      "\n",
      "\n",
      "              precision    recall  f1-score   support\n",
      "\n",
      "           0       0.48      0.47      0.48       579\n",
      "           1       0.63      0.79      0.70       760\n",
      "           2       0.47      0.22      0.30       341\n",
      "\n",
      "    accuracy                           0.57      1680\n",
      "   macro avg       0.53      0.49      0.49      1680\n",
      "weighted avg       0.55      0.57      0.54      1680\n",
      "\n"
     ]
    }
   ],
   "source": [
    "print(model.best_params_)\n",
    "y_pred = model.predict(X_test)\n",
    "y_pred_Train = model.predict(X_train)\n",
    "\n",
    "from sklearn.metrics import confusion_matrix, classification_report\n",
    "print(confusion_matrix(y_test, y_pred))\n",
    "print(\"\\n\")\n",
    "print(classification_report(y_train, y_pred_Train))\n",
    "print(\"\\n\")\n",
    "print(classification_report(y_test, y_pred))"
   ]
  },
  {
   "cell_type": "markdown",
   "metadata": {},
   "source": [
    "# cara lain"
   ]
  },
  {
   "cell_type": "code",
   "execution_count": 474,
   "metadata": {},
   "outputs": [],
   "source": [
    "df[\"kelembapan_min\"] = df.kelembapan_min.astype(float)\n",
    "df[\"kelembapan_max\"] = df.kelembapan_max.astype(float)\n",
    "df[\"suhu_min\"] = df.suhu_min.astype(float)\n",
    "df[\"suhu_max\"] = df.suhu_max.astype(float)"
   ]
  },
  {
   "cell_type": "code",
   "execution_count": 475,
   "metadata": {},
   "outputs": [
    {
     "data": {
      "text/html": [
       "<div>\n",
       "<style scoped>\n",
       "    .dataframe tbody tr th:only-of-type {\n",
       "        vertical-align: middle;\n",
       "    }\n",
       "\n",
       "    .dataframe tbody tr th {\n",
       "        vertical-align: top;\n",
       "    }\n",
       "\n",
       "    .dataframe thead th {\n",
       "        text-align: right;\n",
       "    }\n",
       "</style>\n",
       "<table border=\"1\" class=\"dataframe\">\n",
       "  <thead>\n",
       "    <tr style=\"text-align: right;\">\n",
       "      <th></th>\n",
       "      <th>wilayah</th>\n",
       "      <th>waktu</th>\n",
       "      <th>cuaca</th>\n",
       "      <th>kelembapan_min</th>\n",
       "      <th>kelembapan_max</th>\n",
       "      <th>suhu_min</th>\n",
       "      <th>suhu_max</th>\n",
       "    </tr>\n",
       "  </thead>\n",
       "  <tbody>\n",
       "    <tr>\n",
       "      <th>0</th>\n",
       "      <td>Kepulauan Seribu</td>\n",
       "      <td>Siang</td>\n",
       "      <td>Hujan</td>\n",
       "      <td>70.0</td>\n",
       "      <td>90.0</td>\n",
       "      <td>24.0</td>\n",
       "      <td>32.0</td>\n",
       "    </tr>\n",
       "    <tr>\n",
       "      <th>1</th>\n",
       "      <td>Kepulauan Seribu</td>\n",
       "      <td>Pagi</td>\n",
       "      <td>Hujan</td>\n",
       "      <td>70.0</td>\n",
       "      <td>90.0</td>\n",
       "      <td>24.0</td>\n",
       "      <td>32.0</td>\n",
       "    </tr>\n",
       "    <tr>\n",
       "      <th>2</th>\n",
       "      <td>Kepulauan Seribu</td>\n",
       "      <td>Malam</td>\n",
       "      <td>Hujan</td>\n",
       "      <td>70.0</td>\n",
       "      <td>90.0</td>\n",
       "      <td>24.0</td>\n",
       "      <td>32.0</td>\n",
       "    </tr>\n",
       "    <tr>\n",
       "      <th>3</th>\n",
       "      <td>Kepulauan Seribu</td>\n",
       "      <td>Dini Hari</td>\n",
       "      <td>Hujan</td>\n",
       "      <td>70.0</td>\n",
       "      <td>90.0</td>\n",
       "      <td>24.0</td>\n",
       "      <td>32.0</td>\n",
       "    </tr>\n",
       "    <tr>\n",
       "      <th>4</th>\n",
       "      <td>Jakarta Utara</td>\n",
       "      <td>Siang</td>\n",
       "      <td>Hujan</td>\n",
       "      <td>70.0</td>\n",
       "      <td>90.0</td>\n",
       "      <td>24.0</td>\n",
       "      <td>32.0</td>\n",
       "    </tr>\n",
       "  </tbody>\n",
       "</table>\n",
       "</div>"
      ],
      "text/plain": [
       "            wilayah      waktu  cuaca  kelembapan_min  kelembapan_max  \\\n",
       "0  Kepulauan Seribu      Siang  Hujan            70.0            90.0   \n",
       "1  Kepulauan Seribu       Pagi  Hujan            70.0            90.0   \n",
       "2  Kepulauan Seribu      Malam  Hujan            70.0            90.0   \n",
       "3  Kepulauan Seribu  Dini Hari  Hujan            70.0            90.0   \n",
       "4     Jakarta Utara      Siang  Hujan            70.0            90.0   \n",
       "\n",
       "   suhu_min  suhu_max  \n",
       "0      24.0      32.0  \n",
       "1      24.0      32.0  \n",
       "2      24.0      32.0  \n",
       "3      24.0      32.0  \n",
       "4      24.0      32.0  "
      ]
     },
     "execution_count": 475,
     "metadata": {},
     "output_type": "execute_result"
    }
   ],
   "source": [
    "df.head()"
   ]
  },
  {
   "cell_type": "code",
   "execution_count": 476,
   "metadata": {},
   "outputs": [
    {
     "data": {
      "text/plain": [
       "Cerah      3796\n",
       "Berawan    2896\n",
       "Hujan      1706\n",
       "Name: cuaca, dtype: int64"
      ]
     },
     "execution_count": 476,
     "metadata": {},
     "output_type": "execute_result"
    }
   ],
   "source": [
    "df[\"cuaca\"].value_counts()"
   ]
  },
  {
   "cell_type": "code",
   "execution_count": 478,
   "metadata": {},
   "outputs": [],
   "source": [
    "replacement_mapping_dict = {\n",
    "    \"Cerah\": 0,\n",
    "    \"Berawan\": 1,\n",
    "    \"Hujan\": 2,\n",
    "}\n",
    "df[\"cuaca\"].replace(replacement_mapping_dict, inplace=True)"
   ]
  },
  {
   "cell_type": "code",
   "execution_count": 479,
   "metadata": {},
   "outputs": [
    {
     "data": {
      "text/html": [
       "<div>\n",
       "<style scoped>\n",
       "    .dataframe tbody tr th:only-of-type {\n",
       "        vertical-align: middle;\n",
       "    }\n",
       "\n",
       "    .dataframe tbody tr th {\n",
       "        vertical-align: top;\n",
       "    }\n",
       "\n",
       "    .dataframe thead th {\n",
       "        text-align: right;\n",
       "    }\n",
       "</style>\n",
       "<table border=\"1\" class=\"dataframe\">\n",
       "  <thead>\n",
       "    <tr style=\"text-align: right;\">\n",
       "      <th></th>\n",
       "      <th>wilayah</th>\n",
       "      <th>waktu</th>\n",
       "      <th>cuaca</th>\n",
       "      <th>kelembapan_min</th>\n",
       "      <th>kelembapan_max</th>\n",
       "      <th>suhu_min</th>\n",
       "      <th>suhu_max</th>\n",
       "    </tr>\n",
       "  </thead>\n",
       "  <tbody>\n",
       "    <tr>\n",
       "      <th>0</th>\n",
       "      <td>Kepulauan Seribu</td>\n",
       "      <td>Siang</td>\n",
       "      <td>2</td>\n",
       "      <td>70.0</td>\n",
       "      <td>90.0</td>\n",
       "      <td>24.0</td>\n",
       "      <td>32.0</td>\n",
       "    </tr>\n",
       "    <tr>\n",
       "      <th>1</th>\n",
       "      <td>Kepulauan Seribu</td>\n",
       "      <td>Pagi</td>\n",
       "      <td>2</td>\n",
       "      <td>70.0</td>\n",
       "      <td>90.0</td>\n",
       "      <td>24.0</td>\n",
       "      <td>32.0</td>\n",
       "    </tr>\n",
       "    <tr>\n",
       "      <th>2</th>\n",
       "      <td>Kepulauan Seribu</td>\n",
       "      <td>Malam</td>\n",
       "      <td>2</td>\n",
       "      <td>70.0</td>\n",
       "      <td>90.0</td>\n",
       "      <td>24.0</td>\n",
       "      <td>32.0</td>\n",
       "    </tr>\n",
       "    <tr>\n",
       "      <th>3</th>\n",
       "      <td>Kepulauan Seribu</td>\n",
       "      <td>Dini Hari</td>\n",
       "      <td>2</td>\n",
       "      <td>70.0</td>\n",
       "      <td>90.0</td>\n",
       "      <td>24.0</td>\n",
       "      <td>32.0</td>\n",
       "    </tr>\n",
       "    <tr>\n",
       "      <th>4</th>\n",
       "      <td>Jakarta Utara</td>\n",
       "      <td>Siang</td>\n",
       "      <td>2</td>\n",
       "      <td>70.0</td>\n",
       "      <td>90.0</td>\n",
       "      <td>24.0</td>\n",
       "      <td>32.0</td>\n",
       "    </tr>\n",
       "  </tbody>\n",
       "</table>\n",
       "</div>"
      ],
      "text/plain": [
       "            wilayah      waktu  cuaca  kelembapan_min  kelembapan_max  \\\n",
       "0  Kepulauan Seribu      Siang      2            70.0            90.0   \n",
       "1  Kepulauan Seribu       Pagi      2            70.0            90.0   \n",
       "2  Kepulauan Seribu      Malam      2            70.0            90.0   \n",
       "3  Kepulauan Seribu  Dini Hari      2            70.0            90.0   \n",
       "4     Jakarta Utara      Siang      2            70.0            90.0   \n",
       "\n",
       "   suhu_min  suhu_max  \n",
       "0      24.0      32.0  \n",
       "1      24.0      32.0  \n",
       "2      24.0      32.0  \n",
       "3      24.0      32.0  \n",
       "4      24.0      32.0  "
      ]
     },
     "execution_count": 479,
     "metadata": {},
     "output_type": "execute_result"
    }
   ],
   "source": [
    "df.head()"
   ]
  },
  {
   "cell_type": "markdown",
   "metadata": {},
   "source": [
    "# KNN"
   ]
  },
  {
   "cell_type": "code",
   "execution_count": 484,
   "metadata": {},
   "outputs": [
    {
     "name": "stdout",
     "output_type": "stream",
     "text": [
      "Fitting 3 folds for each of 90 candidates, totalling 270 fits\n",
      "{'algo__n_neighbors': 27, 'algo__p': 1, 'algo__weights': 'uniform'}\n",
      "[[309 218  52]\n",
      " [138 587  35]\n",
      " [ 98  53 190]]\n",
      "\n",
      "\n",
      "              precision    recall  f1-score   support\n",
      "\n",
      "           0       0.60      0.59      0.59      2317\n",
      "           1       0.72      0.79      0.75      3036\n",
      "           2       0.70      0.55      0.61      1365\n",
      "\n",
      "    accuracy                           0.67      6718\n",
      "   macro avg       0.67      0.64      0.65      6718\n",
      "weighted avg       0.67      0.67      0.67      6718\n",
      "\n",
      "\n",
      "\n",
      "              precision    recall  f1-score   support\n",
      "\n",
      "           0       0.57      0.53      0.55       579\n",
      "           1       0.68      0.77      0.73       760\n",
      "           2       0.69      0.56      0.61       341\n",
      "\n",
      "    accuracy                           0.65      1680\n",
      "   macro avg       0.65      0.62      0.63      1680\n",
      "weighted avg       0.64      0.65      0.64      1680\n",
      "\n"
     ]
    }
   ],
   "source": [
    "preprocessor = ColumnTransformer([\n",
    "    ('numeric', num_pipe(scaling=\"robust\"), [\"kelembapan_min\", \"kelembapan_max\", \"suhu_min\", \"suhu_max\"]),\n",
    "    ('categoric', cat_pipe(encoder='onehot'), [\"wilayah\", \"waktu\"]),\n",
    "])\n",
    "\n",
    "from sklearn.neighbors import KNeighborsClassifier\n",
    "pipeline = Pipeline([\n",
    "    ('prep', preprocessor),\n",
    "    ('algo', KNeighborsClassifier())\n",
    "])\n",
    "\n",
    "from sklearn.model_selection import GridSearchCV\n",
    "from jcopml.tuning import grid_search_params as gsp\n",
    "\n",
    "model = GridSearchCV(pipeline, gsp.knn_params, cv=3,  n_jobs=-1, verbose=1)\n",
    "model.fit(X_train, y_train)\n",
    "\n",
    "print(model.best_params_)\n",
    "y_pred = model.predict(X_test)\n",
    "y_pred_Train = model.predict(X_train)\n",
    "\n",
    "from sklearn.metrics import confusion_matrix, classification_report\n",
    "print(confusion_matrix(y_test, y_pred))\n",
    "print(\"\\n\")\n",
    "print(classification_report(y_train, y_pred_Train))\n",
    "print(\"\\n\")\n",
    "print(classification_report(y_test, y_pred))"
   ]
  },
  {
   "cell_type": "markdown",
   "metadata": {},
   "source": [
    "# RF"
   ]
  },
  {
   "cell_type": "code",
   "execution_count": 486,
   "metadata": {},
   "outputs": [
    {
     "name": "stdout",
     "output_type": "stream",
     "text": [
      "Fitting 3 folds for each of 81 candidates, totalling 243 fits\n",
      "{'algo__max_depth': 20, 'algo__max_features': 0.8, 'algo__min_samples_leaf': 5, 'algo__n_estimators': 200}\n",
      "0.7618338791306937 0.667014531359663 0.6726190476190477\n",
      "{'algo__max_depth': 20, 'algo__max_features': 0.8, 'algo__min_samples_leaf': 5, 'algo__n_estimators': 200}\n",
      "0.7618338791306937 0.667014531359663 0.6726190476190477\n",
      "{'algo__max_depth': 20, 'algo__max_features': 0.8, 'algo__min_samples_leaf': 5, 'algo__n_estimators': 200}\n",
      "[[325 188  66]\n",
      " [119 603  38]\n",
      " [ 93  46 202]]\n",
      "\n",
      "\n",
      "              precision    recall  f1-score   support\n",
      "\n",
      "           0       0.72      0.69      0.70      2317\n",
      "           1       0.80      0.85      0.83      3036\n",
      "           2       0.74      0.69      0.71      1365\n",
      "\n",
      "    accuracy                           0.76      6718\n",
      "   macro avg       0.75      0.74      0.75      6718\n",
      "weighted avg       0.76      0.76      0.76      6718\n",
      "\n",
      "\n",
      "\n",
      "              precision    recall  f1-score   support\n",
      "\n",
      "           0       0.61      0.56      0.58       579\n",
      "           1       0.72      0.79      0.76       760\n",
      "           2       0.66      0.59      0.62       341\n",
      "\n",
      "    accuracy                           0.67      1680\n",
      "   macro avg       0.66      0.65      0.65      1680\n",
      "weighted avg       0.67      0.67      0.67      1680\n",
      "\n"
     ]
    }
   ],
   "source": [
    "from sklearn.ensemble import RandomForestClassifier\n",
    "pipeline = Pipeline([\n",
    "    ('prep', preprocessor),\n",
    "    ('algo', RandomForestClassifier(n_jobs=-1, random_state=42))\n",
    "])\n",
    "\n",
    "from sklearn.model_selection import GridSearchCV\n",
    "from jcopml.tuning import grid_search_params as gsp\n",
    "\n",
    "model = GridSearchCV(pipeline, gsp.rf_params, cv=3, n_jobs=-1, verbose=1)\n",
    "model.fit(X_train, y_train)\n",
    "\n",
    "print(model.best_params_)\n",
    "print(model.score(X_train, y_train), model.best_score_, model.score(X_test, y_test))\n",
    "\n",
    "print(model.best_params_)\n",
    "print(model.score(X_train, y_train), model.best_score_, model.score(X_test, y_test))\n",
    "\n",
    "print(model.best_params_)\n",
    "y_pred = model.predict(X_test)\n",
    "y_pred_Train = model.predict(X_train)\n",
    "\n",
    "from sklearn.metrics import confusion_matrix, classification_report\n",
    "print(confusion_matrix(y_test, y_pred))\n",
    "print(\"\\n\")\n",
    "print(classification_report(y_train, y_pred_Train))\n",
    "print(\"\\n\")\n",
    "print(classification_report(y_test, y_pred))"
   ]
  },
  {
   "cell_type": "markdown",
   "metadata": {},
   "source": [
    "# SVM"
   ]
  },
  {
   "cell_type": "code",
   "execution_count": 494,
   "metadata": {},
   "outputs": [
    {
     "name": "stdout",
     "output_type": "stream",
     "text": [
      "Fitting 3 folds for each of 49 candidates, totalling 147 fits\n"
     ]
    },
    {
     "name": "stderr",
     "output_type": "stream",
     "text": [
      "D:\\python\\lib\\site-packages\\sklearn\\svm\\_base.py:284: ConvergenceWarning: Solver terminated early (max_iter=500).  Consider pre-processing your data with StandardScaler or MinMaxScaler.\n",
      "  warnings.warn(\n"
     ]
    },
    {
     "name": "stdout",
     "output_type": "stream",
     "text": [
      "{'algo__C': 0.1, 'algo__gamma': 0.001}\n",
      "0.4866031557011015 0.5190535342095749 0.4994047619047619\n",
      "{'algo__C': 0.1, 'algo__gamma': 0.001}\n",
      "0.4866031557011015 0.5190535342095749 0.4994047619047619\n",
      "{'algo__C': 0.1, 'algo__gamma': 0.001}\n",
      "[[230 139 210]\n",
      " [228 382 150]\n",
      " [ 85  29 227]]\n",
      "\n",
      "\n",
      "              precision    recall  f1-score   support\n",
      "\n",
      "           0       0.39      0.37      0.38      2317\n",
      "           1       0.72      0.50      0.59      3036\n",
      "           2       0.38      0.66      0.48      1365\n",
      "\n",
      "    accuracy                           0.49      6718\n",
      "   macro avg       0.49      0.51      0.48      6718\n",
      "weighted avg       0.53      0.49      0.49      6718\n",
      "\n",
      "\n",
      "\n",
      "              precision    recall  f1-score   support\n",
      "\n",
      "           0       0.42      0.40      0.41       579\n",
      "           1       0.69      0.50      0.58       760\n",
      "           2       0.39      0.67      0.49       341\n",
      "\n",
      "    accuracy                           0.50      1680\n",
      "   macro avg       0.50      0.52      0.49      1680\n",
      "weighted avg       0.54      0.50      0.50      1680\n",
      "\n"
     ]
    }
   ],
   "source": [
    "from sklearn.svm import SVC\n",
    "pipeline = Pipeline([\n",
    "    ('prep', preprocessor),\n",
    "    ('algo', SVC(max_iter=500, kernel=\"linear\", random_state=42))\n",
    "])\n",
    "\n",
    "from sklearn.model_selection import GridSearchCV\n",
    "from jcopml.tuning import grid_search_params as gsp\n",
    "\n",
    "model = GridSearchCV(pipeline, gsp.svm_params, cv=3, n_jobs=-1, verbose=1)\n",
    "model.fit(X_train, y_train)\n",
    "\n",
    "print(model.best_params_)\n",
    "print(model.score(X_train, y_train), model.best_score_, model.score(X_test, y_test))\n",
    "\n",
    "print(model.best_params_)\n",
    "print(model.score(X_train, y_train), model.best_score_, model.score(X_test, y_test))\n",
    "\n",
    "print(model.best_params_)\n",
    "y_pred = model.predict(X_test)\n",
    "y_pred_Train = model.predict(X_train)\n",
    "\n",
    "from sklearn.metrics import confusion_matrix, classification_report\n",
    "print(confusion_matrix(y_test, y_pred))\n",
    "print(\"\\n\")\n",
    "print(classification_report(y_train, y_pred_Train))\n",
    "print(\"\\n\")\n",
    "print(classification_report(y_test, y_pred))"
   ]
  },
  {
   "cell_type": "markdown",
   "metadata": {},
   "source": [
    "# Logistic Regression"
   ]
  },
  {
   "cell_type": "code",
   "execution_count": 495,
   "metadata": {},
   "outputs": [
    {
     "name": "stdout",
     "output_type": "stream",
     "text": [
      "Fitting 3 folds for each of 14 candidates, totalling 42 fits\n",
      "{'algo__C': 1.0, 'algo__fit_intercept': False}\n",
      "0.6043465317058648 0.6003255997575448 0.6047619047619047\n",
      "{'algo__C': 1.0, 'algo__fit_intercept': False}\n",
      "0.6043465317058648 0.6003255997575448 0.6047619047619047\n",
      "{'algo__C': 1.0, 'algo__fit_intercept': False}\n",
      "[[274 242  63]\n",
      " [136 588  36]\n",
      " [122  65 154]]\n",
      "\n",
      "\n",
      "              precision    recall  f1-score   support\n",
      "\n",
      "           0       0.51      0.48      0.50      2317\n",
      "           1       0.67      0.77      0.72      3036\n",
      "           2       0.57      0.44      0.50      1365\n",
      "\n",
      "    accuracy                           0.60      6718\n",
      "   macro avg       0.59      0.57      0.57      6718\n",
      "weighted avg       0.60      0.60      0.60      6718\n",
      "\n",
      "\n",
      "\n",
      "              precision    recall  f1-score   support\n",
      "\n",
      "           0       0.52      0.47      0.49       579\n",
      "           1       0.66      0.77      0.71       760\n",
      "           2       0.61      0.45      0.52       341\n",
      "\n",
      "    accuracy                           0.60      1680\n",
      "   macro avg       0.59      0.57      0.57      1680\n",
      "weighted avg       0.60      0.60      0.60      1680\n",
      "\n"
     ]
    }
   ],
   "source": [
    "from sklearn.linear_model import LogisticRegression\n",
    "pipeline = Pipeline([\n",
    "    ('prep', preprocessor),\n",
    "    ('algo', LogisticRegression(solver='lbfgs', n_jobs=-1, random_state=42))\n",
    "])\n",
    "\n",
    "from sklearn.model_selection import GridSearchCV\n",
    "from jcopml.tuning import grid_search_params as gsp\n",
    "\n",
    "model = GridSearchCV(pipeline, gsp.logreg_params, cv=3, n_jobs=-1, verbose=1)\n",
    "model.fit(X_train, y_train)\n",
    "\n",
    "print(model.best_params_)\n",
    "print(model.score(X_train, y_train), model.best_score_, model.score(X_test, y_test))\n",
    "\n",
    "print(model.best_params_)\n",
    "print(model.score(X_train, y_train), model.best_score_, model.score(X_test, y_test))\n",
    "\n",
    "print(model.best_params_)\n",
    "y_pred = model.predict(X_test)\n",
    "y_pred_Train = model.predict(X_train)\n",
    "\n",
    "from sklearn.metrics import confusion_matrix, classification_report\n",
    "print(confusion_matrix(y_test, y_pred))\n",
    "print(\"\\n\")\n",
    "print(classification_report(y_train, y_pred_Train))\n",
    "print(\"\\n\")\n",
    "print(classification_report(y_test, y_pred))"
   ]
  },
  {
   "cell_type": "markdown",
   "metadata": {},
   "source": [
    "# XGB"
   ]
  },
  {
   "cell_type": "code",
   "execution_count": 496,
   "metadata": {},
   "outputs": [
    {
     "name": "stdout",
     "output_type": "stream",
     "text": [
      "Fitting 3 folds for each of 50 candidates, totalling 150 fits\n"
     ]
    },
    {
     "name": "stderr",
     "output_type": "stream",
     "text": [
      "D:\\python\\lib\\site-packages\\xgboost\\sklearn.py:1224: UserWarning: The use of label encoder in XGBClassifier is deprecated and will be removed in a future release. To remove this warning, do the following: 1) Pass option use_label_encoder=False when constructing XGBClassifier object; and 2) Encode your labels (y) as integers starting with 0, i.e. 0, 1, 2, ..., [num_class - 1].\n",
      "  warnings.warn(label_encoder_deprecation_msg, UserWarning)\n"
     ]
    },
    {
     "name": "stdout",
     "output_type": "stream",
     "text": [
      "[10:46:54] WARNING: C:/Users/Administrator/workspace/xgboost-win64_release_1.5.1/src/learner.cc:1115: Starting in XGBoost 1.3.0, the default evaluation metric used with the objective 'multi:softprob' was changed from 'merror' to 'mlogloss'. Explicitly set eval_metric if you'd like to restore the old behavior.\n",
      "{'algo__colsample_bytree': 0.7419203085006956, 'algo__gamma': 1, 'algo__learning_rate': 0.27762530094438326, 'algo__max_depth': 7, 'algo__n_estimators': 113, 'algo__reg_alpha': 0.09444574254983565, 'algo__reg_lambda': 0.12329098365270522, 'algo__subsample': 0.5137705091792748}\n",
      "0.7753795772551355 0.668799315170463 0.6720238095238096\n",
      "{'algo__colsample_bytree': 0.7419203085006956, 'algo__gamma': 1, 'algo__learning_rate': 0.27762530094438326, 'algo__max_depth': 7, 'algo__n_estimators': 113, 'algo__reg_alpha': 0.09444574254983565, 'algo__reg_lambda': 0.12329098365270522, 'algo__subsample': 0.5137705091792748}\n",
      "0.7753795772551355 0.668799315170463 0.6720238095238096\n",
      "{'algo__colsample_bytree': 0.7419203085006956, 'algo__gamma': 1, 'algo__learning_rate': 0.27762530094438326, 'algo__max_depth': 7, 'algo__n_estimators': 113, 'algo__reg_alpha': 0.09444574254983565, 'algo__reg_lambda': 0.12329098365270522, 'algo__subsample': 0.5137705091792748}\n",
      "0.7753795772551355 0.668799315170463 0.6720238095238096\n",
      "{'algo__colsample_bytree': 0.7419203085006956, 'algo__gamma': 1, 'algo__learning_rate': 0.27762530094438326, 'algo__max_depth': 7, 'algo__n_estimators': 113, 'algo__reg_alpha': 0.09444574254983565, 'algo__reg_lambda': 0.12329098365270522, 'algo__subsample': 0.5137705091792748}\n",
      "[[329 178  72]\n",
      " [124 597  39]\n",
      " [ 90  48 203]]\n",
      "\n",
      "\n",
      "              precision    recall  f1-score   support\n",
      "\n",
      "           0       0.73      0.71      0.72      2317\n",
      "           1       0.81      0.85      0.83      3036\n",
      "           2       0.77      0.72      0.75      1365\n",
      "\n",
      "    accuracy                           0.78      6718\n",
      "   macro avg       0.77      0.76      0.76      6718\n",
      "weighted avg       0.77      0.78      0.77      6718\n",
      "\n",
      "\n",
      "\n",
      "              precision    recall  f1-score   support\n",
      "\n",
      "           0       0.61      0.57      0.59       579\n",
      "           1       0.73      0.79      0.75       760\n",
      "           2       0.65      0.60      0.62       341\n",
      "\n",
      "    accuracy                           0.67      1680\n",
      "   macro avg       0.66      0.65      0.65      1680\n",
      "weighted avg       0.67      0.67      0.67      1680\n",
      "\n"
     ]
    }
   ],
   "source": [
    "from xgboost import XGBClassifier\n",
    "pipeline = Pipeline([\n",
    "    ('prep', preprocessor),\n",
    "    ('algo', XGBClassifier(n_jobs=-1, random_state=42))\n",
    "])\n",
    "\n",
    "from sklearn.model_selection import RandomizedSearchCV\n",
    "from jcopml.tuning import random_search_params as rsp\n",
    "\n",
    "model = RandomizedSearchCV(pipeline, rsp.xgb_params, cv=3, n_iter=50, n_jobs=-1, verbose=1, random_state=42)\n",
    "model.fit(X_train, y_train)\n",
    "\n",
    "print(model.best_params_)\n",
    "print(model.score(X_train, y_train), model.best_score_, model.score(X_test, y_test))\n",
    "\n",
    "print(model.best_params_)\n",
    "print(model.score(X_train, y_train), model.best_score_, model.score(X_test, y_test))\n",
    "\n",
    "print(model.best_params_)\n",
    "print(model.score(X_train, y_train), model.best_score_, model.score(X_test, y_test))\n",
    "\n",
    "print(model.best_params_)\n",
    "y_pred = model.predict(X_test)\n",
    "y_pred_Train = model.predict(X_train)\n",
    "\n",
    "from sklearn.metrics import confusion_matrix, classification_report\n",
    "print(confusion_matrix(y_test, y_pred))\n",
    "print(\"\\n\")\n",
    "print(classification_report(y_train, y_pred_Train))\n",
    "print(\"\\n\")\n",
    "print(classification_report(y_test, y_pred))"
   ]
  },
  {
   "cell_type": "markdown",
   "metadata": {},
   "source": [
    "# ANN"
   ]
  },
  {
   "cell_type": "code",
   "execution_count": 499,
   "metadata": {},
   "outputs": [],
   "source": [
    "params = {\n",
    "  \"solver\": [\"adam\"],\n",
    "  \"hidden_layer_sizes\": [(5, 2), (5, 3), (5, 4), (5, 5), (5, 6), (5, 7), (5, 8), (5, 9), (5, 10), (6,4), (6,5), (6,6), (6,7), (6,8), (6,9), (6,10), (7,5), (7,6), (7,7), (7,8), (7,9), (7,10), (8,6), (8,7), (8,8), (8,9), (8,10), (9,7), (9,8), (9,9), (9,10), (10,8), (10,9), (10,10)],\n",
    "  \"alpha\": [0.0001, 0.001, 0.1, 1],  \n",
    "}"
   ]
  },
  {
   "cell_type": "code",
   "execution_count": 500,
   "metadata": {},
   "outputs": [
    {
     "name": "stdout",
     "output_type": "stream",
     "text": [
      "Fitting 3 folds for each of 136 candidates, totalling 408 fits\n",
      "{'alpha': 0.001, 'hidden_layer_sizes': (7, 5), 'solver': 'adam'}\n",
      "0.5516522774635308 0.5611812511963249 0.5553571428571429\n",
      "{'alpha': 0.001, 'hidden_layer_sizes': (7, 5), 'solver': 'adam'}\n",
      "[[286 242  51]\n",
      " [159 577  24]\n",
      " [172  99  70]]\n",
      "\n",
      "\n",
      "              precision    recall  f1-score   support\n",
      "\n",
      "           0       0.45      0.47      0.46      2317\n",
      "           1       0.64      0.75      0.69      3036\n",
      "           2       0.47      0.26      0.34      1365\n",
      "\n",
      "    accuracy                           0.55      6718\n",
      "   macro avg       0.52      0.49      0.49      6718\n",
      "weighted avg       0.54      0.55      0.54      6718\n",
      "\n",
      "\n",
      "\n",
      "              precision    recall  f1-score   support\n",
      "\n",
      "           0       0.46      0.49      0.48       579\n",
      "           1       0.63      0.76      0.69       760\n",
      "           2       0.48      0.21      0.29       341\n",
      "\n",
      "    accuracy                           0.56      1680\n",
      "   macro avg       0.52      0.49      0.48      1680\n",
      "weighted avg       0.54      0.56      0.53      1680\n",
      "\n"
     ]
    }
   ],
   "source": [
    "from sklearn.neural_network import MLPClassifier\n",
    "mlp = MLPClassifier(max_iter=1000, random_state=42)\n",
    "\n",
    "from sklearn.model_selection import GridSearchCV\n",
    "from jcopml.tuning import grid_search_params as gsp\n",
    "\n",
    "model = GridSearchCV(mlp, params, cv=3, n_jobs=-1, verbose=1)\n",
    "model.fit(X_train, y_train)\n",
    "\n",
    "print(model.best_params_)\n",
    "print(model.score(X_train, y_train), model.best_score_, model.score(X_test, y_test))\n",
    "\n",
    "print(model.best_params_)\n",
    "y_pred = model.predict(X_test)\n",
    "y_pred_Train = model.predict(X_train)\n",
    "\n",
    "from sklearn.metrics import confusion_matrix, classification_report\n",
    "print(confusion_matrix(y_test, y_pred))\n",
    "print(\"\\n\")\n",
    "print(classification_report(y_train, y_pred_Train))\n",
    "print(\"\\n\")\n",
    "print(classification_report(y_test, y_pred))"
   ]
  }
 ],
 "metadata": {
  "interpreter": {
   "hash": "4eaf1be304415beee96765ae99c3f893cc8312c7f1196698e6029668e9aeb3e5"
  },
  "kernelspec": {
   "display_name": "Python 3.10.2 64-bit",
   "language": "python",
   "name": "python3"
  },
  "language_info": {
   "codemirror_mode": {
    "name": "ipython",
    "version": 3
   },
   "file_extension": ".py",
   "mimetype": "text/x-python",
   "name": "python",
   "nbconvert_exporter": "python",
   "pygments_lexer": "ipython3",
   "version": "3.10.2"
  },
  "orig_nbformat": 4
 },
 "nbformat": 4,
 "nbformat_minor": 2
}
