{
  "cells": [
    {
      "cell_type": "markdown",
      "metadata": {
        "id": "dPsGh7xWVy08"
      },
      "source": [
        "# Import Package"
      ]
    },
    {
      "cell_type": "code",
      "execution_count": 3,
      "metadata": {
        "id": "6usr5F1QVy1C"
      },
      "outputs": [],
      "source": [
        "import pandas as pd\n",
        "import matplotlib.pyplot as plt\n",
        "import seaborn as sns\n",
        "from sklearn.model_selection import train_test_split"
      ]
    },
    {
      "cell_type": "markdown",
      "metadata": {
        "id": "z8BPXYYKVy1D"
      },
      "source": [
        "# Import Data"
      ]
    },
    {
      "cell_type": "code",
      "execution_count": 4,
      "metadata": {
        "colab": {
          "base_uri": "https://localhost:8080/",
          "height": 206
        },
        "id": "LIUA7dqiVy1E",
        "outputId": "06305b27-ad36-4264-ee81-93fcf36422bb"
      },
      "outputs": [
        {
          "data": {
            "text/html": [
              "\n",
              "  <div id=\"df-de5fa254-2504-4954-8534-766e82412ffa\">\n",
              "    <div class=\"colab-df-container\">\n",
              "      <div>\n",
              "<style scoped>\n",
              "    .dataframe tbody tr th:only-of-type {\n",
              "        vertical-align: middle;\n",
              "    }\n",
              "\n",
              "    .dataframe tbody tr th {\n",
              "        vertical-align: top;\n",
              "    }\n",
              "\n",
              "    .dataframe thead th {\n",
              "        text-align: right;\n",
              "    }\n",
              "</style>\n",
              "<table border=\"1\" class=\"dataframe\">\n",
              "  <thead>\n",
              "    <tr style=\"text-align: right;\">\n",
              "      <th></th>\n",
              "      <th>tanggal</th>\n",
              "      <th>wilayah</th>\n",
              "      <th>waktu</th>\n",
              "      <th>cuaca</th>\n",
              "      <th>kelembaban_persen</th>\n",
              "      <th>suhu_derajat_celcius</th>\n",
              "    </tr>\n",
              "  </thead>\n",
              "  <tbody>\n",
              "    <tr>\n",
              "      <th>0</th>\n",
              "      <td>2018-12-31</td>\n",
              "      <td>Kepulauan Seribu</td>\n",
              "      <td>Siang</td>\n",
              "      <td>Hujan Lokal</td>\n",
              "      <td>70 - 90</td>\n",
              "      <td>24 - 32</td>\n",
              "    </tr>\n",
              "    <tr>\n",
              "      <th>1</th>\n",
              "      <td>2018-12-31</td>\n",
              "      <td>Kepulauan Seribu</td>\n",
              "      <td>Pagi</td>\n",
              "      <td>Hujan Lokal</td>\n",
              "      <td>70 - 90</td>\n",
              "      <td>24 - 32</td>\n",
              "    </tr>\n",
              "    <tr>\n",
              "      <th>2</th>\n",
              "      <td>2018-12-31</td>\n",
              "      <td>Kepulauan Seribu</td>\n",
              "      <td>Malam</td>\n",
              "      <td>Hujan Lokal</td>\n",
              "      <td>70 - 90</td>\n",
              "      <td>24 - 32</td>\n",
              "    </tr>\n",
              "    <tr>\n",
              "      <th>3</th>\n",
              "      <td>2018-12-31</td>\n",
              "      <td>Kepulauan Seribu</td>\n",
              "      <td>Dini Hari</td>\n",
              "      <td>Hujan Ringan</td>\n",
              "      <td>70 - 90</td>\n",
              "      <td>24 - 32</td>\n",
              "    </tr>\n",
              "    <tr>\n",
              "      <th>4</th>\n",
              "      <td>2018-12-31</td>\n",
              "      <td>Jakarta Utara</td>\n",
              "      <td>Siang</td>\n",
              "      <td>Hujan Lokal</td>\n",
              "      <td>70 - 90</td>\n",
              "      <td>24 - 32</td>\n",
              "    </tr>\n",
              "  </tbody>\n",
              "</table>\n",
              "</div>\n",
              "      <button class=\"colab-df-convert\" onclick=\"convertToInteractive('df-de5fa254-2504-4954-8534-766e82412ffa')\"\n",
              "              title=\"Convert this dataframe to an interactive table.\"\n",
              "              style=\"display:none;\">\n",
              "        \n",
              "  <svg xmlns=\"http://www.w3.org/2000/svg\" height=\"24px\"viewBox=\"0 0 24 24\"\n",
              "       width=\"24px\">\n",
              "    <path d=\"M0 0h24v24H0V0z\" fill=\"none\"/>\n",
              "    <path d=\"M18.56 5.44l.94 2.06.94-2.06 2.06-.94-2.06-.94-.94-2.06-.94 2.06-2.06.94zm-11 1L8.5 8.5l.94-2.06 2.06-.94-2.06-.94L8.5 2.5l-.94 2.06-2.06.94zm10 10l.94 2.06.94-2.06 2.06-.94-2.06-.94-.94-2.06-.94 2.06-2.06.94z\"/><path d=\"M17.41 7.96l-1.37-1.37c-.4-.4-.92-.59-1.43-.59-.52 0-1.04.2-1.43.59L10.3 9.45l-7.72 7.72c-.78.78-.78 2.05 0 2.83L4 21.41c.39.39.9.59 1.41.59.51 0 1.02-.2 1.41-.59l7.78-7.78 2.81-2.81c.8-.78.8-2.07 0-2.86zM5.41 20L4 18.59l7.72-7.72 1.47 1.35L5.41 20z\"/>\n",
              "  </svg>\n",
              "      </button>\n",
              "      \n",
              "  <style>\n",
              "    .colab-df-container {\n",
              "      display:flex;\n",
              "      flex-wrap:wrap;\n",
              "      gap: 12px;\n",
              "    }\n",
              "\n",
              "    .colab-df-convert {\n",
              "      background-color: #E8F0FE;\n",
              "      border: none;\n",
              "      border-radius: 50%;\n",
              "      cursor: pointer;\n",
              "      display: none;\n",
              "      fill: #1967D2;\n",
              "      height: 32px;\n",
              "      padding: 0 0 0 0;\n",
              "      width: 32px;\n",
              "    }\n",
              "\n",
              "    .colab-df-convert:hover {\n",
              "      background-color: #E2EBFA;\n",
              "      box-shadow: 0px 1px 2px rgba(60, 64, 67, 0.3), 0px 1px 3px 1px rgba(60, 64, 67, 0.15);\n",
              "      fill: #174EA6;\n",
              "    }\n",
              "\n",
              "    [theme=dark] .colab-df-convert {\n",
              "      background-color: #3B4455;\n",
              "      fill: #D2E3FC;\n",
              "    }\n",
              "\n",
              "    [theme=dark] .colab-df-convert:hover {\n",
              "      background-color: #434B5C;\n",
              "      box-shadow: 0px 1px 3px 1px rgba(0, 0, 0, 0.15);\n",
              "      filter: drop-shadow(0px 1px 2px rgba(0, 0, 0, 0.3));\n",
              "      fill: #FFFFFF;\n",
              "    }\n",
              "  </style>\n",
              "\n",
              "      <script>\n",
              "        const buttonEl =\n",
              "          document.querySelector('#df-de5fa254-2504-4954-8534-766e82412ffa button.colab-df-convert');\n",
              "        buttonEl.style.display =\n",
              "          google.colab.kernel.accessAllowed ? 'block' : 'none';\n",
              "\n",
              "        async function convertToInteractive(key) {\n",
              "          const element = document.querySelector('#df-de5fa254-2504-4954-8534-766e82412ffa');\n",
              "          const dataTable =\n",
              "            await google.colab.kernel.invokeFunction('convertToInteractive',\n",
              "                                                     [key], {});\n",
              "          if (!dataTable) return;\n",
              "\n",
              "          const docLinkHtml = 'Like what you see? Visit the ' +\n",
              "            '<a target=\"_blank\" href=https://colab.research.google.com/notebooks/data_table.ipynb>data table notebook</a>'\n",
              "            + ' to learn more about interactive tables.';\n",
              "          element.innerHTML = '';\n",
              "          dataTable['output_type'] = 'display_data';\n",
              "          await google.colab.output.renderOutput(dataTable, element);\n",
              "          const docLink = document.createElement('div');\n",
              "          docLink.innerHTML = docLinkHtml;\n",
              "          element.appendChild(docLink);\n",
              "        }\n",
              "      </script>\n",
              "    </div>\n",
              "  </div>\n",
              "  "
            ],
            "text/plain": [
              "      tanggal           wilayah      waktu         cuaca kelembaban_persen  \\\n",
              "0  2018-12-31  Kepulauan Seribu      Siang   Hujan Lokal           70 - 90   \n",
              "1  2018-12-31  Kepulauan Seribu       Pagi   Hujan Lokal           70 - 90   \n",
              "2  2018-12-31  Kepulauan Seribu      Malam   Hujan Lokal           70 - 90   \n",
              "3  2018-12-31  Kepulauan Seribu  Dini Hari  Hujan Ringan           70 - 90   \n",
              "4  2018-12-31     Jakarta Utara      Siang   Hujan Lokal           70 - 90   \n",
              "\n",
              "  suhu_derajat_celcius  \n",
              "0              24 - 32  \n",
              "1              24 - 32  \n",
              "2              24 - 32  \n",
              "3              24 - 32  \n",
              "4              24 - 32  "
            ]
          },
          "execution_count": 4,
          "metadata": {},
          "output_type": "execute_result"
        }
      ],
      "source": [
        "df = pd.read_csv(\"/content/drive/MyDrive/Colab Notebooks/dataset/dataset.csv\")\n",
        "df.head()"
      ]
    },
    {
      "cell_type": "markdown",
      "metadata": {
        "id": "ko5LCRYrVy1F"
      },
      "source": [
        "mengambil dataset prakiraan cuaca Provinsi DKI Jakarta tahun 2018 dari website https://katalog.data.go.id/dataset/data-prakiraan-cuaca-wilayah-provinsi-dki-jakarta-tahun-2018"
      ]
    },
    {
      "cell_type": "markdown",
      "metadata": {
        "id": "O2g-ymTHVy1F"
      },
      "source": [
        "# Preprocessing (1)"
      ]
    },
    {
      "cell_type": "markdown",
      "metadata": {
        "id": "maTO0bMuVy1G"
      },
      "source": [
        "### Melihat Jumlah Baris dan Kolom"
      ]
    },
    {
      "cell_type": "code",
      "execution_count": 5,
      "metadata": {
        "colab": {
          "base_uri": "https://localhost:8080/"
        },
        "id": "lbE21B1_Vy1G",
        "outputId": "39433524-c0d3-40c6-9b1c-4e331a4853f0"
      },
      "outputs": [
        {
          "data": {
            "text/plain": [
              "(8535, 6)"
            ]
          },
          "execution_count": 5,
          "metadata": {},
          "output_type": "execute_result"
        }
      ],
      "source": [
        "df.shape"
      ]
    },
    {
      "cell_type": "markdown",
      "metadata": {
        "id": "bg1MvdadVy1H"
      },
      "source": [
        "dataset terdiri dari 8535 baris dan 6 kolom"
      ]
    },
    {
      "cell_type": "markdown",
      "metadata": {
        "id": "0u1Af4f3Vy1I"
      },
      "source": [
        "### Melihat Missing Value"
      ]
    },
    {
      "cell_type": "code",
      "execution_count": 6,
      "metadata": {
        "colab": {
          "base_uri": "https://localhost:8080/"
        },
        "id": "tG_dBVSUVy1J",
        "outputId": "25abd88b-13a3-4007-fece-c7a6365dbe23"
      },
      "outputs": [
        {
          "data": {
            "text/plain": [
              "tanggal                 135\n",
              "wilayah                 135\n",
              "waktu                   135\n",
              "cuaca                   135\n",
              "kelembaban_persen       135\n",
              "suhu_derajat_celcius    135\n",
              "dtype: int64"
            ]
          },
          "execution_count": 6,
          "metadata": {},
          "output_type": "execute_result"
        }
      ],
      "source": [
        "df.isnull().sum()"
      ]
    },
    {
      "cell_type": "code",
      "execution_count": 7,
      "metadata": {
        "colab": {
          "base_uri": "https://localhost:8080/"
        },
        "id": "hQmIyNb6Vy1J",
        "outputId": "95d0071e-16aa-4930-b65d-89bb7529cf42"
      },
      "outputs": [
        {
          "data": {
            "text/plain": [
              "tanggal                 0\n",
              "wilayah                 0\n",
              "waktu                   0\n",
              "cuaca                   0\n",
              "kelembaban_persen       0\n",
              "suhu_derajat_celcius    0\n",
              "dtype: int64"
            ]
          },
          "execution_count": 7,
          "metadata": {},
          "output_type": "execute_result"
        }
      ],
      "source": [
        "df.dropna(inplace=True)\n",
        "df.isnull().sum()"
      ]
    },
    {
      "cell_type": "markdown",
      "metadata": {
        "id": "yhSuPDB9Vy1K"
      },
      "source": [
        "membuang data yang kosong atau null"
      ]
    },
    {
      "cell_type": "markdown",
      "metadata": {
        "id": "oysvd0dXVy1K"
      },
      "source": [
        "#### Melihat Kembali Jumlah Baris dan Kolom"
      ]
    },
    {
      "cell_type": "code",
      "execution_count": 8,
      "metadata": {
        "colab": {
          "base_uri": "https://localhost:8080/"
        },
        "id": "IwYF7qnGVy1K",
        "outputId": "794601d2-d4bf-43a0-b909-29550d3efa1b"
      },
      "outputs": [
        {
          "data": {
            "text/plain": [
              "(8400, 6)"
            ]
          },
          "execution_count": 8,
          "metadata": {},
          "output_type": "execute_result"
        }
      ],
      "source": [
        "df.shape"
      ]
    },
    {
      "cell_type": "markdown",
      "metadata": {
        "id": "fxoP3QT4Vy1L"
      },
      "source": [
        "jumlah baris menjadi 8400 dan kolom tetap 6"
      ]
    },
    {
      "cell_type": "markdown",
      "metadata": {
        "id": "pNeCjV8MVy1L"
      },
      "source": [
        "### Menggunakan Regex untuk mengelompokkan jenis Cuaca"
      ]
    },
    {
      "cell_type": "code",
      "execution_count": 9,
      "metadata": {
        "colab": {
          "base_uri": "https://localhost:8080/"
        },
        "id": "v5aonoVsVy1L",
        "outputId": "a7fba53c-ce39-4134-e968-2a11b72b6192"
      },
      "outputs": [
        {
          "data": {
            "text/plain": [
              "array(['Hujan Lokal', 'Hujan Ringan', 'Berawan', 'Cerah Berawan', 'Cerah',\n",
              "       'Berawan Tebal', 'Hujan Sedang', 'Cerah Berawn', 'Cerang Berawan',\n",
              "       'Beawan', 'Berawan ', 'Hujan Petir', 'Hujan Lokal ',\n",
              "       'Cerah Berawan ', 'Cerah ', 'Cerah Berawah', 'Cerah  ', ' Berawan',\n",
              "       'Hujan', 'Hujan Petir ', 'Hujan Sedang ', 'Cerah berawan',\n",
              "       'Hujan Ringanl', 'Berawa', 'Hujang Sedang', 'Hujan Loka',\n",
              "       'Hujan Ringan '], dtype=object)"
            ]
          },
          "execution_count": 9,
          "metadata": {},
          "output_type": "execute_result"
        }
      ],
      "source": [
        "df[\"cuaca\"].unique()"
      ]
    },
    {
      "cell_type": "markdown",
      "metadata": {
        "id": "LhLh72tkVy1M"
      },
      "source": [
        "terdapat 27 jenis cuaca sehingga akan dikelompokkan jenis cuaca menjadi 3 yaitu Hujan, Cerah dan Berawan"
      ]
    },
    {
      "cell_type": "code",
      "execution_count": 10,
      "metadata": {
        "colab": {
          "base_uri": "https://localhost:8080/"
        },
        "id": "wh9XPlwqVy1M",
        "outputId": "c04b7869-50ad-4dca-9588-56b69efd7aa9"
      },
      "outputs": [
        {
          "data": {
            "text/plain": [
              "Cerah                    3796\n",
              "Berawan                  2896\n",
              "Hujan                    1706\n",
              "Tidak Teridentifikasi       2\n",
              "Name: cuaca, dtype: int64"
            ]
          },
          "execution_count": 10,
          "metadata": {},
          "output_type": "execute_result"
        }
      ],
      "source": [
        "import re\n",
        "\n",
        "def cuaca(x):\n",
        "  if (re.findall(\"Cerah\", x)):\n",
        "    return 'Cerah'\n",
        "  elif (re.findall(\"Hujan\", x)):\n",
        "    return 'Hujan'\n",
        "  elif (re.findall(\"Berawan\", x)):\n",
        "    return 'Berawan'\n",
        "  else:\n",
        "    return 'Tidak Teridentifikasi'\n",
        "\n",
        "df[\"cuaca\"] = df['cuaca'].apply(cuaca)\n",
        "df[\"cuaca\"].value_counts()"
      ]
    },
    {
      "cell_type": "markdown",
      "metadata": {
        "id": "1ys_YAETVy1N"
      },
      "source": [
        "3796 data cuaca cerah<br>\n",
        "2896 data cuaca berawan<br>\n",
        "1706 data cuaca hujan<br>\n",
        "dan 2 data cuaca yang tidak teridentifikasi karena tidak termasuk jenis cuaca Hujan, Cerah maupun Berawan"
      ]
    },
    {
      "cell_type": "markdown",
      "metadata": {
        "id": "bybBjDZtVy1N"
      },
      "source": [
        "#### Membuang Data yang tidak sesuai atau tidak berhubungan"
      ]
    },
    {
      "cell_type": "code",
      "execution_count": 11,
      "metadata": {
        "colab": {
          "base_uri": "https://localhost:8080/"
        },
        "id": "kyr3skqmVy1N",
        "outputId": "1f349f83-5bb4-4b42-9734-547e3c0dae7c"
      },
      "outputs": [
        {
          "data": {
            "text/plain": [
              "array(['Hujan', 'Berawan', 'Cerah'], dtype=object)"
            ]
          },
          "execution_count": 11,
          "metadata": {},
          "output_type": "execute_result"
        }
      ],
      "source": [
        "df.drop(df[df[\"cuaca\"] == \"Tidak Teridentifikasi\"].index, inplace=True)\n",
        "df[\"cuaca\"].unique()"
      ]
    },
    {
      "cell_type": "markdown",
      "metadata": {
        "id": "x2X7ZSBWVy1O"
      },
      "source": [
        "### Menggunakan Regex untuk mengelompokkan jenis Waktu"
      ]
    },
    {
      "cell_type": "code",
      "execution_count": 12,
      "metadata": {
        "colab": {
          "base_uri": "https://localhost:8080/"
        },
        "id": "4QdIOJK6Vy1O",
        "outputId": "eb96576c-afb4-472e-fd98-8365939ba8c7"
      },
      "outputs": [
        {
          "data": {
            "text/plain": [
              "Siang        1758\n",
              "Pagi         1758\n",
              "Dini Hari    1758\n",
              "Malam        1757\n",
              "siang         342\n",
              "pagi          342\n",
              "malam         342\n",
              "dini hari     341\n",
              "Name: waktu, dtype: int64"
            ]
          },
          "execution_count": 12,
          "metadata": {},
          "output_type": "execute_result"
        }
      ],
      "source": [
        "df.waktu.value_counts()"
      ]
    },
    {
      "cell_type": "markdown",
      "metadata": {
        "id": "Nf4NstlLVy1O"
      },
      "source": [
        "terdapat 8 jenis waktu pengambilan data cuaca sehingga akan dikelompokkan menjadi 4 waktu saja yaitu Siang, Pagi, Malam, dan Dini Hari"
      ]
    },
    {
      "cell_type": "code",
      "execution_count": 13,
      "metadata": {
        "colab": {
          "base_uri": "https://localhost:8080/"
        },
        "id": "IUYB7aOTVy1O",
        "outputId": "6d9da3c6-6f8e-493a-b066-d9090da3ffd1"
      },
      "outputs": [
        {
          "data": {
            "text/plain": [
              "Siang        2100\n",
              "Pagi         2100\n",
              "Malam        2099\n",
              "Dini Hari    2099\n",
              "Name: waktu, dtype: int64"
            ]
          },
          "execution_count": 13,
          "metadata": {},
          "output_type": "execute_result"
        }
      ],
      "source": [
        "import re\n",
        "\n",
        "def cuaca(x):\n",
        "  if (re.findall(\"dini hari\", x)):\n",
        "    return 'Dini Hari'\n",
        "  elif (re.findall(\"siang\", x)):\n",
        "    return 'Siang'\n",
        "  elif (re.findall(\"pagi\", x)):\n",
        "    return 'Pagi'\n",
        "  elif (re.findall(\"malam\", x)):\n",
        "    return 'Malam'\n",
        "  else:\n",
        "    return x\n",
        "\n",
        "df[\"waktu\"] = df['waktu'].apply(cuaca)\n",
        "df[\"waktu\"].value_counts()"
      ]
    },
    {
      "cell_type": "markdown",
      "metadata": {
        "id": "mjw7GaJ1Vy1P"
      },
      "source": [
        "Waktu Siang terdapat 2100 data<br>\n",
        "Waktu Pagi terdapat 2100 data<br>\n",
        "Waktu Malam terdapat 2100 data<br>\n",
        "Waktu Dini Hari terdapat 2100 data<br>"
      ]
    },
    {
      "cell_type": "markdown",
      "metadata": {
        "id": "y2wnBstNVy1P"
      },
      "source": [
        "membuang data cuaca yang tidak teridentifikasi sehingga tersisa 3 jenis cuaca yaitu Hujan, Berawan, dan Cerah"
      ]
    },
    {
      "cell_type": "markdown",
      "metadata": {
        "id": "0fHR4mnLVy1P"
      },
      "source": [
        "### Split Data Kelembaban menjadi Kelembaban Minimal dan Maximal"
      ]
    },
    {
      "cell_type": "code",
      "execution_count": 14,
      "metadata": {
        "colab": {
          "base_uri": "https://localhost:8080/",
          "height": 0
        },
        "id": "qG_vaem4Vy1P",
        "outputId": "3ccdbc93-d88e-4675-8e55-a0bded81d144"
      },
      "outputs": [
        {
          "data": {
            "text/html": [
              "\n",
              "  <div id=\"df-0414d7b7-71f3-44b6-bbbb-a0c340af10b0\">\n",
              "    <div class=\"colab-df-container\">\n",
              "      <div>\n",
              "<style scoped>\n",
              "    .dataframe tbody tr th:only-of-type {\n",
              "        vertical-align: middle;\n",
              "    }\n",
              "\n",
              "    .dataframe tbody tr th {\n",
              "        vertical-align: top;\n",
              "    }\n",
              "\n",
              "    .dataframe thead th {\n",
              "        text-align: right;\n",
              "    }\n",
              "</style>\n",
              "<table border=\"1\" class=\"dataframe\">\n",
              "  <thead>\n",
              "    <tr style=\"text-align: right;\">\n",
              "      <th></th>\n",
              "      <th>tanggal</th>\n",
              "      <th>wilayah</th>\n",
              "      <th>waktu</th>\n",
              "      <th>cuaca</th>\n",
              "      <th>kelembaban_persen</th>\n",
              "      <th>suhu_derajat_celcius</th>\n",
              "      <th>kelembaban_min</th>\n",
              "      <th>kelembaban_max</th>\n",
              "    </tr>\n",
              "  </thead>\n",
              "  <tbody>\n",
              "    <tr>\n",
              "      <th>0</th>\n",
              "      <td>2018-12-31</td>\n",
              "      <td>Kepulauan Seribu</td>\n",
              "      <td>Siang</td>\n",
              "      <td>Hujan</td>\n",
              "      <td>70 - 90</td>\n",
              "      <td>24 - 32</td>\n",
              "      <td>70</td>\n",
              "      <td>90</td>\n",
              "    </tr>\n",
              "    <tr>\n",
              "      <th>1</th>\n",
              "      <td>2018-12-31</td>\n",
              "      <td>Kepulauan Seribu</td>\n",
              "      <td>Pagi</td>\n",
              "      <td>Hujan</td>\n",
              "      <td>70 - 90</td>\n",
              "      <td>24 - 32</td>\n",
              "      <td>70</td>\n",
              "      <td>90</td>\n",
              "    </tr>\n",
              "    <tr>\n",
              "      <th>2</th>\n",
              "      <td>2018-12-31</td>\n",
              "      <td>Kepulauan Seribu</td>\n",
              "      <td>Malam</td>\n",
              "      <td>Hujan</td>\n",
              "      <td>70 - 90</td>\n",
              "      <td>24 - 32</td>\n",
              "      <td>70</td>\n",
              "      <td>90</td>\n",
              "    </tr>\n",
              "    <tr>\n",
              "      <th>3</th>\n",
              "      <td>2018-12-31</td>\n",
              "      <td>Kepulauan Seribu</td>\n",
              "      <td>Dini Hari</td>\n",
              "      <td>Hujan</td>\n",
              "      <td>70 - 90</td>\n",
              "      <td>24 - 32</td>\n",
              "      <td>70</td>\n",
              "      <td>90</td>\n",
              "    </tr>\n",
              "    <tr>\n",
              "      <th>4</th>\n",
              "      <td>2018-12-31</td>\n",
              "      <td>Jakarta Utara</td>\n",
              "      <td>Siang</td>\n",
              "      <td>Hujan</td>\n",
              "      <td>70 - 90</td>\n",
              "      <td>24 - 32</td>\n",
              "      <td>70</td>\n",
              "      <td>90</td>\n",
              "    </tr>\n",
              "  </tbody>\n",
              "</table>\n",
              "</div>\n",
              "      <button class=\"colab-df-convert\" onclick=\"convertToInteractive('df-0414d7b7-71f3-44b6-bbbb-a0c340af10b0')\"\n",
              "              title=\"Convert this dataframe to an interactive table.\"\n",
              "              style=\"display:none;\">\n",
              "        \n",
              "  <svg xmlns=\"http://www.w3.org/2000/svg\" height=\"24px\"viewBox=\"0 0 24 24\"\n",
              "       width=\"24px\">\n",
              "    <path d=\"M0 0h24v24H0V0z\" fill=\"none\"/>\n",
              "    <path d=\"M18.56 5.44l.94 2.06.94-2.06 2.06-.94-2.06-.94-.94-2.06-.94 2.06-2.06.94zm-11 1L8.5 8.5l.94-2.06 2.06-.94-2.06-.94L8.5 2.5l-.94 2.06-2.06.94zm10 10l.94 2.06.94-2.06 2.06-.94-2.06-.94-.94-2.06-.94 2.06-2.06.94z\"/><path d=\"M17.41 7.96l-1.37-1.37c-.4-.4-.92-.59-1.43-.59-.52 0-1.04.2-1.43.59L10.3 9.45l-7.72 7.72c-.78.78-.78 2.05 0 2.83L4 21.41c.39.39.9.59 1.41.59.51 0 1.02-.2 1.41-.59l7.78-7.78 2.81-2.81c.8-.78.8-2.07 0-2.86zM5.41 20L4 18.59l7.72-7.72 1.47 1.35L5.41 20z\"/>\n",
              "  </svg>\n",
              "      </button>\n",
              "      \n",
              "  <style>\n",
              "    .colab-df-container {\n",
              "      display:flex;\n",
              "      flex-wrap:wrap;\n",
              "      gap: 12px;\n",
              "    }\n",
              "\n",
              "    .colab-df-convert {\n",
              "      background-color: #E8F0FE;\n",
              "      border: none;\n",
              "      border-radius: 50%;\n",
              "      cursor: pointer;\n",
              "      display: none;\n",
              "      fill: #1967D2;\n",
              "      height: 32px;\n",
              "      padding: 0 0 0 0;\n",
              "      width: 32px;\n",
              "    }\n",
              "\n",
              "    .colab-df-convert:hover {\n",
              "      background-color: #E2EBFA;\n",
              "      box-shadow: 0px 1px 2px rgba(60, 64, 67, 0.3), 0px 1px 3px 1px rgba(60, 64, 67, 0.15);\n",
              "      fill: #174EA6;\n",
              "    }\n",
              "\n",
              "    [theme=dark] .colab-df-convert {\n",
              "      background-color: #3B4455;\n",
              "      fill: #D2E3FC;\n",
              "    }\n",
              "\n",
              "    [theme=dark] .colab-df-convert:hover {\n",
              "      background-color: #434B5C;\n",
              "      box-shadow: 0px 1px 3px 1px rgba(0, 0, 0, 0.15);\n",
              "      filter: drop-shadow(0px 1px 2px rgba(0, 0, 0, 0.3));\n",
              "      fill: #FFFFFF;\n",
              "    }\n",
              "  </style>\n",
              "\n",
              "      <script>\n",
              "        const buttonEl =\n",
              "          document.querySelector('#df-0414d7b7-71f3-44b6-bbbb-a0c340af10b0 button.colab-df-convert');\n",
              "        buttonEl.style.display =\n",
              "          google.colab.kernel.accessAllowed ? 'block' : 'none';\n",
              "\n",
              "        async function convertToInteractive(key) {\n",
              "          const element = document.querySelector('#df-0414d7b7-71f3-44b6-bbbb-a0c340af10b0');\n",
              "          const dataTable =\n",
              "            await google.colab.kernel.invokeFunction('convertToInteractive',\n",
              "                                                     [key], {});\n",
              "          if (!dataTable) return;\n",
              "\n",
              "          const docLinkHtml = 'Like what you see? Visit the ' +\n",
              "            '<a target=\"_blank\" href=https://colab.research.google.com/notebooks/data_table.ipynb>data table notebook</a>'\n",
              "            + ' to learn more about interactive tables.';\n",
              "          element.innerHTML = '';\n",
              "          dataTable['output_type'] = 'display_data';\n",
              "          await google.colab.output.renderOutput(dataTable, element);\n",
              "          const docLink = document.createElement('div');\n",
              "          docLink.innerHTML = docLinkHtml;\n",
              "          element.appendChild(docLink);\n",
              "        }\n",
              "      </script>\n",
              "    </div>\n",
              "  </div>\n",
              "  "
            ],
            "text/plain": [
              "      tanggal           wilayah      waktu  cuaca kelembaban_persen  \\\n",
              "0  2018-12-31  Kepulauan Seribu      Siang  Hujan           70 - 90   \n",
              "1  2018-12-31  Kepulauan Seribu       Pagi  Hujan           70 - 90   \n",
              "2  2018-12-31  Kepulauan Seribu      Malam  Hujan           70 - 90   \n",
              "3  2018-12-31  Kepulauan Seribu  Dini Hari  Hujan           70 - 90   \n",
              "4  2018-12-31     Jakarta Utara      Siang  Hujan           70 - 90   \n",
              "\n",
              "  suhu_derajat_celcius kelembaban_min kelembaban_max  \n",
              "0              24 - 32             70             90  \n",
              "1              24 - 32             70             90  \n",
              "2              24 - 32             70             90  \n",
              "3              24 - 32             70             90  \n",
              "4              24 - 32             70             90  "
            ]
          },
          "execution_count": 14,
          "metadata": {},
          "output_type": "execute_result"
        }
      ],
      "source": [
        "df[\"kelembaban_min\"] = df['kelembaban_persen'].apply(lambda x: x.split(\"-\")[0])\n",
        "df[\"kelembaban_min\"] = [x.strip(' ') for x in df[\"kelembaban_min\"]]\n",
        "\n",
        "df[\"kelembaban_max\"] = df['kelembaban_persen'].apply(lambda x: x.split(\"-\")[1])\n",
        "df[\"kelembaban_max\"] = [x.strip(' ') for x in df[\"kelembaban_max\"]]\n",
        "\n",
        "df.head()"
      ]
    },
    {
      "cell_type": "markdown",
      "metadata": {
        "id": "1d7znL8DVy1P"
      },
      "source": [
        "membuat kolom kelembaban_min dengan mengambil nilai terkecil dari kolom kelembaban_persen<br>\n",
        "membuat kolom kelembaban_max dengan mengambil nilai terbesar dari kolom kelembaban_persen<br>\n",
        "<br>\n",
        "dengan split data pada kolom kelembaban_persen agar terbagi menjadi 2 bagian untuk bagian kiri untuk nilai minimal dan bagian kanan untuk nilai maksimal"
      ]
    },
    {
      "cell_type": "markdown",
      "metadata": {
        "id": "EoIEGy2vVy1Q"
      },
      "source": [
        "#### Melihat Masing Masing Data dari Kelembapan Minimal dan Maksimal"
      ]
    },
    {
      "cell_type": "code",
      "execution_count": 15,
      "metadata": {
        "colab": {
          "base_uri": "https://localhost:8080/"
        },
        "id": "m9MHjgiGVy1Q",
        "outputId": "04ab017f-7113-4239-8811-43ca4ad24930"
      },
      "outputs": [
        {
          "name": "stdout",
          "output_type": "stream",
          "text": [
            "Kelembaban Min\n",
            " 70    1727\n",
            "55    1296\n",
            "65    1272\n",
            "60    1224\n",
            "75     839\n",
            "45     624\n",
            "50     600\n",
            "80     480\n",
            "40     192\n",
            "35      96\n",
            "85      48\n",
            "Name: kelembaban_min, dtype: int64 \n",
            "\n",
            "\n",
            "Kelembaban Min\n",
            " 95     3264\n",
            "90     2375\n",
            "85     1128\n",
            "100    1031\n",
            "80      504\n",
            "75       96\n",
            "Name: kelembaban_max, dtype: int64 \n",
            "\n"
          ]
        }
      ],
      "source": [
        "print('Kelembaban Min\\n', df['kelembaban_min'].value_counts(), '\\n\\n')\n",
        "print('Kelembaban Min\\n', df['kelembaban_max'].value_counts(), '\\n')"
      ]
    },
    {
      "cell_type": "markdown",
      "metadata": {
        "id": "_eRUWP_XVy1Q"
      },
      "source": [
        "### Split Data Suhu menjadi Suhu Minimal dan Maximal"
      ]
    },
    {
      "cell_type": "code",
      "execution_count": 16,
      "metadata": {
        "colab": {
          "base_uri": "https://localhost:8080/",
          "height": 0
        },
        "id": "KnBz33cEVy1Q",
        "outputId": "1fc2f037-2768-407b-9c43-be2a22682846"
      },
      "outputs": [
        {
          "data": {
            "text/html": [
              "\n",
              "  <div id=\"df-7f764d53-7e40-40bc-b759-d185706d380c\">\n",
              "    <div class=\"colab-df-container\">\n",
              "      <div>\n",
              "<style scoped>\n",
              "    .dataframe tbody tr th:only-of-type {\n",
              "        vertical-align: middle;\n",
              "    }\n",
              "\n",
              "    .dataframe tbody tr th {\n",
              "        vertical-align: top;\n",
              "    }\n",
              "\n",
              "    .dataframe thead th {\n",
              "        text-align: right;\n",
              "    }\n",
              "</style>\n",
              "<table border=\"1\" class=\"dataframe\">\n",
              "  <thead>\n",
              "    <tr style=\"text-align: right;\">\n",
              "      <th></th>\n",
              "      <th>tanggal</th>\n",
              "      <th>wilayah</th>\n",
              "      <th>waktu</th>\n",
              "      <th>cuaca</th>\n",
              "      <th>kelembaban_persen</th>\n",
              "      <th>suhu_derajat_celcius</th>\n",
              "      <th>kelembaban_min</th>\n",
              "      <th>kelembaban_max</th>\n",
              "      <th>suhu_min</th>\n",
              "      <th>suhu_max</th>\n",
              "    </tr>\n",
              "  </thead>\n",
              "  <tbody>\n",
              "    <tr>\n",
              "      <th>0</th>\n",
              "      <td>2018-12-31</td>\n",
              "      <td>Kepulauan Seribu</td>\n",
              "      <td>Siang</td>\n",
              "      <td>Hujan</td>\n",
              "      <td>70 - 90</td>\n",
              "      <td>24 - 32</td>\n",
              "      <td>70</td>\n",
              "      <td>90</td>\n",
              "      <td>24</td>\n",
              "      <td>32</td>\n",
              "    </tr>\n",
              "    <tr>\n",
              "      <th>1</th>\n",
              "      <td>2018-12-31</td>\n",
              "      <td>Kepulauan Seribu</td>\n",
              "      <td>Pagi</td>\n",
              "      <td>Hujan</td>\n",
              "      <td>70 - 90</td>\n",
              "      <td>24 - 32</td>\n",
              "      <td>70</td>\n",
              "      <td>90</td>\n",
              "      <td>24</td>\n",
              "      <td>32</td>\n",
              "    </tr>\n",
              "    <tr>\n",
              "      <th>2</th>\n",
              "      <td>2018-12-31</td>\n",
              "      <td>Kepulauan Seribu</td>\n",
              "      <td>Malam</td>\n",
              "      <td>Hujan</td>\n",
              "      <td>70 - 90</td>\n",
              "      <td>24 - 32</td>\n",
              "      <td>70</td>\n",
              "      <td>90</td>\n",
              "      <td>24</td>\n",
              "      <td>32</td>\n",
              "    </tr>\n",
              "    <tr>\n",
              "      <th>3</th>\n",
              "      <td>2018-12-31</td>\n",
              "      <td>Kepulauan Seribu</td>\n",
              "      <td>Dini Hari</td>\n",
              "      <td>Hujan</td>\n",
              "      <td>70 - 90</td>\n",
              "      <td>24 - 32</td>\n",
              "      <td>70</td>\n",
              "      <td>90</td>\n",
              "      <td>24</td>\n",
              "      <td>32</td>\n",
              "    </tr>\n",
              "    <tr>\n",
              "      <th>4</th>\n",
              "      <td>2018-12-31</td>\n",
              "      <td>Jakarta Utara</td>\n",
              "      <td>Siang</td>\n",
              "      <td>Hujan</td>\n",
              "      <td>70 - 90</td>\n",
              "      <td>24 - 32</td>\n",
              "      <td>70</td>\n",
              "      <td>90</td>\n",
              "      <td>24</td>\n",
              "      <td>32</td>\n",
              "    </tr>\n",
              "  </tbody>\n",
              "</table>\n",
              "</div>\n",
              "      <button class=\"colab-df-convert\" onclick=\"convertToInteractive('df-7f764d53-7e40-40bc-b759-d185706d380c')\"\n",
              "              title=\"Convert this dataframe to an interactive table.\"\n",
              "              style=\"display:none;\">\n",
              "        \n",
              "  <svg xmlns=\"http://www.w3.org/2000/svg\" height=\"24px\"viewBox=\"0 0 24 24\"\n",
              "       width=\"24px\">\n",
              "    <path d=\"M0 0h24v24H0V0z\" fill=\"none\"/>\n",
              "    <path d=\"M18.56 5.44l.94 2.06.94-2.06 2.06-.94-2.06-.94-.94-2.06-.94 2.06-2.06.94zm-11 1L8.5 8.5l.94-2.06 2.06-.94-2.06-.94L8.5 2.5l-.94 2.06-2.06.94zm10 10l.94 2.06.94-2.06 2.06-.94-2.06-.94-.94-2.06-.94 2.06-2.06.94z\"/><path d=\"M17.41 7.96l-1.37-1.37c-.4-.4-.92-.59-1.43-.59-.52 0-1.04.2-1.43.59L10.3 9.45l-7.72 7.72c-.78.78-.78 2.05 0 2.83L4 21.41c.39.39.9.59 1.41.59.51 0 1.02-.2 1.41-.59l7.78-7.78 2.81-2.81c.8-.78.8-2.07 0-2.86zM5.41 20L4 18.59l7.72-7.72 1.47 1.35L5.41 20z\"/>\n",
              "  </svg>\n",
              "      </button>\n",
              "      \n",
              "  <style>\n",
              "    .colab-df-container {\n",
              "      display:flex;\n",
              "      flex-wrap:wrap;\n",
              "      gap: 12px;\n",
              "    }\n",
              "\n",
              "    .colab-df-convert {\n",
              "      background-color: #E8F0FE;\n",
              "      border: none;\n",
              "      border-radius: 50%;\n",
              "      cursor: pointer;\n",
              "      display: none;\n",
              "      fill: #1967D2;\n",
              "      height: 32px;\n",
              "      padding: 0 0 0 0;\n",
              "      width: 32px;\n",
              "    }\n",
              "\n",
              "    .colab-df-convert:hover {\n",
              "      background-color: #E2EBFA;\n",
              "      box-shadow: 0px 1px 2px rgba(60, 64, 67, 0.3), 0px 1px 3px 1px rgba(60, 64, 67, 0.15);\n",
              "      fill: #174EA6;\n",
              "    }\n",
              "\n",
              "    [theme=dark] .colab-df-convert {\n",
              "      background-color: #3B4455;\n",
              "      fill: #D2E3FC;\n",
              "    }\n",
              "\n",
              "    [theme=dark] .colab-df-convert:hover {\n",
              "      background-color: #434B5C;\n",
              "      box-shadow: 0px 1px 3px 1px rgba(0, 0, 0, 0.15);\n",
              "      filter: drop-shadow(0px 1px 2px rgba(0, 0, 0, 0.3));\n",
              "      fill: #FFFFFF;\n",
              "    }\n",
              "  </style>\n",
              "\n",
              "      <script>\n",
              "        const buttonEl =\n",
              "          document.querySelector('#df-7f764d53-7e40-40bc-b759-d185706d380c button.colab-df-convert');\n",
              "        buttonEl.style.display =\n",
              "          google.colab.kernel.accessAllowed ? 'block' : 'none';\n",
              "\n",
              "        async function convertToInteractive(key) {\n",
              "          const element = document.querySelector('#df-7f764d53-7e40-40bc-b759-d185706d380c');\n",
              "          const dataTable =\n",
              "            await google.colab.kernel.invokeFunction('convertToInteractive',\n",
              "                                                     [key], {});\n",
              "          if (!dataTable) return;\n",
              "\n",
              "          const docLinkHtml = 'Like what you see? Visit the ' +\n",
              "            '<a target=\"_blank\" href=https://colab.research.google.com/notebooks/data_table.ipynb>data table notebook</a>'\n",
              "            + ' to learn more about interactive tables.';\n",
              "          element.innerHTML = '';\n",
              "          dataTable['output_type'] = 'display_data';\n",
              "          await google.colab.output.renderOutput(dataTable, element);\n",
              "          const docLink = document.createElement('div');\n",
              "          docLink.innerHTML = docLinkHtml;\n",
              "          element.appendChild(docLink);\n",
              "        }\n",
              "      </script>\n",
              "    </div>\n",
              "  </div>\n",
              "  "
            ],
            "text/plain": [
              "      tanggal           wilayah      waktu  cuaca kelembaban_persen  \\\n",
              "0  2018-12-31  Kepulauan Seribu      Siang  Hujan           70 - 90   \n",
              "1  2018-12-31  Kepulauan Seribu       Pagi  Hujan           70 - 90   \n",
              "2  2018-12-31  Kepulauan Seribu      Malam  Hujan           70 - 90   \n",
              "3  2018-12-31  Kepulauan Seribu  Dini Hari  Hujan           70 - 90   \n",
              "4  2018-12-31     Jakarta Utara      Siang  Hujan           70 - 90   \n",
              "\n",
              "  suhu_derajat_celcius kelembaban_min kelembaban_max suhu_min suhu_max  \n",
              "0              24 - 32             70             90       24       32  \n",
              "1              24 - 32             70             90       24       32  \n",
              "2              24 - 32             70             90       24       32  \n",
              "3              24 - 32             70             90       24       32  \n",
              "4              24 - 32             70             90       24       32  "
            ]
          },
          "execution_count": 16,
          "metadata": {},
          "output_type": "execute_result"
        }
      ],
      "source": [
        "df[\"suhu_min\"] = df.suhu_derajat_celcius.apply(lambda x: x.split(\"-\")[0])\n",
        "df[\"suhu_min\"] = [x.strip(' ') for x in df[\"suhu_min\"]]\n",
        "\n",
        "df[\"suhu_max\"] = df.suhu_derajat_celcius.apply(lambda x: x.split(\"-\")[1])\n",
        "df[\"suhu_max\"] = [x.strip(' ') for x in df[\"suhu_max\"]]\n",
        "\n",
        "df.head()"
      ]
    },
    {
      "cell_type": "markdown",
      "metadata": {
        "id": "HWu2FieJVy1R"
      },
      "source": [
        "membuat kolom suhu_min dengan mengambil nilai terkecil dari kolom suhu_derajat_celcius<br>\n",
        "membuat kolom suhu_max dengan mengambil nilai terbesar dari kolom suhu_derajat_celcius<br>\n",
        "<br>\n",
        "dengan split data pada kolom suhu_derajat_celcius agar terbagi menjadi 2 bagian untuk bagian kiri untuk nilai minimal dan bagian kanan untuk nilai maksimal"
      ]
    },
    {
      "cell_type": "markdown",
      "metadata": {
        "id": "genKRJ-5Vy1R"
      },
      "source": [
        "#### Melihat Masing Masing Data dari Suhu Minimal dan Maksimal"
      ]
    },
    {
      "cell_type": "code",
      "execution_count": 17,
      "metadata": {
        "colab": {
          "base_uri": "https://localhost:8080/"
        },
        "id": "VnI4WjwFVy1R",
        "outputId": "9d41105e-2924-4171-b378-85c3f3fe5ed2"
      },
      "outputs": [
        {
          "name": "stdout",
          "output_type": "stream",
          "text": [
            "Suhu Min\n",
            " 24    4102\n",
            "23    3072\n",
            "25     576\n",
            "22     552\n",
            "21      48\n",
            "20      24\n",
            "26      24\n",
            "Name: suhu_min, dtype: int64 \n",
            "\n",
            "Suhu Max\n",
            " 33    3431\n",
            "32    1991\n",
            "34    1440\n",
            "31     696\n",
            "30     360\n",
            "35     288\n",
            "29     120\n",
            "28      72\n",
            "Name: suhu_max, dtype: int64 \n",
            "\n"
          ]
        }
      ],
      "source": [
        "print('Suhu Min\\n', df['suhu_min'].value_counts(), '\\n')\n",
        "print('Suhu Max\\n', df['suhu_max'].value_counts(), '\\n')"
      ]
    },
    {
      "cell_type": "markdown",
      "metadata": {
        "id": "KPiGPb7QVy1R"
      },
      "source": [
        "### Mengubah Tipe Data"
      ]
    },
    {
      "cell_type": "markdown",
      "metadata": {
        "id": "P0IikxLAVy1R"
      },
      "source": [
        "#### Melihat Tipe Data setiap Kolom"
      ]
    },
    {
      "cell_type": "code",
      "execution_count": 18,
      "metadata": {
        "colab": {
          "base_uri": "https://localhost:8080/"
        },
        "id": "PDOc3QoNVy1S",
        "outputId": "4c801022-ba91-43dd-c58f-681788fee429"
      },
      "outputs": [
        {
          "data": {
            "text/plain": [
              "tanggal                 object\n",
              "wilayah                 object\n",
              "waktu                   object\n",
              "cuaca                   object\n",
              "kelembaban_persen       object\n",
              "suhu_derajat_celcius    object\n",
              "kelembaban_min          object\n",
              "kelembaban_max          object\n",
              "suhu_min                object\n",
              "suhu_max                object\n",
              "dtype: object"
            ]
          },
          "execution_count": 18,
          "metadata": {},
          "output_type": "execute_result"
        }
      ],
      "source": [
        "df.dtypes"
      ]
    },
    {
      "cell_type": "markdown",
      "metadata": {
        "id": "q-UzGW_AVy1S"
      },
      "source": [
        "memperbaiki jenis tipe data sesuai dengan isi dari data pada kolom tersebut"
      ]
    },
    {
      "cell_type": "markdown",
      "metadata": {
        "id": "IgP419OcVy1S"
      },
      "source": [
        "#### Mengubah Tipe data yang tidak sesuai"
      ]
    },
    {
      "cell_type": "code",
      "execution_count": 19,
      "metadata": {
        "colab": {
          "base_uri": "https://localhost:8080/"
        },
        "id": "BeqsT6OQVy1S",
        "outputId": "e466c05c-41ae-4f00-801d-1f8607247c7b"
      },
      "outputs": [
        {
          "data": {
            "text/plain": [
              "tanggal                 object\n",
              "wilayah                 object\n",
              "waktu                   object\n",
              "cuaca                   object\n",
              "kelembaban_persen       object\n",
              "suhu_derajat_celcius    object\n",
              "kelembaban_min           int64\n",
              "kelembaban_max           int64\n",
              "suhu_min                 int64\n",
              "suhu_max                 int64\n",
              "dtype: object"
            ]
          },
          "execution_count": 19,
          "metadata": {},
          "output_type": "execute_result"
        }
      ],
      "source": [
        "df[\"kelembaban_min\"] = df.kelembaban_min.astype(int)\n",
        "df[\"kelembaban_max\"] = df.kelembaban_max.astype(int)\n",
        "df[\"suhu_min\"] = df.suhu_min.astype(int)\n",
        "df[\"suhu_max\"] = df.suhu_max.astype(int)\n",
        "df.dtypes"
      ]
    },
    {
      "cell_type": "markdown",
      "metadata": {
        "id": "5N8Vetr7Vy1S"
      },
      "source": [
        "mengubah kolom kelembaban_min, kelembaban_max, suhu_min, dan suhu_max menjadi integer karena data pada kolom tersebut bersifat numerikal"
      ]
    },
    {
      "cell_type": "markdown",
      "metadata": {
        "id": "fJZaQNqVVy1T"
      },
      "source": [
        "### Informasi Data"
      ]
    },
    {
      "cell_type": "markdown",
      "metadata": {
        "id": "zNS8Y9xrVy1T"
      },
      "source": [
        "#### Melihat informasi mengenai kolom"
      ]
    },
    {
      "cell_type": "code",
      "execution_count": 20,
      "metadata": {
        "colab": {
          "base_uri": "https://localhost:8080/"
        },
        "id": "-nXwCQgtVy1T",
        "outputId": "129c5c3e-f2fd-43b4-8e77-f2b55d9971b1"
      },
      "outputs": [
        {
          "name": "stdout",
          "output_type": "stream",
          "text": [
            "<class 'pandas.core.frame.DataFrame'>\n",
            "Int64Index: 8398 entries, 0 to 8399\n",
            "Data columns (total 10 columns):\n",
            " #   Column                Non-Null Count  Dtype \n",
            "---  ------                --------------  ----- \n",
            " 0   tanggal               8398 non-null   object\n",
            " 1   wilayah               8398 non-null   object\n",
            " 2   waktu                 8398 non-null   object\n",
            " 3   cuaca                 8398 non-null   object\n",
            " 4   kelembaban_persen     8398 non-null   object\n",
            " 5   suhu_derajat_celcius  8398 non-null   object\n",
            " 6   kelembaban_min        8398 non-null   int64 \n",
            " 7   kelembaban_max        8398 non-null   int64 \n",
            " 8   suhu_min              8398 non-null   int64 \n",
            " 9   suhu_max              8398 non-null   int64 \n",
            "dtypes: int64(4), object(6)\n",
            "memory usage: 721.7+ KB\n"
          ]
        }
      ],
      "source": [
        "df.info()"
      ]
    },
    {
      "cell_type": "code",
      "execution_count": 21,
      "metadata": {
        "colab": {
          "base_uri": "https://localhost:8080/",
          "height": 0
        },
        "id": "Np7VTXDhVy1T",
        "outputId": "2ad11458-8c11-4123-96d2-d8302a56fe27"
      },
      "outputs": [
        {
          "data": {
            "text/html": [
              "\n",
              "  <div id=\"df-6df5c4cb-ccc5-470a-bc0e-1f8307a23680\">\n",
              "    <div class=\"colab-df-container\">\n",
              "      <div>\n",
              "<style scoped>\n",
              "    .dataframe tbody tr th:only-of-type {\n",
              "        vertical-align: middle;\n",
              "    }\n",
              "\n",
              "    .dataframe tbody tr th {\n",
              "        vertical-align: top;\n",
              "    }\n",
              "\n",
              "    .dataframe thead th {\n",
              "        text-align: right;\n",
              "    }\n",
              "</style>\n",
              "<table border=\"1\" class=\"dataframe\">\n",
              "  <thead>\n",
              "    <tr style=\"text-align: right;\">\n",
              "      <th></th>\n",
              "      <th>tanggal</th>\n",
              "      <th>wilayah</th>\n",
              "      <th>waktu</th>\n",
              "      <th>cuaca</th>\n",
              "      <th>kelembaban_persen</th>\n",
              "      <th>suhu_derajat_celcius</th>\n",
              "      <th>kelembaban_min</th>\n",
              "      <th>kelembaban_max</th>\n",
              "      <th>suhu_min</th>\n",
              "      <th>suhu_max</th>\n",
              "    </tr>\n",
              "  </thead>\n",
              "  <tbody>\n",
              "    <tr>\n",
              "      <th>5175</th>\n",
              "      <td>2018-05-23</td>\n",
              "      <td>Jakarta Selatan</td>\n",
              "      <td>Dini Hari</td>\n",
              "      <td>Berawan</td>\n",
              "      <td>80 - 100</td>\n",
              "      <td>24 - 33</td>\n",
              "      <td>80</td>\n",
              "      <td>100</td>\n",
              "      <td>24</td>\n",
              "      <td>33</td>\n",
              "    </tr>\n",
              "    <tr>\n",
              "      <th>5503</th>\n",
              "      <td>2018-05-09</td>\n",
              "      <td>Jakarta Utara</td>\n",
              "      <td>Dini Hari</td>\n",
              "      <td>Cerah</td>\n",
              "      <td>65 - 90</td>\n",
              "      <td>23 - 34</td>\n",
              "      <td>65</td>\n",
              "      <td>90</td>\n",
              "      <td>23</td>\n",
              "      <td>34</td>\n",
              "    </tr>\n",
              "    <tr>\n",
              "      <th>3327</th>\n",
              "      <td>2018-08-12</td>\n",
              "      <td>Jakarta Selatan</td>\n",
              "      <td>Dini Hari</td>\n",
              "      <td>Cerah</td>\n",
              "      <td>60 - 90</td>\n",
              "      <td>23 - 32</td>\n",
              "      <td>60</td>\n",
              "      <td>90</td>\n",
              "      <td>23</td>\n",
              "      <td>32</td>\n",
              "    </tr>\n",
              "    <tr>\n",
              "      <th>8194</th>\n",
              "      <td>2018-01-09</td>\n",
              "      <td>Jakarta Timur</td>\n",
              "      <td>Malam</td>\n",
              "      <td>Berawan</td>\n",
              "      <td>75 - 95</td>\n",
              "      <td>23 - 32</td>\n",
              "      <td>75</td>\n",
              "      <td>95</td>\n",
              "      <td>23</td>\n",
              "      <td>32</td>\n",
              "    </tr>\n",
              "    <tr>\n",
              "      <th>2257</th>\n",
              "      <td>2018-09-26</td>\n",
              "      <td>Kepulauan Seribu</td>\n",
              "      <td>Pagi</td>\n",
              "      <td>Cerah</td>\n",
              "      <td>45 - 80</td>\n",
              "      <td>22 - 34</td>\n",
              "      <td>45</td>\n",
              "      <td>80</td>\n",
              "      <td>22</td>\n",
              "      <td>34</td>\n",
              "    </tr>\n",
              "  </tbody>\n",
              "</table>\n",
              "</div>\n",
              "      <button class=\"colab-df-convert\" onclick=\"convertToInteractive('df-6df5c4cb-ccc5-470a-bc0e-1f8307a23680')\"\n",
              "              title=\"Convert this dataframe to an interactive table.\"\n",
              "              style=\"display:none;\">\n",
              "        \n",
              "  <svg xmlns=\"http://www.w3.org/2000/svg\" height=\"24px\"viewBox=\"0 0 24 24\"\n",
              "       width=\"24px\">\n",
              "    <path d=\"M0 0h24v24H0V0z\" fill=\"none\"/>\n",
              "    <path d=\"M18.56 5.44l.94 2.06.94-2.06 2.06-.94-2.06-.94-.94-2.06-.94 2.06-2.06.94zm-11 1L8.5 8.5l.94-2.06 2.06-.94-2.06-.94L8.5 2.5l-.94 2.06-2.06.94zm10 10l.94 2.06.94-2.06 2.06-.94-2.06-.94-.94-2.06-.94 2.06-2.06.94z\"/><path d=\"M17.41 7.96l-1.37-1.37c-.4-.4-.92-.59-1.43-.59-.52 0-1.04.2-1.43.59L10.3 9.45l-7.72 7.72c-.78.78-.78 2.05 0 2.83L4 21.41c.39.39.9.59 1.41.59.51 0 1.02-.2 1.41-.59l7.78-7.78 2.81-2.81c.8-.78.8-2.07 0-2.86zM5.41 20L4 18.59l7.72-7.72 1.47 1.35L5.41 20z\"/>\n",
              "  </svg>\n",
              "      </button>\n",
              "      \n",
              "  <style>\n",
              "    .colab-df-container {\n",
              "      display:flex;\n",
              "      flex-wrap:wrap;\n",
              "      gap: 12px;\n",
              "    }\n",
              "\n",
              "    .colab-df-convert {\n",
              "      background-color: #E8F0FE;\n",
              "      border: none;\n",
              "      border-radius: 50%;\n",
              "      cursor: pointer;\n",
              "      display: none;\n",
              "      fill: #1967D2;\n",
              "      height: 32px;\n",
              "      padding: 0 0 0 0;\n",
              "      width: 32px;\n",
              "    }\n",
              "\n",
              "    .colab-df-convert:hover {\n",
              "      background-color: #E2EBFA;\n",
              "      box-shadow: 0px 1px 2px rgba(60, 64, 67, 0.3), 0px 1px 3px 1px rgba(60, 64, 67, 0.15);\n",
              "      fill: #174EA6;\n",
              "    }\n",
              "\n",
              "    [theme=dark] .colab-df-convert {\n",
              "      background-color: #3B4455;\n",
              "      fill: #D2E3FC;\n",
              "    }\n",
              "\n",
              "    [theme=dark] .colab-df-convert:hover {\n",
              "      background-color: #434B5C;\n",
              "      box-shadow: 0px 1px 3px 1px rgba(0, 0, 0, 0.15);\n",
              "      filter: drop-shadow(0px 1px 2px rgba(0, 0, 0, 0.3));\n",
              "      fill: #FFFFFF;\n",
              "    }\n",
              "  </style>\n",
              "\n",
              "      <script>\n",
              "        const buttonEl =\n",
              "          document.querySelector('#df-6df5c4cb-ccc5-470a-bc0e-1f8307a23680 button.colab-df-convert');\n",
              "        buttonEl.style.display =\n",
              "          google.colab.kernel.accessAllowed ? 'block' : 'none';\n",
              "\n",
              "        async function convertToInteractive(key) {\n",
              "          const element = document.querySelector('#df-6df5c4cb-ccc5-470a-bc0e-1f8307a23680');\n",
              "          const dataTable =\n",
              "            await google.colab.kernel.invokeFunction('convertToInteractive',\n",
              "                                                     [key], {});\n",
              "          if (!dataTable) return;\n",
              "\n",
              "          const docLinkHtml = 'Like what you see? Visit the ' +\n",
              "            '<a target=\"_blank\" href=https://colab.research.google.com/notebooks/data_table.ipynb>data table notebook</a>'\n",
              "            + ' to learn more about interactive tables.';\n",
              "          element.innerHTML = '';\n",
              "          dataTable['output_type'] = 'display_data';\n",
              "          await google.colab.output.renderOutput(dataTable, element);\n",
              "          const docLink = document.createElement('div');\n",
              "          docLink.innerHTML = docLinkHtml;\n",
              "          element.appendChild(docLink);\n",
              "        }\n",
              "      </script>\n",
              "    </div>\n",
              "  </div>\n",
              "  "
            ],
            "text/plain": [
              "         tanggal           wilayah      waktu    cuaca kelembaban_persen  \\\n",
              "5175  2018-05-23   Jakarta Selatan  Dini Hari  Berawan          80 - 100   \n",
              "5503  2018-05-09     Jakarta Utara  Dini Hari    Cerah           65 - 90   \n",
              "3327  2018-08-12   Jakarta Selatan  Dini Hari    Cerah           60 - 90   \n",
              "8194  2018-01-09     Jakarta Timur      Malam  Berawan           75 - 95   \n",
              "2257  2018-09-26  Kepulauan Seribu       Pagi    Cerah           45 - 80   \n",
              "\n",
              "     suhu_derajat_celcius  kelembaban_min  kelembaban_max  suhu_min  suhu_max  \n",
              "5175              24 - 33              80             100        24        33  \n",
              "5503              23 - 34              65              90        23        34  \n",
              "3327              23 - 32              60              90        23        32  \n",
              "8194              23 - 32              75              95        23        32  \n",
              "2257              22 - 34              45              80        22        34  "
            ]
          },
          "execution_count": 21,
          "metadata": {},
          "output_type": "execute_result"
        }
      ],
      "source": [
        "df.sample(5)"
      ]
    },
    {
      "cell_type": "code",
      "execution_count": 22,
      "metadata": {
        "colab": {
          "base_uri": "https://localhost:8080/"
        },
        "id": "FHURmSkYVy1T",
        "outputId": "42188f30-1a80-4784-9693-ee3ec2af555e"
      },
      "outputs": [
        {
          "data": {
            "text/plain": [
              "Cerah      3796\n",
              "Berawan    2896\n",
              "Hujan      1706\n",
              "Name: cuaca, dtype: int64"
            ]
          },
          "execution_count": 22,
          "metadata": {},
          "output_type": "execute_result"
        }
      ],
      "source": [
        "df['cuaca'].value_counts()"
      ]
    },
    {
      "cell_type": "markdown",
      "metadata": {
        "id": "U7CLzZ1tVy1T"
      },
      "source": [
        "data tidak balanced, sehingga kedepannya akan dilakukan proses oversampling menggunakan SMOTE"
      ]
    },
    {
      "cell_type": "markdown",
      "metadata": {
        "id": "A8tRz-5vVy1T"
      },
      "source": [
        "#### Membagi data antara kolom numerikal dengan kategorikal"
      ]
    },
    {
      "cell_type": "code",
      "execution_count": 23,
      "metadata": {
        "id": "LqTgJLaKVy1U"
      },
      "outputs": [],
      "source": [
        "numeric = ['kelembaban_min', 'kelembaban_max', 'suhu_min', 'suhu_max', 'kelembaban_persen', 'suhu_derajat_celcius']\n",
        "categoric = ['cuaca', 'waktu', 'wilayah', 'tanggal']"
      ]
    },
    {
      "cell_type": "markdown",
      "metadata": {
        "id": "BvewrTSCVy1U"
      },
      "source": [
        "#### Statistik kolom numerik"
      ]
    },
    {
      "cell_type": "code",
      "execution_count": 24,
      "metadata": {
        "colab": {
          "base_uri": "https://localhost:8080/",
          "height": 0
        },
        "id": "XNCCBpLRVy1U",
        "outputId": "501b119a-44ab-4636-b3e8-16dfbd4b76ca"
      },
      "outputs": [
        {
          "data": {
            "text/html": [
              "\n",
              "  <div id=\"df-ddfb0302-ca39-4925-acc1-0cca0748e894\">\n",
              "    <div class=\"colab-df-container\">\n",
              "      <div>\n",
              "<style scoped>\n",
              "    .dataframe tbody tr th:only-of-type {\n",
              "        vertical-align: middle;\n",
              "    }\n",
              "\n",
              "    .dataframe tbody tr th {\n",
              "        vertical-align: top;\n",
              "    }\n",
              "\n",
              "    .dataframe thead th {\n",
              "        text-align: right;\n",
              "    }\n",
              "</style>\n",
              "<table border=\"1\" class=\"dataframe\">\n",
              "  <thead>\n",
              "    <tr style=\"text-align: right;\">\n",
              "      <th></th>\n",
              "      <th>kelembaban_min</th>\n",
              "      <th>kelembaban_max</th>\n",
              "      <th>suhu_min</th>\n",
              "      <th>suhu_max</th>\n",
              "    </tr>\n",
              "  </thead>\n",
              "  <tbody>\n",
              "    <tr>\n",
              "      <th>count</th>\n",
              "      <td>8398.000000</td>\n",
              "      <td>8398.000000</td>\n",
              "      <td>8398.000000</td>\n",
              "      <td>8398.000000</td>\n",
              "    </tr>\n",
              "    <tr>\n",
              "      <th>mean</th>\n",
              "      <td>62.254704</td>\n",
              "      <td>91.727792</td>\n",
              "      <td>23.548464</td>\n",
              "      <td>32.608597</td>\n",
              "    </tr>\n",
              "    <tr>\n",
              "      <th>std</th>\n",
              "      <td>10.592668</td>\n",
              "      <td>5.562658</td>\n",
              "      <td>0.775947</td>\n",
              "      <td>1.246190</td>\n",
              "    </tr>\n",
              "    <tr>\n",
              "      <th>min</th>\n",
              "      <td>35.000000</td>\n",
              "      <td>75.000000</td>\n",
              "      <td>20.000000</td>\n",
              "      <td>28.000000</td>\n",
              "    </tr>\n",
              "    <tr>\n",
              "      <th>25%</th>\n",
              "      <td>55.000000</td>\n",
              "      <td>90.000000</td>\n",
              "      <td>23.000000</td>\n",
              "      <td>32.000000</td>\n",
              "    </tr>\n",
              "    <tr>\n",
              "      <th>50%</th>\n",
              "      <td>65.000000</td>\n",
              "      <td>95.000000</td>\n",
              "      <td>24.000000</td>\n",
              "      <td>33.000000</td>\n",
              "    </tr>\n",
              "    <tr>\n",
              "      <th>75%</th>\n",
              "      <td>70.000000</td>\n",
              "      <td>95.000000</td>\n",
              "      <td>24.000000</td>\n",
              "      <td>33.000000</td>\n",
              "    </tr>\n",
              "    <tr>\n",
              "      <th>max</th>\n",
              "      <td>85.000000</td>\n",
              "      <td>100.000000</td>\n",
              "      <td>26.000000</td>\n",
              "      <td>35.000000</td>\n",
              "    </tr>\n",
              "  </tbody>\n",
              "</table>\n",
              "</div>\n",
              "      <button class=\"colab-df-convert\" onclick=\"convertToInteractive('df-ddfb0302-ca39-4925-acc1-0cca0748e894')\"\n",
              "              title=\"Convert this dataframe to an interactive table.\"\n",
              "              style=\"display:none;\">\n",
              "        \n",
              "  <svg xmlns=\"http://www.w3.org/2000/svg\" height=\"24px\"viewBox=\"0 0 24 24\"\n",
              "       width=\"24px\">\n",
              "    <path d=\"M0 0h24v24H0V0z\" fill=\"none\"/>\n",
              "    <path d=\"M18.56 5.44l.94 2.06.94-2.06 2.06-.94-2.06-.94-.94-2.06-.94 2.06-2.06.94zm-11 1L8.5 8.5l.94-2.06 2.06-.94-2.06-.94L8.5 2.5l-.94 2.06-2.06.94zm10 10l.94 2.06.94-2.06 2.06-.94-2.06-.94-.94-2.06-.94 2.06-2.06.94z\"/><path d=\"M17.41 7.96l-1.37-1.37c-.4-.4-.92-.59-1.43-.59-.52 0-1.04.2-1.43.59L10.3 9.45l-7.72 7.72c-.78.78-.78 2.05 0 2.83L4 21.41c.39.39.9.59 1.41.59.51 0 1.02-.2 1.41-.59l7.78-7.78 2.81-2.81c.8-.78.8-2.07 0-2.86zM5.41 20L4 18.59l7.72-7.72 1.47 1.35L5.41 20z\"/>\n",
              "  </svg>\n",
              "      </button>\n",
              "      \n",
              "  <style>\n",
              "    .colab-df-container {\n",
              "      display:flex;\n",
              "      flex-wrap:wrap;\n",
              "      gap: 12px;\n",
              "    }\n",
              "\n",
              "    .colab-df-convert {\n",
              "      background-color: #E8F0FE;\n",
              "      border: none;\n",
              "      border-radius: 50%;\n",
              "      cursor: pointer;\n",
              "      display: none;\n",
              "      fill: #1967D2;\n",
              "      height: 32px;\n",
              "      padding: 0 0 0 0;\n",
              "      width: 32px;\n",
              "    }\n",
              "\n",
              "    .colab-df-convert:hover {\n",
              "      background-color: #E2EBFA;\n",
              "      box-shadow: 0px 1px 2px rgba(60, 64, 67, 0.3), 0px 1px 3px 1px rgba(60, 64, 67, 0.15);\n",
              "      fill: #174EA6;\n",
              "    }\n",
              "\n",
              "    [theme=dark] .colab-df-convert {\n",
              "      background-color: #3B4455;\n",
              "      fill: #D2E3FC;\n",
              "    }\n",
              "\n",
              "    [theme=dark] .colab-df-convert:hover {\n",
              "      background-color: #434B5C;\n",
              "      box-shadow: 0px 1px 3px 1px rgba(0, 0, 0, 0.15);\n",
              "      filter: drop-shadow(0px 1px 2px rgba(0, 0, 0, 0.3));\n",
              "      fill: #FFFFFF;\n",
              "    }\n",
              "  </style>\n",
              "\n",
              "      <script>\n",
              "        const buttonEl =\n",
              "          document.querySelector('#df-ddfb0302-ca39-4925-acc1-0cca0748e894 button.colab-df-convert');\n",
              "        buttonEl.style.display =\n",
              "          google.colab.kernel.accessAllowed ? 'block' : 'none';\n",
              "\n",
              "        async function convertToInteractive(key) {\n",
              "          const element = document.querySelector('#df-ddfb0302-ca39-4925-acc1-0cca0748e894');\n",
              "          const dataTable =\n",
              "            await google.colab.kernel.invokeFunction('convertToInteractive',\n",
              "                                                     [key], {});\n",
              "          if (!dataTable) return;\n",
              "\n",
              "          const docLinkHtml = 'Like what you see? Visit the ' +\n",
              "            '<a target=\"_blank\" href=https://colab.research.google.com/notebooks/data_table.ipynb>data table notebook</a>'\n",
              "            + ' to learn more about interactive tables.';\n",
              "          element.innerHTML = '';\n",
              "          dataTable['output_type'] = 'display_data';\n",
              "          await google.colab.output.renderOutput(dataTable, element);\n",
              "          const docLink = document.createElement('div');\n",
              "          docLink.innerHTML = docLinkHtml;\n",
              "          element.appendChild(docLink);\n",
              "        }\n",
              "      </script>\n",
              "    </div>\n",
              "  </div>\n",
              "  "
            ],
            "text/plain": [
              "       kelembaban_min  kelembaban_max     suhu_min     suhu_max\n",
              "count     8398.000000     8398.000000  8398.000000  8398.000000\n",
              "mean        62.254704       91.727792    23.548464    32.608597\n",
              "std         10.592668        5.562658     0.775947     1.246190\n",
              "min         35.000000       75.000000    20.000000    28.000000\n",
              "25%         55.000000       90.000000    23.000000    32.000000\n",
              "50%         65.000000       95.000000    24.000000    33.000000\n",
              "75%         70.000000       95.000000    24.000000    33.000000\n",
              "max         85.000000      100.000000    26.000000    35.000000"
            ]
          },
          "execution_count": 24,
          "metadata": {},
          "output_type": "execute_result"
        }
      ],
      "source": [
        "df[numeric].describe()"
      ]
    },
    {
      "cell_type": "markdown",
      "metadata": {
        "id": "DTpoYqvrVy1U"
      },
      "source": [
        "persebaran nilai pada data kelembaban_min, kelembaban_max, suhu_min, dan suhu_max sudah bagus dan tidak perlu dilakukan feature scaling<br>\n",
        "<br>\n",
        "kolom kelembaban_persen dan suhu_derajat_celcius akan di drop pada tahap selanjutnya karena sudah tergantikan oleh kolom kelembaban_min, kelembaban_max, suhu_min, dan suhu_max."
      ]
    },
    {
      "cell_type": "markdown",
      "metadata": {
        "id": "ZHmX40zjVy1U"
      },
      "source": [
        "persebaran data yang simetrik distribusinya dilihat dari nilai mean dan median yang tidak berbeda jauh"
      ]
    },
    {
      "cell_type": "markdown",
      "metadata": {
        "id": "GiI_fYkOVy1U"
      },
      "source": [
        "#### Statistik kolom kategorik"
      ]
    },
    {
      "cell_type": "code",
      "execution_count": 25,
      "metadata": {
        "colab": {
          "base_uri": "https://localhost:8080/",
          "height": 0
        },
        "id": "BWqDxa1rVy1V",
        "outputId": "aa2155c1-b164-4ae6-a14e-8b9f27047c55"
      },
      "outputs": [
        {
          "data": {
            "text/html": [
              "\n",
              "  <div id=\"df-9e074286-a348-4d97-8b48-24970b55b493\">\n",
              "    <div class=\"colab-df-container\">\n",
              "      <div>\n",
              "<style scoped>\n",
              "    .dataframe tbody tr th:only-of-type {\n",
              "        vertical-align: middle;\n",
              "    }\n",
              "\n",
              "    .dataframe tbody tr th {\n",
              "        vertical-align: top;\n",
              "    }\n",
              "\n",
              "    .dataframe thead th {\n",
              "        text-align: right;\n",
              "    }\n",
              "</style>\n",
              "<table border=\"1\" class=\"dataframe\">\n",
              "  <thead>\n",
              "    <tr style=\"text-align: right;\">\n",
              "      <th></th>\n",
              "      <th>cuaca</th>\n",
              "      <th>waktu</th>\n",
              "      <th>wilayah</th>\n",
              "      <th>tanggal</th>\n",
              "    </tr>\n",
              "  </thead>\n",
              "  <tbody>\n",
              "    <tr>\n",
              "      <th>count</th>\n",
              "      <td>8398</td>\n",
              "      <td>8398</td>\n",
              "      <td>8398</td>\n",
              "      <td>8398</td>\n",
              "    </tr>\n",
              "    <tr>\n",
              "      <th>unique</th>\n",
              "      <td>3</td>\n",
              "      <td>4</td>\n",
              "      <td>6</td>\n",
              "      <td>348</td>\n",
              "    </tr>\n",
              "    <tr>\n",
              "      <th>top</th>\n",
              "      <td>Cerah</td>\n",
              "      <td>Siang</td>\n",
              "      <td>Jakarta Utara</td>\n",
              "      <td>2018-01-02</td>\n",
              "    </tr>\n",
              "    <tr>\n",
              "      <th>freq</th>\n",
              "      <td>3796</td>\n",
              "      <td>2100</td>\n",
              "      <td>1400</td>\n",
              "      <td>48</td>\n",
              "    </tr>\n",
              "  </tbody>\n",
              "</table>\n",
              "</div>\n",
              "      <button class=\"colab-df-convert\" onclick=\"convertToInteractive('df-9e074286-a348-4d97-8b48-24970b55b493')\"\n",
              "              title=\"Convert this dataframe to an interactive table.\"\n",
              "              style=\"display:none;\">\n",
              "        \n",
              "  <svg xmlns=\"http://www.w3.org/2000/svg\" height=\"24px\"viewBox=\"0 0 24 24\"\n",
              "       width=\"24px\">\n",
              "    <path d=\"M0 0h24v24H0V0z\" fill=\"none\"/>\n",
              "    <path d=\"M18.56 5.44l.94 2.06.94-2.06 2.06-.94-2.06-.94-.94-2.06-.94 2.06-2.06.94zm-11 1L8.5 8.5l.94-2.06 2.06-.94-2.06-.94L8.5 2.5l-.94 2.06-2.06.94zm10 10l.94 2.06.94-2.06 2.06-.94-2.06-.94-.94-2.06-.94 2.06-2.06.94z\"/><path d=\"M17.41 7.96l-1.37-1.37c-.4-.4-.92-.59-1.43-.59-.52 0-1.04.2-1.43.59L10.3 9.45l-7.72 7.72c-.78.78-.78 2.05 0 2.83L4 21.41c.39.39.9.59 1.41.59.51 0 1.02-.2 1.41-.59l7.78-7.78 2.81-2.81c.8-.78.8-2.07 0-2.86zM5.41 20L4 18.59l7.72-7.72 1.47 1.35L5.41 20z\"/>\n",
              "  </svg>\n",
              "      </button>\n",
              "      \n",
              "  <style>\n",
              "    .colab-df-container {\n",
              "      display:flex;\n",
              "      flex-wrap:wrap;\n",
              "      gap: 12px;\n",
              "    }\n",
              "\n",
              "    .colab-df-convert {\n",
              "      background-color: #E8F0FE;\n",
              "      border: none;\n",
              "      border-radius: 50%;\n",
              "      cursor: pointer;\n",
              "      display: none;\n",
              "      fill: #1967D2;\n",
              "      height: 32px;\n",
              "      padding: 0 0 0 0;\n",
              "      width: 32px;\n",
              "    }\n",
              "\n",
              "    .colab-df-convert:hover {\n",
              "      background-color: #E2EBFA;\n",
              "      box-shadow: 0px 1px 2px rgba(60, 64, 67, 0.3), 0px 1px 3px 1px rgba(60, 64, 67, 0.15);\n",
              "      fill: #174EA6;\n",
              "    }\n",
              "\n",
              "    [theme=dark] .colab-df-convert {\n",
              "      background-color: #3B4455;\n",
              "      fill: #D2E3FC;\n",
              "    }\n",
              "\n",
              "    [theme=dark] .colab-df-convert:hover {\n",
              "      background-color: #434B5C;\n",
              "      box-shadow: 0px 1px 3px 1px rgba(0, 0, 0, 0.15);\n",
              "      filter: drop-shadow(0px 1px 2px rgba(0, 0, 0, 0.3));\n",
              "      fill: #FFFFFF;\n",
              "    }\n",
              "  </style>\n",
              "\n",
              "      <script>\n",
              "        const buttonEl =\n",
              "          document.querySelector('#df-9e074286-a348-4d97-8b48-24970b55b493 button.colab-df-convert');\n",
              "        buttonEl.style.display =\n",
              "          google.colab.kernel.accessAllowed ? 'block' : 'none';\n",
              "\n",
              "        async function convertToInteractive(key) {\n",
              "          const element = document.querySelector('#df-9e074286-a348-4d97-8b48-24970b55b493');\n",
              "          const dataTable =\n",
              "            await google.colab.kernel.invokeFunction('convertToInteractive',\n",
              "                                                     [key], {});\n",
              "          if (!dataTable) return;\n",
              "\n",
              "          const docLinkHtml = 'Like what you see? Visit the ' +\n",
              "            '<a target=\"_blank\" href=https://colab.research.google.com/notebooks/data_table.ipynb>data table notebook</a>'\n",
              "            + ' to learn more about interactive tables.';\n",
              "          element.innerHTML = '';\n",
              "          dataTable['output_type'] = 'display_data';\n",
              "          await google.colab.output.renderOutput(dataTable, element);\n",
              "          const docLink = document.createElement('div');\n",
              "          docLink.innerHTML = docLinkHtml;\n",
              "          element.appendChild(docLink);\n",
              "        }\n",
              "      </script>\n",
              "    </div>\n",
              "  </div>\n",
              "  "
            ],
            "text/plain": [
              "        cuaca  waktu        wilayah     tanggal\n",
              "count    8398   8398           8398        8398\n",
              "unique      3      4              6         348\n",
              "top     Cerah  Siang  Jakarta Utara  2018-01-02\n",
              "freq     3796   2100           1400          48"
            ]
          },
          "execution_count": 25,
          "metadata": {},
          "output_type": "execute_result"
        }
      ],
      "source": [
        "df[categoric].describe()"
      ]
    },
    {
      "cell_type": "markdown",
      "metadata": {
        "id": "fzNT_CYCVy1V"
      },
      "source": [
        "kolom cuaca, waktu, dan wilayah masih bersifat object / string maka selanjutnya akan dilakukan encode pada data kolom tersebut<br>\n",
        "<br>\n",
        "kolom tanggal akan di drop pada tahap selanjutnya karena tidak diperlukan pada proses menganalisis serta memproses data"
      ]
    },
    {
      "cell_type": "markdown",
      "metadata": {
        "id": "Jx3hQDsRVy1V"
      },
      "source": [
        "#### Melihat duplikasi data"
      ]
    },
    {
      "cell_type": "code",
      "execution_count": 26,
      "metadata": {
        "colab": {
          "base_uri": "https://localhost:8080/"
        },
        "id": "7i8P5V-GVy1V",
        "outputId": "6b94f9c4-2f34-4898-a66e-477b126a8c1d"
      },
      "outputs": [
        {
          "data": {
            "text/plain": [
              "0"
            ]
          },
          "execution_count": 26,
          "metadata": {},
          "output_type": "execute_result"
        }
      ],
      "source": [
        "df.duplicated().sum()"
      ]
    },
    {
      "cell_type": "markdown",
      "metadata": {
        "id": "0QEPnYbxVy1V"
      },
      "source": [
        "tidak terdapat data yg duplikat"
      ]
    },
    {
      "cell_type": "markdown",
      "metadata": {
        "id": "2eOnmHQZVy1V"
      },
      "source": [
        "### Membuang Kolom yang tidak diperlukan"
      ]
    },
    {
      "cell_type": "code",
      "execution_count": 27,
      "metadata": {
        "id": "0vAfQZSHVy1W"
      },
      "outputs": [],
      "source": [
        "df.drop(columns=[\"kelembaban_persen\", \"suhu_derajat_celcius\", \"tanggal\"], inplace=True)"
      ]
    },
    {
      "cell_type": "markdown",
      "metadata": {
        "id": "-juceFP2Vy1W"
      },
      "source": [
        "membuang kolom yang tidak diperlukan seperti kelembaban_persen karena sudah digantikan oleh kolom kelembaban_min dan kelembaban_max<br><br>\n",
        "membuang kolom suhu_derajat_celcius karena sudah digantikan oleh suhu_min dan suhu_max<br><br>\n",
        "membuang kolom tanggal karena tidak diperlukan dalam proses menganalisis dan memproses data cuaca Provinsi DKI Jakarta tahun 2018"
      ]
    },
    {
      "cell_type": "markdown",
      "metadata": {
        "id": "HjVUyZhnVy1W"
      },
      "source": [
        "### Encoding (1)"
      ]
    },
    {
      "cell_type": "markdown",
      "metadata": {
        "id": "edmdekA6Vy1W"
      },
      "source": [
        "#### Mengubah Kolom cuaca menggunakan label encoding"
      ]
    },
    {
      "cell_type": "code",
      "execution_count": 28,
      "metadata": {
        "colab": {
          "base_uri": "https://localhost:8080/",
          "height": 0
        },
        "id": "4tA_ZiWkVy1W",
        "outputId": "d7986311-40fc-481e-dea6-f1331159b4b0"
      },
      "outputs": [
        {
          "data": {
            "text/html": [
              "\n",
              "  <div id=\"df-d885fc1a-80bf-4a43-acb2-42c26c052aee\">\n",
              "    <div class=\"colab-df-container\">\n",
              "      <div>\n",
              "<style scoped>\n",
              "    .dataframe tbody tr th:only-of-type {\n",
              "        vertical-align: middle;\n",
              "    }\n",
              "\n",
              "    .dataframe tbody tr th {\n",
              "        vertical-align: top;\n",
              "    }\n",
              "\n",
              "    .dataframe thead th {\n",
              "        text-align: right;\n",
              "    }\n",
              "</style>\n",
              "<table border=\"1\" class=\"dataframe\">\n",
              "  <thead>\n",
              "    <tr style=\"text-align: right;\">\n",
              "      <th></th>\n",
              "      <th>wilayah</th>\n",
              "      <th>waktu</th>\n",
              "      <th>cuaca</th>\n",
              "      <th>kelembaban_min</th>\n",
              "      <th>kelembaban_max</th>\n",
              "      <th>suhu_min</th>\n",
              "      <th>suhu_max</th>\n",
              "    </tr>\n",
              "  </thead>\n",
              "  <tbody>\n",
              "    <tr>\n",
              "      <th>0</th>\n",
              "      <td>Kepulauan Seribu</td>\n",
              "      <td>Siang</td>\n",
              "      <td>1</td>\n",
              "      <td>70</td>\n",
              "      <td>90</td>\n",
              "      <td>24</td>\n",
              "      <td>32</td>\n",
              "    </tr>\n",
              "    <tr>\n",
              "      <th>1</th>\n",
              "      <td>Kepulauan Seribu</td>\n",
              "      <td>Pagi</td>\n",
              "      <td>1</td>\n",
              "      <td>70</td>\n",
              "      <td>90</td>\n",
              "      <td>24</td>\n",
              "      <td>32</td>\n",
              "    </tr>\n",
              "    <tr>\n",
              "      <th>2</th>\n",
              "      <td>Kepulauan Seribu</td>\n",
              "      <td>Malam</td>\n",
              "      <td>1</td>\n",
              "      <td>70</td>\n",
              "      <td>90</td>\n",
              "      <td>24</td>\n",
              "      <td>32</td>\n",
              "    </tr>\n",
              "    <tr>\n",
              "      <th>3</th>\n",
              "      <td>Kepulauan Seribu</td>\n",
              "      <td>Dini Hari</td>\n",
              "      <td>1</td>\n",
              "      <td>70</td>\n",
              "      <td>90</td>\n",
              "      <td>24</td>\n",
              "      <td>32</td>\n",
              "    </tr>\n",
              "    <tr>\n",
              "      <th>4</th>\n",
              "      <td>Jakarta Utara</td>\n",
              "      <td>Siang</td>\n",
              "      <td>1</td>\n",
              "      <td>70</td>\n",
              "      <td>90</td>\n",
              "      <td>24</td>\n",
              "      <td>32</td>\n",
              "    </tr>\n",
              "  </tbody>\n",
              "</table>\n",
              "</div>\n",
              "      <button class=\"colab-df-convert\" onclick=\"convertToInteractive('df-d885fc1a-80bf-4a43-acb2-42c26c052aee')\"\n",
              "              title=\"Convert this dataframe to an interactive table.\"\n",
              "              style=\"display:none;\">\n",
              "        \n",
              "  <svg xmlns=\"http://www.w3.org/2000/svg\" height=\"24px\"viewBox=\"0 0 24 24\"\n",
              "       width=\"24px\">\n",
              "    <path d=\"M0 0h24v24H0V0z\" fill=\"none\"/>\n",
              "    <path d=\"M18.56 5.44l.94 2.06.94-2.06 2.06-.94-2.06-.94-.94-2.06-.94 2.06-2.06.94zm-11 1L8.5 8.5l.94-2.06 2.06-.94-2.06-.94L8.5 2.5l-.94 2.06-2.06.94zm10 10l.94 2.06.94-2.06 2.06-.94-2.06-.94-.94-2.06-.94 2.06-2.06.94z\"/><path d=\"M17.41 7.96l-1.37-1.37c-.4-.4-.92-.59-1.43-.59-.52 0-1.04.2-1.43.59L10.3 9.45l-7.72 7.72c-.78.78-.78 2.05 0 2.83L4 21.41c.39.39.9.59 1.41.59.51 0 1.02-.2 1.41-.59l7.78-7.78 2.81-2.81c.8-.78.8-2.07 0-2.86zM5.41 20L4 18.59l7.72-7.72 1.47 1.35L5.41 20z\"/>\n",
              "  </svg>\n",
              "      </button>\n",
              "      \n",
              "  <style>\n",
              "    .colab-df-container {\n",
              "      display:flex;\n",
              "      flex-wrap:wrap;\n",
              "      gap: 12px;\n",
              "    }\n",
              "\n",
              "    .colab-df-convert {\n",
              "      background-color: #E8F0FE;\n",
              "      border: none;\n",
              "      border-radius: 50%;\n",
              "      cursor: pointer;\n",
              "      display: none;\n",
              "      fill: #1967D2;\n",
              "      height: 32px;\n",
              "      padding: 0 0 0 0;\n",
              "      width: 32px;\n",
              "    }\n",
              "\n",
              "    .colab-df-convert:hover {\n",
              "      background-color: #E2EBFA;\n",
              "      box-shadow: 0px 1px 2px rgba(60, 64, 67, 0.3), 0px 1px 3px 1px rgba(60, 64, 67, 0.15);\n",
              "      fill: #174EA6;\n",
              "    }\n",
              "\n",
              "    [theme=dark] .colab-df-convert {\n",
              "      background-color: #3B4455;\n",
              "      fill: #D2E3FC;\n",
              "    }\n",
              "\n",
              "    [theme=dark] .colab-df-convert:hover {\n",
              "      background-color: #434B5C;\n",
              "      box-shadow: 0px 1px 3px 1px rgba(0, 0, 0, 0.15);\n",
              "      filter: drop-shadow(0px 1px 2px rgba(0, 0, 0, 0.3));\n",
              "      fill: #FFFFFF;\n",
              "    }\n",
              "  </style>\n",
              "\n",
              "      <script>\n",
              "        const buttonEl =\n",
              "          document.querySelector('#df-d885fc1a-80bf-4a43-acb2-42c26c052aee button.colab-df-convert');\n",
              "        buttonEl.style.display =\n",
              "          google.colab.kernel.accessAllowed ? 'block' : 'none';\n",
              "\n",
              "        async function convertToInteractive(key) {\n",
              "          const element = document.querySelector('#df-d885fc1a-80bf-4a43-acb2-42c26c052aee');\n",
              "          const dataTable =\n",
              "            await google.colab.kernel.invokeFunction('convertToInteractive',\n",
              "                                                     [key], {});\n",
              "          if (!dataTable) return;\n",
              "\n",
              "          const docLinkHtml = 'Like what you see? Visit the ' +\n",
              "            '<a target=\"_blank\" href=https://colab.research.google.com/notebooks/data_table.ipynb>data table notebook</a>'\n",
              "            + ' to learn more about interactive tables.';\n",
              "          element.innerHTML = '';\n",
              "          dataTable['output_type'] = 'display_data';\n",
              "          await google.colab.output.renderOutput(dataTable, element);\n",
              "          const docLink = document.createElement('div');\n",
              "          docLink.innerHTML = docLinkHtml;\n",
              "          element.appendChild(docLink);\n",
              "        }\n",
              "      </script>\n",
              "    </div>\n",
              "  </div>\n",
              "  "
            ],
            "text/plain": [
              "            wilayah      waktu  cuaca  kelembaban_min  kelembaban_max  \\\n",
              "0  Kepulauan Seribu      Siang      1              70              90   \n",
              "1  Kepulauan Seribu       Pagi      1              70              90   \n",
              "2  Kepulauan Seribu      Malam      1              70              90   \n",
              "3  Kepulauan Seribu  Dini Hari      1              70              90   \n",
              "4     Jakarta Utara      Siang      1              70              90   \n",
              "\n",
              "   suhu_min  suhu_max  \n",
              "0        24        32  \n",
              "1        24        32  \n",
              "2        24        32  \n",
              "3        24        32  \n",
              "4        24        32  "
            ]
          },
          "execution_count": 28,
          "metadata": {},
          "output_type": "execute_result"
        }
      ],
      "source": [
        "mapping_cuaca = {\n",
        "    'Cerah': 0,\n",
        "    'Hujan': 1,\n",
        "    'Berawan': 2\n",
        "}\n",
        "\n",
        "df['cuaca'] = df['cuaca'].map(mapping_cuaca)\n",
        "df.head()"
      ]
    },
    {
      "cell_type": "markdown",
      "metadata": {
        "id": "cynNgQBBVy1W"
      },
      "source": [
        "Mengubah Feature Categorical menjadi numercial,<br>\n",
        "Mengubah Cuaca menjadi 0<br>\n",
        "Mengubah Hujan menjadi 1<br>\n",
        "Mengubah Berawan menjadi 2"
      ]
    },
    {
      "cell_type": "markdown",
      "metadata": {
        "id": "YgyORGicVy1X"
      },
      "source": [
        "# Visualisasi Data"
      ]
    },
    {
      "cell_type": "code",
      "execution_count": 29,
      "metadata": {
        "colab": {
          "base_uri": "https://localhost:8080/",
          "height": 0
        },
        "id": "fJ64dl1mVy1X",
        "outputId": "00ea29fa-8f4f-4973-9314-137787e774ac"
      },
      "outputs": [
        {
          "data": {
            "text/plain": [
              "<seaborn.axisgrid.PairGrid at 0x7f34ff998510>"
            ]
          },
          "execution_count": 29,
          "metadata": {},
          "output_type": "execute_result"
        },
        {
          "data": {
            "image/png": "[encoded data removed]",
            "text/plain": [
              "<Figure size 762.375x720 with 14 Axes>"
            ]
          },
          "metadata": {
            "needs_background": "light"
          },
          "output_type": "display_data"
        }
      ],
      "source": [
        "sns.pairplot(df, hue=\"cuaca\", corner=True)"
      ]
    },
    {
      "cell_type": "markdown",
      "metadata": {
        "id": "4Jvj02gGVy1X"
      },
      "source": [
        "persebaran data cuaca Provinsi DKI Jakarta pada Tahun 2018"
      ]
    },
    {
      "cell_type": "markdown",
      "metadata": {
        "id": "vmhIfQ5YVy1X"
      },
      "source": [
        "# Splitting Data"
      ]
    },
    {
      "cell_type": "code",
      "execution_count": 30,
      "metadata": {
        "colab": {
          "base_uri": "https://localhost:8080/"
        },
        "id": "hgbl8Gd7Vy1X",
        "outputId": "ce2442ec-4dec-44c2-d222-380a596e6a15"
      },
      "outputs": [
        {
          "data": {
            "text/plain": [
              "((6718, 6), (1680, 6), (6718,), (1680,))"
            ]
          },
          "execution_count": 30,
          "metadata": {},
          "output_type": "execute_result"
        }
      ],
      "source": [
        "X = df.drop(columns=[\"cuaca\"])\n",
        "y = df[\"cuaca\"]\n",
        "\n",
        "X_train, X_test, y_train, y_test = train_test_split(X, y, test_size=0.2, stratify=y, random_state=42)\n",
        "X_train.shape, X_test.shape, y_train.shape, y_test.shape"
      ]
    },
    {
      "cell_type": "markdown",
      "metadata": {
        "id": "Z8feMg4LVy1X"
      },
      "source": [
        "membagi data berdasarkan data latih dan data uji dengan perbandingan data uji sebesar 20% dan data latih sebesar 80% dari total data dengan pembagian secara stratify<br>\n",
        "<br>\n",
        "membagi data menjadi fitur dan target, dimana variable y merupakan target yaitu kolom cuaca sedangkan variable x merupakan sisa kolom selain kolom cuaca<br>\n",
        "<br>\n",
        "total data latih 6718 data<br>\n",
        "total data uji 1688 data"
      ]
    },
    {
      "cell_type": "markdown",
      "metadata": {
        "id": "JkWhP-raVy1Y"
      },
      "source": [
        "# Preprocessing (2)"
      ]
    },
    {
      "cell_type": "markdown",
      "metadata": {
        "id": "KesRdqRTVy1Y"
      },
      "source": [
        "#### Melihat isi data latih"
      ]
    },
    {
      "cell_type": "code",
      "execution_count": 31,
      "metadata": {
        "colab": {
          "base_uri": "https://localhost:8080/",
          "height": 0
        },
        "id": "MsDdyXSYVy1Y",
        "outputId": "70f6dca1-f726-49e2-fecd-e9ff92814406"
      },
      "outputs": [
        {
          "data": {
            "text/html": [
              "\n",
              "  <div id=\"df-6c919929-c07c-456a-8d43-8052c53adc97\">\n",
              "    <div class=\"colab-df-container\">\n",
              "      <div>\n",
              "<style scoped>\n",
              "    .dataframe tbody tr th:only-of-type {\n",
              "        vertical-align: middle;\n",
              "    }\n",
              "\n",
              "    .dataframe tbody tr th {\n",
              "        vertical-align: top;\n",
              "    }\n",
              "\n",
              "    .dataframe thead th {\n",
              "        text-align: right;\n",
              "    }\n",
              "</style>\n",
              "<table border=\"1\" class=\"dataframe\">\n",
              "  <thead>\n",
              "    <tr style=\"text-align: right;\">\n",
              "      <th></th>\n",
              "      <th>wilayah</th>\n",
              "      <th>waktu</th>\n",
              "      <th>kelembaban_min</th>\n",
              "      <th>kelembaban_max</th>\n",
              "      <th>suhu_min</th>\n",
              "      <th>suhu_max</th>\n",
              "    </tr>\n",
              "  </thead>\n",
              "  <tbody>\n",
              "    <tr>\n",
              "      <th>2305</th>\n",
              "      <td>Kepulauan Seribu</td>\n",
              "      <td>Pagi</td>\n",
              "      <td>40</td>\n",
              "      <td>85</td>\n",
              "      <td>23</td>\n",
              "      <td>34</td>\n",
              "    </tr>\n",
              "    <tr>\n",
              "      <th>4465</th>\n",
              "      <td>Kepulauan Seribu</td>\n",
              "      <td>Pagi</td>\n",
              "      <td>75</td>\n",
              "      <td>95</td>\n",
              "      <td>23</td>\n",
              "      <td>32</td>\n",
              "    </tr>\n",
              "    <tr>\n",
              "      <th>7684</th>\n",
              "      <td>Jakarta Utara</td>\n",
              "      <td>Siang</td>\n",
              "      <td>75</td>\n",
              "      <td>95</td>\n",
              "      <td>23</td>\n",
              "      <td>30</td>\n",
              "    </tr>\n",
              "    <tr>\n",
              "      <th>3981</th>\n",
              "      <td>Jakarta Barat</td>\n",
              "      <td>Pagi</td>\n",
              "      <td>55</td>\n",
              "      <td>90</td>\n",
              "      <td>22</td>\n",
              "      <td>33</td>\n",
              "    </tr>\n",
              "    <tr>\n",
              "      <th>5307</th>\n",
              "      <td>Kepulauan Seribu</td>\n",
              "      <td>Dini Hari</td>\n",
              "      <td>65</td>\n",
              "      <td>95</td>\n",
              "      <td>24</td>\n",
              "      <td>33</td>\n",
              "    </tr>\n",
              "  </tbody>\n",
              "</table>\n",
              "</div>\n",
              "      <button class=\"colab-df-convert\" onclick=\"convertToInteractive('df-6c919929-c07c-456a-8d43-8052c53adc97')\"\n",
              "              title=\"Convert this dataframe to an interactive table.\"\n",
              "              style=\"display:none;\">\n",
              "        \n",
              "  <svg xmlns=\"http://www.w3.org/2000/svg\" height=\"24px\"viewBox=\"0 0 24 24\"\n",
              "       width=\"24px\">\n",
              "    <path d=\"M0 0h24v24H0V0z\" fill=\"none\"/>\n",
              "    <path d=\"M18.56 5.44l.94 2.06.94-2.06 2.06-.94-2.06-.94-.94-2.06-.94 2.06-2.06.94zm-11 1L8.5 8.5l.94-2.06 2.06-.94-2.06-.94L8.5 2.5l-.94 2.06-2.06.94zm10 10l.94 2.06.94-2.06 2.06-.94-2.06-.94-.94-2.06-.94 2.06-2.06.94z\"/><path d=\"M17.41 7.96l-1.37-1.37c-.4-.4-.92-.59-1.43-.59-.52 0-1.04.2-1.43.59L10.3 9.45l-7.72 7.72c-.78.78-.78 2.05 0 2.83L4 21.41c.39.39.9.59 1.41.59.51 0 1.02-.2 1.41-.59l7.78-7.78 2.81-2.81c.8-.78.8-2.07 0-2.86zM5.41 20L4 18.59l7.72-7.72 1.47 1.35L5.41 20z\"/>\n",
              "  </svg>\n",
              "      </button>\n",
              "      \n",
              "  <style>\n",
              "    .colab-df-container {\n",
              "      display:flex;\n",
              "      flex-wrap:wrap;\n",
              "      gap: 12px;\n",
              "    }\n",
              "\n",
              "    .colab-df-convert {\n",
              "      background-color: #E8F0FE;\n",
              "      border: none;\n",
              "      border-radius: 50%;\n",
              "      cursor: pointer;\n",
              "      display: none;\n",
              "      fill: #1967D2;\n",
              "      height: 32px;\n",
              "      padding: 0 0 0 0;\n",
              "      width: 32px;\n",
              "    }\n",
              "\n",
              "    .colab-df-convert:hover {\n",
              "      background-color: #E2EBFA;\n",
              "      box-shadow: 0px 1px 2px rgba(60, 64, 67, 0.3), 0px 1px 3px 1px rgba(60, 64, 67, 0.15);\n",
              "      fill: #174EA6;\n",
              "    }\n",
              "\n",
              "    [theme=dark] .colab-df-convert {\n",
              "      background-color: #3B4455;\n",
              "      fill: #D2E3FC;\n",
              "    }\n",
              "\n",
              "    [theme=dark] .colab-df-convert:hover {\n",
              "      background-color: #434B5C;\n",
              "      box-shadow: 0px 1px 3px 1px rgba(0, 0, 0, 0.15);\n",
              "      filter: drop-shadow(0px 1px 2px rgba(0, 0, 0, 0.3));\n",
              "      fill: #FFFFFF;\n",
              "    }\n",
              "  </style>\n",
              "\n",
              "      <script>\n",
              "        const buttonEl =\n",
              "          document.querySelector('#df-6c919929-c07c-456a-8d43-8052c53adc97 button.colab-df-convert');\n",
              "        buttonEl.style.display =\n",
              "          google.colab.kernel.accessAllowed ? 'block' : 'none';\n",
              "\n",
              "        async function convertToInteractive(key) {\n",
              "          const element = document.querySelector('#df-6c919929-c07c-456a-8d43-8052c53adc97');\n",
              "          const dataTable =\n",
              "            await google.colab.kernel.invokeFunction('convertToInteractive',\n",
              "                                                     [key], {});\n",
              "          if (!dataTable) return;\n",
              "\n",
              "          const docLinkHtml = 'Like what you see? Visit the ' +\n",
              "            '<a target=\"_blank\" href=https://colab.research.google.com/notebooks/data_table.ipynb>data table notebook</a>'\n",
              "            + ' to learn more about interactive tables.';\n",
              "          element.innerHTML = '';\n",
              "          dataTable['output_type'] = 'display_data';\n",
              "          await google.colab.output.renderOutput(dataTable, element);\n",
              "          const docLink = document.createElement('div');\n",
              "          docLink.innerHTML = docLinkHtml;\n",
              "          element.appendChild(docLink);\n",
              "        }\n",
              "      </script>\n",
              "    </div>\n",
              "  </div>\n",
              "  "
            ],
            "text/plain": [
              "               wilayah      waktu  kelembaban_min  kelembaban_max  suhu_min  \\\n",
              "2305  Kepulauan Seribu       Pagi              40              85        23   \n",
              "4465  Kepulauan Seribu       Pagi              75              95        23   \n",
              "7684     Jakarta Utara      Siang              75              95        23   \n",
              "3981     Jakarta Barat       Pagi              55              90        22   \n",
              "5307  Kepulauan Seribu  Dini Hari              65              95        24   \n",
              "\n",
              "      suhu_max  \n",
              "2305        34  \n",
              "4465        32  \n",
              "7684        30  \n",
              "3981        33  \n",
              "5307        33  "
            ]
          },
          "execution_count": 31,
          "metadata": {},
          "output_type": "execute_result"
        }
      ],
      "source": [
        "X_train.sample(5)"
      ]
    },
    {
      "cell_type": "markdown",
      "metadata": {
        "id": "03-Fx6_QvVbd"
      },
      "source": [
        "### Column Transform"
      ]
    },
    {
      "cell_type": "code",
      "execution_count": 32,
      "metadata": {
        "id": "5civoopivVbd"
      },
      "outputs": [],
      "source": [
        "from sklearn.preprocessing import PolynomialFeatures\n",
        "from sklearn.preprocessing import OneHotEncoder\n",
        "from sklearn.compose import ColumnTransformer\n",
        "\n",
        "numeric = [\"kelembaban_min\", \"kelembaban_max\", \"suhu_min\", \"suhu_max\"]\n",
        "categoric = ['waktu', 'wilayah']\n",
        "\n",
        "preprocessor = ColumnTransformer([\n",
        "    ('numeric', PolynomialFeatures(), numeric),\n",
        "    ('categoric', OneHotEncoder(handle_unknown='ignore'), categoric),\n",
        "])"
      ]
    },
    {
      "cell_type": "markdown",
      "metadata": {
        "id": "e-ktmfTqVy1Z"
      },
      "source": [
        "# Proses Fitting Data (1)"
      ]
    },
    {
      "cell_type": "markdown",
      "metadata": {
        "id": "a8hZSTV8Vy1Z"
      },
      "source": [
        "## XGB Classifier"
      ]
    },
    {
      "cell_type": "markdown",
      "metadata": {
        "id": "qyuo1ehaVy1Z"
      },
      "source": [
        "### Fitting"
      ]
    },
    {
      "cell_type": "markdown",
      "metadata": {
        "id": "DWyb3xoOVy1Z"
      },
      "source": [
        "#### parameter yang akan di Tuning"
      ]
    },
    {
      "cell_type": "code",
      "execution_count": 33,
      "metadata": {
        "id": "uK-3gETeVy1a"
      },
      "outputs": [],
      "source": [
        "from jcopml.tuning.space import Integer, Real\n",
        "\n",
        "parameters = {\n",
        "    'algo__max_depth': Integer(low=1, high=10),\n",
        "    'algo__learning_rate': Real(low=-2, high=0, prior='log-uniform'),\n",
        "    'algo__n_estimators': Integer(low=100, high=200),\n",
        "    'algo__subsample': Real(low=0.3, high=0.8, prior='uniform'),\n",
        "    'algo__gamma': Integer(low=1, high=10),\n",
        "    'algo__colsample_bytree': Real(low=0.1, high=1, prior='uniform'),\n",
        "    'algo__reg_alpha': Real(low=-3, high=1, prior='log-uniform'),\n",
        "    'algo__reg_lambda': Real(low=-3, high=1, prior='log-uniform'),\n",
        "    'prep__numeric__degree': Integer(low=1, high=3),\n",
        "    'prep__numeric__interaction_only': [True, False]\n",
        "}"
      ]
    },
    {
      "cell_type": "markdown",
      "metadata": {
        "id": "jr-6MUQ3Vy1a"
      },
      "source": [
        "#### fitting menggunakan XGBClassifier dengan tuning menggunakan RandomizedSearchCV"
      ]
    },
    {
      "cell_type": "code",
      "execution_count": 34,
      "metadata": {
        "colab": {
          "base_uri": "https://localhost:8080/"
        },
        "id": "xrjTwwVNVy1a",
        "outputId": "f39afb94-a076-48a6-f54b-15eeea044ab7"
      },
      "outputs": [
        {
          "name": "stdout",
          "output_type": "stream",
          "text": [
            "Fitting 3 folds for each of 500 candidates, totalling 1500 fits\n",
            "{'algo__colsample_bytree': 0.9554779473275833, 'algo__gamma': 2, 'algo__learning_rate': 0.08826616660734693, 'algo__max_depth': 9, 'algo__n_estimators': 100, 'algo__reg_alpha': 0.011907916572798662, 'algo__reg_lambda': 0.042450971980599515, 'algo__subsample': 0.7457400078117535, 'prep__numeric__degree': 2, 'prep__numeric__interaction_only': True}\n",
            "0.7649598094671033 0.6893441348178396 0.6922619047619047\n",
            "[[598  36 126]\n",
            " [ 53 186 102]\n",
            " [141  59 379]] \n",
            "\n",
            "              precision    recall  f1-score   support\n",
            "\n",
            "           0       0.80      0.84      0.82      3036\n",
            "           1       0.78      0.71      0.74      1365\n",
            "           2       0.71      0.70      0.70      2317\n",
            "\n",
            "    accuracy                           0.76      6718\n",
            "   macro avg       0.76      0.75      0.75      6718\n",
            "weighted avg       0.76      0.76      0.76      6718\n",
            " \n",
            "\n",
            "              precision    recall  f1-score   support\n",
            "\n",
            "           0       0.76      0.79      0.77       760\n",
            "           1       0.66      0.55      0.60       341\n",
            "           2       0.62      0.65      0.64       579\n",
            "\n",
            "    accuracy                           0.69      1680\n",
            "   macro avg       0.68      0.66      0.67      1680\n",
            "weighted avg       0.69      0.69      0.69      1680\n",
            "\n"
          ]
        }
      ],
      "source": [
        "from xgboost import XGBClassifier\n",
        "from sklearn.model_selection import RandomizedSearchCV\n",
        "from sklearn.metrics import confusion_matrix, classification_report\n",
        "from sklearn.pipeline import Pipeline\n",
        "\n",
        "pipeline = Pipeline([\n",
        "    ('prep', preprocessor),\n",
        "    ('algo', XGBClassifier(n_jobs=-1, random_state=42, use_label_encoder=False))\n",
        "])\n",
        "\n",
        "model_XGB = RandomizedSearchCV(pipeline, parameters, cv=3, n_iter=500, n_jobs=-1, verbose=1, random_state=42)\n",
        "model_XGB.fit(X_train, y_train)\n",
        "\n",
        "print(model_XGB.best_params_)\n",
        "print(model_XGB.score(X_train, y_train), model_XGB.best_score_, model_XGB.score(X_test, y_test))\n",
        "\n",
        "y_pred = model_XGB.predict(X_test)\n",
        "y_pred_train = model_XGB.predict(X_train)\n",
        "\n",
        "print(confusion_matrix(y_test, y_pred), \"\\n\")\n",
        "print(classification_report(y_train, y_pred_train), \"\\n\")\n",
        "print(classification_report(y_test, y_pred))"
      ]
    },
    {
      "cell_type": "markdown",
      "metadata": {
        "id": "iwibG_cWVy1c"
      },
      "source": [
        "### Fitting dengan Oversampling"
      ]
    },
    {
      "cell_type": "markdown",
      "metadata": {
        "id": "euMTTQt8Vy1d"
      },
      "source": [
        "#### Parameter yang akan dituning dengan pipeline"
      ]
    },
    {
      "cell_type": "code",
      "execution_count": 35,
      "metadata": {
        "id": "IqNYcjCHVy1d"
      },
      "outputs": [],
      "source": [
        "from jcopml.tuning.space import Integer, Real\n",
        "\n",
        "parameter_smote = {\n",
        "    'algo__max_depth': Integer(low=1, high=10),\n",
        "    'algo__learning_rate': Real(low=-2, high=0, prior='log-uniform'),\n",
        "    'algo__n_estimators': Integer(low=100, high=200),\n",
        "    'algo__subsample': Real(low=0.3, high=0.8, prior='uniform'),\n",
        "    'algo__gamma': Integer(low=1, high=10),\n",
        "    'algo__colsample_bytree': Real(low=0.1, high=1, prior='uniform'),\n",
        "    'algo__reg_alpha': Real(low=-3, high=1, prior='log-uniform'),\n",
        "    'algo__reg_lambda': Real(low=-3, high=1, prior='log-uniform'),\n",
        "    'prep__numeric__degree': Integer(low=1, high=3),\n",
        "    'prep__numeric__interaction_only': [True, False],\n",
        "    'smote__k_neighbors': [3, 5, 7],\n",
        "    'smote__sampling_strategy': ['minority', 'majority', 'not minority', 'not majority'],\n",
        "}"
      ]
    },
    {
      "cell_type": "markdown",
      "metadata": {
        "id": "q4MvX_C0Vy1d"
      },
      "source": [
        "#### Fitting menggunakan XGBClassifier dan Oversampling SMOTE dengan tuning menggunakan RandomizedSearchCV"
      ]
    },
    {
      "cell_type": "code",
      "execution_count": 36,
      "metadata": {
        "colab": {
          "base_uri": "https://localhost:8080/"
        },
        "id": "VL00oXcfVy1d",
        "outputId": "b8bed3f2-8459-4a19-94fd-71812470b3b5"
      },
      "outputs": [
        {
          "name": "stdout",
          "output_type": "stream",
          "text": [
            "Fitting 3 folds for each of 500 candidates, totalling 1500 fits\n"
          ]
        },
        {
          "name": "stderr",
          "output_type": "stream",
          "text": [
            "/usr/local/lib/python3.7/dist-packages/sklearn/model_selection/_validation.py:372: FitFailedWarning: \n",
            "315 fits failed out of a total of 1500.\n",
            "The score on these train-test partitions for these parameters will be set to nan.\n",
            "If these failures are not expected, you can try to debug them by setting error_score='raise'.\n",
            "\n",
            "Below are more details about the failures:\n",
            "--------------------------------------------------------------------------------\n",
            "315 fits failed with the following error:\n",
            "Traceback (most recent call last):\n",
            "  File \"/usr/local/lib/python3.7/dist-packages/sklearn/model_selection/_validation.py\", line 680, in _fit_and_score\n",
            "    estimator.fit(X_train, y_train, **fit_params)\n",
            "  File \"/usr/local/lib/python3.7/dist-packages/imblearn/pipeline.py\", line 262, in fit\n",
            "    Xt, yt = self._fit(X, y, **fit_params_steps)\n",
            "  File \"/usr/local/lib/python3.7/dist-packages/imblearn/pipeline.py\", line 226, in _fit\n",
            "    **fit_params_steps[name],\n",
            "  File \"/usr/local/lib/python3.7/dist-packages/joblib/memory.py\", line 349, in __call__\n",
            "    return self.func(*args, **kwargs)\n",
            "  File \"/usr/local/lib/python3.7/dist-packages/imblearn/pipeline.py\", line 388, in _fit_resample_one\n",
            "    X_res, y_res = sampler.fit_resample(X, y, **fit_params)\n",
            "  File \"/usr/local/lib/python3.7/dist-packages/imblearn/base.py\", line 80, in fit_resample\n",
            "    self.sampling_strategy, y, self._sampling_type\n",
            "  File \"/usr/local/lib/python3.7/dist-packages/imblearn/utils/_validation.py\", line 517, in check_sampling_strategy\n",
            "    sorted(SAMPLING_TARGET_KIND[sampling_strategy](y, sampling_type).items())\n",
            "  File \"/usr/local/lib/python3.7/dist-packages/imblearn/utils/_validation.py\", line 166, in _sampling_strategy_majority\n",
            "    \"'sampling_strategy'='majority' cannot be used with over-sampler.\"\n",
            "ValueError: 'sampling_strategy'='majority' cannot be used with over-sampler.\n",
            "\n",
            "  warnings.warn(some_fits_failed_message, FitFailedWarning)\n",
            "/usr/local/lib/python3.7/dist-packages/sklearn/model_selection/_search.py:972: UserWarning: One or more of the test scores are non-finite: [       nan 0.6137245  0.61759488 0.67490476        nan 0.61744734\n",
            " 0.62176301 0.58112558        nan 0.63411912 0.63352468 0.60330644\n",
            "        nan        nan        nan 0.56832391 0.57502253 0.63888322\n",
            " 0.60285915 0.62131771 0.64439023 0.62831422 0.60107317 0.64781392\n",
            " 0.61431968 0.59333235        nan 0.60077442 0.64275406        nan\n",
            " 0.54540026 0.60881346 0.61476763 0.61074865 0.66701626 0.59779737\n",
            " 0.60851511 0.61074931        nan 0.5994352  0.65436306 0.56385849\n",
            " 0.60643191 0.63828665 0.67445853 0.58499523 0.63188611 0.6369471\n",
            " 0.53215303 0.62191215 0.63173837 0.67430972        nan        nan\n",
            " 0.64230484 0.629058          nan 0.68443242 0.66954669 0.64840809\n",
            " 0.60345465 0.63426687 0.64692073 0.59854161        nan 0.61149343\n",
            " 0.63784022        nan 0.62488914        nan 0.61357736 0.5799369\n",
            " 0.60494288 0.62221044 0.64215756 0.63292937 0.61059884 0.66731421\n",
            " 0.63888302 0.62503808 0.59496906 0.63590576        nan        nan\n",
            " 0.59869122 0.60464486 0.61149316        nan 0.64290107        nan\n",
            " 0.61848781 0.5824652  0.62786659 0.61938133        nan 0.63322699\n",
            " 0.61729726 0.60032832 0.63739353 0.60062641 0.60449659        nan\n",
            " 0.57904165        nan 0.52872808 0.6787748  0.58559053 0.63977508\n",
            " 0.55001442        nan 0.63903017        nan 0.50015007 0.63649901\n",
            "        nan 0.64855849 0.62489067 0.66433643 0.56058402 0.5855912\n",
            " 0.62548611        nan 0.68339029 0.66463511 0.61953007        nan\n",
            " 0.65302451 0.67550079 0.66582512 0.62950563 0.66374225 0.58976012\n",
            " 0.61610705 0.61506472        nan 0.62816541        nan 0.6141724\n",
            " 0.64826061 0.54807717 0.61804304 0.62295502 0.6321842  0.61342735\n",
            " 0.63039722 0.61149183        nan 0.58767513 0.61253496 0.60851577\n",
            "        nan 0.58678307 0.59958328 0.6280162  0.64573032        nan\n",
            "        nan 0.64111556        nan 0.60062628 0.63828778        nan\n",
            " 0.62191348 0.62548544        nan 0.60479321 0.61015274 0.61997783\n",
            "        nan 0.63396991 0.60107317        nan 0.6077702  0.63828652\n",
            " 0.62875938 0.60821576        nan 0.65853172 0.67222605 0.58752718\n",
            " 0.54465422        nan        nan        nan 0.57978563 0.67014172\n",
            " 0.64855909 0.62608068 0.61312987 0.50238261 0.64334784        nan\n",
            " 0.60613356 0.64825961        nan 0.62965264 0.61342722 0.64037052\n",
            " 0.63635213 0.62087029 0.60821782 0.65868    0.58216732 0.59630934\n",
            " 0.64736629 0.64974811 0.66716567 0.63992455 0.60747311 0.61461969\n",
            " 0.60390221 0.61506652 0.65079044        nan        nan 0.60940863\n",
            " 0.643945   0.60657965 0.63843539 0.62876025        nan 0.61610845\n",
            "        nan 0.61283218 0.6729695  0.68339109 0.63620411 0.61566149\n",
            " 0.66493166 0.63828705 0.63396911        nan 0.62965284 0.64781458\n",
            " 0.65421432 0.65778648 0.6713328  0.62131652 0.54927124 0.61387444\n",
            " 0.61342642 0.61953147 0.68234756 0.6168499         nan 0.62786633\n",
            " 0.60672939        nan 0.63694703 0.64096628        nan        nan\n",
            "        nan 0.62429417 0.54465648 0.62667725 0.62414503 0.64915287\n",
            " 0.62012657 0.6618066  0.58261507 0.65629805 0.62116751 0.61059857\n",
            "        nan 0.61134289        nan 0.59333149 0.60598415 0.65406644\n",
            " 0.65853066 0.64915526 0.57085347 0.62414682 0.67847805        nan\n",
            " 0.62280627 0.61774456        nan        nan 0.64617728 0.65912663\n",
            " 0.62250872 0.62488954 0.66493233 0.63590463 0.6433481  0.58380455\n",
            "        nan 0.62235878 0.58008498 0.61521433        nan 0.6199777\n",
            " 0.62697473 0.67639418 0.63545907 0.62295369 0.55061225 0.6211685\n",
            " 0.60806808 0.61968034        nan 0.634267   0.67788248 0.66031757\n",
            "        nan 0.61268463 0.63813851 0.62563399 0.66924834 0.58231519\n",
            " 0.57115342        nan 0.64900565 0.64364725 0.60732483        nan\n",
            " 0.60896313 0.65942405        nan 0.64290187 0.62310389 0.50937826\n",
            " 0.59764789        nan 0.61417299        nan        nan 0.61194005\n",
            "        nan 0.61015321 0.64483633 0.641711          nan 0.6644855\n",
            " 0.64841015 0.66478179        nan        nan 0.66746382        nan\n",
            " 0.59005794        nan 0.66656943        nan 0.6607646  0.60628416\n",
            " 0.61015281 0.63188691 0.66299741 0.59080119 0.60985592 0.63084325\n",
            " 0.59273598        nan        nan 0.59720339 0.66091288 0.6222105\n",
            " 0.63024934 0.6449864  0.64364645 0.66627281        nan 0.63992435\n",
            " 0.61357663 0.56743032        nan 0.68487825        nan 0.68056231\n",
            " 0.62816355 0.63114233 0.59913831 0.66403808 0.67996541 0.63188631\n",
            " 0.63769135 0.65585209 0.62131818 0.61580997 0.60509202 0.50401992\n",
            " 0.59928619 0.64230617 0.63903043 0.67043928 0.67311951 0.60390201\n",
            " 0.5945215  0.6137265  0.60762245        nan        nan 0.66850449\n",
            " 0.61908537 0.62637817        nan 0.58737758 0.60107251 0.67341759\n",
            "        nan 0.61744647 0.61193852 0.64811114 0.61372524 0.64319923\n",
            " 0.64409354 0.63054623 0.58841911 0.6052401  0.62399542 0.62131725\n",
            " 0.64781232 0.5544815  0.64260319 0.53572406        nan        nan\n",
            " 0.59452409        nan 0.60717556        nan        nan 0.61863848\n",
            " 0.63932858        nan 0.59377818 0.617447          nan 0.64037198\n",
            " 0.63590709 0.60583507 0.6236988  0.59377878 0.58216712 0.63307719\n",
            " 0.67520304 0.62980271 0.64826048 0.66299654 0.63203452 0.60911161\n",
            " 0.61610745 0.60866359        nan        nan 0.63813744 0.60360233\n",
            "        nan 0.66240064        nan 0.64037111 0.61833933 0.59868996\n",
            " 0.65347027 0.66001929 0.6077706  0.54316839 0.62578233 0.64424063\n",
            " 0.63917844        nan 0.61819112 0.6682074         nan 0.63233161\n",
            " 0.65332213        nan 0.642753          nan 0.60925989 0.60032886\n",
            " 0.56951518 0.60806881 0.59794757        nan 0.55716014 0.63277877\n",
            " 0.63292758 0.63263063 0.63397051 0.5888674  0.66627328        nan\n",
            " 0.66299741 0.58975853 0.59571483 0.64721828 0.60419897 0.68070986\n",
            "        nan        nan 0.63203505 0.60434725 0.6280154  0.66776071\n",
            "        nan 0.56683409]\n",
            "  category=UserWarning,\n"
          ]
        },
        {
          "name": "stdout",
          "output_type": "stream",
          "text": [
            "{'algo__colsample_bytree': 0.5274558687373735, 'algo__gamma': 2, 'algo__learning_rate': 0.034444852940512076, 'algo__max_depth': 10, 'algo__n_estimators': 131, 'algo__reg_alpha': 0.00467696754681168, 'algo__reg_lambda': 0.0038824176637197463, 'algo__subsample': 0.7865383989561492, 'prep__numeric__degree': 2, 'prep__numeric__interaction_only': True, 'smote__k_neighbors': 7, 'smote__sampling_strategy': 'not majority'}\n",
            "0.7579636796665674 0.6848782540037006 0.6904761904761905\n",
            "[[583  46 131]\n",
            " [ 45 206  90]\n",
            " [137  71 371]] \n",
            "\n",
            "              precision    recall  f1-score   support\n",
            "\n",
            "           0       0.81      0.81      0.81      3036\n",
            "           1       0.72      0.75      0.74      1365\n",
            "           2       0.71      0.69      0.70      2317\n",
            "\n",
            "    accuracy                           0.76      6718\n",
            "   macro avg       0.75      0.75      0.75      6718\n",
            "weighted avg       0.76      0.76      0.76      6718\n",
            " \n",
            "\n",
            "              precision    recall  f1-score   support\n",
            "\n",
            "           0       0.76      0.77      0.76       760\n",
            "           1       0.64      0.60      0.62       341\n",
            "           2       0.63      0.64      0.63       579\n",
            "\n",
            "    accuracy                           0.69      1680\n",
            "   macro avg       0.68      0.67      0.67      1680\n",
            "weighted avg       0.69      0.69      0.69      1680\n",
            "\n"
          ]
        }
      ],
      "source": [
        "from imblearn.pipeline import Pipeline\n",
        "from imblearn.over_sampling import SMOTE\n",
        "\n",
        "pipeline = Pipeline([\n",
        "    ('prep', preprocessor),\n",
        "    ('smote', SMOTE(random_state=42, n_jobs=-1)), \n",
        "    ('algo', XGBClassifier(n_jobs=-1, random_state=42, use_label_encoder=False)),\n",
        "])\n",
        "\n",
        "model_XGB_SMOTE = RandomizedSearchCV(pipeline, parameter_smote, cv=3, n_iter=500, n_jobs=-1, verbose=1, random_state=42)\n",
        "model_XGB_SMOTE.fit(X_train, y_train)\n",
        "\n",
        "print(model_XGB_SMOTE.best_params_)\n",
        "print(model_XGB_SMOTE.score(X_train, y_train), model_XGB_SMOTE.best_score_, model_XGB_SMOTE.score(X_test, y_test))\n",
        "\n",
        "y_pred = model_XGB_SMOTE.predict(X_test)\n",
        "y_pred_train = model_XGB_SMOTE.predict(X_train)\n",
        "\n",
        "print(confusion_matrix(y_test, y_pred), \"\\n\")\n",
        "print(classification_report(y_train, y_pred_train), \"\\n\")\n",
        "print(classification_report(y_test, y_pred))"
      ]
    },
    {
      "cell_type": "markdown",
      "metadata": {
        "id": "OQ2Lk3SoLrXO"
      },
      "source": [
        "### Fitting menggunakan teknik PCA Reduksi Dimensi"
      ]
    },
    {
      "cell_type": "markdown",
      "metadata": {
        "id": "yrnqKhvzMaHO"
      },
      "source": [
        "#### Membuat pipeline"
      ]
    },
    {
      "cell_type": "code",
      "execution_count": 37,
      "metadata": {
        "id": "-geHZHzaG1fS"
      },
      "outputs": [],
      "source": [
        "from sklearn.preprocessing import PolynomialFeatures\n",
        "from sklearn.decomposition import PCA\n",
        "from sklearn.compose import ColumnTransformer\n",
        "from sklearn.preprocessing import OneHotEncoder\n",
        "\n",
        "numeric = [\"kelembaban_min\", \"kelembaban_max\", \"suhu_min\", \"suhu_max\"]\n",
        "categoric = ['waktu', 'wilayah']\n",
        "\n",
        "preprocessor_PCA = ColumnTransformer([\n",
        "    ('numeric', PolynomialFeatures(interaction_only=True), numeric),\n",
        "    ('categoric', OneHotEncoder(handle_unknown='ignore'), categoric),\n",
        "])"
      ]
    },
    {
      "cell_type": "markdown",
      "metadata": {
        "id": "2kCO33M3Lc09"
      },
      "source": [
        "#### Parameter yang akan di Tuning"
      ]
    },
    {
      "cell_type": "code",
      "execution_count": 38,
      "metadata": {
        "id": "I-PhDTzuG80K"
      },
      "outputs": [],
      "source": [
        "from jcopml.tuning.space import Integer, Real\n",
        "\n",
        "parameters = {\n",
        "    'algo__max_depth': Integer(low=1, high=10),\n",
        "    'algo__learning_rate': Real(low=-2, high=0, prior='log-uniform'),\n",
        "    'algo__n_estimators': Integer(low=100, high=200),\n",
        "    'algo__subsample': Real(low=0.3, high=0.8, prior='uniform'),\n",
        "    'algo__gamma': Integer(low=1, high=10),\n",
        "    'algo__colsample_bytree': Real(low=0.1, high=1, prior='uniform'),\n",
        "    'algo__reg_alpha': Real(low=-3, high=1, prior='log-uniform'),\n",
        "    'algo__reg_lambda': Real(low=-3, high=1, prior='log-uniform'),\n",
        "    'pca__n_components': Integer(low=1, high=21),\n",
        "    'prep__numeric__degree': Integer(low=1, high=3),\n",
        "    'prep__numeric__interaction_only': [True, False]\n",
        "}"
      ]
    },
    {
      "cell_type": "markdown",
      "metadata": {
        "id": "oIHVbCBGLPIH"
      },
      "source": [
        "#### Fitting menggunakan XGBClassifier menggunakan teknik PCA dengan tuning menggunakan RandomSearchCV"
      ]
    },
    {
      "cell_type": "code",
      "execution_count": 39,
      "metadata": {
        "colab": {
          "base_uri": "https://localhost:8080/"
        },
        "id": "j8hK2xI_HBY8",
        "outputId": "43c038e8-73b5-4c8e-ebf2-bd50309bf318"
      },
      "outputs": [
        {
          "name": "stdout",
          "output_type": "stream",
          "text": [
            "Fitting 3 folds for each of 500 candidates, totalling 1500 fits\n"
          ]
        },
        {
          "name": "stderr",
          "output_type": "stream",
          "text": [
            "/usr/local/lib/python3.7/dist-packages/sklearn/model_selection/_validation.py:372: FitFailedWarning: \n",
            "156 fits failed out of a total of 1500.\n",
            "The score on these train-test partitions for these parameters will be set to nan.\n",
            "If these failures are not expected, you can try to debug them by setting error_score='raise'.\n",
            "\n",
            "Below are more details about the failures:\n",
            "--------------------------------------------------------------------------------\n",
            "24 fits failed with the following error:\n",
            "Traceback (most recent call last):\n",
            "  File \"/usr/local/lib/python3.7/dist-packages/sklearn/model_selection/_validation.py\", line 680, in _fit_and_score\n",
            "    estimator.fit(X_train, y_train, **fit_params)\n",
            "  File \"/usr/local/lib/python3.7/dist-packages/sklearn/pipeline.py\", line 390, in fit\n",
            "    Xt = self._fit(X, y, **fit_params_steps)\n",
            "  File \"/usr/local/lib/python3.7/dist-packages/sklearn/pipeline.py\", line 355, in _fit\n",
            "    **fit_params_steps[name],\n",
            "  File \"/usr/local/lib/python3.7/dist-packages/joblib/memory.py\", line 349, in __call__\n",
            "    return self.func(*args, **kwargs)\n",
            "  File \"/usr/local/lib/python3.7/dist-packages/sklearn/pipeline.py\", line 893, in _fit_transform_one\n",
            "    res = transformer.fit_transform(X, y, **fit_params)\n",
            "  File \"/usr/local/lib/python3.7/dist-packages/sklearn/decomposition/_pca.py\", line 407, in fit_transform\n",
            "    U, S, Vt = self._fit(X)\n",
            "  File \"/usr/local/lib/python3.7/dist-packages/sklearn/decomposition/_pca.py\", line 457, in _fit\n",
            "    return self._fit_full(X, n_components)\n",
            "  File \"/usr/local/lib/python3.7/dist-packages/sklearn/decomposition/_pca.py\", line 478, in _fit_full\n",
            "    \"svd_solver='full'\" % (n_components, min(n_samples, n_features))\n",
            "ValueError: n_components=16 must be between 0 and min(n_samples, n_features)=15 with svd_solver='full'\n",
            "\n",
            "--------------------------------------------------------------------------------\n",
            "42 fits failed with the following error:\n",
            "Traceback (most recent call last):\n",
            "  File \"/usr/local/lib/python3.7/dist-packages/sklearn/model_selection/_validation.py\", line 680, in _fit_and_score\n",
            "    estimator.fit(X_train, y_train, **fit_params)\n",
            "  File \"/usr/local/lib/python3.7/dist-packages/sklearn/pipeline.py\", line 390, in fit\n",
            "    Xt = self._fit(X, y, **fit_params_steps)\n",
            "  File \"/usr/local/lib/python3.7/dist-packages/sklearn/pipeline.py\", line 355, in _fit\n",
            "    **fit_params_steps[name],\n",
            "  File \"/usr/local/lib/python3.7/dist-packages/joblib/memory.py\", line 349, in __call__\n",
            "    return self.func(*args, **kwargs)\n",
            "  File \"/usr/local/lib/python3.7/dist-packages/sklearn/pipeline.py\", line 893, in _fit_transform_one\n",
            "    res = transformer.fit_transform(X, y, **fit_params)\n",
            "  File \"/usr/local/lib/python3.7/dist-packages/sklearn/decomposition/_pca.py\", line 407, in fit_transform\n",
            "    U, S, Vt = self._fit(X)\n",
            "  File \"/usr/local/lib/python3.7/dist-packages/sklearn/decomposition/_pca.py\", line 457, in _fit\n",
            "    return self._fit_full(X, n_components)\n",
            "  File \"/usr/local/lib/python3.7/dist-packages/sklearn/decomposition/_pca.py\", line 478, in _fit_full\n",
            "    \"svd_solver='full'\" % (n_components, min(n_samples, n_features))\n",
            "ValueError: n_components=20 must be between 0 and min(n_samples, n_features)=15 with svd_solver='full'\n",
            "\n",
            "--------------------------------------------------------------------------------\n",
            "30 fits failed with the following error:\n",
            "Traceback (most recent call last):\n",
            "  File \"/usr/local/lib/python3.7/dist-packages/sklearn/model_selection/_validation.py\", line 680, in _fit_and_score\n",
            "    estimator.fit(X_train, y_train, **fit_params)\n",
            "  File \"/usr/local/lib/python3.7/dist-packages/sklearn/pipeline.py\", line 390, in fit\n",
            "    Xt = self._fit(X, y, **fit_params_steps)\n",
            "  File \"/usr/local/lib/python3.7/dist-packages/sklearn/pipeline.py\", line 355, in _fit\n",
            "    **fit_params_steps[name],\n",
            "  File \"/usr/local/lib/python3.7/dist-packages/joblib/memory.py\", line 349, in __call__\n",
            "    return self.func(*args, **kwargs)\n",
            "  File \"/usr/local/lib/python3.7/dist-packages/sklearn/pipeline.py\", line 893, in _fit_transform_one\n",
            "    res = transformer.fit_transform(X, y, **fit_params)\n",
            "  File \"/usr/local/lib/python3.7/dist-packages/sklearn/decomposition/_pca.py\", line 407, in fit_transform\n",
            "    U, S, Vt = self._fit(X)\n",
            "  File \"/usr/local/lib/python3.7/dist-packages/sklearn/decomposition/_pca.py\", line 457, in _fit\n",
            "    return self._fit_full(X, n_components)\n",
            "  File \"/usr/local/lib/python3.7/dist-packages/sklearn/decomposition/_pca.py\", line 478, in _fit_full\n",
            "    \"svd_solver='full'\" % (n_components, min(n_samples, n_features))\n",
            "ValueError: n_components=19 must be between 0 and min(n_samples, n_features)=15 with svd_solver='full'\n",
            "\n",
            "--------------------------------------------------------------------------------\n",
            "24 fits failed with the following error:\n",
            "Traceback (most recent call last):\n",
            "  File \"/usr/local/lib/python3.7/dist-packages/sklearn/model_selection/_validation.py\", line 680, in _fit_and_score\n",
            "    estimator.fit(X_train, y_train, **fit_params)\n",
            "  File \"/usr/local/lib/python3.7/dist-packages/sklearn/pipeline.py\", line 390, in fit\n",
            "    Xt = self._fit(X, y, **fit_params_steps)\n",
            "  File \"/usr/local/lib/python3.7/dist-packages/sklearn/pipeline.py\", line 355, in _fit\n",
            "    **fit_params_steps[name],\n",
            "  File \"/usr/local/lib/python3.7/dist-packages/joblib/memory.py\", line 349, in __call__\n",
            "    return self.func(*args, **kwargs)\n",
            "  File \"/usr/local/lib/python3.7/dist-packages/sklearn/pipeline.py\", line 893, in _fit_transform_one\n",
            "    res = transformer.fit_transform(X, y, **fit_params)\n",
            "  File \"/usr/local/lib/python3.7/dist-packages/sklearn/decomposition/_pca.py\", line 407, in fit_transform\n",
            "    U, S, Vt = self._fit(X)\n",
            "  File \"/usr/local/lib/python3.7/dist-packages/sklearn/decomposition/_pca.py\", line 457, in _fit\n",
            "    return self._fit_full(X, n_components)\n",
            "  File \"/usr/local/lib/python3.7/dist-packages/sklearn/decomposition/_pca.py\", line 478, in _fit_full\n",
            "    \"svd_solver='full'\" % (n_components, min(n_samples, n_features))\n",
            "ValueError: n_components=17 must be between 0 and min(n_samples, n_features)=15 with svd_solver='full'\n",
            "\n",
            "--------------------------------------------------------------------------------\n",
            "18 fits failed with the following error:\n",
            "Traceback (most recent call last):\n",
            "  File \"/usr/local/lib/python3.7/dist-packages/sklearn/model_selection/_validation.py\", line 680, in _fit_and_score\n",
            "    estimator.fit(X_train, y_train, **fit_params)\n",
            "  File \"/usr/local/lib/python3.7/dist-packages/sklearn/pipeline.py\", line 390, in fit\n",
            "    Xt = self._fit(X, y, **fit_params_steps)\n",
            "  File \"/usr/local/lib/python3.7/dist-packages/sklearn/pipeline.py\", line 355, in _fit\n",
            "    **fit_params_steps[name],\n",
            "  File \"/usr/local/lib/python3.7/dist-packages/joblib/memory.py\", line 349, in __call__\n",
            "    return self.func(*args, **kwargs)\n",
            "  File \"/usr/local/lib/python3.7/dist-packages/sklearn/pipeline.py\", line 893, in _fit_transform_one\n",
            "    res = transformer.fit_transform(X, y, **fit_params)\n",
            "  File \"/usr/local/lib/python3.7/dist-packages/sklearn/decomposition/_pca.py\", line 407, in fit_transform\n",
            "    U, S, Vt = self._fit(X)\n",
            "  File \"/usr/local/lib/python3.7/dist-packages/sklearn/decomposition/_pca.py\", line 457, in _fit\n",
            "    return self._fit_full(X, n_components)\n",
            "  File \"/usr/local/lib/python3.7/dist-packages/sklearn/decomposition/_pca.py\", line 478, in _fit_full\n",
            "    \"svd_solver='full'\" % (n_components, min(n_samples, n_features))\n",
            "ValueError: n_components=21 must be between 0 and min(n_samples, n_features)=15 with svd_solver='full'\n",
            "\n",
            "--------------------------------------------------------------------------------\n",
            "18 fits failed with the following error:\n",
            "Traceback (most recent call last):\n",
            "  File \"/usr/local/lib/python3.7/dist-packages/sklearn/model_selection/_validation.py\", line 680, in _fit_and_score\n",
            "    estimator.fit(X_train, y_train, **fit_params)\n",
            "  File \"/usr/local/lib/python3.7/dist-packages/sklearn/pipeline.py\", line 390, in fit\n",
            "    Xt = self._fit(X, y, **fit_params_steps)\n",
            "  File \"/usr/local/lib/python3.7/dist-packages/sklearn/pipeline.py\", line 355, in _fit\n",
            "    **fit_params_steps[name],\n",
            "  File \"/usr/local/lib/python3.7/dist-packages/joblib/memory.py\", line 349, in __call__\n",
            "    return self.func(*args, **kwargs)\n",
            "  File \"/usr/local/lib/python3.7/dist-packages/sklearn/pipeline.py\", line 893, in _fit_transform_one\n",
            "    res = transformer.fit_transform(X, y, **fit_params)\n",
            "  File \"/usr/local/lib/python3.7/dist-packages/sklearn/decomposition/_pca.py\", line 407, in fit_transform\n",
            "    U, S, Vt = self._fit(X)\n",
            "  File \"/usr/local/lib/python3.7/dist-packages/sklearn/decomposition/_pca.py\", line 457, in _fit\n",
            "    return self._fit_full(X, n_components)\n",
            "  File \"/usr/local/lib/python3.7/dist-packages/sklearn/decomposition/_pca.py\", line 478, in _fit_full\n",
            "    \"svd_solver='full'\" % (n_components, min(n_samples, n_features))\n",
            "ValueError: n_components=18 must be between 0 and min(n_samples, n_features)=15 with svd_solver='full'\n",
            "\n",
            "  warnings.warn(some_fits_failed_message, FitFailedWarning)\n",
            "/usr/local/lib/python3.7/dist-packages/sklearn/model_selection/_search.py:972: UserWarning: One or more of the test scores are non-finite: [0.56237073 0.62563345 0.59854141 0.62741877 0.64840856        nan\n",
            " 0.53840522 0.60702595 0.5772564  0.63307652 0.57070732 0.60777026\n",
            "        nan 0.59080086 0.54346647 0.54033994 0.58812309 0.63322659\n",
            " 0.56773007        nan 0.59779637 0.565496   0.54763553 0.66001955\n",
            " 0.55165432 0.54287316 0.60583541 0.64468686 0.54733778 0.63992329\n",
            " 0.67669101 0.64840869 0.56906875        nan 0.62087208 0.60300743\n",
            " 0.57502366 0.55909652 0.57383345 0.5519524  0.56237113 0.62905873\n",
            "        nan 0.61208627 0.61238402 0.55939467 0.56862286        nan\n",
            "        nan 0.63411859 0.54763619 0.65451161 0.60762325 0.64766411\n",
            " 0.65302291        nan 0.57249323        nan 0.57427948 0.6533204\n",
            " 0.55254631 0.64974791 0.6074759  0.55939461 0.65064229 0.59467429\n",
            " 0.56073336 0.65451014 0.62027418 0.62310223 0.58157254 0.54629591\n",
            " 0.57889364 0.59124809 0.64066754 0.64617515 0.56817537 0.60672873\n",
            " 0.65406544 0.57249297 0.56743205 0.57785237 0.56772973 0.62935409\n",
            " 0.62503968 0.63203286 0.57472511 0.64185808        nan 0.62548504\n",
            " 0.58440338 0.61491545 0.60613249 0.57919206 0.65570188 0.59318288\n",
            " 0.58871859 0.58737731 0.54435866 0.63977521 0.61238522 0.60985406\n",
            " 0.57026109 0.63456389 0.57681084 0.563562          nan 0.56743178\n",
            " 0.66463398 0.65987001 0.60717449 0.58499596 0.60643111 0.56549673\n",
            "        nan 0.55969149 0.60271007 0.56549699        nan        nan\n",
            " 0.59005807 0.56802822 0.64513362        nan 0.57398066 0.59005801\n",
            " 0.64647237 0.54525338 0.56579521 0.62548411 0.66076314 0.60434725\n",
            " 0.58812103 0.64364452        nan 0.60017998        nan 0.60241186\n",
            " 0.65912537 0.57844701 0.62563232 0.64587886 0.57606566 0.63665008\n",
            " 0.57725627        nan 0.55537628 0.63322553 0.55492899 0.56936737\n",
            " 0.57532062        nan 0.61952961 0.56713396 0.5820197  0.65867954\n",
            " 0.67088557 0.55254684 0.57174959 0.62622989 0.65257722 0.5395955\n",
            " 0.55790425 0.57383199 0.61283364 0.59660769 0.64930208 0.58559226\n",
            " 0.55641662 0.585591   0.56475315 0.64647357 0.61164097 0.53885504\n",
            " 0.5646046  0.6379877  0.65004672 0.54837825 0.57770316 0.55626854\n",
            " 0.59154564 0.54793282 0.65763621 0.63233128 0.59884229 0.66508014\n",
            "        nan        nan 0.6485565  0.55016529 0.63203479 0.65227973\n",
            " 0.65734012 0.5772558  0.64587979 0.59214094 0.64945029 0.56043474\n",
            " 0.56847458 0.58990833 0.57457677 0.58410297 0.6094077  0.55120629\n",
            "        nan 0.64558071 0.66284713 0.56862312 0.63620053 0.60419704\n",
            " 0.5702591  0.62027412 0.63084438 0.62339892 0.63397104 0.58693254\n",
            " 0.54540219 0.57368331 0.54778381 0.54912296        nan 0.64617522\n",
            "        nan 0.57948994 0.66016863 0.64215596 0.62935608 0.57174752\n",
            " 0.63024894 0.57174852 0.6036018  0.62205977 0.57428028 0.54540266\n",
            "        nan 0.59690365 0.60717423        nan 0.55433276 0.63947753\n",
            " 0.57591672        nan 0.667015          nan 0.54004199 0.63739226\n",
            " 0.66344224 0.6326289  0.54882561 0.6073239  0.62965131 0.55671417\n",
            " 0.54778354 0.55835168 0.54793288 0.62741937 0.61402525 0.56371101\n",
            " 0.5704093  0.50044118 0.66388946 0.63099146 0.56103025 0.5644546\n",
            " 0.6193802  0.62801534 0.5899086         nan 0.65987034 0.60970565\n",
            " 0.59898764        nan 0.63248142 0.65912696 0.55150471 0.56609243\n",
            " 0.62444284 0.57934126 0.60791954 0.61283138 0.63203426 0.65332047\n",
            "        nan 0.56862266 0.570856   0.60702568 0.55879837 0.64438897\n",
            " 0.66508054 0.59645801 0.62980039 0.56802749 0.6632935  0.57457703\n",
            " 0.63084418 0.64141212 0.61595751 0.63486197 0.62756771 0.66284687\n",
            " 0.57383299 0.63158869 0.59511806 0.60628323 0.5445088  0.57040797\n",
            " 0.59660656 0.57874603 0.5692163         nan 0.64974811        nan\n",
            " 0.57948868 0.64825955 0.57219488 0.60985419 0.58097744 0.63367216\n",
            "        nan 0.61848774 0.53840515 0.62191335 0.57889311 0.57874583\n",
            " 0.58901707 0.63262956 0.59095013 0.64007263 0.57398213 0.57651262\n",
            " 0.61714918        nan 0.58321018 0.63575496 0.61744587        nan\n",
            " 0.61268297 0.5629665         nan 0.63962547 0.54480682 0.57949021\n",
            " 0.6309912  0.59764909 0.63709524 0.63203319 0.62325051 0.61134442\n",
            "        nan 0.58901614 0.57383445 0.63739413 0.56177636 0.5412336\n",
            " 0.60732403 0.651236   0.60806908        nan 0.64185808 0.57591698\n",
            " 0.60270875 0.6518325  0.62086975 0.64334744 0.63143789 0.5940766\n",
            " 0.60806802 0.64126297 0.59243903 0.54361621 0.65421372 0.54838018\n",
            " 0.60270908 0.56281676 0.65480836 0.58797288        nan 0.64617435\n",
            " 0.65406591 0.57145243 0.57547029 0.58172228 0.61670169 0.62087188\n",
            " 0.57755429 0.61580804 0.66761123 0.54093571 0.57621294 0.64096602\n",
            " 0.65391577 0.65302378 0.56430592 0.64096482 0.59378084 0.64156112\n",
            " 0.66091141 0.63902957 0.66359131 0.54435999 0.6030071  0.57189906\n",
            " 0.64319982 0.52813211 0.56132966 0.62712155 0.56386015 0.63620046\n",
            " 0.58648525 0.58246819 0.6300986  0.55388526 0.64156006 0.62280687\n",
            " 0.58871739        nan 0.59928593 0.59020622 0.62994999 0.64126231\n",
            " 0.64438864 0.57189766 0.65748826 0.67103352 0.62935668 0.63754446\n",
            " 0.56951678 0.55239724        nan 0.55790591 0.56638879 0.58961038\n",
            " 0.57249323 0.58573914 0.54465715        nan        nan 0.55626828\n",
            " 0.65123733 0.5602874         nan 0.6528739         nan 0.65451314\n",
            " 0.67028974 0.56475275 0.64989785 0.52768322 0.64736616        nan\n",
            " 0.64706834 0.63902957 0.65093858 0.63411746 0.56713483 0.64468619\n",
            " 0.65242814 0.64930108 0.65510724 0.5708558  0.6501946         nan\n",
            " 0.63888156 0.61714799 0.58514577        nan 0.55344036 0.61967755\n",
            " 0.56147754 0.63233088 0.56847378 0.63917964 0.65138481 0.55537515\n",
            " 0.63977381 0.61834052 0.55567337 0.604645   0.55790551 0.63545754\n",
            " 0.56862233 0.57442902 0.56892061 0.66686652 0.54629445 0.61089513\n",
            " 0.54986621 0.56237126 0.58350866 0.57487505 0.57130189 0.5724923\n",
            " 0.60122078 0.60181609        nan        nan 0.57204541 0.55061338\n",
            "        nan 0.58157354]\n",
            "  category=UserWarning,\n"
          ]
        },
        {
          "name": "stdout",
          "output_type": "stream",
          "text": [
            "{'algo__colsample_bytree': 0.897955434055594, 'algo__gamma': 2, 'algo__learning_rate': 0.015415722348909035, 'algo__max_depth': 7, 'algo__n_estimators': 162, 'algo__reg_alpha': 0.0013924162890248672, 'algo__reg_lambda': 0.07284371265166893, 'algo__subsample': 0.5713223173537884, 'pca__n_components': 17, 'prep__numeric__degree': 2, 'prep__numeric__interaction_only': False}\n",
            "0.7588568026198274 0.6766910052319276 0.6767857142857143\n",
            "[[605  38 117]\n",
            " [ 60 178 103]\n",
            " [170  55 354]] \n",
            "\n",
            "              precision    recall  f1-score   support\n",
            "\n",
            "           0       0.79      0.86      0.82      3036\n",
            "           1       0.78      0.67      0.72      1365\n",
            "           2       0.71      0.68      0.69      2317\n",
            "\n",
            "    accuracy                           0.76      6718\n",
            "   macro avg       0.76      0.74      0.75      6718\n",
            "weighted avg       0.76      0.76      0.76      6718\n",
            " \n",
            "\n",
            "              precision    recall  f1-score   support\n",
            "\n",
            "           0       0.72      0.80      0.76       760\n",
            "           1       0.66      0.52      0.58       341\n",
            "           2       0.62      0.61      0.61       579\n",
            "\n",
            "    accuracy                           0.68      1680\n",
            "   macro avg       0.67      0.64      0.65      1680\n",
            "weighted avg       0.67      0.68      0.67      1680\n",
            "\n"
          ]
        }
      ],
      "source": [
        "from imblearn.pipeline import Pipeline\n",
        "from sklearn.decomposition import PCA\n",
        "from sklearn.pipeline import Pipeline\n",
        "\n",
        "pipeline = Pipeline([\n",
        "    ('prep', preprocessor_PCA),\n",
        "    ('pca', PCA()),\n",
        "    ('algo', XGBClassifier(n_jobs=-1, random_state=42, use_label_encoder=False))\n",
        "])\n",
        "\n",
        "model_XGB_PCA = RandomizedSearchCV(pipeline, parameters, cv=3, n_iter=500, n_jobs=-1, verbose=1, random_state=42)\n",
        "model_XGB_PCA.fit(X_train, y_train)\n",
        "\n",
        "print(model_XGB_PCA.best_params_)\n",
        "print(model_XGB_PCA.score(X_train, y_train), model_XGB_PCA.best_score_, model_XGB_PCA.score(X_test, y_test))\n",
        "\n",
        "y_pred = model_XGB_PCA.predict(X_test)\n",
        "y_pred_train = model_XGB_PCA.predict(X_train)\n",
        "\n",
        "print(confusion_matrix(y_test, y_pred), \"\\n\")\n",
        "print(classification_report(y_train, y_pred_train), \"\\n\")\n",
        "print(classification_report(y_test, y_pred))"
      ]
    },
    {
      "cell_type": "markdown",
      "metadata": {
        "id": "nj0LPBx7Vy1d"
      },
      "source": [
        "## Random Forest"
      ]
    },
    {
      "cell_type": "markdown",
      "metadata": {
        "id": "_v1hrqZ4Vy1e"
      },
      "source": [
        "### Fitting"
      ]
    },
    {
      "cell_type": "markdown",
      "metadata": {
        "id": "L4G8Ba_RVy1e"
      },
      "source": [
        "#### Parameter yang akan di Tuning"
      ]
    },
    {
      "cell_type": "code",
      "execution_count": 40,
      "metadata": {
        "id": "gKi2iX1SVy1e"
      },
      "outputs": [],
      "source": [
        "from jcopml.tuning.space import Integer, Real\n",
        "\n",
        "parameters = {\n",
        "    'algo__n_estimators': Integer(low=100, high=200),\n",
        "    'algo__max_depth': Integer(low=20, high=80),\n",
        "    'algo__max_features': Real(low=0.1, high=1, prior='uniform'),\n",
        "    'algo__min_samples_leaf': Integer(low=1, high=20),\n",
        "    'prep__numeric__degree': [1, 2, 3],\n",
        "    'prep__numeric__interaction_only': [True, False]\n",
        "}"
      ]
    },
    {
      "cell_type": "markdown",
      "metadata": {
        "id": "jHyuT3bzVy1e"
      },
      "source": [
        "#### Fitting menggunakan RandomForestClassifier dengan tuning menggunakan RandomSearchCV"
      ]
    },
    {
      "cell_type": "code",
      "execution_count": 41,
      "metadata": {
        "colab": {
          "base_uri": "https://localhost:8080/"
        },
        "id": "QfQzSQBoVy1e",
        "outputId": "d5e76b55-93d1-4b52-c493-ba9daece9e4a"
      },
      "outputs": [
        {
          "name": "stdout",
          "output_type": "stream",
          "text": [
            "Fitting 3 folds for each of 500 candidates, totalling 1500 fits\n",
            "{'algo__max_depth': 39, 'algo__max_features': 0.45783495816651487, 'algo__min_samples_leaf': 5, 'algo__n_estimators': 102, 'prep__numeric__degree': 3, 'prep__numeric__interaction_only': True}\n",
            "0.7728490622208991 0.6899399046130288 0.6803571428571429\n",
            "[[589  39 132]\n",
            " [ 62 177 102]\n",
            " [145  57 377]] \n",
            "\n",
            "              precision    recall  f1-score   support\n",
            "\n",
            "           0       0.81      0.85      0.83      3036\n",
            "           1       0.78      0.70      0.74      1365\n",
            "           2       0.72      0.72      0.72      2317\n",
            "\n",
            "    accuracy                           0.77      6718\n",
            "   macro avg       0.77      0.75      0.76      6718\n",
            "weighted avg       0.77      0.77      0.77      6718\n",
            " \n",
            "\n",
            "              precision    recall  f1-score   support\n",
            "\n",
            "           0       0.74      0.78      0.76       760\n",
            "           1       0.65      0.52      0.58       341\n",
            "           2       0.62      0.65      0.63       579\n",
            "\n",
            "    accuracy                           0.68      1680\n",
            "   macro avg       0.67      0.65      0.66      1680\n",
            "weighted avg       0.68      0.68      0.68      1680\n",
            "\n"
          ]
        }
      ],
      "source": [
        "from sklearn.ensemble import RandomForestClassifier\n",
        "from sklearn.model_selection import GridSearchCV\n",
        "from sklearn.metrics import confusion_matrix, classification_report\n",
        "from sklearn.pipeline import Pipeline\n",
        "\n",
        "pipeline = Pipeline([\n",
        "    ('prep', preprocessor),\n",
        "    ('algo', RandomForestClassifier(n_jobs=-1, random_state=42))\n",
        "])\n",
        "\n",
        "model_RF = RandomizedSearchCV(pipeline, parameters, cv=3, n_iter=500, n_jobs=-1, verbose=1, random_state=42)\n",
        "model_RF.fit(X_train, y_train)\n",
        "\n",
        "print(model_RF.best_params_)\n",
        "print(model_RF.score(X_train, y_train), model_RF.best_score_, model_RF.score(X_test, y_test))\n",
        "\n",
        "y_pred = model_RF.predict(X_test)\n",
        "y_pred_train = model_RF.predict(X_train)\n",
        "\n",
        "print(confusion_matrix(y_test, y_pred), \"\\n\")\n",
        "print(classification_report(y_train, y_pred_train), \"\\n\")\n",
        "print(classification_report(y_test, y_pred))"
      ]
    },
    {
      "cell_type": "markdown",
      "metadata": {
        "id": "bPIhbXKEVy1e"
      },
      "source": [
        "### Fitting dengan Oversampling"
      ]
    },
    {
      "cell_type": "markdown",
      "metadata": {
        "id": "TEUL13PSVy1f"
      },
      "source": [
        "#### Parameter yang akan dituning dengan pipeline"
      ]
    },
    {
      "cell_type": "code",
      "execution_count": 42,
      "metadata": {
        "id": "Cl8KSebzVy1f"
      },
      "outputs": [],
      "source": [
        "from jcopml.tuning.space import Integer, Real\n",
        "\n",
        "parameter_smote = {\n",
        "    'algo__n_estimators': Integer(low=100, high=200),\n",
        "    'algo__max_depth': Integer(low=20, high=80),\n",
        "    'algo__max_features': Real(low=0.1, high=1, prior='uniform'),\n",
        "    'algo__min_samples_leaf': Integer(low=1, high=20),\n",
        "    'prep__numeric__degree': [1, 2, 3],\n",
        "    'prep__numeric__interaction_only': [True, False],\n",
        "    'smote__k_neighbors': [3, 5, 7],\n",
        "    'smote__sampling_strategy': ['minority', 'majority', 'not minority', 'not majority'],\n",
        "}"
      ]
    },
    {
      "cell_type": "markdown",
      "metadata": {
        "id": "9Y40h2wtVy1f"
      },
      "source": [
        "#### Fitting menggunakan RandomForestClassifier dan Oversampling SMOTE dengan tuning menggunakan RandomSearchCV"
      ]
    },
    {
      "cell_type": "code",
      "execution_count": 43,
      "metadata": {
        "colab": {
          "base_uri": "https://localhost:8080/"
        },
        "id": "tKl_lur6Vy1f",
        "outputId": "c8f0879b-d904-42de-f94a-7028adebcd0b"
      },
      "outputs": [
        {
          "name": "stdout",
          "output_type": "stream",
          "text": [
            "Fitting 3 folds for each of 500 candidates, totalling 1500 fits\n"
          ]
        },
        {
          "name": "stderr",
          "output_type": "stream",
          "text": [
            "/usr/local/lib/python3.7/dist-packages/sklearn/model_selection/_validation.py:372: FitFailedWarning: \n",
            "330 fits failed out of a total of 1500.\n",
            "The score on these train-test partitions for these parameters will be set to nan.\n",
            "If these failures are not expected, you can try to debug them by setting error_score='raise'.\n",
            "\n",
            "Below are more details about the failures:\n",
            "--------------------------------------------------------------------------------\n",
            "330 fits failed with the following error:\n",
            "Traceback (most recent call last):\n",
            "  File \"/usr/local/lib/python3.7/dist-packages/sklearn/model_selection/_validation.py\", line 680, in _fit_and_score\n",
            "    estimator.fit(X_train, y_train, **fit_params)\n",
            "  File \"/usr/local/lib/python3.7/dist-packages/imblearn/pipeline.py\", line 262, in fit\n",
            "    Xt, yt = self._fit(X, y, **fit_params_steps)\n",
            "  File \"/usr/local/lib/python3.7/dist-packages/imblearn/pipeline.py\", line 226, in _fit\n",
            "    **fit_params_steps[name],\n",
            "  File \"/usr/local/lib/python3.7/dist-packages/joblib/memory.py\", line 349, in __call__\n",
            "    return self.func(*args, **kwargs)\n",
            "  File \"/usr/local/lib/python3.7/dist-packages/imblearn/pipeline.py\", line 388, in _fit_resample_one\n",
            "    X_res, y_res = sampler.fit_resample(X, y, **fit_params)\n",
            "  File \"/usr/local/lib/python3.7/dist-packages/imblearn/base.py\", line 80, in fit_resample\n",
            "    self.sampling_strategy, y, self._sampling_type\n",
            "  File \"/usr/local/lib/python3.7/dist-packages/imblearn/utils/_validation.py\", line 517, in check_sampling_strategy\n",
            "    sorted(SAMPLING_TARGET_KIND[sampling_strategy](y, sampling_type).items())\n",
            "  File \"/usr/local/lib/python3.7/dist-packages/imblearn/utils/_validation.py\", line 166, in _sampling_strategy_majority\n",
            "    \"'sampling_strategy'='majority' cannot be used with over-sampler.\"\n",
            "ValueError: 'sampling_strategy'='majority' cannot be used with over-sampler.\n",
            "\n",
            "  warnings.warn(some_fits_failed_message, FitFailedWarning)\n",
            "/usr/local/lib/python3.7/dist-packages/sklearn/model_selection/_search.py:972: UserWarning: One or more of the test scores are non-finite: [       nan        nan 0.65600223 0.64602734        nan 0.63649994\n",
            "        nan 0.66820654 0.64617681 0.66910012 0.66359231 0.63918011\n",
            " 0.63575702 0.64974777 0.65153429 0.67192864 0.67416178 0.64974904\n",
            " 0.67579961 0.63947753 0.63932891 0.645878   0.66746368 0.63813777\n",
            " 0.67550186 0.67401363 0.63545767        nan        nan 0.6814547\n",
            "        nan        nan 0.64319982        nan 0.66478292 0.63709637\n",
            " 0.67431098 0.65391624        nan 0.64900499 0.66746355        nan\n",
            " 0.66031897 0.6379895  0.65793675 0.64305035 0.63114133 0.6707373\n",
            " 0.65897855 0.63694829 0.64840955 0.62637857 0.66597459        nan\n",
            " 0.60747324 0.66627274 0.6533208  0.65466188        nan 0.63769161\n",
            " 0.64855836 0.64766544        nan 0.67207731        nan        nan\n",
            " 0.65123793 0.67311918 0.66180753        nan 0.66790952 0.64840949\n",
            " 0.67282056 0.65302404 0.63352222 0.63992355 0.6485581  0.63471363\n",
            " 0.6766918         nan 0.6692498  0.64885512 0.6253357  0.67535179\n",
            " 0.64855723 0.63813698        nan 0.63099279        nan        nan\n",
            " 0.66805892 0.66925026 0.67937097 0.63516032        nan        nan\n",
            " 0.67163122 0.63620146 0.62399788 0.65302524 0.67654286        nan\n",
            "        nan 0.66121222        nan        nan 0.63947919 0.64141331\n",
            " 0.66448583 0.63605371 0.63158929        nan 0.62935442 0.64245637\n",
            " 0.67282096        nan 0.68264545 0.65049309        nan 0.63754154\n",
            " 0.67431045        nan 0.66522942 0.68279479 0.67282149        nan\n",
            " 0.67832957        nan 0.63084318 0.67014199 0.65034335 0.66612294\n",
            " 0.65004646        nan 0.67431098 0.62950443        nan 0.67103558\n",
            " 0.66954689 0.66656937 0.67133233        nan 0.67654293 0.65064316\n",
            " 0.66389119 0.67565047        nan        nan 0.6586794  0.63724618\n",
            "        nan 0.64275333 0.64751557 0.64379526        nan 0.64974844\n",
            " 0.66776184 0.63694756        nan 0.65555447 0.67564947 0.66344417\n",
            "        nan 0.63664955 0.64275266 0.6619562         nan 0.65838252\n",
            "        nan 0.65376743 0.60613462 0.64602893 0.65659713 0.65957399\n",
            "        nan        nan 0.63977521 0.65198052 0.66523055 0.63709651\n",
            "        nan 0.64989791 0.67014199 0.64915294 0.65406558 0.66538082\n",
            " 0.63381997 0.65868073 0.63590537 0.67386522 0.67192943 0.66701633\n",
            " 0.67147988 0.65123826 0.67431039        nan 0.67862619        nan\n",
            "        nan 0.63501131 0.65302404 0.60851577 0.64037151 0.64364585\n",
            " 0.62712348 0.64483733 0.65406604        nan 0.66582485 0.67252387\n",
            " 0.64468792        nan 0.66061705 0.64841062 0.6624019  0.638585\n",
            " 0.6417102  0.67862739        nan        nan 0.66076486 0.62727122\n",
            " 0.66880264 0.63337554 0.65510884 0.65138601 0.67207778 0.63203479\n",
            " 0.66374212 0.67192744 0.66076446 0.67371415 0.67073769 0.63709518\n",
            " 0.64826194        nan 0.63382137 0.66493186 0.65570428 0.67058822\n",
            "        nan        nan        nan 0.67133293 0.65391637 0.64468872\n",
            "        nan 0.66597333 0.67222692 0.65540559 0.68190166        nan\n",
            " 0.65272735 0.66642022 0.65749039 0.67326845        nan 0.67207731\n",
            " 0.6454321  0.68011475 0.64989732 0.67951952 0.6603181  0.65644939\n",
            " 0.67133253 0.63694803 0.645878   0.68175259 0.66567764        nan\n",
            " 0.66255151        nan 0.65257768 0.66671758 0.63888375        nan\n",
            "        nan 0.63769075        nan 0.65674581 0.66582572 0.63382017\n",
            " 0.64409222 0.66939867 0.6576392  0.67073836 0.65957286 0.64915287\n",
            " 0.66180746        nan 0.64111656 0.64111583        nan 0.65064176\n",
            " 0.63277877 0.64379526        nan 0.64900532 0.66790965 0.68547416\n",
            " 0.64677165 0.66284826        nan 0.65734145 0.65719157 0.66270131\n",
            " 0.64260365 0.66165845 0.63382037 0.66433716 0.66537743 0.66195654\n",
            " 0.66046658 0.66657063        nan        nan        nan 0.6702896\n",
            " 0.62890939 0.65823497 0.67222679        nan 0.67058915 0.6338209\n",
            " 0.64915353        nan 0.67058895 0.66389172 0.63411899 0.67207691\n",
            " 0.6713328  0.64558211 0.62355072 0.67029166 0.64081781 0.67058822\n",
            " 0.65585116 0.6719287         nan 0.66463411 0.67416224        nan\n",
            "        nan 0.66135904 0.66910119 0.66225369 0.64275286 0.67475582\n",
            " 0.65674521 0.66002022 0.65555327 0.63769214 0.66136004 0.6671654\n",
            " 0.67088743        nan 0.63724585 0.66880324 0.65287557 0.66835667\n",
            "        nan 0.66388986        nan 0.64617555 0.63396911 0.63992409\n",
            " 0.64662244 0.67133413 0.66463504 0.64051913 0.66850382        nan\n",
            " 0.62875978 0.62355005 0.65495837 0.65883047        nan        nan\n",
            " 0.64781305        nan 0.65064302        nan 0.63099219        nan\n",
            "        nan        nan 0.66805733 0.6682078  0.65987114 0.6607636\n",
            " 0.66195521 0.66225342 0.64468878 0.66180553 0.67237413 0.60345426\n",
            "        nan 0.66076513 0.66850469 0.64334883 0.65228039        nan\n",
            " 0.65555361 0.67192937 0.66790991 0.67058988 0.6676121  0.64692046\n",
            " 0.63783836        nan 0.64156073        nan        nan 0.66463537\n",
            " 0.6507919  0.62265706        nan        nan 0.66121189 0.63441734\n",
            " 0.65123673 0.66493113 0.67252394 0.65495897 0.66478438 0.66121182\n",
            " 0.67133287 0.66671891 0.67624577 0.66895112 0.6507907  0.64349764\n",
            " 0.64721981 0.6539161  0.64230657 0.66389119 0.66776084 0.65228053\n",
            " 0.63575596        nan 0.66389199        nan        nan 0.62146566\n",
            "        nan 0.66895244 0.67267308 0.67460701 0.65689342        nan\n",
            " 0.64498607 0.67952038 0.6560009  0.64915181        nan 0.67029087\n",
            " 0.64424149 0.65302364 0.66850449 0.64230497 0.66939641 0.6707373\n",
            " 0.64573131 0.66641936        nan 0.65704356 0.64989838 0.66523035\n",
            " 0.66954775 0.6236988  0.66329396 0.66150825 0.66195587 0.66344516\n",
            " 0.64468832 0.62072041        nan        nan        nan 0.66002102\n",
            " 0.6607642  0.67177923 0.63664815        nan 0.65749039 0.66656917\n",
            " 0.66508293 0.64468838 0.65987147 0.64171186 0.62593194        nan\n",
            "        nan 0.67624524 0.6344174         nan 0.64185967 0.65361915\n",
            " 0.64885625 0.63248128]\n",
            "  category=UserWarning,\n"
          ]
        },
        {
          "name": "stdout",
          "output_type": "stream",
          "text": [
            "{'algo__max_depth': 65, 'algo__max_features': 0.33840590251306013, 'algo__min_samples_leaf': 5, 'algo__n_estimators': 196, 'prep__numeric__degree': 3, 'prep__numeric__interaction_only': True, 'smote__k_neighbors': 3, 'smote__sampling_strategy': 'not minority'}\n",
            "0.7722536469187258 0.6854741567238776 0.6726190476190477\n",
            "[[557  39 164]\n",
            " [ 47 171 123]\n",
            " [123  54 402]] \n",
            "\n",
            "              precision    recall  f1-score   support\n",
            "\n",
            "           0       0.83      0.82      0.82      3036\n",
            "           1       0.79      0.67      0.73      1365\n",
            "           2       0.69      0.77      0.73      2317\n",
            "\n",
            "    accuracy                           0.77      6718\n",
            "   macro avg       0.77      0.75      0.76      6718\n",
            "weighted avg       0.78      0.77      0.77      6718\n",
            " \n",
            "\n",
            "              precision    recall  f1-score   support\n",
            "\n",
            "           0       0.77      0.73      0.75       760\n",
            "           1       0.65      0.50      0.57       341\n",
            "           2       0.58      0.69      0.63       579\n",
            "\n",
            "    accuracy                           0.67      1680\n",
            "   macro avg       0.67      0.64      0.65      1680\n",
            "weighted avg       0.68      0.67      0.67      1680\n",
            "\n"
          ]
        }
      ],
      "source": [
        "from sklearn.ensemble import RandomForestClassifier\n",
        "from sklearn.model_selection import GridSearchCV\n",
        "from sklearn.metrics import confusion_matrix, classification_report\n",
        "from imblearn.pipeline import Pipeline\n",
        "from imblearn.over_sampling import SMOTE\n",
        "\n",
        "pipeline = Pipeline([\n",
        "    ('prep', preprocessor),\n",
        "    ('smote', SMOTE(random_state=42, n_jobs=-1)), \n",
        "    ('algo', RandomForestClassifier(n_jobs=-1, random_state=42)),\n",
        "])\n",
        "\n",
        "model_RF_SMOTE = RandomizedSearchCV(pipeline, parameter_smote, cv=3, n_iter=500, n_jobs=-1, verbose=1, random_state=42)\n",
        "model_RF_SMOTE.fit(X_train, y_train)\n",
        "\n",
        "print(model_RF_SMOTE.best_params_)\n",
        "print(model_RF_SMOTE.score(X_train, y_train), model_RF_SMOTE.best_score_, model_RF_SMOTE.score(X_test, y_test))\n",
        "\n",
        "y_pred = model_RF_SMOTE.predict(X_test)\n",
        "y_pred_train = model_RF_SMOTE.predict(X_train)\n",
        "\n",
        "print(confusion_matrix(y_test, y_pred), \"\\n\")\n",
        "print(classification_report(y_train, y_pred_train), \"\\n\")\n",
        "print(classification_report(y_test, y_pred))"
      ]
    },
    {
      "cell_type": "markdown",
      "metadata": {
        "id": "mjvzZC6bVy1f"
      },
      "source": [
        "# Kesimpulan"
      ]
    },
    {
      "cell_type": "markdown",
      "metadata": {
        "id": "q7xd8QVTVy1f"
      },
      "source": [
        "berdasarkan algoritma Random Forest dengan XGBoost didapatkan bahwa: <br>\n",
        "Akurasi yang didapatkan algoritma XGBoost lebih tinggi daripada Random Forest yaitu 69% sedangkan Random Forest 68% <br>\n",
        "\n",
        "RF Smote , Akurasi Testing 67% Training 77% <br>\n",
        "RF       , Akurasi Testing 68% Training 77% <br>\n",
        "XGB Pca  , Akurasi Testing 68% Training 76% <br>\n",
        "XGB Smote, Akurasi Testing 69% Training 76% <br>\n",
        "XGB      , Akurasi Testing 69% Training 76% <br>\n",
        "\n",
        "<br>\n",
        "Proses Reduksi Dimensi tidak begitu mnemengaruhi nilai akurasi karena berdasarkan proses tersebut akurasi yang didapat tidak lebih baik dari sebelumnya.\n",
        "<br>\n",
        "<br>\n",
        "Proses SMOTE membuat data menjadi lebih seimbang dan tidak terlalu overfitting, tetapi tidak begitu memengaruhi nilai akurasi dari model XGB dan RF."
      ]
    },
    {
      "cell_type": "markdown",
      "metadata": {
        "id": "AwYXBSvcDtnS"
      },
      "source": [
        "# Predict"
      ]
    },
    {
      "cell_type": "code",
      "execution_count": 59,
      "metadata": {
        "colab": {
          "base_uri": "https://localhost:8080/",
          "height": 363
        },
        "id": "UQP5xhrwHndZ",
        "outputId": "978c7ff2-0b5e-46f1-fd93-6db06087d530"
      },
      "outputs": [
        {
          "data": {
            "text/html": [
              "\n",
              "  <div id=\"df-01ad4e95-6fe6-42fe-a779-1d4c6e929d09\">\n",
              "    <div class=\"colab-df-container\">\n",
              "      <div>\n",
              "<style scoped>\n",
              "    .dataframe tbody tr th:only-of-type {\n",
              "        vertical-align: middle;\n",
              "    }\n",
              "\n",
              "    .dataframe tbody tr th {\n",
              "        vertical-align: top;\n",
              "    }\n",
              "\n",
              "    .dataframe thead th {\n",
              "        text-align: right;\n",
              "    }\n",
              "</style>\n",
              "<table border=\"1\" class=\"dataframe\">\n",
              "  <thead>\n",
              "    <tr style=\"text-align: right;\">\n",
              "      <th></th>\n",
              "      <th>wilayah</th>\n",
              "      <th>waktu</th>\n",
              "      <th>cuaca</th>\n",
              "      <th>kelembaban_min</th>\n",
              "      <th>kelembaban_max</th>\n",
              "      <th>suhu_min</th>\n",
              "      <th>suhu_max</th>\n",
              "    </tr>\n",
              "  </thead>\n",
              "  <tbody>\n",
              "    <tr>\n",
              "      <th>0</th>\n",
              "      <td>Kepulauan Seribu</td>\n",
              "      <td>Siang</td>\n",
              "      <td>1</td>\n",
              "      <td>70</td>\n",
              "      <td>90</td>\n",
              "      <td>24</td>\n",
              "      <td>32</td>\n",
              "    </tr>\n",
              "    <tr>\n",
              "      <th>1</th>\n",
              "      <td>Kepulauan Seribu</td>\n",
              "      <td>Pagi</td>\n",
              "      <td>1</td>\n",
              "      <td>70</td>\n",
              "      <td>90</td>\n",
              "      <td>24</td>\n",
              "      <td>32</td>\n",
              "    </tr>\n",
              "    <tr>\n",
              "      <th>2</th>\n",
              "      <td>Kepulauan Seribu</td>\n",
              "      <td>Malam</td>\n",
              "      <td>1</td>\n",
              "      <td>70</td>\n",
              "      <td>90</td>\n",
              "      <td>24</td>\n",
              "      <td>32</td>\n",
              "    </tr>\n",
              "    <tr>\n",
              "      <th>3</th>\n",
              "      <td>Kepulauan Seribu</td>\n",
              "      <td>Dini Hari</td>\n",
              "      <td>1</td>\n",
              "      <td>70</td>\n",
              "      <td>90</td>\n",
              "      <td>24</td>\n",
              "      <td>32</td>\n",
              "    </tr>\n",
              "    <tr>\n",
              "      <th>4</th>\n",
              "      <td>Jakarta Utara</td>\n",
              "      <td>Siang</td>\n",
              "      <td>1</td>\n",
              "      <td>70</td>\n",
              "      <td>90</td>\n",
              "      <td>24</td>\n",
              "      <td>32</td>\n",
              "    </tr>\n",
              "    <tr>\n",
              "      <th>5</th>\n",
              "      <td>Jakarta Utara</td>\n",
              "      <td>Pagi</td>\n",
              "      <td>2</td>\n",
              "      <td>70</td>\n",
              "      <td>90</td>\n",
              "      <td>24</td>\n",
              "      <td>32</td>\n",
              "    </tr>\n",
              "    <tr>\n",
              "      <th>6</th>\n",
              "      <td>Jakarta Utara</td>\n",
              "      <td>Malam</td>\n",
              "      <td>2</td>\n",
              "      <td>70</td>\n",
              "      <td>90</td>\n",
              "      <td>24</td>\n",
              "      <td>32</td>\n",
              "    </tr>\n",
              "    <tr>\n",
              "      <th>7</th>\n",
              "      <td>Jakarta Utara</td>\n",
              "      <td>Dini Hari</td>\n",
              "      <td>1</td>\n",
              "      <td>70</td>\n",
              "      <td>90</td>\n",
              "      <td>24</td>\n",
              "      <td>32</td>\n",
              "    </tr>\n",
              "    <tr>\n",
              "      <th>8</th>\n",
              "      <td>Jakarta Timur</td>\n",
              "      <td>Siang</td>\n",
              "      <td>1</td>\n",
              "      <td>70</td>\n",
              "      <td>90</td>\n",
              "      <td>24</td>\n",
              "      <td>32</td>\n",
              "    </tr>\n",
              "    <tr>\n",
              "      <th>9</th>\n",
              "      <td>Jakarta Timur</td>\n",
              "      <td>Pagi</td>\n",
              "      <td>2</td>\n",
              "      <td>70</td>\n",
              "      <td>90</td>\n",
              "      <td>24</td>\n",
              "      <td>32</td>\n",
              "    </tr>\n",
              "  </tbody>\n",
              "</table>\n",
              "</div>\n",
              "      <button class=\"colab-df-convert\" onclick=\"convertToInteractive('df-01ad4e95-6fe6-42fe-a779-1d4c6e929d09')\"\n",
              "              title=\"Convert this dataframe to an interactive table.\"\n",
              "              style=\"display:none;\">\n",
              "        \n",
              "  <svg xmlns=\"http://www.w3.org/2000/svg\" height=\"24px\"viewBox=\"0 0 24 24\"\n",
              "       width=\"24px\">\n",
              "    <path d=\"M0 0h24v24H0V0z\" fill=\"none\"/>\n",
              "    <path d=\"M18.56 5.44l.94 2.06.94-2.06 2.06-.94-2.06-.94-.94-2.06-.94 2.06-2.06.94zm-11 1L8.5 8.5l.94-2.06 2.06-.94-2.06-.94L8.5 2.5l-.94 2.06-2.06.94zm10 10l.94 2.06.94-2.06 2.06-.94-2.06-.94-.94-2.06-.94 2.06-2.06.94z\"/><path d=\"M17.41 7.96l-1.37-1.37c-.4-.4-.92-.59-1.43-.59-.52 0-1.04.2-1.43.59L10.3 9.45l-7.72 7.72c-.78.78-.78 2.05 0 2.83L4 21.41c.39.39.9.59 1.41.59.51 0 1.02-.2 1.41-.59l7.78-7.78 2.81-2.81c.8-.78.8-2.07 0-2.86zM5.41 20L4 18.59l7.72-7.72 1.47 1.35L5.41 20z\"/>\n",
              "  </svg>\n",
              "      </button>\n",
              "      \n",
              "  <style>\n",
              "    .colab-df-container {\n",
              "      display:flex;\n",
              "      flex-wrap:wrap;\n",
              "      gap: 12px;\n",
              "    }\n",
              "\n",
              "    .colab-df-convert {\n",
              "      background-color: #E8F0FE;\n",
              "      border: none;\n",
              "      border-radius: 50%;\n",
              "      cursor: pointer;\n",
              "      display: none;\n",
              "      fill: #1967D2;\n",
              "      height: 32px;\n",
              "      padding: 0 0 0 0;\n",
              "      width: 32px;\n",
              "    }\n",
              "\n",
              "    .colab-df-convert:hover {\n",
              "      background-color: #E2EBFA;\n",
              "      box-shadow: 0px 1px 2px rgba(60, 64, 67, 0.3), 0px 1px 3px 1px rgba(60, 64, 67, 0.15);\n",
              "      fill: #174EA6;\n",
              "    }\n",
              "\n",
              "    [theme=dark] .colab-df-convert {\n",
              "      background-color: #3B4455;\n",
              "      fill: #D2E3FC;\n",
              "    }\n",
              "\n",
              "    [theme=dark] .colab-df-convert:hover {\n",
              "      background-color: #434B5C;\n",
              "      box-shadow: 0px 1px 3px 1px rgba(0, 0, 0, 0.15);\n",
              "      filter: drop-shadow(0px 1px 2px rgba(0, 0, 0, 0.3));\n",
              "      fill: #FFFFFF;\n",
              "    }\n",
              "  </style>\n",
              "\n",
              "      <script>\n",
              "        const buttonEl =\n",
              "          document.querySelector('#df-01ad4e95-6fe6-42fe-a779-1d4c6e929d09 button.colab-df-convert');\n",
              "        buttonEl.style.display =\n",
              "          google.colab.kernel.accessAllowed ? 'block' : 'none';\n",
              "\n",
              "        async function convertToInteractive(key) {\n",
              "          const element = document.querySelector('#df-01ad4e95-6fe6-42fe-a779-1d4c6e929d09');\n",
              "          const dataTable =\n",
              "            await google.colab.kernel.invokeFunction('convertToInteractive',\n",
              "                                                     [key], {});\n",
              "          if (!dataTable) return;\n",
              "\n",
              "          const docLinkHtml = 'Like what you see? Visit the ' +\n",
              "            '<a target=\"_blank\" href=https://colab.research.google.com/notebooks/data_table.ipynb>data table notebook</a>'\n",
              "            + ' to learn more about interactive tables.';\n",
              "          element.innerHTML = '';\n",
              "          dataTable['output_type'] = 'display_data';\n",
              "          await google.colab.output.renderOutput(dataTable, element);\n",
              "          const docLink = document.createElement('div');\n",
              "          docLink.innerHTML = docLinkHtml;\n",
              "          element.appendChild(docLink);\n",
              "        }\n",
              "      </script>\n",
              "    </div>\n",
              "  </div>\n",
              "  "
            ],
            "text/plain": [
              "            wilayah      waktu  cuaca  kelembaban_min  kelembaban_max  \\\n",
              "0  Kepulauan Seribu      Siang      1              70              90   \n",
              "1  Kepulauan Seribu       Pagi      1              70              90   \n",
              "2  Kepulauan Seribu      Malam      1              70              90   \n",
              "3  Kepulauan Seribu  Dini Hari      1              70              90   \n",
              "4     Jakarta Utara      Siang      1              70              90   \n",
              "5     Jakarta Utara       Pagi      2              70              90   \n",
              "6     Jakarta Utara      Malam      2              70              90   \n",
              "7     Jakarta Utara  Dini Hari      1              70              90   \n",
              "8     Jakarta Timur      Siang      1              70              90   \n",
              "9     Jakarta Timur       Pagi      2              70              90   \n",
              "\n",
              "   suhu_min  suhu_max  \n",
              "0        24        32  \n",
              "1        24        32  \n",
              "2        24        32  \n",
              "3        24        32  \n",
              "4        24        32  \n",
              "5        24        32  \n",
              "6        24        32  \n",
              "7        24        32  \n",
              "8        24        32  \n",
              "9        24        32  "
            ]
          },
          "execution_count": 59,
          "metadata": {},
          "output_type": "execute_result"
        }
      ],
      "source": [
        "df.head(10)"
      ]
    },
    {
      "cell_type": "code",
      "execution_count": 66,
      "metadata": {
        "id": "3qkIjJKdDwpZ"
      },
      "outputs": [],
      "source": [
        "pred_cuaca_1 = {\n",
        "    'wilayah': ['Kepulauan Seribu', 'Kepulauan Seribu', 'Kepulauan Seribu', 'Kepulauan Seribu'],\n",
        "    'waktu': ['Siang', 'Pagi', 'Malam', 'Dini Hari'],\n",
        "    'kelembaban_min': [70, 70, 70, 70],\n",
        "    'kelembaban_max': [90, 90, 90, 90],\n",
        "    'suhu_min': [24, 24, 24, 24],\n",
        "    'suhu_max': [32, 32, 32, 32],\n",
        "}\n",
        "\n",
        "pred_cuaca_2 = {\n",
        "    'wilayah': ['Jakarta Utara', 'Jakarta Utara'],\n",
        "    'waktu': ['Siang', 'Dini Hari'],\n",
        "    'kelembaban_min': [70, 70],\n",
        "    'kelembaban_max': [90, 90],\n",
        "    'suhu_min': [24, 24],\n",
        "    'suhu_max': [32, 32],\n",
        "}\n",
        "\n",
        "pred_cuaca_3 = {\n",
        "    'wilayah': ['Jakarta Utara', 'Jakarta Utara'],\n",
        "    'waktu': ['Pagi', 'Siang'],\n",
        "    'kelembaban_min': [70, 70],\n",
        "    'kelembaban_max': [90, 90],\n",
        "    'suhu_min': [24, 24],\n",
        "    'suhu_max': [32, 32],\n",
        "}"
      ]
    },
    {
      "cell_type": "code",
      "execution_count": 45,
      "metadata": {
        "id": "vhU6xqA6EvN6"
      },
      "outputs": [],
      "source": [
        "def output_label(n):\n",
        "    if n == 0:\n",
        "        return \"Cerah\"\n",
        "    elif n == 1:\n",
        "        return \"Hujan\"\n",
        "    elif n == 2:\n",
        "        return \"Berawan\""
      ]
    },
    {
      "cell_type": "code",
      "execution_count": 57,
      "metadata": {
        "id": "BLYoZTlBFA2c"
      },
      "outputs": [],
      "source": [
        "def manual_testing(cuaca):\n",
        "    df_pred = pd.DataFrame(cuaca)\n",
        "\n",
        "    pred_RF = model_RF.predict(df_pred)\n",
        "    pred_RF_SMOTE = model_RF_SMOTE.predict(df_pred)\n",
        "    pred_XGB_SMOTE = model_XGB_SMOTE.predict(df_pred)\n",
        "    pred_XGB = model_XGB.predict(df_pred)\n",
        "    pred_XGB_PCA = model_XGB_PCA.predict(df_pred)\n",
        "\n",
        "    return print(\"\\n\\nRF Prediction: {} \\nRF SMOTE Prediction: {} \\nXGB Prediction: {} \\nXGB SMOTE Prediction: {} \\nXGB PCA Prediction: {} \\n\".format(output_label(pred_RF[0]), output_label(pred_RF_SMOTE[0]), output_label(pred_XGB[0]), output_label(pred_XGB_SMOTE[0]), output_label(pred_XGB_PCA[0])))\n",
        "                                                                              "
      ]
    },
    {
      "cell_type": "code",
      "execution_count": 65,
      "metadata": {
        "colab": {
          "base_uri": "https://localhost:8080/"
        },
        "id": "iI9Wy3CeGlEA",
        "outputId": "b642ce45-1dad-420e-b3b0-9a44511a6904"
      },
      "outputs": [
        {
          "name": "stdout",
          "output_type": "stream",
          "text": [
            "\n",
            "\n",
            "RF Prediction: Berawan \n",
            "RF SMOTE Prediction: Berawan \n",
            "XGB Prediction: Berawan \n",
            "XGB SMOTE Prediction: Berawan \n",
            "XGB PCA Prediction: Hujan \n",
            "\n"
          ]
        }
      ],
      "source": [
        "manual_testing(pred_cuaca_1)"
      ]
    },
    {
      "cell_type": "code",
      "execution_count": 64,
      "metadata": {
        "colab": {
          "base_uri": "https://localhost:8080/"
        },
        "id": "mEk8rnaxHkfA",
        "outputId": "768bd908-a256-4736-a7bc-28ac1fb1e498"
      },
      "outputs": [
        {
          "name": "stdout",
          "output_type": "stream",
          "text": [
            "\n",
            "\n",
            "RF Prediction: Berawan \n",
            "RF SMOTE Prediction: Berawan \n",
            "XGB Prediction: Hujan \n",
            "XGB SMOTE Prediction: Hujan \n",
            "XGB PCA Prediction: Berawan \n",
            "\n"
          ]
        }
      ],
      "source": [
        "manual_testing(pred_cuaca_2)"
      ]
    },
    {
      "cell_type": "code",
      "execution_count": 67,
      "metadata": {
        "colab": {
          "base_uri": "https://localhost:8080/"
        },
        "id": "UB1OManlInun",
        "outputId": "fb1dafff-5cfe-45b8-ef04-191c3ca169e6"
      },
      "outputs": [
        {
          "name": "stdout",
          "output_type": "stream",
          "text": [
            "\n",
            "\n",
            "RF Prediction: Berawan \n",
            "RF SMOTE Prediction: Berawan \n",
            "XGB Prediction: Berawan \n",
            "XGB SMOTE Prediction: Berawan \n",
            "XGB PCA Prediction: Berawan \n",
            "\n"
          ]
        }
      ],
      "source": [
        "manual_testing(pred_cuaca_3)"
      ]
    },
    {
      "cell_type": "markdown",
      "metadata": {
        "id": "RGjDPekHWPLx"
      },
      "source": [
        "### Kesimpulan Prediksi"
      ]
    },
    {
      "cell_type": "markdown",
      "metadata": {
        "id": "9hVZh_YlWTV3"
      },
      "source": [
        "Hasil prediksi Didapatkan bahwa Algoritma XGB Lebih baik daripada RF karena dari 3 prediksi secara manual, Algoritma XGB benar 2 dan RF hanya 1"
      ]
    },
    {
      "cell_type": "code",
      "execution_count": null,
      "metadata": {
        "id": "UfJ_8OghI_lP"
      },
      "outputs": [],
      "source": []
    }
  ],
  "metadata": {
    "colab": {
      "collapsed_sections": [
        "O2g-ymTHVy1F",
        "oysvd0dXVy1K",
        "pNeCjV8MVy1L",
        "bybBjDZtVy1N",
        "x2X7ZSBWVy1O",
        "0fHR4mnLVy1P",
        "EoIEGy2vVy1Q",
        "_eRUWP_XVy1Q",
        "genKRJ-5Vy1R",
        "KPiGPb7QVy1R",
        "P0IikxLAVy1R",
        "IgP419OcVy1S",
        "fJZaQNqVVy1T",
        "zNS8Y9xrVy1T",
        "A8tRz-5vVy1T",
        "BvewrTSCVy1U",
        "GiI_fYkOVy1U",
        "Jx3hQDsRVy1V",
        "2eOnmHQZVy1V",
        "HjVUyZhnVy1W",
        "edmdekA6Vy1W",
        "YgyORGicVy1X",
        "vmhIfQ5YVy1X",
        "KesRdqRTVy1Y",
        "RGjDPekHWPLx"
      ],
      "name": "Final - Column Transform.ipynb",
      "provenance": []
    },
    "interpreter": {
      "hash": "2469a70536e4d2335a2ea8907942d0699c37342a371ac185bdb5b0aa6f073890"
    },
    "kernelspec": {
      "display_name": "Python 3.10.1 64-bit",
      "language": "python",
      "name": "python3"
    },
    "language_info": {
      "codemirror_mode": {
        "name": "ipython",
        "version": 3
      },
      "file_extension": ".py",
      "mimetype": "text/x-python",
      "name": "python",
      "nbconvert_exporter": "python",
      "pygments_lexer": "ipython3",
      "version": "3.10.1"
    },
    "orig_nbformat": 4
  },
  "nbformat": 4,
  "nbformat_minor": 0
}
