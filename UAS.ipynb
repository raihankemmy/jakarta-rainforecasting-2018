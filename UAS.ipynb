{
 "cells": [
  {
   "cell_type": "code",
   "execution_count": 44,
   "metadata": {},
   "outputs": [],
   "source": [
    "import numpy as np\n",
    "import pandas as pd\n",
    "\n",
    "import matplotlib.pyplot as plt\n",
    "import seaborn as sns\n",
    "\n",
    "from sklearn.model_selection import train_test_split\n",
    "from sklearn.pipeline import Pipeline\n",
    "from sklearn.compose import ColumnTransformer\n",
    "\n",
    "from jcopml.pipeline import num_pipe, cat_pipe\n",
    "from jcopml.utils import save_model, load_model\n",
    "from jcopml.plot import plot_missing_value\n",
    "from jcopml.feature_importance import mean_score_decrease"
   ]
  },
  {
   "cell_type": "markdown",
   "metadata": {},
   "source": [
    "### Import Data"
   ]
  },
  {
   "cell_type": "code",
   "execution_count": 46,
   "metadata": {},
   "outputs": [
    {
     "data": {
      "text/html": [
       "<div>\n",
       "<style scoped>\n",
       "    .dataframe tbody tr th:only-of-type {\n",
       "        vertical-align: middle;\n",
       "    }\n",
       "\n",
       "    .dataframe tbody tr th {\n",
       "        vertical-align: top;\n",
       "    }\n",
       "\n",
       "    .dataframe thead th {\n",
       "        text-align: right;\n",
       "    }\n",
       "</style>\n",
       "<table border=\"1\" class=\"dataframe\">\n",
       "  <thead>\n",
       "    <tr style=\"text-align: right;\">\n",
       "      <th></th>\n",
       "      <th>tanggal</th>\n",
       "      <th>wilayah</th>\n",
       "      <th>waktu</th>\n",
       "      <th>cuaca</th>\n",
       "      <th>kelembaban_persen</th>\n",
       "      <th>suhu_derajat_celcius</th>\n",
       "    </tr>\n",
       "  </thead>\n",
       "  <tbody>\n",
       "    <tr>\n",
       "      <th>0</th>\n",
       "      <td>2018-12-31</td>\n",
       "      <td>Kepulauan Seribu</td>\n",
       "      <td>Siang</td>\n",
       "      <td>Hujan Lokal</td>\n",
       "      <td>70 - 90</td>\n",
       "      <td>24 - 32</td>\n",
       "    </tr>\n",
       "    <tr>\n",
       "      <th>1</th>\n",
       "      <td>2018-12-31</td>\n",
       "      <td>Kepulauan Seribu</td>\n",
       "      <td>Pagi</td>\n",
       "      <td>Hujan Lokal</td>\n",
       "      <td>70 - 90</td>\n",
       "      <td>24 - 32</td>\n",
       "    </tr>\n",
       "    <tr>\n",
       "      <th>2</th>\n",
       "      <td>2018-12-31</td>\n",
       "      <td>Kepulauan Seribu</td>\n",
       "      <td>Malam</td>\n",
       "      <td>Hujan Lokal</td>\n",
       "      <td>70 - 90</td>\n",
       "      <td>24 - 32</td>\n",
       "    </tr>\n",
       "    <tr>\n",
       "      <th>3</th>\n",
       "      <td>2018-12-31</td>\n",
       "      <td>Kepulauan Seribu</td>\n",
       "      <td>Dini Hari</td>\n",
       "      <td>Hujan Ringan</td>\n",
       "      <td>70 - 90</td>\n",
       "      <td>24 - 32</td>\n",
       "    </tr>\n",
       "    <tr>\n",
       "      <th>4</th>\n",
       "      <td>2018-12-31</td>\n",
       "      <td>Jakarta Utara</td>\n",
       "      <td>Siang</td>\n",
       "      <td>Hujan Lokal</td>\n",
       "      <td>70 - 90</td>\n",
       "      <td>24 - 32</td>\n",
       "    </tr>\n",
       "  </tbody>\n",
       "</table>\n",
       "</div>"
      ],
      "text/plain": [
       "      tanggal           wilayah      waktu         cuaca kelembaban_persen  \\\n",
       "0  2018-12-31  Kepulauan Seribu      Siang   Hujan Lokal           70 - 90   \n",
       "1  2018-12-31  Kepulauan Seribu       Pagi   Hujan Lokal           70 - 90   \n",
       "2  2018-12-31  Kepulauan Seribu      Malam   Hujan Lokal           70 - 90   \n",
       "3  2018-12-31  Kepulauan Seribu  Dini Hari  Hujan Ringan           70 - 90   \n",
       "4  2018-12-31     Jakarta Utara      Siang   Hujan Lokal           70 - 90   \n",
       "\n",
       "  suhu_derajat_celcius  \n",
       "0              24 - 32  \n",
       "1              24 - 32  \n",
       "2              24 - 32  \n",
       "3              24 - 32  \n",
       "4              24 - 32  "
      ]
     },
     "execution_count": 46,
     "metadata": {},
     "output_type": "execute_result"
    }
   ],
   "source": [
    "df = pd.read_csv(\"dataset.csv\")\n",
    "df.head()"
   ]
  },
  {
   "cell_type": "markdown",
   "metadata": {},
   "source": [
    "### Melihat Missing Value"
   ]
  },
  {
   "cell_type": "code",
   "execution_count": 47,
   "metadata": {},
   "outputs": [
    {
     "data": {
      "text/plain": [
       "tanggal                 135\n",
       "wilayah                 135\n",
       "waktu                   135\n",
       "cuaca                   135\n",
       "kelembaban_persen       135\n",
       "suhu_derajat_celcius    135\n",
       "dtype: int64"
      ]
     },
     "execution_count": 47,
     "metadata": {},
     "output_type": "execute_result"
    }
   ],
   "source": [
    "df.isnull().sum()"
   ]
  },
  {
   "cell_type": "markdown",
   "metadata": {},
   "source": [
    "### Membuang Data yang Kosong"
   ]
  },
  {
   "cell_type": "code",
   "execution_count": 49,
   "metadata": {},
   "outputs": [
    {
     "data": {
      "text/plain": [
       "tanggal                 0\n",
       "wilayah                 0\n",
       "waktu                   0\n",
       "cuaca                   0\n",
       "kelembaban_persen       0\n",
       "suhu_derajat_celcius    0\n",
       "dtype: int64"
      ]
     },
     "execution_count": 49,
     "metadata": {},
     "output_type": "execute_result"
    }
   ],
   "source": [
    "df.dropna(inplace=True)\n",
    "df.isnull().sum()"
   ]
  },
  {
   "cell_type": "code",
   "execution_count": 51,
   "metadata": {},
   "outputs": [
    {
     "data": {
      "text/plain": [
       "array(['Hujan Lokal', 'Hujan Ringan', 'Berawan', 'Cerah Berawan', 'Cerah',\n",
       "       'Berawan Tebal', 'Hujan Sedang', 'Cerah Berawn', 'Cerang Berawan',\n",
       "       'Beawan', 'Berawan ', 'Hujan Petir', 'Hujan Lokal ',\n",
       "       'Cerah Berawan ', 'Cerah ', 'Cerah Berawah', 'Cerah  ', ' Berawan',\n",
       "       'Hujan', 'Hujan Petir ', 'Hujan Sedang ', 'Cerah berawan',\n",
       "       'Hujan Ringanl', 'Berawa', 'Hujang Sedang', 'Hujan Loka',\n",
       "       'Hujan Ringan '], dtype=object)"
      ]
     },
     "execution_count": 51,
     "metadata": {},
     "output_type": "execute_result"
    }
   ],
   "source": [
    "df['cuaca'].unique()"
   ]
  },
  {
   "cell_type": "code",
   "execution_count": 57,
   "metadata": {},
   "outputs": [
    {
     "data": {
      "text/plain": [
       "[]"
      ]
     },
     "execution_count": 57,
     "metadata": {},
     "output_type": "execute_result"
    }
   ],
   "source": [
    "import re\n",
    "data = df['cuaca'].values\n",
    "\n",
    "cerah = 'Cerah Berawan Cerah Cerah'\n",
    "re.findall('\\w+Cerah+\\w+', cerah)\n",
    "\n",
    "# def classifySch(text):  \n",
    "#     cerah = ['Cerah Berawan','Cerah', 'Cerah Berawan ']\n",
    "#     hujan = ['Hujan Ringan','Hujan Lokal','Hujan Petir','Hujan Ringan ', 'Hujan Lokal ', 'Hujan Sedang', 'Hujan Loka']\n",
    "#     berawan = ['Berawan','Berawan Tebal',' Berawan','Berawan ']\n",
    "    \n",
    "#     try:\n",
    "#         result = re.search(df['cuaca'].values, text).groups()\n",
    "#         if result in cerah:\n",
    "#             df['cuaca'].replace(text, 'Cerah')\n",
    "#         if text in hujan:\n",
    "#             return 'hujan'\n",
    "#         if text in berawan:\n",
    "#             return 'berawan'\n",
    "#         else:\n",
    "#             return \"gamasok\"\n",
    "#     except:\n",
    "#         return 'ulang lagi'\n",
    "\n",
    "# classifySch(\"Cerah Berawan\")"
   ]
  },
  {
   "cell_type": "code",
   "execution_count": 75,
   "metadata": {},
   "outputs": [
    {
     "ename": "ValueError",
     "evalue": "Series.replace cannot use dict-like to_replace and non-None value",
     "output_type": "error",
     "traceback": [
      "\u001b[1;31m---------------------------------------------------------------------------\u001b[0m",
      "\u001b[1;31mValueError\u001b[0m                                Traceback (most recent call last)",
      "\u001b[1;32mC:\\Users\\RAIHAN~1\\AppData\\Local\\Temp/ipykernel_4904/3581834401.py\u001b[0m in \u001b[0;36m<module>\u001b[1;34m\u001b[0m\n\u001b[1;32m----> 1\u001b[1;33m \u001b[0mdf\u001b[0m\u001b[1;33m[\u001b[0m\u001b[1;34m'cuaca'\u001b[0m\u001b[1;33m]\u001b[0m\u001b[1;33m.\u001b[0m\u001b[0mreplace\u001b[0m\u001b[1;33m(\u001b[0m\u001b[0mdf\u001b[0m\u001b[1;33m[\u001b[0m\u001b[0mdf\u001b[0m\u001b[1;33m[\u001b[0m\u001b[1;34m'cuaca'\u001b[0m\u001b[1;33m]\u001b[0m\u001b[1;33m.\u001b[0m\u001b[0mstr\u001b[0m\u001b[1;33m.\u001b[0m\u001b[0mcontains\u001b[0m\u001b[1;33m(\u001b[0m\u001b[1;34m'^Cerah.*'\u001b[0m\u001b[1;33m)\u001b[0m\u001b[1;33m==\u001b[0m\u001b[1;32mTrue\u001b[0m\u001b[1;33m]\u001b[0m\u001b[1;33m,\u001b[0m \u001b[1;34m'Cerah'\u001b[0m\u001b[1;33m,\u001b[0m \u001b[0minplace\u001b[0m\u001b[1;33m=\u001b[0m\u001b[1;32mTrue\u001b[0m\u001b[1;33m)\u001b[0m\u001b[1;33m\u001b[0m\u001b[1;33m\u001b[0m\u001b[0m\n\u001b[0m",
      "\u001b[1;32mD:\\Python\\lib\\site-packages\\pandas\\core\\series.py\u001b[0m in \u001b[0;36mreplace\u001b[1;34m(self, to_replace, value, inplace, limit, regex, method)\u001b[0m\n\u001b[0;32m   4866\u001b[0m         \u001b[0mmethod\u001b[0m\u001b[1;33m=\u001b[0m\u001b[1;34m\"pad\"\u001b[0m\u001b[1;33m,\u001b[0m\u001b[1;33m\u001b[0m\u001b[1;33m\u001b[0m\u001b[0m\n\u001b[0;32m   4867\u001b[0m     ):\n\u001b[1;32m-> 4868\u001b[1;33m         return super().replace(\n\u001b[0m\u001b[0;32m   4869\u001b[0m             \u001b[0mto_replace\u001b[0m\u001b[1;33m=\u001b[0m\u001b[0mto_replace\u001b[0m\u001b[1;33m,\u001b[0m\u001b[1;33m\u001b[0m\u001b[1;33m\u001b[0m\u001b[0m\n\u001b[0;32m   4870\u001b[0m             \u001b[0mvalue\u001b[0m\u001b[1;33m=\u001b[0m\u001b[0mvalue\u001b[0m\u001b[1;33m,\u001b[0m\u001b[1;33m\u001b[0m\u001b[1;33m\u001b[0m\u001b[0m\n",
      "\u001b[1;32mD:\\Python\\lib\\site-packages\\pandas\\core\\generic.py\u001b[0m in \u001b[0;36mreplace\u001b[1;34m(self, to_replace, value, inplace, limit, regex, method)\u001b[0m\n\u001b[0;32m   6549\u001b[0m                     \u001b[1;31m# Operate column-wise\u001b[0m\u001b[1;33m\u001b[0m\u001b[1;33m\u001b[0m\u001b[0m\n\u001b[0;32m   6550\u001b[0m                     \u001b[1;32mif\u001b[0m \u001b[0mself\u001b[0m\u001b[1;33m.\u001b[0m\u001b[0mndim\u001b[0m \u001b[1;33m==\u001b[0m \u001b[1;36m1\u001b[0m\u001b[1;33m:\u001b[0m\u001b[1;33m\u001b[0m\u001b[1;33m\u001b[0m\u001b[0m\n\u001b[1;32m-> 6551\u001b[1;33m                         raise ValueError(\n\u001b[0m\u001b[0;32m   6552\u001b[0m                             \u001b[1;34m\"Series.replace cannot use dict-like to_replace \"\u001b[0m\u001b[1;33m\u001b[0m\u001b[1;33m\u001b[0m\u001b[0m\n\u001b[0;32m   6553\u001b[0m                             \u001b[1;34m\"and non-None value\"\u001b[0m\u001b[1;33m\u001b[0m\u001b[1;33m\u001b[0m\u001b[0m\n",
      "\u001b[1;31mValueError\u001b[0m: Series.replace cannot use dict-like to_replace and non-None value"
     ]
    }
   ],
   "source": [
    "df['cuaca'].replace(df[df['cuaca'].str.contains('^Cerah.*')==True], 'Cerah', inplace=True)"
   ]
  },
  {
   "cell_type": "code",
   "execution_count": null,
   "metadata": {},
   "outputs": [],
   "source": []
  },
  {
   "cell_type": "code",
   "execution_count": 77,
   "metadata": {},
   "outputs": [
    {
     "data": {
      "text/plain": [
       "70      912\n",
       "65      720\n",
       " 70     720\n",
       " 60     696\n",
       " 55     648\n",
       "55      624\n",
       "75      624\n",
       " 45     504\n",
       "60      408\n",
       " 65     360\n",
       "50      312\n",
       " 50     288\n",
       "80      288\n",
       " 40     192\n",
       "65      192\n",
       "80      144\n",
       "45      120\n",
       "75      120\n",
       "60      120\n",
       "70       96\n",
       " 75      96\n",
       " 35      72\n",
       " 80      48\n",
       "85       48\n",
       "55       24\n",
       "35       24\n",
       "Name: kelembapan_min, dtype: int64"
      ]
     },
     "execution_count": 77,
     "metadata": {},
     "output_type": "execute_result"
    }
   ],
   "source": [
    "df[\"kelembapan_min\"] = df.kelembaban_persen.apply(lambda x: x.split(\"-\")[0])\n",
    "df.kelembapan_min.head()\n",
    "df.kelembapan_min.value_counts()"
   ]
  },
  {
   "cell_type": "code",
   "execution_count": 80,
   "metadata": {},
   "outputs": [
    {
     "data": {
      "text/plain": [
       "70    1728\n",
       "55    1296\n",
       "65    1272\n",
       "60    1224\n",
       "75     840\n",
       "45     624\n",
       "50     600\n",
       "80     480\n",
       "40     192\n",
       "35      96\n",
       "85      48\n",
       "Name: kelembapan_min, dtype: int64"
      ]
     },
     "execution_count": 80,
     "metadata": {},
     "output_type": "execute_result"
    }
   ],
   "source": [
    "df[\"kelembapan_min\"] = [x.strip(' ') for x in df[\"kelembapan_min\"]]\n",
    "df.kelembapan_min.value_counts()"
   ]
  },
  {
   "cell_type": "code",
   "execution_count": null,
   "metadata": {},
   "outputs": [
    {
     "data": {
      "text/plain": [
       "array(['Cerah Berawan', 'Cerah', 'Cerah Berawan', 'Cerah', 'Cerah',\n",
       "       'Cerah', 'Hujan Ringan', 'Hujan Lokal', 'Hujan Ringan', 'Berawan',\n",
       "       'Hujan Lokal', 'Hujan Lokal', 'Hujan Lokal', 'Berawan',\n",
       "       'Hujan Lokal', 'Berawan', 'Berawan', 'Berawan', 'Berawan Tebal',\n",
       "       'Berawan Tebal', 'Berawan Tebal', 'Berawan Tebal', 'Berawan Tebal',\n",
       "       'Berawan Tebal', 'Cerah Berawan', 'Cerah Berawan', 'Cerah Berawan',\n",
       "       'Cerah Berawan', 'Cerah Berawan', 'Cerah Berawan ', 'Hujan Petir',\n",
       "       'Berawan', 'Hujan Petir', 'Cerah Berawan', 'Hujan Lokal',\n",
       "       'Hujan Lokal', 'Hujan Lokal', 'Berawan', 'Hujan Lokal',\n",
       "       'Cerah Berawan', 'Hujan Lokal', 'Hujan Lokal', 'Berawan',\n",
       "       'Cerah Berawan', 'Cerah Berawan', 'Hujan Lokal', 'Berawan',\n",
       "       'Berawan', 'Cerah Berawan', 'Cerah Berawan', 'Cerah Berawan',\n",
       "       'Cerah Berawan', 'Cerah Berawan', 'Cerah Berawan ', 'Hujan Lokal',\n",
       "       'Hujan Ringan', 'Hujan Petir', 'Berawan', 'Hujan Ringan',\n",
       "       'Hujan Ringan', 'Berawan', 'Hujan Ringan', 'Berawan',\n",
       "       'Hujan Ringan', 'Berawan', 'Hujan Ringan', 'Berawan', 'Berawan',\n",
       "       'Berawan', 'Berawan', 'Berawan', ' Berawan', 'Berawan', 'Berawan',\n",
       "       'Berawan', 'Berawan', 'Berawan', 'Berawan', 'Hujan Petir',\n",
       "       'Hujan Lokal', 'Hujan Petir', 'Berawan', 'Hujan Lokal',\n",
       "       'Hujan Lokal', 'Berawan', 'Berawan', 'Berawan', 'Berawan',\n",
       "       'Berawan', 'Berawan', 'Berawan', 'Berawan', 'Berawan', 'Berawan',\n",
       "       'Berawan', 'Berawan', 'Berawan', 'Berawan', 'Berawan', 'Berawan',\n",
       "       'Berawan', 'Berawan', 'Hujan Petir', 'Hujan Lokal', 'Hujan Petir',\n",
       "       'Cerah Berawan', 'Hujan Lokal', 'Hujan Lokal', 'Berawan',\n",
       "       'Berawan', 'Hujan Lokal', 'Cerah Berawan', 'Berawan', 'Berawan',\n",
       "       'Berawan', 'Berawan', 'Berawan', 'Berawan', 'Berawan', 'Berawan',\n",
       "       'Berawan', 'Berawan', 'Berawan', 'Berawan', 'Berawan', 'Berawan',\n",
       "       'Berawan', 'Berawan', 'Berawan', 'Berawan', 'Berawan', 'Berawan',\n",
       "       'Berawan', 'Berawan ', 'Hujan Lokal', 'Berawan Tebal',\n",
       "       'Berawan Tebal', 'Berawan Tebal', 'Berawan', 'Berawan', 'Berawan',\n",
       "       'Berawan', 'Berawan', 'Berawan', 'Berawan', 'Berawan', 'Berawan',\n",
       "       'Berawan', 'Berawan', 'Berawan', 'Hujan Petir', 'Hujan Petir',\n",
       "       'Hujan Petir', 'Berawan', 'Hujan Ringan', 'Hujan Ringan',\n",
       "       'Hujan Lokal', 'Hujan Lokal', 'Hujan Lokal', 'Hujan Lokal',\n",
       "       'Hujan Lokal', 'Hujan Lokal', 'Berawan Tebal', 'Hujan Lokal',\n",
       "       'Berawan Tebal', 'Hujan Lokal', 'Hujan Lokal', 'Hujan Lokal',\n",
       "       'Berawan', 'Berawan', 'Berawan', 'Berawan', 'Berawan', 'Berawan',\n",
       "       'Hujan Lokal', 'Hujan Ringan', 'Hujan Lokal', 'Berawan',\n",
       "       'Hujan Lokal', 'Berawan', 'Berawan', 'Hujan Lokal', 'Berawan',\n",
       "       'Berawan', 'Hujan Lokal', 'Hujan Lokal', 'Berawan', 'Berawan',\n",
       "       'Berawan', 'Hujan Lokal', 'Berawan', 'Berawan', 'Cerah Berawan',\n",
       "       'Cerah Berawan', 'Cerah Berawan', 'Cerah Berawan', 'Cerah Berawan',\n",
       "       'Cerah Berawan', 'Hujan Petir', 'Hujan Lokal', 'Hujan Petir',\n",
       "       'Cerah Berawan', 'Berawan', 'Berawan', 'Berawan', 'Berawan',\n",
       "       'Hujan Lokal', 'Berawan', 'Berawan', 'Berawan', 'Berawan',\n",
       "       'Berawan', 'Berawan', 'Hujan Lokal', 'Berawan', 'Berawan',\n",
       "       'Cerah Berawan', 'Cerah Berawan', 'Cerah Berawan', 'Cerah Berawan',\n",
       "       'Cerah Berawan', 'Cerah Berawan', 'Hujan Lokal', 'Hujan Lokal',\n",
       "       'Hujan Lokal', 'Cerah Berawan', 'Berawan', 'Cerah Berawan',\n",
       "       'Berawan', 'Berawan', 'Berawan', 'Berawan', 'Berawan', 'Berawan',\n",
       "       'Berawan', 'Berawan', 'Berawan', 'Berawan', 'Berawan', 'Berawan',\n",
       "       'Berawan', 'Berawan', 'Berawan', 'Berawan', 'Berawan', 'Berawan',\n",
       "       'Hujan Ringan', 'Berawan', 'Hujan Lokal', 'Cerah Berawan',\n",
       "       'Berawan', 'Berawan', 'Berawan', 'Hujan Ringan', 'Berawan',\n",
       "       'Berawan', 'Berawan', 'Hujan Ringan', 'Berawan', 'Berawan',\n",
       "       'Berawan', 'Berawan', 'Berawan', 'Berawan', 'Cerah Berawan',\n",
       "       'Cerah Berawan', 'Cerah Berawan', 'Cerah Berawan', 'Cerah Berawan',\n",
       "       'Cerah Berawan', 'Berawan', 'Berawan', 'Berawan', 'Berawan',\n",
       "       'Berawan', 'Berawan', 'Berawan', 'Berawan', 'Berawan', 'Berawan',\n",
       "       'Berawan', 'Berawan', 'Berawan', 'Berawan', 'Berawan', 'Berawan',\n",
       "       'Berawan', 'Berawan', 'Berawan', 'Cerah Berawan', 'Berawan',\n",
       "       'Berawan', 'Berawan', 'Berawan', 'Hujan Lokal', 'Berawan',\n",
       "       'Hujan Lokal', 'Cerah Berawan', 'Berawan', 'Berawan', 'Berawan',\n",
       "       'Berawan', 'Berawan', 'Berawan', 'Berawan', 'Berawan', 'Berawan',\n",
       "       'Berawan', 'Berawan', 'Hujan Lokal', 'Berawan', 'Berawan',\n",
       "       'Berawan', 'Berawan', 'Berawan ', 'Hujan Ringan', 'Berawan',\n",
       "       'Berawan', 'Hujan Ringan ', 'Hujan Ringan', 'Hujan Ringan',\n",
       "       'Hujan Lokal', 'Hujan Ringan', 'Hujan Ringan', 'Hujan Lokal',\n",
       "       'Hujan Lokal', 'Hujan Lokal ', 'Hujan Lokal', 'Hujan Lokal',\n",
       "       'Hujan Lokal', 'Berawan', 'Berawan', 'Berawan', 'Berawan',\n",
       "       'Berawan Tebal', 'Berawan Tebal', 'Hujan Ringan', 'Berawan',\n",
       "       'Hujan Lokal', 'Berawan Tebal', 'Berawan Tebal', 'Berawan Tebal',\n",
       "       'Berawan', 'Hujan Ringan', 'Hujan Lokal', 'Cerah Berawan',\n",
       "       'Berawan', 'Hujan Ringan', 'Hujan Lokal', 'Berawan', 'Hujan Lokal',\n",
       "       'Cerah Berawan', 'Berawan', 'Berawan', 'Berawan', 'Berawan',\n",
       "       'Berawan', 'Hujan Lokal', 'Berawan', 'Berawan', 'Berawan ',\n",
       "       'Berawan', 'Berawan', 'Berawan', 'Berawan', 'Berawan',\n",
       "       'Hujan Sedang', 'Hujan Ringan', 'Hujan Sedang', 'Cerah Berawan',\n",
       "       'Cerah Berawan', 'Cerah Berawan', 'Berawan', 'Berawan', 'Berawan',\n",
       "       'Berawan', 'Berawan', 'Berawan', 'Berawan', 'Berawan', 'Berawan',\n",
       "       'Hujan Lokal', 'Berawan', 'Berawan', 'Berawan', 'Berawan',\n",
       "       'Berawan', 'Hujan Lokal', 'Berawan', 'Berawan', 'Hujan Petir',\n",
       "       'Hujan Petir', 'Hujan Petir', 'Hujan Lokal', 'Hujan Ringan',\n",
       "       'Hujan Ringan', 'Berawan', 'Hujan Lokal', 'Berawan', 'Hujan Lokal',\n",
       "       'Hujan Lokal', 'Hujan Lokal', 'Berawan', 'Berawan', 'Berawan',\n",
       "       'Hujan Lokal', 'Berawan Tebal', 'Berawan Tebal', 'Berawan',\n",
       "       'Berawan', 'Berawan', 'Hujan Lokal', 'Berawan', 'Berawan',\n",
       "       'Hujan Lokal', 'Hujan Petir', 'Hujan Petir', 'Berawan',\n",
       "       'Hujan Lokal', 'Hujan Lokal', 'Berawan', 'Hujan Lokal',\n",
       "       'Hujan Lokal', 'Berawan', 'Berawan', 'Berawan', 'Hujan Lokal',\n",
       "       'Hujan Lokal', 'Hujan Lokal', 'Hujan Lokal', 'Hujan Lokal',\n",
       "       'Hujan Lokal', 'Berawan Tebal', 'Berawan Tebal', 'Berawan Tebal',\n",
       "       'Hujan Lokal', 'Berawan Tebal', 'Berawan Tebal', 'Hujan Ringan',\n",
       "       'Hujan Sedang', 'Hujan Ringan', 'Hujan Lokal', 'Hujan Ringan',\n",
       "       'Hujan Ringan', 'Berawan', 'Hujan Ringan', 'Hujan Ringan ',\n",
       "       'Berawan ', 'Berawan ', 'Berawan', 'Berawan', 'Berawan Tebal',\n",
       "       'Berawan Tebal', 'Hujan Lokal', 'Berawan Tebal', 'Berawan',\n",
       "       'Berawan', 'Berawan', 'Berawan ', 'Berawan', 'Berawan', 'Berawan',\n",
       "       'Hujan Lokal', 'Berawan', 'Hujan Lokal', 'Berawan', 'Hujan Lokal',\n",
       "       'Hujan Lokal', 'Berawan ', 'Berawan', 'Berawan ', 'Hujan Lokal',\n",
       "       'Berawan', 'Berawan ', 'Hujan Lokal', 'Hujan Lokal', 'Hujan Lokal',\n",
       "       'Hujan Lokal', 'Hujan Lokal', 'Hujan Lokal', 'Hujan Lokal',\n",
       "       'Hujan Lokal', 'Hujan Lokal', 'Hujan Lokal', 'Hujan Lokal',\n",
       "       'Hujan Lokal', 'Hujan Petir', 'Hujan Sedang', 'Hujan Petir',\n",
       "       'Berawan', 'Hujan Sedang', 'Hujan Ringan', 'Hujan Lokal',\n",
       "       'Hujan Lokal', 'Berawan', 'Berawan', 'Hujan Lokal', 'Hujan Lokal',\n",
       "       'Berawan', 'Berawan', 'Berawan', 'Hujan Lokal', 'Berawan',\n",
       "       'Berawan', 'Hujan Lokal', 'Hujan Lokal', 'Berawan', 'Hujan Lokal',\n",
       "       'Hujan Lokal', 'Hujan Loka', 'Hujan Petir', 'Hujan Petir',\n",
       "       'Hujan Petir', 'Berawan', 'Hujan Ringan', 'Hujan Ringan',\n",
       "       'Hujan Lokal', 'Hujan Lokal', 'Hujan Lokal', 'Hujan Lokal',\n",
       "       'Berawan', 'Berawan', 'Berawan', 'Berawan', 'Berawan',\n",
       "       'Hujan Lokal', 'Berawan', 'Berawan', 'Berawan', 'Berawan',\n",
       "       'Berawan', 'Berawan', 'Berawan', 'Berawan', 'Hujan Sedang',\n",
       "       'Berawan Tebal', 'Berawan Tebal', 'Hujan Sedang', 'Hujan Sedang',\n",
       "       'Hujan Sedang', 'Cerah Berawan', 'Cerah Berawan', 'Cerah Berawan',\n",
       "       'Hujan Ringan', 'Cerah Berawan', 'Hujan Ringan', 'Cerah Berawan',\n",
       "       'Cerah Berawan', 'Cerah Berawan', 'Hujan Ringan', 'Cerah Berawan',\n",
       "       'Cerah Berawan', 'Berawan', 'Berawan', 'Berawan', 'Berawan',\n",
       "       'Berawan', 'Berawan', 'Hujan Lokal', 'Berawan', 'Hujan Lokal',\n",
       "       'Berawan', 'Berawan', 'Berawan', 'Cerah Berawan', 'Cerah Berawan',\n",
       "       'Cerah Berawan', 'Cerah Berawan', 'Cerah Berawan', 'Cerah Berawan',\n",
       "       'Hujan Lokal', 'Hujan Lokal', 'Hujan Lokal', 'Hujan Lokal',\n",
       "       'Hujan Lokal', 'Hujan Lokal', 'Berawan', 'Berawan', 'Berawan ',\n",
       "       'Berawan', 'Berawan', 'Berawan', 'Hujan Ringan', 'Hujan Lokal',\n",
       "       'Hujan Ringan', 'Hujan Lokal', 'Hujan Lokal', 'Hujan Ringan',\n",
       "       'Hujan Ringan', 'Hujan Ringan', 'Hujan Ringan', 'Hujan Ringan',\n",
       "       'Hujan Ringan', 'Hujan Ringan', 'Hujan Ringan', 'Hujan Ringan',\n",
       "       'Hujan Ringan', 'Hujan Ringan', 'Hujan Ringan', 'Hujan Ringan',\n",
       "       'Berawan', 'Berawan', 'Berawan', 'Berawan', 'Berawan', 'Berawan',\n",
       "       'Hujan Ringan', 'Hujan Lokal', 'Hujan Lokal', 'Cerah Berawan',\n",
       "       'Hujan Ringan', 'Cerah Berawan', 'Hujan Ringan', 'Cerah Berawan',\n",
       "       'Hujan Ringan', 'Cerah Berawan', 'Cerah Berawan', 'Cerah Berawan',\n",
       "       'Cerah Berawan', 'Cerah Berawan', 'Berawan', 'Hujan Sedang',\n",
       "       'Cerah Berawan', 'Hujan Ringan', 'Hujan Ringan', 'Hujan Ringan',\n",
       "       'Hujan Ringan', 'Hujan Sedang', 'Hujan Ringan', 'Hujan Sedang',\n",
       "       'Hujan Ringan', 'Hujan Ringan', 'Hujan Ringan', 'Hujan Ringan',\n",
       "       'Hujan Ringan', 'Hujan Ringan', 'Hujan Ringan', 'Hujan Ringan',\n",
       "       'Hujan Ringan', 'Hujan Ringan', 'Hujan Ringan', 'Hujan Ringan',\n",
       "       'Hujan Ringan', 'Hujan Petir', 'Hujan Ringan', 'Hujan Sedang',\n",
       "       'Hujan Petir', 'Hujan Petir', 'Hujan Petir', 'Hujan Petir',\n",
       "       'Hujan Petir', 'Hujan Lokal', 'Hujan Ringan', 'Hujan Lokal',\n",
       "       'Hujan Lokal ', 'Hujan Ringan', 'Hujan Ringan', 'Berawan',\n",
       "       'Hujan Lokal', 'Berawan', 'Berawan Tebal', 'Berawan Tebal',\n",
       "       'Berawan Tebal', 'Berawan', 'Berawan Tebal', 'Berawan Tebal',\n",
       "       'Berawan', 'Hujan Ringan', 'Berawan', 'Berawan', 'Berawan',\n",
       "       'Hujan Ringan', 'Berawan', 'Hujan Lokal', 'Hujan Lokal', 'Berawan',\n",
       "       'Berawan', 'Berawan', 'Hujan Petir', 'Hujan Ringan', 'Hujan Petir',\n",
       "       'Berawan', 'Hujan Ringan', 'Hujan Ringan', 'Hujan Lokal',\n",
       "       'Berawan', 'Hujan Lokal', 'Berawan', 'Berawan', 'Berawan',\n",
       "       'Berawan', 'Berawan', 'Berawan', 'Hujan Lokal', 'Berawan',\n",
       "       'Berawan', 'Cerah Berawan', 'Cerah Berawan', 'Cerah Berawan',\n",
       "       'Cerah Berawan', 'Cerah Berawan', 'Cerah Berawan', 'Hujan Sedang',\n",
       "       'Hujan Lokal', 'Hujan Sedang', 'Cerah Berawan', 'Hujan Lokal',\n",
       "       'Hujan Sedang', 'Hujan Ringan', 'Hujan Lokal', 'Hujan Ringan',\n",
       "       'Hujan Sedang', 'Hujan Lokal', 'Cerah Berawan', 'Hujan Ringan',\n",
       "       'Hujan Ringan', 'Hujan Ringan', 'Hujan Sedang', 'Hujan Ringan',\n",
       "       'Hujan Ringan'], dtype=object)"
      ]
     },
     "execution_count": 24,
     "metadata": {},
     "output_type": "execute_result"
    }
   ],
   "source": [
    "data = df['cuaca'].values"
   ]
  },
  {
   "cell_type": "code",
   "execution_count": null,
   "metadata": {},
   "outputs": [
    {
     "data": {
      "text/plain": [
       "0      Cerah Berawan\n",
       "1              Cerah\n",
       "2      Cerah Berawan\n",
       "3              Cerah\n",
       "4              Cerah\n",
       "           ...      \n",
       "715     Hujan Ringan\n",
       "716     Hujan Ringan\n",
       "717     Hujan Sedang\n",
       "718     Hujan Ringan\n",
       "719     Hujan Ringan\n",
       "Name: cuaca, Length: 720, dtype: object"
      ]
     },
     "execution_count": 13,
     "metadata": {},
     "output_type": "execute_result"
    }
   ],
   "source": [
    "df['cuaca']"
   ]
  },
  {
   "cell_type": "code",
   "execution_count": null,
   "metadata": {},
   "outputs": [
    {
     "ename": "ValueError",
     "evalue": "The least populated class in y has only 1 member, which is too few. The minimum number of groups for any class cannot be less than 2.",
     "output_type": "error",
     "traceback": [
      "\u001b[1;31m---------------------------------------------------------------------------\u001b[0m",
      "\u001b[1;31mValueError\u001b[0m                                Traceback (most recent call last)",
      "\u001b[1;32mC:\\Users\\RAIHAN~1\\AppData\\Local\\Temp/ipykernel_11604/3058719266.py\u001b[0m in \u001b[0;36m<module>\u001b[1;34m\u001b[0m\n\u001b[0;32m      2\u001b[0m \u001b[0my\u001b[0m \u001b[1;33m=\u001b[0m \u001b[0mdf\u001b[0m\u001b[1;33m[\u001b[0m\u001b[1;34m\"cuaca\"\u001b[0m\u001b[1;33m]\u001b[0m\u001b[1;33m\u001b[0m\u001b[1;33m\u001b[0m\u001b[0m\n\u001b[0;32m      3\u001b[0m \u001b[1;33m\u001b[0m\u001b[0m\n\u001b[1;32m----> 4\u001b[1;33m \u001b[0mX_train\u001b[0m\u001b[1;33m,\u001b[0m \u001b[0mX_test\u001b[0m\u001b[1;33m,\u001b[0m \u001b[0my_train\u001b[0m\u001b[1;33m,\u001b[0m \u001b[0my_test\u001b[0m \u001b[1;33m=\u001b[0m \u001b[0mtrain_test_split\u001b[0m\u001b[1;33m(\u001b[0m\u001b[0mX\u001b[0m\u001b[1;33m,\u001b[0m \u001b[0my\u001b[0m\u001b[1;33m,\u001b[0m \u001b[0mtest_size\u001b[0m\u001b[1;33m=\u001b[0m\u001b[1;36m0.2\u001b[0m\u001b[1;33m,\u001b[0m \u001b[0mstratify\u001b[0m\u001b[1;33m=\u001b[0m\u001b[0my\u001b[0m\u001b[1;33m,\u001b[0m \u001b[0mrandom_state\u001b[0m\u001b[1;33m=\u001b[0m\u001b[1;36m42\u001b[0m\u001b[1;33m)\u001b[0m\u001b[1;33m\u001b[0m\u001b[1;33m\u001b[0m\u001b[0m\n\u001b[0m\u001b[0;32m      5\u001b[0m \u001b[0mX_train\u001b[0m\u001b[1;33m.\u001b[0m\u001b[0mshape\u001b[0m\u001b[1;33m,\u001b[0m \u001b[0mX_test\u001b[0m\u001b[1;33m.\u001b[0m\u001b[0mshape\u001b[0m\u001b[1;33m,\u001b[0m \u001b[0my_train\u001b[0m\u001b[1;33m.\u001b[0m\u001b[0mshape\u001b[0m\u001b[1;33m,\u001b[0m \u001b[0my_test\u001b[0m\u001b[1;33m.\u001b[0m\u001b[0mshape\u001b[0m\u001b[1;33m\u001b[0m\u001b[1;33m\u001b[0m\u001b[0m\n",
      "\u001b[1;32mD:\\Python\\lib\\site-packages\\sklearn\\model_selection\\_split.py\u001b[0m in \u001b[0;36mtrain_test_split\u001b[1;34m(test_size, train_size, random_state, shuffle, stratify, *arrays)\u001b[0m\n\u001b[0;32m   2439\u001b[0m         \u001b[0mcv\u001b[0m \u001b[1;33m=\u001b[0m \u001b[0mCVClass\u001b[0m\u001b[1;33m(\u001b[0m\u001b[0mtest_size\u001b[0m\u001b[1;33m=\u001b[0m\u001b[0mn_test\u001b[0m\u001b[1;33m,\u001b[0m \u001b[0mtrain_size\u001b[0m\u001b[1;33m=\u001b[0m\u001b[0mn_train\u001b[0m\u001b[1;33m,\u001b[0m \u001b[0mrandom_state\u001b[0m\u001b[1;33m=\u001b[0m\u001b[0mrandom_state\u001b[0m\u001b[1;33m)\u001b[0m\u001b[1;33m\u001b[0m\u001b[1;33m\u001b[0m\u001b[0m\n\u001b[0;32m   2440\u001b[0m \u001b[1;33m\u001b[0m\u001b[0m\n\u001b[1;32m-> 2441\u001b[1;33m         \u001b[0mtrain\u001b[0m\u001b[1;33m,\u001b[0m \u001b[0mtest\u001b[0m \u001b[1;33m=\u001b[0m \u001b[0mnext\u001b[0m\u001b[1;33m(\u001b[0m\u001b[0mcv\u001b[0m\u001b[1;33m.\u001b[0m\u001b[0msplit\u001b[0m\u001b[1;33m(\u001b[0m\u001b[0mX\u001b[0m\u001b[1;33m=\u001b[0m\u001b[0marrays\u001b[0m\u001b[1;33m[\u001b[0m\u001b[1;36m0\u001b[0m\u001b[1;33m]\u001b[0m\u001b[1;33m,\u001b[0m \u001b[0my\u001b[0m\u001b[1;33m=\u001b[0m\u001b[0mstratify\u001b[0m\u001b[1;33m)\u001b[0m\u001b[1;33m)\u001b[0m\u001b[1;33m\u001b[0m\u001b[1;33m\u001b[0m\u001b[0m\n\u001b[0m\u001b[0;32m   2442\u001b[0m \u001b[1;33m\u001b[0m\u001b[0m\n\u001b[0;32m   2443\u001b[0m     return list(\n",
      "\u001b[1;32mD:\\Python\\lib\\site-packages\\sklearn\\model_selection\\_split.py\u001b[0m in \u001b[0;36msplit\u001b[1;34m(self, X, y, groups)\u001b[0m\n\u001b[0;32m   1598\u001b[0m         \"\"\"\n\u001b[0;32m   1599\u001b[0m         \u001b[0mX\u001b[0m\u001b[1;33m,\u001b[0m \u001b[0my\u001b[0m\u001b[1;33m,\u001b[0m \u001b[0mgroups\u001b[0m \u001b[1;33m=\u001b[0m \u001b[0mindexable\u001b[0m\u001b[1;33m(\u001b[0m\u001b[0mX\u001b[0m\u001b[1;33m,\u001b[0m \u001b[0my\u001b[0m\u001b[1;33m,\u001b[0m \u001b[0mgroups\u001b[0m\u001b[1;33m)\u001b[0m\u001b[1;33m\u001b[0m\u001b[1;33m\u001b[0m\u001b[0m\n\u001b[1;32m-> 1600\u001b[1;33m         \u001b[1;32mfor\u001b[0m \u001b[0mtrain\u001b[0m\u001b[1;33m,\u001b[0m \u001b[0mtest\u001b[0m \u001b[1;32min\u001b[0m \u001b[0mself\u001b[0m\u001b[1;33m.\u001b[0m\u001b[0m_iter_indices\u001b[0m\u001b[1;33m(\u001b[0m\u001b[0mX\u001b[0m\u001b[1;33m,\u001b[0m \u001b[0my\u001b[0m\u001b[1;33m,\u001b[0m \u001b[0mgroups\u001b[0m\u001b[1;33m)\u001b[0m\u001b[1;33m:\u001b[0m\u001b[1;33m\u001b[0m\u001b[1;33m\u001b[0m\u001b[0m\n\u001b[0m\u001b[0;32m   1601\u001b[0m             \u001b[1;32myield\u001b[0m \u001b[0mtrain\u001b[0m\u001b[1;33m,\u001b[0m \u001b[0mtest\u001b[0m\u001b[1;33m\u001b[0m\u001b[1;33m\u001b[0m\u001b[0m\n\u001b[0;32m   1602\u001b[0m \u001b[1;33m\u001b[0m\u001b[0m\n",
      "\u001b[1;32mD:\\Python\\lib\\site-packages\\sklearn\\model_selection\\_split.py\u001b[0m in \u001b[0;36m_iter_indices\u001b[1;34m(self, X, y, groups)\u001b[0m\n\u001b[0;32m   1938\u001b[0m         \u001b[0mclass_counts\u001b[0m \u001b[1;33m=\u001b[0m \u001b[0mnp\u001b[0m\u001b[1;33m.\u001b[0m\u001b[0mbincount\u001b[0m\u001b[1;33m(\u001b[0m\u001b[0my_indices\u001b[0m\u001b[1;33m)\u001b[0m\u001b[1;33m\u001b[0m\u001b[1;33m\u001b[0m\u001b[0m\n\u001b[0;32m   1939\u001b[0m         \u001b[1;32mif\u001b[0m \u001b[0mnp\u001b[0m\u001b[1;33m.\u001b[0m\u001b[0mmin\u001b[0m\u001b[1;33m(\u001b[0m\u001b[0mclass_counts\u001b[0m\u001b[1;33m)\u001b[0m \u001b[1;33m<\u001b[0m \u001b[1;36m2\u001b[0m\u001b[1;33m:\u001b[0m\u001b[1;33m\u001b[0m\u001b[1;33m\u001b[0m\u001b[0m\n\u001b[1;32m-> 1940\u001b[1;33m             raise ValueError(\n\u001b[0m\u001b[0;32m   1941\u001b[0m                 \u001b[1;34m\"The least populated class in y has only 1\"\u001b[0m\u001b[1;33m\u001b[0m\u001b[1;33m\u001b[0m\u001b[0m\n\u001b[0;32m   1942\u001b[0m                 \u001b[1;34m\" member, which is too few. The minimum\"\u001b[0m\u001b[1;33m\u001b[0m\u001b[1;33m\u001b[0m\u001b[0m\n",
      "\u001b[1;31mValueError\u001b[0m: The least populated class in y has only 1 member, which is too few. The minimum number of groups for any class cannot be less than 2."
     ]
    }
   ],
   "source": [
    "X = df.drop(columns=[\"cuaca\"])\n",
    "y = df[\"cuaca\"]\n",
    "\n",
    "X_train, X_test, y_train, y_test = train_test_split(X, y, test_size=0.2, stratify=y, random_state=42)\n",
    "X_train.shape, X_test.shape, y_train.shape, y_test.shape"
   ]
  },
  {
   "cell_type": "code",
   "execution_count": null,
   "metadata": {},
   "outputs": [],
   "source": []
  }
 ],
 "metadata": {
  "interpreter": {
   "hash": "4ce0e62306dd6a5716965d4519ada776f947e6dfc145b604b11307c10277ef29"
  },
  "kernelspec": {
   "display_name": "Python 3.10.1 64-bit",
   "language": "python",
   "name": "python3"
  },
  "language_info": {
   "codemirror_mode": {
    "name": "ipython",
    "version": 3
   },
   "file_extension": ".py",
   "mimetype": "text/x-python",
   "name": "python",
   "nbconvert_exporter": "python",
   "pygments_lexer": "ipython3",
   "version": "3.10.1"
  },
  "orig_nbformat": 4
 },
 "nbformat": 4,
 "nbformat_minor": 2
}
