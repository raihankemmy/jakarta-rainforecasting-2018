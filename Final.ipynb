{
 "cells": [
  {
   "cell_type": "markdown",
   "metadata": {},
   "source": [
    "# Import Package"
   ]
  },
  {
   "cell_type": "code",
   "execution_count": 1,
   "metadata": {},
   "outputs": [],
   "source": [
    "import pandas as pd\n",
    "import matplotlib.pyplot as plt\n",
    "import seaborn as sns\n",
    "from sklearn.model_selection import train_test_split"
   ]
  },
  {
   "cell_type": "markdown",
   "metadata": {},
   "source": [
    "# Import Data"
   ]
  },
  {
   "cell_type": "code",
   "execution_count": 2,
   "metadata": {},
   "outputs": [
    {
     "data": {
      "text/html": [
       "<div>\n",
       "<style scoped>\n",
       "    .dataframe tbody tr th:only-of-type {\n",
       "        vertical-align: middle;\n",
       "    }\n",
       "\n",
       "    .dataframe tbody tr th {\n",
       "        vertical-align: top;\n",
       "    }\n",
       "\n",
       "    .dataframe thead th {\n",
       "        text-align: right;\n",
       "    }\n",
       "</style>\n",
       "<table border=\"1\" class=\"dataframe\">\n",
       "  <thead>\n",
       "    <tr style=\"text-align: right;\">\n",
       "      <th></th>\n",
       "      <th>tanggal</th>\n",
       "      <th>wilayah</th>\n",
       "      <th>waktu</th>\n",
       "      <th>cuaca</th>\n",
       "      <th>kelembaban_persen</th>\n",
       "      <th>suhu_derajat_celcius</th>\n",
       "    </tr>\n",
       "  </thead>\n",
       "  <tbody>\n",
       "    <tr>\n",
       "      <th>0</th>\n",
       "      <td>2018-12-31</td>\n",
       "      <td>Kepulauan Seribu</td>\n",
       "      <td>Siang</td>\n",
       "      <td>Hujan Lokal</td>\n",
       "      <td>70 - 90</td>\n",
       "      <td>24 - 32</td>\n",
       "    </tr>\n",
       "    <tr>\n",
       "      <th>1</th>\n",
       "      <td>2018-12-31</td>\n",
       "      <td>Kepulauan Seribu</td>\n",
       "      <td>Pagi</td>\n",
       "      <td>Hujan Lokal</td>\n",
       "      <td>70 - 90</td>\n",
       "      <td>24 - 32</td>\n",
       "    </tr>\n",
       "    <tr>\n",
       "      <th>2</th>\n",
       "      <td>2018-12-31</td>\n",
       "      <td>Kepulauan Seribu</td>\n",
       "      <td>Malam</td>\n",
       "      <td>Hujan Lokal</td>\n",
       "      <td>70 - 90</td>\n",
       "      <td>24 - 32</td>\n",
       "    </tr>\n",
       "    <tr>\n",
       "      <th>3</th>\n",
       "      <td>2018-12-31</td>\n",
       "      <td>Kepulauan Seribu</td>\n",
       "      <td>Dini Hari</td>\n",
       "      <td>Hujan Ringan</td>\n",
       "      <td>70 - 90</td>\n",
       "      <td>24 - 32</td>\n",
       "    </tr>\n",
       "    <tr>\n",
       "      <th>4</th>\n",
       "      <td>2018-12-31</td>\n",
       "      <td>Jakarta Utara</td>\n",
       "      <td>Siang</td>\n",
       "      <td>Hujan Lokal</td>\n",
       "      <td>70 - 90</td>\n",
       "      <td>24 - 32</td>\n",
       "    </tr>\n",
       "  </tbody>\n",
       "</table>\n",
       "</div>"
      ],
      "text/plain": [
       "      tanggal           wilayah      waktu         cuaca kelembaban_persen  \\\n",
       "0  2018-12-31  Kepulauan Seribu      Siang   Hujan Lokal           70 - 90   \n",
       "1  2018-12-31  Kepulauan Seribu       Pagi   Hujan Lokal           70 - 90   \n",
       "2  2018-12-31  Kepulauan Seribu      Malam   Hujan Lokal           70 - 90   \n",
       "3  2018-12-31  Kepulauan Seribu  Dini Hari  Hujan Ringan           70 - 90   \n",
       "4  2018-12-31     Jakarta Utara      Siang   Hujan Lokal           70 - 90   \n",
       "\n",
       "  suhu_derajat_celcius  \n",
       "0              24 - 32  \n",
       "1              24 - 32  \n",
       "2              24 - 32  \n",
       "3              24 - 32  \n",
       "4              24 - 32  "
      ]
     },
     "execution_count": 2,
     "metadata": {},
     "output_type": "execute_result"
    }
   ],
   "source": [
    "df = pd.read_csv(\"dataset/dataset.csv\")\n",
    "df.head()"
   ]
  },
  {
   "cell_type": "markdown",
   "metadata": {},
   "source": [
    "mengambil dataset prakiraan cuaca Provinsi DKI Jakarta tahun 2018 dari website https://katalog.data.go.id/dataset/data-prakiraan-cuaca-wilayah-provinsi-dki-jakarta-tahun-2018"
   ]
  },
  {
   "cell_type": "markdown",
   "metadata": {},
   "source": [
    "# Preprocessing (1)"
   ]
  },
  {
   "cell_type": "markdown",
   "metadata": {},
   "source": [
    "### Melihat Jumlah Baris dan Kolom"
   ]
  },
  {
   "cell_type": "code",
   "execution_count": 3,
   "metadata": {},
   "outputs": [
    {
     "data": {
      "text/plain": [
       "(8535, 6)"
      ]
     },
     "execution_count": 3,
     "metadata": {},
     "output_type": "execute_result"
    }
   ],
   "source": [
    "df.shape"
   ]
  },
  {
   "cell_type": "markdown",
   "metadata": {},
   "source": [
    "dataset terdiri dari 8535 baris dan 6 kolom"
   ]
  },
  {
   "cell_type": "markdown",
   "metadata": {},
   "source": [
    "### Melihat Missing Value"
   ]
  },
  {
   "cell_type": "code",
   "execution_count": 4,
   "metadata": {},
   "outputs": [
    {
     "data": {
      "text/plain": [
       "tanggal                 135\n",
       "wilayah                 135\n",
       "waktu                   135\n",
       "cuaca                   135\n",
       "kelembaban_persen       135\n",
       "suhu_derajat_celcius    135\n",
       "dtype: int64"
      ]
     },
     "execution_count": 4,
     "metadata": {},
     "output_type": "execute_result"
    }
   ],
   "source": [
    "df.isnull().sum()"
   ]
  },
  {
   "cell_type": "code",
   "execution_count": 5,
   "metadata": {},
   "outputs": [
    {
     "data": {
      "text/plain": [
       "tanggal                 0\n",
       "wilayah                 0\n",
       "waktu                   0\n",
       "cuaca                   0\n",
       "kelembaban_persen       0\n",
       "suhu_derajat_celcius    0\n",
       "dtype: int64"
      ]
     },
     "execution_count": 5,
     "metadata": {},
     "output_type": "execute_result"
    }
   ],
   "source": [
    "df.dropna(inplace=True)\n",
    "df.isnull().sum()"
   ]
  },
  {
   "cell_type": "markdown",
   "metadata": {},
   "source": [
    "membuang data yang kosong atau null"
   ]
  },
  {
   "cell_type": "markdown",
   "metadata": {},
   "source": [
    "#### Melihat Kembali Jumlah Baris dan Kolom"
   ]
  },
  {
   "cell_type": "code",
   "execution_count": 6,
   "metadata": {},
   "outputs": [
    {
     "data": {
      "text/plain": [
       "(8400, 6)"
      ]
     },
     "execution_count": 6,
     "metadata": {},
     "output_type": "execute_result"
    }
   ],
   "source": [
    "df.shape"
   ]
  },
  {
   "cell_type": "markdown",
   "metadata": {},
   "source": [
    "jumlah baris menjadi 8400 dan kolom tetap 6"
   ]
  },
  {
   "cell_type": "markdown",
   "metadata": {},
   "source": [
    "### Menggunakan Regex untuk mengelompokkan jenis Cuaca"
   ]
  },
  {
   "cell_type": "code",
   "execution_count": 7,
   "metadata": {},
   "outputs": [
    {
     "data": {
      "text/plain": [
       "array(['Hujan Lokal', 'Hujan Ringan', 'Berawan', 'Cerah Berawan', 'Cerah',\n",
       "       'Berawan Tebal', 'Hujan Sedang', 'Cerah Berawn', 'Cerang Berawan',\n",
       "       'Beawan', 'Berawan ', 'Hujan Petir', 'Hujan Lokal ',\n",
       "       'Cerah Berawan ', 'Cerah ', 'Cerah Berawah', 'Cerah  ', ' Berawan',\n",
       "       'Hujan', 'Hujan Petir ', 'Hujan Sedang ', 'Cerah berawan',\n",
       "       'Hujan Ringanl', 'Berawa', 'Hujang Sedang', 'Hujan Loka',\n",
       "       'Hujan Ringan '], dtype=object)"
      ]
     },
     "execution_count": 7,
     "metadata": {},
     "output_type": "execute_result"
    }
   ],
   "source": [
    "df[\"cuaca\"].unique()"
   ]
  },
  {
   "cell_type": "markdown",
   "metadata": {},
   "source": [
    "terdapat 27 jenis cuaca sehingga akan dikelompokkan jenis cuaca menjadi 3 yaitu Hujan, Cerah dan Berawan"
   ]
  },
  {
   "cell_type": "code",
   "execution_count": 8,
   "metadata": {},
   "outputs": [
    {
     "data": {
      "text/plain": [
       "Cerah                    3796\n",
       "Berawan                  2896\n",
       "Hujan                    1706\n",
       "Tidak Teridentifikasi       2\n",
       "Name: cuaca, dtype: int64"
      ]
     },
     "execution_count": 8,
     "metadata": {},
     "output_type": "execute_result"
    }
   ],
   "source": [
    "import re\n",
    "\n",
    "def cuaca(x):\n",
    "  if (re.findall(\"Cerah\", x)):\n",
    "    return 'Cerah'\n",
    "  elif (re.findall(\"Hujan\", x)):\n",
    "    return 'Hujan'\n",
    "  elif (re.findall(\"Berawan\", x)):\n",
    "    return 'Berawan'\n",
    "  else:\n",
    "    return 'Tidak Teridentifikasi'\n",
    "\n",
    "df[\"cuaca\"] = df['cuaca'].apply(cuaca)\n",
    "df[\"cuaca\"].value_counts()"
   ]
  },
  {
   "cell_type": "markdown",
   "metadata": {},
   "source": [
    "3796 data cuaca cerah<br>\n",
    "2896 data cuaca berawan<br>\n",
    "1706 data cuaca hujan<br>\n",
    "dan 2 data cuaca yang tidak teridentifikasi karena tidak termasuk jenis cuaca Hujan, Cerah maupun Berawan"
   ]
  },
  {
   "cell_type": "markdown",
   "metadata": {},
   "source": [
    "#### Membuang Data yang tidak sesuai atau tidak berhubungan"
   ]
  },
  {
   "cell_type": "code",
   "execution_count": 9,
   "metadata": {},
   "outputs": [
    {
     "data": {
      "text/plain": [
       "array(['Hujan', 'Berawan', 'Cerah'], dtype=object)"
      ]
     },
     "execution_count": 9,
     "metadata": {},
     "output_type": "execute_result"
    }
   ],
   "source": [
    "df.drop(df[df[\"cuaca\"] == \"Tidak Teridentifikasi\"].index, inplace=True)\n",
    "df[\"cuaca\"].unique()"
   ]
  },
  {
   "cell_type": "markdown",
   "metadata": {},
   "source": [
    "### Menggunakan Regex untuk mengelompokkan jenis Waktu"
   ]
  },
  {
   "cell_type": "code",
   "execution_count": 10,
   "metadata": {},
   "outputs": [
    {
     "data": {
      "text/plain": [
       "Siang        1758\n",
       "Pagi         1758\n",
       "Dini Hari    1758\n",
       "Malam        1757\n",
       "siang         342\n",
       "pagi          342\n",
       "malam         342\n",
       "dini hari     341\n",
       "Name: waktu, dtype: int64"
      ]
     },
     "execution_count": 10,
     "metadata": {},
     "output_type": "execute_result"
    }
   ],
   "source": [
    "df.waktu.value_counts()"
   ]
  },
  {
   "cell_type": "markdown",
   "metadata": {},
   "source": [
    "terdapat 8 jenis waktu pengambilan data cuaca sehingga akan dikelompokkan menjadi 4 waktu saja yaitu Siang, Pagi, Malam, dan Dini Hari"
   ]
  },
  {
   "cell_type": "code",
   "execution_count": 11,
   "metadata": {},
   "outputs": [
    {
     "data": {
      "text/plain": [
       "Siang        2100\n",
       "Pagi         2100\n",
       "Malam        2099\n",
       "Dini Hari    2099\n",
       "Name: waktu, dtype: int64"
      ]
     },
     "execution_count": 11,
     "metadata": {},
     "output_type": "execute_result"
    }
   ],
   "source": [
    "import re\n",
    "\n",
    "def cuaca(x):\n",
    "  if (re.findall(\"dini hari\", x)):\n",
    "    return 'Dini Hari'\n",
    "  elif (re.findall(\"siang\", x)):\n",
    "    return 'Siang'\n",
    "  elif (re.findall(\"pagi\", x)):\n",
    "    return 'Pagi'\n",
    "  elif (re.findall(\"malam\", x)):\n",
    "    return 'Malam'\n",
    "  else:\n",
    "    return x\n",
    "\n",
    "df[\"waktu\"] = df['waktu'].apply(cuaca)\n",
    "df[\"waktu\"].value_counts()"
   ]
  },
  {
   "cell_type": "markdown",
   "metadata": {},
   "source": [
    "Waktu Siang terdapat 2100 data<br>\n",
    "Waktu Pagi terdapat 2100 data<br>\n",
    "Waktu Malam terdapat 2100 data<br>\n",
    "Waktu Dini Hari terdapat 2100 data<br>"
   ]
  },
  {
   "cell_type": "markdown",
   "metadata": {},
   "source": [
    "membuang data cuaca yang tidak teridentifikasi sehingga tersisa 3 jenis cuaca yaitu Hujan, Berawan, dan Cerah"
   ]
  },
  {
   "cell_type": "markdown",
   "metadata": {},
   "source": [
    "### Split Data Kelembaban menjadi Kelembaban Minimal dan Maximal"
   ]
  },
  {
   "cell_type": "code",
   "execution_count": 12,
   "metadata": {},
   "outputs": [
    {
     "data": {
      "text/html": [
       "<div>\n",
       "<style scoped>\n",
       "    .dataframe tbody tr th:only-of-type {\n",
       "        vertical-align: middle;\n",
       "    }\n",
       "\n",
       "    .dataframe tbody tr th {\n",
       "        vertical-align: top;\n",
       "    }\n",
       "\n",
       "    .dataframe thead th {\n",
       "        text-align: right;\n",
       "    }\n",
       "</style>\n",
       "<table border=\"1\" class=\"dataframe\">\n",
       "  <thead>\n",
       "    <tr style=\"text-align: right;\">\n",
       "      <th></th>\n",
       "      <th>tanggal</th>\n",
       "      <th>wilayah</th>\n",
       "      <th>waktu</th>\n",
       "      <th>cuaca</th>\n",
       "      <th>kelembaban_persen</th>\n",
       "      <th>suhu_derajat_celcius</th>\n",
       "      <th>kelembaban_min</th>\n",
       "      <th>kelembaban_max</th>\n",
       "    </tr>\n",
       "  </thead>\n",
       "  <tbody>\n",
       "    <tr>\n",
       "      <th>0</th>\n",
       "      <td>2018-12-31</td>\n",
       "      <td>Kepulauan Seribu</td>\n",
       "      <td>Siang</td>\n",
       "      <td>Hujan</td>\n",
       "      <td>70 - 90</td>\n",
       "      <td>24 - 32</td>\n",
       "      <td>70</td>\n",
       "      <td>90</td>\n",
       "    </tr>\n",
       "    <tr>\n",
       "      <th>1</th>\n",
       "      <td>2018-12-31</td>\n",
       "      <td>Kepulauan Seribu</td>\n",
       "      <td>Pagi</td>\n",
       "      <td>Hujan</td>\n",
       "      <td>70 - 90</td>\n",
       "      <td>24 - 32</td>\n",
       "      <td>70</td>\n",
       "      <td>90</td>\n",
       "    </tr>\n",
       "    <tr>\n",
       "      <th>2</th>\n",
       "      <td>2018-12-31</td>\n",
       "      <td>Kepulauan Seribu</td>\n",
       "      <td>Malam</td>\n",
       "      <td>Hujan</td>\n",
       "      <td>70 - 90</td>\n",
       "      <td>24 - 32</td>\n",
       "      <td>70</td>\n",
       "      <td>90</td>\n",
       "    </tr>\n",
       "    <tr>\n",
       "      <th>3</th>\n",
       "      <td>2018-12-31</td>\n",
       "      <td>Kepulauan Seribu</td>\n",
       "      <td>Dini Hari</td>\n",
       "      <td>Hujan</td>\n",
       "      <td>70 - 90</td>\n",
       "      <td>24 - 32</td>\n",
       "      <td>70</td>\n",
       "      <td>90</td>\n",
       "    </tr>\n",
       "    <tr>\n",
       "      <th>4</th>\n",
       "      <td>2018-12-31</td>\n",
       "      <td>Jakarta Utara</td>\n",
       "      <td>Siang</td>\n",
       "      <td>Hujan</td>\n",
       "      <td>70 - 90</td>\n",
       "      <td>24 - 32</td>\n",
       "      <td>70</td>\n",
       "      <td>90</td>\n",
       "    </tr>\n",
       "  </tbody>\n",
       "</table>\n",
       "</div>"
      ],
      "text/plain": [
       "      tanggal           wilayah      waktu  cuaca kelembaban_persen  \\\n",
       "0  2018-12-31  Kepulauan Seribu      Siang  Hujan           70 - 90   \n",
       "1  2018-12-31  Kepulauan Seribu       Pagi  Hujan           70 - 90   \n",
       "2  2018-12-31  Kepulauan Seribu      Malam  Hujan           70 - 90   \n",
       "3  2018-12-31  Kepulauan Seribu  Dini Hari  Hujan           70 - 90   \n",
       "4  2018-12-31     Jakarta Utara      Siang  Hujan           70 - 90   \n",
       "\n",
       "  suhu_derajat_celcius kelembaban_min kelembaban_max  \n",
       "0              24 - 32             70             90  \n",
       "1              24 - 32             70             90  \n",
       "2              24 - 32             70             90  \n",
       "3              24 - 32             70             90  \n",
       "4              24 - 32             70             90  "
      ]
     },
     "execution_count": 12,
     "metadata": {},
     "output_type": "execute_result"
    }
   ],
   "source": [
    "df[\"kelembaban_min\"] = df['kelembaban_persen'].apply(lambda x: x.split(\"-\")[0])\n",
    "df[\"kelembaban_min\"] = [x.strip(' ') for x in df[\"kelembaban_min\"]]\n",
    "\n",
    "df[\"kelembaban_max\"] = df['kelembaban_persen'].apply(lambda x: x.split(\"-\")[1])\n",
    "df[\"kelembaban_max\"] = [x.strip(' ') for x in df[\"kelembaban_max\"]]\n",
    "\n",
    "df.head()"
   ]
  },
  {
   "cell_type": "markdown",
   "metadata": {},
   "source": [
    "membuat kolom kelembaban_min dengan mengambil nilai terkecil dari kolom kelembaban_persen<br>\n",
    "membuat kolom kelembaban_max dengan mengambil nilai terbesar dari kolom kelembaban_persen<br>\n",
    "<br>\n",
    "dengan split data pada kolom kelembaban_persen agar terbagi menjadi 2 bagian untuk bagian kiri untuk nilai minimal dan bagian kanan untuk nilai maksimal"
   ]
  },
  {
   "cell_type": "markdown",
   "metadata": {},
   "source": [
    "#### Melihat Masing Masing Data dari Kelembapan Minimal dan Maksimal"
   ]
  },
  {
   "cell_type": "code",
   "execution_count": 13,
   "metadata": {},
   "outputs": [
    {
     "name": "stdout",
     "output_type": "stream",
     "text": [
      "Kelembaban Min\n",
      " 70    1727\n",
      "55    1296\n",
      "65    1272\n",
      "60    1224\n",
      "75     839\n",
      "45     624\n",
      "50     600\n",
      "80     480\n",
      "40     192\n",
      "35      96\n",
      "85      48\n",
      "Name: kelembaban_min, dtype: int64 \n",
      "\n",
      "\n",
      "Kelembaban Min\n",
      " 95     3264\n",
      "90     2375\n",
      "85     1128\n",
      "100    1031\n",
      "80      504\n",
      "75       96\n",
      "Name: kelembaban_max, dtype: int64 \n",
      "\n"
     ]
    }
   ],
   "source": [
    "print('Kelembaban Min\\n', df['kelembaban_min'].value_counts(), '\\n\\n')\n",
    "print('Kelembaban Min\\n', df['kelembaban_max'].value_counts(), '\\n')"
   ]
  },
  {
   "cell_type": "markdown",
   "metadata": {},
   "source": [
    "### Split Data Suhu menjadi Suhu Minimal dan Maximal"
   ]
  },
  {
   "cell_type": "code",
   "execution_count": 14,
   "metadata": {},
   "outputs": [
    {
     "data": {
      "text/html": [
       "<div>\n",
       "<style scoped>\n",
       "    .dataframe tbody tr th:only-of-type {\n",
       "        vertical-align: middle;\n",
       "    }\n",
       "\n",
       "    .dataframe tbody tr th {\n",
       "        vertical-align: top;\n",
       "    }\n",
       "\n",
       "    .dataframe thead th {\n",
       "        text-align: right;\n",
       "    }\n",
       "</style>\n",
       "<table border=\"1\" class=\"dataframe\">\n",
       "  <thead>\n",
       "    <tr style=\"text-align: right;\">\n",
       "      <th></th>\n",
       "      <th>tanggal</th>\n",
       "      <th>wilayah</th>\n",
       "      <th>waktu</th>\n",
       "      <th>cuaca</th>\n",
       "      <th>kelembaban_persen</th>\n",
       "      <th>suhu_derajat_celcius</th>\n",
       "      <th>kelembaban_min</th>\n",
       "      <th>kelembaban_max</th>\n",
       "      <th>suhu_min</th>\n",
       "      <th>suhu_max</th>\n",
       "    </tr>\n",
       "  </thead>\n",
       "  <tbody>\n",
       "    <tr>\n",
       "      <th>0</th>\n",
       "      <td>2018-12-31</td>\n",
       "      <td>Kepulauan Seribu</td>\n",
       "      <td>Siang</td>\n",
       "      <td>Hujan</td>\n",
       "      <td>70 - 90</td>\n",
       "      <td>24 - 32</td>\n",
       "      <td>70</td>\n",
       "      <td>90</td>\n",
       "      <td>24</td>\n",
       "      <td>32</td>\n",
       "    </tr>\n",
       "    <tr>\n",
       "      <th>1</th>\n",
       "      <td>2018-12-31</td>\n",
       "      <td>Kepulauan Seribu</td>\n",
       "      <td>Pagi</td>\n",
       "      <td>Hujan</td>\n",
       "      <td>70 - 90</td>\n",
       "      <td>24 - 32</td>\n",
       "      <td>70</td>\n",
       "      <td>90</td>\n",
       "      <td>24</td>\n",
       "      <td>32</td>\n",
       "    </tr>\n",
       "    <tr>\n",
       "      <th>2</th>\n",
       "      <td>2018-12-31</td>\n",
       "      <td>Kepulauan Seribu</td>\n",
       "      <td>Malam</td>\n",
       "      <td>Hujan</td>\n",
       "      <td>70 - 90</td>\n",
       "      <td>24 - 32</td>\n",
       "      <td>70</td>\n",
       "      <td>90</td>\n",
       "      <td>24</td>\n",
       "      <td>32</td>\n",
       "    </tr>\n",
       "    <tr>\n",
       "      <th>3</th>\n",
       "      <td>2018-12-31</td>\n",
       "      <td>Kepulauan Seribu</td>\n",
       "      <td>Dini Hari</td>\n",
       "      <td>Hujan</td>\n",
       "      <td>70 - 90</td>\n",
       "      <td>24 - 32</td>\n",
       "      <td>70</td>\n",
       "      <td>90</td>\n",
       "      <td>24</td>\n",
       "      <td>32</td>\n",
       "    </tr>\n",
       "    <tr>\n",
       "      <th>4</th>\n",
       "      <td>2018-12-31</td>\n",
       "      <td>Jakarta Utara</td>\n",
       "      <td>Siang</td>\n",
       "      <td>Hujan</td>\n",
       "      <td>70 - 90</td>\n",
       "      <td>24 - 32</td>\n",
       "      <td>70</td>\n",
       "      <td>90</td>\n",
       "      <td>24</td>\n",
       "      <td>32</td>\n",
       "    </tr>\n",
       "  </tbody>\n",
       "</table>\n",
       "</div>"
      ],
      "text/plain": [
       "      tanggal           wilayah      waktu  cuaca kelembaban_persen  \\\n",
       "0  2018-12-31  Kepulauan Seribu      Siang  Hujan           70 - 90   \n",
       "1  2018-12-31  Kepulauan Seribu       Pagi  Hujan           70 - 90   \n",
       "2  2018-12-31  Kepulauan Seribu      Malam  Hujan           70 - 90   \n",
       "3  2018-12-31  Kepulauan Seribu  Dini Hari  Hujan           70 - 90   \n",
       "4  2018-12-31     Jakarta Utara      Siang  Hujan           70 - 90   \n",
       "\n",
       "  suhu_derajat_celcius kelembaban_min kelembaban_max suhu_min suhu_max  \n",
       "0              24 - 32             70             90       24       32  \n",
       "1              24 - 32             70             90       24       32  \n",
       "2              24 - 32             70             90       24       32  \n",
       "3              24 - 32             70             90       24       32  \n",
       "4              24 - 32             70             90       24       32  "
      ]
     },
     "execution_count": 14,
     "metadata": {},
     "output_type": "execute_result"
    }
   ],
   "source": [
    "df[\"suhu_min\"] = df.suhu_derajat_celcius.apply(lambda x: x.split(\"-\")[0])\n",
    "df[\"suhu_min\"] = [x.strip(' ') for x in df[\"suhu_min\"]]\n",
    "\n",
    "df[\"suhu_max\"] = df.suhu_derajat_celcius.apply(lambda x: x.split(\"-\")[1])\n",
    "df[\"suhu_max\"] = [x.strip(' ') for x in df[\"suhu_max\"]]\n",
    "\n",
    "df.head()"
   ]
  },
  {
   "cell_type": "markdown",
   "metadata": {},
   "source": [
    "membuat kolom suhu_min dengan mengambil nilai terkecil dari kolom suhu_derajat_celcius<br>\n",
    "membuat kolom suhu_max dengan mengambil nilai terbesar dari kolom suhu_derajat_celcius<br>\n",
    "<br>\n",
    "dengan split data pada kolom suhu_derajat_celcius agar terbagi menjadi 2 bagian untuk bagian kiri untuk nilai minimal dan bagian kanan untuk nilai maksimal"
   ]
  },
  {
   "cell_type": "markdown",
   "metadata": {},
   "source": [
    "#### Melihat Masing Masing Data dari Suhu Minimal dan Maksimal"
   ]
  },
  {
   "cell_type": "code",
   "execution_count": 15,
   "metadata": {},
   "outputs": [
    {
     "name": "stdout",
     "output_type": "stream",
     "text": [
      "Suhu Min\n",
      " 24    4102\n",
      "23    3072\n",
      "25     576\n",
      "22     552\n",
      "21      48\n",
      "20      24\n",
      "26      24\n",
      "Name: suhu_min, dtype: int64 \n",
      "\n",
      "Suhu Max\n",
      " 33    3431\n",
      "32    1991\n",
      "34    1440\n",
      "31     696\n",
      "30     360\n",
      "35     288\n",
      "29     120\n",
      "28      72\n",
      "Name: suhu_max, dtype: int64 \n",
      "\n"
     ]
    }
   ],
   "source": [
    "print('Suhu Min\\n', df['suhu_min'].value_counts(), '\\n')\n",
    "print('Suhu Max\\n', df['suhu_max'].value_counts(), '\\n')"
   ]
  },
  {
   "cell_type": "markdown",
   "metadata": {},
   "source": [
    "### Mengubah Tipe Data"
   ]
  },
  {
   "cell_type": "markdown",
   "metadata": {},
   "source": [
    "#### Melihat Tipe Data setiap Kolom"
   ]
  },
  {
   "cell_type": "code",
   "execution_count": 16,
   "metadata": {},
   "outputs": [
    {
     "data": {
      "text/plain": [
       "tanggal                 object\n",
       "wilayah                 object\n",
       "waktu                   object\n",
       "cuaca                   object\n",
       "kelembaban_persen       object\n",
       "suhu_derajat_celcius    object\n",
       "kelembaban_min          object\n",
       "kelembaban_max          object\n",
       "suhu_min                object\n",
       "suhu_max                object\n",
       "dtype: object"
      ]
     },
     "execution_count": 16,
     "metadata": {},
     "output_type": "execute_result"
    }
   ],
   "source": [
    "df.dtypes"
   ]
  },
  {
   "cell_type": "markdown",
   "metadata": {},
   "source": [
    "memperbaiki jenis tipe data sesuai dengan isi dari data pada kolom tersebut"
   ]
  },
  {
   "cell_type": "markdown",
   "metadata": {},
   "source": [
    "#### Mengubah Tipe data yang tidak sesuai"
   ]
  },
  {
   "cell_type": "code",
   "execution_count": 17,
   "metadata": {},
   "outputs": [
    {
     "data": {
      "text/plain": [
       "tanggal                 object\n",
       "wilayah                 object\n",
       "waktu                   object\n",
       "cuaca                   object\n",
       "kelembaban_persen       object\n",
       "suhu_derajat_celcius    object\n",
       "kelembaban_min           int32\n",
       "kelembaban_max           int32\n",
       "suhu_min                 int32\n",
       "suhu_max                 int32\n",
       "dtype: object"
      ]
     },
     "execution_count": 17,
     "metadata": {},
     "output_type": "execute_result"
    }
   ],
   "source": [
    "df[\"kelembaban_min\"] = df.kelembaban_min.astype(int)\n",
    "df[\"kelembaban_max\"] = df.kelembaban_max.astype(int)\n",
    "df[\"suhu_min\"] = df.suhu_min.astype(int)\n",
    "df[\"suhu_max\"] = df.suhu_max.astype(int)\n",
    "df.dtypes"
   ]
  },
  {
   "cell_type": "markdown",
   "metadata": {},
   "source": [
    "mengubah kolom kelembaban_min, kelembaban_max, suhu_min, dan suhu_max menjadi integer karena data pada kolom tersebut bersifat numerikal"
   ]
  },
  {
   "cell_type": "markdown",
   "metadata": {},
   "source": [
    "### Informasi Data"
   ]
  },
  {
   "cell_type": "markdown",
   "metadata": {},
   "source": [
    "#### Melihat informasi mengenai kolom"
   ]
  },
  {
   "cell_type": "code",
   "execution_count": 18,
   "metadata": {},
   "outputs": [
    {
     "name": "stdout",
     "output_type": "stream",
     "text": [
      "<class 'pandas.core.frame.DataFrame'>\n",
      "Int64Index: 8398 entries, 0 to 8399\n",
      "Data columns (total 10 columns):\n",
      " #   Column                Non-Null Count  Dtype \n",
      "---  ------                --------------  ----- \n",
      " 0   tanggal               8398 non-null   object\n",
      " 1   wilayah               8398 non-null   object\n",
      " 2   waktu                 8398 non-null   object\n",
      " 3   cuaca                 8398 non-null   object\n",
      " 4   kelembaban_persen     8398 non-null   object\n",
      " 5   suhu_derajat_celcius  8398 non-null   object\n",
      " 6   kelembaban_min        8398 non-null   int32 \n",
      " 7   kelembaban_max        8398 non-null   int32 \n",
      " 8   suhu_min              8398 non-null   int32 \n",
      " 9   suhu_max              8398 non-null   int32 \n",
      "dtypes: int32(4), object(6)\n",
      "memory usage: 590.5+ KB\n"
     ]
    }
   ],
   "source": [
    "df.info()"
   ]
  },
  {
   "cell_type": "code",
   "execution_count": 19,
   "metadata": {},
   "outputs": [
    {
     "data": {
      "text/html": [
       "<div>\n",
       "<style scoped>\n",
       "    .dataframe tbody tr th:only-of-type {\n",
       "        vertical-align: middle;\n",
       "    }\n",
       "\n",
       "    .dataframe tbody tr th {\n",
       "        vertical-align: top;\n",
       "    }\n",
       "\n",
       "    .dataframe thead th {\n",
       "        text-align: right;\n",
       "    }\n",
       "</style>\n",
       "<table border=\"1\" class=\"dataframe\">\n",
       "  <thead>\n",
       "    <tr style=\"text-align: right;\">\n",
       "      <th></th>\n",
       "      <th>tanggal</th>\n",
       "      <th>wilayah</th>\n",
       "      <th>waktu</th>\n",
       "      <th>cuaca</th>\n",
       "      <th>kelembaban_persen</th>\n",
       "      <th>suhu_derajat_celcius</th>\n",
       "      <th>kelembaban_min</th>\n",
       "      <th>kelembaban_max</th>\n",
       "      <th>suhu_min</th>\n",
       "      <th>suhu_max</th>\n",
       "    </tr>\n",
       "  </thead>\n",
       "  <tbody>\n",
       "    <tr>\n",
       "      <th>5660</th>\n",
       "      <td>2018-05-03</td>\n",
       "      <td>Jakarta Barat</td>\n",
       "      <td>Siang</td>\n",
       "      <td>Hujan</td>\n",
       "      <td>60 - 90</td>\n",
       "      <td>23 - 33</td>\n",
       "      <td>60</td>\n",
       "      <td>90</td>\n",
       "      <td>23</td>\n",
       "      <td>33</td>\n",
       "    </tr>\n",
       "    <tr>\n",
       "      <th>3273</th>\n",
       "      <td>2018-08-14</td>\n",
       "      <td>Jakarta Timur</td>\n",
       "      <td>Pagi</td>\n",
       "      <td>Cerah</td>\n",
       "      <td>55 - 90</td>\n",
       "      <td>25 - 33</td>\n",
       "      <td>55</td>\n",
       "      <td>90</td>\n",
       "      <td>25</td>\n",
       "      <td>33</td>\n",
       "    </tr>\n",
       "    <tr>\n",
       "      <th>6986</th>\n",
       "      <td>2018-03-04</td>\n",
       "      <td>Kepulauan Seribu</td>\n",
       "      <td>Malam</td>\n",
       "      <td>Cerah</td>\n",
       "      <td>75 - 95</td>\n",
       "      <td>23 - 32</td>\n",
       "      <td>75</td>\n",
       "      <td>95</td>\n",
       "      <td>23</td>\n",
       "      <td>32</td>\n",
       "    </tr>\n",
       "    <tr>\n",
       "      <th>4096</th>\n",
       "      <td>2018-07-10</td>\n",
       "      <td>Jakarta Pusat</td>\n",
       "      <td>Siang</td>\n",
       "      <td>Berawan</td>\n",
       "      <td>60 - 90</td>\n",
       "      <td>23 - 32</td>\n",
       "      <td>60</td>\n",
       "      <td>90</td>\n",
       "      <td>23</td>\n",
       "      <td>32</td>\n",
       "    </tr>\n",
       "    <tr>\n",
       "      <th>2238</th>\n",
       "      <td>2018-09-27</td>\n",
       "      <td>Jakarta Utara</td>\n",
       "      <td>Malam</td>\n",
       "      <td>Cerah</td>\n",
       "      <td>60 - 90</td>\n",
       "      <td>24 - 33</td>\n",
       "      <td>60</td>\n",
       "      <td>90</td>\n",
       "      <td>24</td>\n",
       "      <td>33</td>\n",
       "    </tr>\n",
       "  </tbody>\n",
       "</table>\n",
       "</div>"
      ],
      "text/plain": [
       "         tanggal           wilayah  waktu    cuaca kelembaban_persen  \\\n",
       "5660  2018-05-03     Jakarta Barat  Siang    Hujan           60 - 90   \n",
       "3273  2018-08-14     Jakarta Timur   Pagi    Cerah           55 - 90   \n",
       "6986  2018-03-04  Kepulauan Seribu  Malam    Cerah          75 - 95    \n",
       "4096  2018-07-10     Jakarta Pusat  Siang  Berawan          60 - 90    \n",
       "2238  2018-09-27     Jakarta Utara  Malam    Cerah           60 - 90   \n",
       "\n",
       "     suhu_derajat_celcius  kelembaban_min  kelembaban_max  suhu_min  suhu_max  \n",
       "5660              23 - 33              60              90        23        33  \n",
       "3273              25 - 33              55              90        25        33  \n",
       "6986             23 - 32               75              95        23        32  \n",
       "4096              23 - 32              60              90        23        32  \n",
       "2238              24 - 33              60              90        24        33  "
      ]
     },
     "execution_count": 19,
     "metadata": {},
     "output_type": "execute_result"
    }
   ],
   "source": [
    "df.sample(5)"
   ]
  },
  {
   "cell_type": "code",
   "execution_count": 20,
   "metadata": {},
   "outputs": [
    {
     "data": {
      "text/plain": [
       "Cerah      3796\n",
       "Berawan    2896\n",
       "Hujan      1706\n",
       "Name: cuaca, dtype: int64"
      ]
     },
     "execution_count": 20,
     "metadata": {},
     "output_type": "execute_result"
    }
   ],
   "source": [
    "df['cuaca'].value_counts()"
   ]
  },
  {
   "cell_type": "markdown",
   "metadata": {},
   "source": [
    "data tidak balanced, sehingga kedepannya akan dilakukan proses oversampling menggunakan SMOTE"
   ]
  },
  {
   "cell_type": "markdown",
   "metadata": {},
   "source": [
    "#### Membagi data antara kolom numerikal dengan kategorikal"
   ]
  },
  {
   "cell_type": "code",
   "execution_count": 21,
   "metadata": {},
   "outputs": [],
   "source": [
    "numeric = ['kelembaban_min', 'kelembaban_max', 'suhu_min', 'suhu_max', 'kelembaban_persen', 'suhu_derajat_celcius']\n",
    "categoric = ['cuaca', 'waktu', 'wilayah', 'tanggal']"
   ]
  },
  {
   "cell_type": "markdown",
   "metadata": {},
   "source": [
    "#### Statistik kolom numerik"
   ]
  },
  {
   "cell_type": "code",
   "execution_count": 22,
   "metadata": {},
   "outputs": [
    {
     "data": {
      "text/html": [
       "<div>\n",
       "<style scoped>\n",
       "    .dataframe tbody tr th:only-of-type {\n",
       "        vertical-align: middle;\n",
       "    }\n",
       "\n",
       "    .dataframe tbody tr th {\n",
       "        vertical-align: top;\n",
       "    }\n",
       "\n",
       "    .dataframe thead th {\n",
       "        text-align: right;\n",
       "    }\n",
       "</style>\n",
       "<table border=\"1\" class=\"dataframe\">\n",
       "  <thead>\n",
       "    <tr style=\"text-align: right;\">\n",
       "      <th></th>\n",
       "      <th>kelembaban_min</th>\n",
       "      <th>kelembaban_max</th>\n",
       "      <th>suhu_min</th>\n",
       "      <th>suhu_max</th>\n",
       "    </tr>\n",
       "  </thead>\n",
       "  <tbody>\n",
       "    <tr>\n",
       "      <th>count</th>\n",
       "      <td>8398.000000</td>\n",
       "      <td>8398.000000</td>\n",
       "      <td>8398.000000</td>\n",
       "      <td>8398.000000</td>\n",
       "    </tr>\n",
       "    <tr>\n",
       "      <th>mean</th>\n",
       "      <td>62.254704</td>\n",
       "      <td>91.727792</td>\n",
       "      <td>23.548464</td>\n",
       "      <td>32.608597</td>\n",
       "    </tr>\n",
       "    <tr>\n",
       "      <th>std</th>\n",
       "      <td>10.592668</td>\n",
       "      <td>5.562658</td>\n",
       "      <td>0.775947</td>\n",
       "      <td>1.246190</td>\n",
       "    </tr>\n",
       "    <tr>\n",
       "      <th>min</th>\n",
       "      <td>35.000000</td>\n",
       "      <td>75.000000</td>\n",
       "      <td>20.000000</td>\n",
       "      <td>28.000000</td>\n",
       "    </tr>\n",
       "    <tr>\n",
       "      <th>25%</th>\n",
       "      <td>55.000000</td>\n",
       "      <td>90.000000</td>\n",
       "      <td>23.000000</td>\n",
       "      <td>32.000000</td>\n",
       "    </tr>\n",
       "    <tr>\n",
       "      <th>50%</th>\n",
       "      <td>65.000000</td>\n",
       "      <td>95.000000</td>\n",
       "      <td>24.000000</td>\n",
       "      <td>33.000000</td>\n",
       "    </tr>\n",
       "    <tr>\n",
       "      <th>75%</th>\n",
       "      <td>70.000000</td>\n",
       "      <td>95.000000</td>\n",
       "      <td>24.000000</td>\n",
       "      <td>33.000000</td>\n",
       "    </tr>\n",
       "    <tr>\n",
       "      <th>max</th>\n",
       "      <td>85.000000</td>\n",
       "      <td>100.000000</td>\n",
       "      <td>26.000000</td>\n",
       "      <td>35.000000</td>\n",
       "    </tr>\n",
       "  </tbody>\n",
       "</table>\n",
       "</div>"
      ],
      "text/plain": [
       "       kelembaban_min  kelembaban_max     suhu_min     suhu_max\n",
       "count     8398.000000     8398.000000  8398.000000  8398.000000\n",
       "mean        62.254704       91.727792    23.548464    32.608597\n",
       "std         10.592668        5.562658     0.775947     1.246190\n",
       "min         35.000000       75.000000    20.000000    28.000000\n",
       "25%         55.000000       90.000000    23.000000    32.000000\n",
       "50%         65.000000       95.000000    24.000000    33.000000\n",
       "75%         70.000000       95.000000    24.000000    33.000000\n",
       "max         85.000000      100.000000    26.000000    35.000000"
      ]
     },
     "execution_count": 22,
     "metadata": {},
     "output_type": "execute_result"
    }
   ],
   "source": [
    "df[numeric].describe()"
   ]
  },
  {
   "cell_type": "markdown",
   "metadata": {},
   "source": [
    "persebaran nilai pada data kelembaban_min, kelembaban_max, suhu_min, dan suhu_max sudah bagus dan tidak perlu dilakukan feature scaling<br>\n",
    "<br>\n",
    "kolom kelembaban_persen dan suhu_derajat_celcius akan di drop pada tahap selanjutnya karena sudah tergantikan oleh kolom kelembaban_min, kelembaban_max, suhu_min, dan suhu_max."
   ]
  },
  {
   "cell_type": "markdown",
   "metadata": {},
   "source": [
    "persebaran data yang simetrik distribusinya dilihat dari nilai mean dan median yang tidak berbeda jauh"
   ]
  },
  {
   "cell_type": "markdown",
   "metadata": {},
   "source": [
    "#### Statistik kolom kategorik"
   ]
  },
  {
   "cell_type": "code",
   "execution_count": 23,
   "metadata": {},
   "outputs": [
    {
     "data": {
      "text/html": [
       "<div>\n",
       "<style scoped>\n",
       "    .dataframe tbody tr th:only-of-type {\n",
       "        vertical-align: middle;\n",
       "    }\n",
       "\n",
       "    .dataframe tbody tr th {\n",
       "        vertical-align: top;\n",
       "    }\n",
       "\n",
       "    .dataframe thead th {\n",
       "        text-align: right;\n",
       "    }\n",
       "</style>\n",
       "<table border=\"1\" class=\"dataframe\">\n",
       "  <thead>\n",
       "    <tr style=\"text-align: right;\">\n",
       "      <th></th>\n",
       "      <th>cuaca</th>\n",
       "      <th>waktu</th>\n",
       "      <th>wilayah</th>\n",
       "      <th>tanggal</th>\n",
       "    </tr>\n",
       "  </thead>\n",
       "  <tbody>\n",
       "    <tr>\n",
       "      <th>count</th>\n",
       "      <td>8398</td>\n",
       "      <td>8398</td>\n",
       "      <td>8398</td>\n",
       "      <td>8398</td>\n",
       "    </tr>\n",
       "    <tr>\n",
       "      <th>unique</th>\n",
       "      <td>3</td>\n",
       "      <td>4</td>\n",
       "      <td>6</td>\n",
       "      <td>348</td>\n",
       "    </tr>\n",
       "    <tr>\n",
       "      <th>top</th>\n",
       "      <td>Cerah</td>\n",
       "      <td>Siang</td>\n",
       "      <td>Jakarta Utara</td>\n",
       "      <td>2018-01-02</td>\n",
       "    </tr>\n",
       "    <tr>\n",
       "      <th>freq</th>\n",
       "      <td>3796</td>\n",
       "      <td>2100</td>\n",
       "      <td>1400</td>\n",
       "      <td>48</td>\n",
       "    </tr>\n",
       "  </tbody>\n",
       "</table>\n",
       "</div>"
      ],
      "text/plain": [
       "        cuaca  waktu        wilayah     tanggal\n",
       "count    8398   8398           8398        8398\n",
       "unique      3      4              6         348\n",
       "top     Cerah  Siang  Jakarta Utara  2018-01-02\n",
       "freq     3796   2100           1400          48"
      ]
     },
     "execution_count": 23,
     "metadata": {},
     "output_type": "execute_result"
    }
   ],
   "source": [
    "df[categoric].describe()"
   ]
  },
  {
   "cell_type": "markdown",
   "metadata": {},
   "source": [
    "kolom cuaca, waktu, dan wilayah masih bersifat object / string maka selanjutnya akan dilakukan encode pada data kolom tersebut<br>\n",
    "<br>\n",
    "kolom tanggal akan di drop pada tahap selanjutnya karena tidak diperlukan pada proses menganalisis serta memproses data"
   ]
  },
  {
   "cell_type": "markdown",
   "metadata": {},
   "source": [
    "#### Melihat duplikasi data"
   ]
  },
  {
   "cell_type": "code",
   "execution_count": 24,
   "metadata": {},
   "outputs": [
    {
     "data": {
      "text/plain": [
       "0"
      ]
     },
     "execution_count": 24,
     "metadata": {},
     "output_type": "execute_result"
    }
   ],
   "source": [
    "df.duplicated().sum()"
   ]
  },
  {
   "cell_type": "markdown",
   "metadata": {},
   "source": [
    "tidak terdapat data yg duplikat"
   ]
  },
  {
   "cell_type": "markdown",
   "metadata": {},
   "source": [
    "### Membuang Kolom yang tidak diperlukan"
   ]
  },
  {
   "cell_type": "code",
   "execution_count": 25,
   "metadata": {},
   "outputs": [],
   "source": [
    "df.drop(columns=[\"kelembaban_persen\", \"suhu_derajat_celcius\", \"tanggal\"], inplace=True)"
   ]
  },
  {
   "cell_type": "markdown",
   "metadata": {},
   "source": [
    "membuang kolom yang tidak diperlukan seperti kelembaban_persen karena sudah digantikan oleh kolom kelembaban_min dan kelembaban_max<br><br>\n",
    "membuang kolom suhu_derajat_celcius karena sudah digantikan oleh suhu_min dan suhu_max<br><br>\n",
    "membuang kolom tanggal karena tidak diperlukan dalam proses menganalisis dan memproses data cuaca Provinsi DKI Jakarta tahun 2018"
   ]
  },
  {
   "cell_type": "markdown",
   "metadata": {},
   "source": [
    "### Encoding (1)"
   ]
  },
  {
   "cell_type": "markdown",
   "metadata": {},
   "source": [
    "#### Mengubah Kolom cuaca menggunakan label encoding"
   ]
  },
  {
   "cell_type": "code",
   "execution_count": 26,
   "metadata": {},
   "outputs": [
    {
     "data": {
      "text/html": [
       "<div>\n",
       "<style scoped>\n",
       "    .dataframe tbody tr th:only-of-type {\n",
       "        vertical-align: middle;\n",
       "    }\n",
       "\n",
       "    .dataframe tbody tr th {\n",
       "        vertical-align: top;\n",
       "    }\n",
       "\n",
       "    .dataframe thead th {\n",
       "        text-align: right;\n",
       "    }\n",
       "</style>\n",
       "<table border=\"1\" class=\"dataframe\">\n",
       "  <thead>\n",
       "    <tr style=\"text-align: right;\">\n",
       "      <th></th>\n",
       "      <th>wilayah</th>\n",
       "      <th>waktu</th>\n",
       "      <th>cuaca</th>\n",
       "      <th>kelembaban_min</th>\n",
       "      <th>kelembaban_max</th>\n",
       "      <th>suhu_min</th>\n",
       "      <th>suhu_max</th>\n",
       "    </tr>\n",
       "  </thead>\n",
       "  <tbody>\n",
       "    <tr>\n",
       "      <th>0</th>\n",
       "      <td>Kepulauan Seribu</td>\n",
       "      <td>Siang</td>\n",
       "      <td>1</td>\n",
       "      <td>70</td>\n",
       "      <td>90</td>\n",
       "      <td>24</td>\n",
       "      <td>32</td>\n",
       "    </tr>\n",
       "    <tr>\n",
       "      <th>1</th>\n",
       "      <td>Kepulauan Seribu</td>\n",
       "      <td>Pagi</td>\n",
       "      <td>1</td>\n",
       "      <td>70</td>\n",
       "      <td>90</td>\n",
       "      <td>24</td>\n",
       "      <td>32</td>\n",
       "    </tr>\n",
       "    <tr>\n",
       "      <th>2</th>\n",
       "      <td>Kepulauan Seribu</td>\n",
       "      <td>Malam</td>\n",
       "      <td>1</td>\n",
       "      <td>70</td>\n",
       "      <td>90</td>\n",
       "      <td>24</td>\n",
       "      <td>32</td>\n",
       "    </tr>\n",
       "    <tr>\n",
       "      <th>3</th>\n",
       "      <td>Kepulauan Seribu</td>\n",
       "      <td>Dini Hari</td>\n",
       "      <td>1</td>\n",
       "      <td>70</td>\n",
       "      <td>90</td>\n",
       "      <td>24</td>\n",
       "      <td>32</td>\n",
       "    </tr>\n",
       "    <tr>\n",
       "      <th>4</th>\n",
       "      <td>Jakarta Utara</td>\n",
       "      <td>Siang</td>\n",
       "      <td>1</td>\n",
       "      <td>70</td>\n",
       "      <td>90</td>\n",
       "      <td>24</td>\n",
       "      <td>32</td>\n",
       "    </tr>\n",
       "  </tbody>\n",
       "</table>\n",
       "</div>"
      ],
      "text/plain": [
       "            wilayah      waktu  cuaca  kelembaban_min  kelembaban_max  \\\n",
       "0  Kepulauan Seribu      Siang      1              70              90   \n",
       "1  Kepulauan Seribu       Pagi      1              70              90   \n",
       "2  Kepulauan Seribu      Malam      1              70              90   \n",
       "3  Kepulauan Seribu  Dini Hari      1              70              90   \n",
       "4     Jakarta Utara      Siang      1              70              90   \n",
       "\n",
       "   suhu_min  suhu_max  \n",
       "0        24        32  \n",
       "1        24        32  \n",
       "2        24        32  \n",
       "3        24        32  \n",
       "4        24        32  "
      ]
     },
     "execution_count": 26,
     "metadata": {},
     "output_type": "execute_result"
    }
   ],
   "source": [
    "mapping_cuaca = {\n",
    "    'Cerah': 0,\n",
    "    'Hujan': 1,\n",
    "    'Berawan': 2\n",
    "}\n",
    "\n",
    "df['cuaca'] = df['cuaca'].map(mapping_cuaca)\n",
    "df.head()"
   ]
  },
  {
   "cell_type": "markdown",
   "metadata": {},
   "source": [
    "Mengubah Feature Categorical menjadi numercial,<br>\n",
    "Mengubah Cuaca menjadi 0<br>\n",
    "Mengubah Hujan menjadi 1<br>\n",
    "Mengubah Berawan menjadi 2"
   ]
  },
  {
   "cell_type": "markdown",
   "metadata": {},
   "source": [
    "# Visualisasi Data"
   ]
  },
  {
   "cell_type": "code",
   "execution_count": 27,
   "metadata": {},
   "outputs": [
    {
     "data": {
      "text/plain": [
       "<seaborn.axisgrid.PairGrid at 0x1c27f9bead0>"
      ]
     },
     "execution_count": 27,
     "metadata": {},
     "output_type": "execute_result"
    },
    {
     "data": {
      "image/png": "[encoded data removed]",
      "text/plain": [
       "<Figure size 762.375x720 with 14 Axes>"
      ]
     },
     "metadata": {
      "needs_background": "light"
     },
     "output_type": "display_data"
    }
   ],
   "source": [
    "sns.pairplot(df, hue=\"cuaca\", corner=True)"
   ]
  },
  {
   "cell_type": "markdown",
   "metadata": {},
   "source": [
    "persebaran data cuaca Provinsi DKI Jakarta pada Tahun 2018"
   ]
  },
  {
   "cell_type": "markdown",
   "metadata": {},
   "source": [
    "# Splitting Data"
   ]
  },
  {
   "cell_type": "code",
   "execution_count": 28,
   "metadata": {},
   "outputs": [
    {
     "data": {
      "text/plain": [
       "((6718, 6), (1680, 6), (6718,), (1680,))"
      ]
     },
     "execution_count": 28,
     "metadata": {},
     "output_type": "execute_result"
    }
   ],
   "source": [
    "X = df.drop(columns=[\"cuaca\"])\n",
    "y = df[\"cuaca\"]\n",
    "\n",
    "X_train, X_test, y_train, y_test = train_test_split(X, y, test_size=0.2, stratify=y, random_state=42)\n",
    "X_train.shape, X_test.shape, y_train.shape, y_test.shape"
   ]
  },
  {
   "cell_type": "markdown",
   "metadata": {},
   "source": [
    "membagi data berdasarkan data latih dan data uji dengan perbandingan data uji sebesar 20% dan data latih sebesar 80% dari total data dengan pembagian secara stratify<br>\n",
    "<br>\n",
    "membagi data menjadi fitur dan target, dimana variable y merupakan target yaitu kolom cuaca sedangkan variable x merupakan sisa kolom selain kolom cuaca<br>\n",
    "<br>\n",
    "total data latih 6718 data<br>\n",
    "total data uji 1688 data"
   ]
  },
  {
   "cell_type": "markdown",
   "metadata": {},
   "source": [
    "# Preprocessing (2)"
   ]
  },
  {
   "cell_type": "markdown",
   "metadata": {},
   "source": [
    "#### Melihat isi data latih"
   ]
  },
  {
   "cell_type": "code",
   "execution_count": 29,
   "metadata": {},
   "outputs": [
    {
     "data": {
      "text/html": [
       "<div>\n",
       "<style scoped>\n",
       "    .dataframe tbody tr th:only-of-type {\n",
       "        vertical-align: middle;\n",
       "    }\n",
       "\n",
       "    .dataframe tbody tr th {\n",
       "        vertical-align: top;\n",
       "    }\n",
       "\n",
       "    .dataframe thead th {\n",
       "        text-align: right;\n",
       "    }\n",
       "</style>\n",
       "<table border=\"1\" class=\"dataframe\">\n",
       "  <thead>\n",
       "    <tr style=\"text-align: right;\">\n",
       "      <th></th>\n",
       "      <th>wilayah</th>\n",
       "      <th>waktu</th>\n",
       "      <th>kelembaban_min</th>\n",
       "      <th>kelembaban_max</th>\n",
       "      <th>suhu_min</th>\n",
       "      <th>suhu_max</th>\n",
       "    </tr>\n",
       "  </thead>\n",
       "  <tbody>\n",
       "    <tr>\n",
       "      <th>296</th>\n",
       "      <td>Jakarta Timur</td>\n",
       "      <td>Siang</td>\n",
       "      <td>65</td>\n",
       "      <td>95</td>\n",
       "      <td>23</td>\n",
       "      <td>33</td>\n",
       "    </tr>\n",
       "    <tr>\n",
       "      <th>2467</th>\n",
       "      <td>Jakarta Pusat</td>\n",
       "      <td>Dini Hari</td>\n",
       "      <td>55</td>\n",
       "      <td>90</td>\n",
       "      <td>24</td>\n",
       "      <td>34</td>\n",
       "    </tr>\n",
       "    <tr>\n",
       "      <th>1378</th>\n",
       "      <td>Jakarta Timur</td>\n",
       "      <td>Malam</td>\n",
       "      <td>55</td>\n",
       "      <td>90</td>\n",
       "      <td>25</td>\n",
       "      <td>33</td>\n",
       "    </tr>\n",
       "    <tr>\n",
       "      <th>6607</th>\n",
       "      <td>Jakarta Utara</td>\n",
       "      <td>Dini Hari</td>\n",
       "      <td>65</td>\n",
       "      <td>95</td>\n",
       "      <td>23</td>\n",
       "      <td>32</td>\n",
       "    </tr>\n",
       "    <tr>\n",
       "      <th>5769</th>\n",
       "      <td>Jakarta Timur</td>\n",
       "      <td>Pagi</td>\n",
       "      <td>80</td>\n",
       "      <td>95</td>\n",
       "      <td>23</td>\n",
       "      <td>30</td>\n",
       "    </tr>\n",
       "  </tbody>\n",
       "</table>\n",
       "</div>"
      ],
      "text/plain": [
       "            wilayah      waktu  kelembaban_min  kelembaban_max  suhu_min  \\\n",
       "296   Jakarta Timur      Siang              65              95        23   \n",
       "2467  Jakarta Pusat  Dini Hari              55              90        24   \n",
       "1378  Jakarta Timur      Malam              55              90        25   \n",
       "6607  Jakarta Utara  Dini Hari              65              95        23   \n",
       "5769  Jakarta Timur       Pagi              80              95        23   \n",
       "\n",
       "      suhu_max  \n",
       "296         33  \n",
       "2467        34  \n",
       "1378        33  \n",
       "6607        32  \n",
       "5769        30  "
      ]
     },
     "execution_count": 29,
     "metadata": {},
     "output_type": "execute_result"
    }
   ],
   "source": [
    "X_train.sample(5)"
   ]
  },
  {
   "cell_type": "markdown",
   "metadata": {},
   "source": [
    "### Feature Scaling Data"
   ]
  },
  {
   "cell_type": "markdown",
   "metadata": {},
   "source": [
    "#### menggunakan Polynomial Features pada kolom numerikal"
   ]
  },
  {
   "cell_type": "code",
   "execution_count": 30,
   "metadata": {},
   "outputs": [
    {
     "name": "stderr",
     "output_type": "stream",
     "text": [
      "d:\\Python\\lib\\site-packages\\sklearn\\utils\\deprecation.py:87: FutureWarning: Function get_feature_names is deprecated; get_feature_names is deprecated in 1.0 and will be removed in 1.2. Please use get_feature_names_out instead.\n",
      "  warnings.warn(msg, category=FutureWarning)\n",
      "d:\\Python\\lib\\site-packages\\sklearn\\utils\\deprecation.py:87: FutureWarning: Function get_feature_names is deprecated; get_feature_names is deprecated in 1.0 and will be removed in 1.2. Please use get_feature_names_out instead.\n",
      "  warnings.warn(msg, category=FutureWarning)\n"
     ]
    }
   ],
   "source": [
    "from sklearn.preprocessing import PolynomialFeatures\n",
    "numeric = [\"kelembaban_min\", \"kelembaban_max\", \"suhu_min\", \"suhu_max\"]\n",
    "\n",
    "poly = PolynomialFeatures(degree=2, interaction_only=True)\n",
    "\n",
    "X_train[poly.get_feature_names(numeric)] = poly.fit_transform(X_train[numeric])\n",
    "X_test[poly.get_feature_names(numeric)] = poly.fit_transform(X_test[numeric])\n"
   ]
  },
  {
   "cell_type": "markdown",
   "metadata": {},
   "source": [
    "### Encoding (2)"
   ]
  },
  {
   "cell_type": "markdown",
   "metadata": {},
   "source": [
    "#### Mengubah Kolom waktu dan wilayah menggunakan one-hot encoder"
   ]
  },
  {
   "cell_type": "code",
   "execution_count": 31,
   "metadata": {},
   "outputs": [],
   "source": [
    "categoric = ['waktu', 'wilayah']\n",
    "\n",
    "X_train = pd.get_dummies(X_train, columns=categoric)\n",
    "X_test = pd.get_dummies(X_test, columns=categoric)"
   ]
  },
  {
   "cell_type": "markdown",
   "metadata": {},
   "source": [
    "# Proses Fitting Data (1)"
   ]
  },
  {
   "cell_type": "markdown",
   "metadata": {},
   "source": [
    "## XGB Classifier"
   ]
  },
  {
   "cell_type": "markdown",
   "metadata": {},
   "source": [
    "### Fitting tanpa Reduksi Dimensi"
   ]
  },
  {
   "cell_type": "markdown",
   "metadata": {},
   "source": [
    "#### parameter yang akan di Tuning"
   ]
  },
  {
   "cell_type": "code",
   "execution_count": 32,
   "metadata": {},
   "outputs": [],
   "source": [
    "from jcopml.tuning.space import Integer, Real\n",
    "\n",
    "parameters = {\n",
    "    'max_depth': Integer(low=1, high=10),\n",
    "    'learning_rate': Real(low=-2, high=0, prior='log-uniform'),\n",
    "    'n_estimators': Integer(low=100, high=200),\n",
    "    'subsample': Real(low=0.3, high=0.8, prior='uniform'),\n",
    "    'gamma': Integer(low=1, high=10),\n",
    "    'colsample_bytree': Real(low=0.1, high=1, prior='uniform'),\n",
    "    'reg_alpha': Real(low=-3, high=1, prior='log-uniform'),\n",
    "    'reg_lambda': Real(low=-3, high=1, prior='log-uniform')\n",
    "}"
   ]
  },
  {
   "cell_type": "markdown",
   "metadata": {},
   "source": [
    "#### fitting menggunakan XGBClassifier dengan tuning menggunakan RandomizedSearchCV"
   ]
  },
  {
   "cell_type": "code",
   "execution_count": 33,
   "metadata": {},
   "outputs": [],
   "source": [
    "# from xgboost import XGBClassifier\n",
    "# from sklearn.model_selection import RandomizedSearchCV\n",
    "# from sklearn.metrics import confusion_matrix, classification_report\n",
    "\n",
    "# XGB = XGBClassifier(n_jobs=-1, random_state=42, use_label_encoder=False)\n",
    "\n",
    "# model = RandomizedSearchCV(XGB, parameters, cv=3, n_iter=500, n_jobs=-1, verbose=1, random_state=42)\n",
    "# model.fit(X_train, y_train)\n",
    "\n",
    "# print(model.best_params_)\n",
    "\n",
    "# y_pred = model.predict(X_test)\n",
    "# y_pred_train = model.predict(X_train)\n",
    "\n",
    "# print(confusion_matrix(y_test, y_pred), \"\\n\")\n",
    "# print(classification_report(y_train, y_pred_train), \"\\n\")\n",
    "# print(classification_report(y_test, y_pred))"
   ]
  },
  {
   "cell_type": "markdown",
   "metadata": {},
   "source": [
    "### Reduksi Dimensi"
   ]
  },
  {
   "cell_type": "markdown",
   "metadata": {},
   "source": [
    "#### Menggunakan PCA"
   ]
  },
  {
   "cell_type": "code",
   "execution_count": 35,
   "metadata": {},
   "outputs": [
    {
     "data": {
      "text/plain": [
       "array([9.72450799e-01, 1.77519026e-02, 5.81980873e-03, 3.91064857e-03,\n",
       "       4.64974784e-05, 1.93507329e-05, 1.55051287e-07, 1.49873863e-07,\n",
       "       1.44680670e-07, 1.03601961e-07, 1.00413502e-07, 9.84300377e-08])"
      ]
     },
     "execution_count": 35,
     "metadata": {},
     "output_type": "execute_result"
    }
   ],
   "source": [
    "pca = PCA(n_components=21)\n",
    "variance_ratio = pca.explained_variance_ratio_\n",
    "variance_ratio"
   ]
  },
  {
   "cell_type": "code",
   "execution_count": 36,
   "metadata": {},
   "outputs": [
    {
     "data": {
      "text/plain": [
       "<AxesSubplot:>"
      ]
     },
     "execution_count": 36,
     "metadata": {},
     "output_type": "execute_result"
    },
    {
     "data": {
      "image/png": "[encoded data removed]",
      "text/plain": [
       "<Figure size 432x288 with 1 Axes>"
      ]
     },
     "metadata": {
      "needs_background": "light"
     },
     "output_type": "display_data"
    }
   ],
   "source": [
    "sns.lineplot(x=range(21), y=variance_ratio)"
   ]
  },
  {
   "cell_type": "markdown",
   "metadata": {},
   "source": [
    "#### parameter yang digunakan untuk proses reduksi dimensi dengan PCA"
   ]
  },
  {
   "cell_type": "code",
   "execution_count": null,
   "metadata": {},
   "outputs": [],
   "source": [
    "from jcopml.tuning.space import Integer, Real\n",
    "\n",
    "parameters = {\n",
    "    'model__max_depth': Integer(low=1, high=10),\n",
    "    'model__learning_rate': Real(low=-2, high=0, prior='log-uniform'),\n",
    "    'model__n_estimators': Integer(low=100, high=200),\n",
    "    'model__subsample': Real(low=0.3, high=0.8, prior='uniform'),\n",
    "    'model__gamma': Integer(low=1, high=10),\n",
    "    'model__colsample_bytree': Real(low=0.1, high=1, prior='uniform'),\n",
    "    'model__reg_alpha': Real(low=-3, high=1, prior='log-uniform'),\n",
    "    'model__reg_lambda': Real(low=-3, high=1, prior='log-uniform'),\n",
    "    'pca__n_components': Integer(low=1, high=21)\n",
    "}"
   ]
  },
  {
   "cell_type": "code",
   "execution_count": 37,
   "metadata": {},
   "outputs": [],
   "source": [
    "from imblearn.pipeline import Pipeline\n",
    "from sklearn.decomposition import PCA\n",
    "\n",
    "pipeline = Pipeline([\n",
    "    ('pca', PCA(random_state=42)), \n",
    "    ('model', XGBClassifier(n_jobs=-1, random_state=42, use_label_encoder=False)),\n",
    "])\n",
    "\n",
    "model = RandomizedSearchCV(XGB, parameters, cv=3, n_iter=500, n_jobs=-1, verbose=1, random_state=42)\n",
    "model.fit(principalComponents, y_train)\n",
    "\n",
    "print(model.best_params_)\n",
    "\n",
    "y_pred = model.predict(principalComponentsTest)\n",
    "y_pred_train = model.predict(principalComponents)\n",
    "\n",
    "print(confusion_matrix(y_test, y_pred), \"\\n\")\n",
    "print(classification_report(y_train, y_pred_train), \"\\n\")\n",
    "print(classification_report(y_test, y_pred))"
   ]
  },
  {
   "cell_type": "markdown",
   "metadata": {},
   "source": [
    "berdasarkan percobaan menggunakan PCA didapatkan hasil yang tidak lebih bagus dari sebelumnya sehingga diputuskan tidak memakai Dimensi Reduksi untuk proses fitting data"
   ]
  },
  {
   "cell_type": "markdown",
   "metadata": {},
   "source": [
    "### Fitting dengan Oversampling"
   ]
  },
  {
   "cell_type": "code",
   "execution_count": null,
   "metadata": {},
   "outputs": [],
   "source": [
    "from jcopml.tuning.space import Integer, Real\n",
    "\n",
    "parameters = {\n",
    "    'model__max_depth': Integer(low=1, high=10),\n",
    "    'model__learning_rate': Real(low=-2, high=0, prior='log-uniform'),\n",
    "    'model__n_estimators': Integer(low=100, high=200),\n",
    "    'model__subsample': Real(low=0.3, high=0.8, prior='uniform'),\n",
    "    'model__gamma': Integer(low=1, high=10),\n",
    "    'model__colsample_bytree': Real(low=0.1, high=1, prior='uniform'),\n",
    "    'model__reg_alpha': Real(low=-3, high=1, prior='log-uniform'),\n",
    "    'model__reg_lambda': Real(low=-3, high=1, prior='log-uniform'),\n",
    "    'smote__k_neighbors': [3, 5, 7],\n",
    "    'smote__sampling_strategy': ['minority', 'majority', 'not minority', 'not majority']\n",
    "}"
   ]
  },
  {
   "cell_type": "code",
   "execution_count": null,
   "metadata": {},
   "outputs": [],
   "source": [
    "from imblearn.pipeline import Pipeline\n",
    "from imblearn.pipeline import Pipeline\n",
    "from imblearn.over_sampling import SMOTE\n",
    "\n",
    "pipeline = Pipeline([\n",
    "     ('smote', SMOTE(random_state=42, n_jobs=-1)), \n",
    "    ('model', XGBClassifier(n_jobs=-1, random_state=42, use_label_encoder=False)),\n",
    "])\n",
    "\n",
    "model = RandomizedSearchCV(XGB, parameters, cv=3, n_iter=500, n_jobs=-1, verbose=1, random_state=42)\n",
    "model.fit(principalComponents, y_train)\n",
    "\n",
    "print(model.best_params_)\n",
    "\n",
    "y_pred = model.predict(principalComponentsTest)\n",
    "y_pred_train = model.predict(principalComponents)\n",
    "\n",
    "print(confusion_matrix(y_test, y_pred), \"\\n\")\n",
    "print(classification_report(y_train, y_pred_train), \"\\n\")\n",
    "print(classification_report(y_test, y_pred))"
   ]
  },
  {
   "cell_type": "markdown",
   "metadata": {},
   "source": [
    "## Random Forest"
   ]
  },
  {
   "cell_type": "markdown",
   "metadata": {},
   "source": [
    "### Fitting tanpa Reduksi Dimensi"
   ]
  },
  {
   "cell_type": "markdown",
   "metadata": {},
   "source": [
    "#### parameter yang akan di Tuning"
   ]
  },
  {
   "cell_type": "code",
   "execution_count": 38,
   "metadata": {},
   "outputs": [],
   "source": [
    "paramater = {\n",
    "    'n_estimators': [100, 150, 200],\n",
    "    'max_depth': [20, 50, 80],\n",
    "    'max_features': [0.3, 0.6, 0.8],\n",
    "    'min_samples_leaf': [1, 5, 10]\n",
    "}"
   ]
  },
  {
   "cell_type": "markdown",
   "metadata": {},
   "source": [
    "#### fitting menggunakan RandomForestClassifier dengan tuning menggunakan GridSearchCV"
   ]
  },
  {
   "cell_type": "code",
   "execution_count": 39,
   "metadata": {},
   "outputs": [
    {
     "name": "stdout",
     "output_type": "stream",
     "text": [
      "Fitting 3 folds for each of 81 candidates, totalling 243 fits\n",
      "{'max_depth': 50, 'max_features': 0.6, 'min_samples_leaf': 5, 'n_estimators': 150}\n",
      "[[591  43 126]\n",
      " [ 56 182 103]\n",
      " [150  64 365]] \n",
      "\n",
      "              precision    recall  f1-score   support\n",
      "\n",
      "           0       0.81      0.85      0.83      3036\n",
      "           1       0.77      0.70      0.73      1365\n",
      "           2       0.72      0.71      0.72      2317\n",
      "\n",
      "    accuracy                           0.77      6718\n",
      "   macro avg       0.77      0.75      0.76      6718\n",
      "weighted avg       0.77      0.77      0.77      6718\n",
      " \n",
      "\n",
      "              precision    recall  f1-score   support\n",
      "\n",
      "           0       0.74      0.78      0.76       760\n",
      "           1       0.63      0.53      0.58       341\n",
      "           2       0.61      0.63      0.62       579\n",
      "\n",
      "    accuracy                           0.68      1680\n",
      "   macro avg       0.66      0.65      0.65      1680\n",
      "weighted avg       0.68      0.68      0.68      1680\n",
      "\n"
     ]
    }
   ],
   "source": [
    "from sklearn.ensemble import RandomForestClassifier\n",
    "from sklearn.model_selection import GridSearchCV\n",
    "from sklearn.metrics import confusion_matrix, classification_report\n",
    "\n",
    "RF = RandomForestClassifier(n_jobs=-1, random_state=42)\n",
    "\n",
    "model = GridSearchCV(RF, paramater, cv=3, n_jobs=-1, verbose=1)\n",
    "model.fit(X_train, y_train)\n",
    "\n",
    "print(model.best_params_)\n",
    "\n",
    "y_pred = model.predict(X_test)\n",
    "y_pred_train = model.predict(X_train)\n",
    "\n",
    "print(confusion_matrix(y_test, y_pred), \"\\n\")\n",
    "print(classification_report(y_train, y_pred_train), \"\\n\")\n",
    "print(classification_report(y_test, y_pred))"
   ]
  },
  {
   "cell_type": "markdown",
   "metadata": {},
   "source": [
    "#### parameter yang akan dituning dengan pipeline"
   ]
  },
  {
   "cell_type": "code",
   "execution_count": 55,
   "metadata": {},
   "outputs": [],
   "source": [
    "paramater_smote = {\n",
    "    'model__n_estimators': [100, 150, 200],\n",
    "    'model__max_depth': [20, 50, 80],\n",
    "    'model__max_features': [0.3, 0.6, 0.8],\n",
    "    'model__min_samples_leaf': [1, 5, 10],\n",
    "    'smote__k_neighbors': [3, 5, 7],\n",
    "    'smote__sampling_strategy': ['minority', 'majority', 'not minority', 'not majority']\n",
    "}"
   ]
  },
  {
   "cell_type": "markdown",
   "metadata": {},
   "source": [
    "### Fitting dengan Oversampling"
   ]
  },
  {
   "cell_type": "markdown",
   "metadata": {},
   "source": [
    "#### Fitting menggunakan RandomForestClassifier dan Oversampling SMOTE dengan tuning menggunakan GridSearchCV"
   ]
  },
  {
   "cell_type": "code",
   "execution_count": 56,
   "metadata": {},
   "outputs": [
    {
     "name": "stdout",
     "output_type": "stream",
     "text": [
      "Fitting 3 folds for each of 972 candidates, totalling 2916 fits\n"
     ]
    },
    {
     "name": "stderr",
     "output_type": "stream",
     "text": [
      "d:\\Python\\lib\\site-packages\\sklearn\\model_selection\\_validation.py:378: FitFailedWarning: \n",
      "729 fits failed out of a total of 2916.\n",
      "The score on these train-test partitions for these parameters will be set to nan.\n",
      "If these failures are not expected, you can try to debug them by setting error_score='raise'.\n",
      "\n",
      "Below are more details about the failures:\n",
      "--------------------------------------------------------------------------------\n",
      "729 fits failed with the following error:\n",
      "Traceback (most recent call last):\n",
      "  File \"d:\\Python\\lib\\site-packages\\sklearn\\model_selection\\_validation.py\", line 686, in _fit_and_score\n",
      "    estimator.fit(X_train, y_train, **fit_params)\n",
      "  File \"d:\\Python\\lib\\site-packages\\imblearn\\pipeline.py\", line 268, in fit\n",
      "    Xt, yt = self._fit(X, y, **fit_params_steps)\n",
      "  File \"d:\\Python\\lib\\site-packages\\imblearn\\pipeline.py\", line 226, in _fit\n",
      "    X, y, fitted_transformer = fit_resample_one_cached(\n",
      "  File \"d:\\Python\\lib\\site-packages\\joblib\\memory.py\", line 349, in __call__\n",
      "    return self.func(*args, **kwargs)\n",
      "  File \"d:\\Python\\lib\\site-packages\\imblearn\\pipeline.py\", line 394, in _fit_resample_one\n",
      "    X_res, y_res = sampler.fit_resample(X, y, **fit_params)\n",
      "  File \"d:\\Python\\lib\\site-packages\\imblearn\\base.py\", line 79, in fit_resample\n",
      "    self.sampling_strategy_ = check_sampling_strategy(\n",
      "  File \"d:\\Python\\lib\\site-packages\\imblearn\\utils\\_validation.py\", line 516, in check_sampling_strategy\n",
      "    sorted(SAMPLING_TARGET_KIND[sampling_strategy](y, sampling_type).items())\n",
      "  File \"d:\\Python\\lib\\site-packages\\imblearn\\utils\\_validation.py\", line 165, in _sampling_strategy_majority\n",
      "    raise ValueError(\n",
      "ValueError: 'sampling_strategy'='majority' cannot be used with over-sampler.\n",
      "\n",
      "  warnings.warn(some_fits_failed_message, FitFailedWarning)\n",
      "d:\\Python\\lib\\site-packages\\sklearn\\model_selection\\_search.py:953: UserWarning: One or more of the test scores are non-finite: [0.64602561        nan 0.65942432 0.64840749 0.6512362         nan\n",
      " 0.65853106 0.64885485 0.65019361        nan 0.65838139 0.65108733\n",
      " 0.6464725         nan 0.65808436 0.64870531 0.65064076        nan\n",
      " 0.65808403 0.64825955 0.65034275        nan 0.65719078 0.65064017\n",
      " 0.64855697        nan 0.65868033 0.64930121 0.65064083        nan\n",
      " 0.65704257 0.65093905 0.65227754        nan 0.65704243 0.65034315\n",
      " 0.6702902         nan 0.68070926 0.67207585 0.6670154         nan\n",
      " 0.67743552 0.66999272 0.66627048        nan 0.67996641 0.67252221\n",
      " 0.66999245        nan 0.67951859 0.67356488 0.66790878        nan\n",
      " 0.68056158 0.67177896 0.66537796        nan 0.67951972 0.67222473\n",
      " 0.66731315        nan 0.67743459 0.67043861 0.66627141        nan\n",
      " 0.68100788 0.6702904  0.66374032        nan 0.67862639 0.67148041\n",
      " 0.6533214         nan 0.67222512 0.66939741 0.65376769        nan\n",
      " 0.67237513 0.66701626 0.65227933        nan 0.67192784 0.6659736\n",
      " 0.653321          nan 0.67416038 0.67014153 0.65317245        nan\n",
      " 0.67431019 0.66612327 0.6501952         nan 0.67311871 0.66642029\n",
      " 0.65272556        nan 0.67296977 0.6676109  0.65332166        nan\n",
      " 0.67430979 0.66686732 0.65361902        nan 0.67282103 0.66567624\n",
      " 0.64319829        nan 0.6591263  0.64528263 0.64930101        nan\n",
      " 0.65480943 0.64751563 0.64528249        nan 0.65525605 0.64796219\n",
      " 0.64691966        nan 0.65912636 0.64945009 0.64706821        nan\n",
      " 0.65213026 0.64647343 0.64543137        nan 0.65510658 0.64557998\n",
      " 0.64781318        nan 0.65853133 0.64885512 0.64632456        nan\n",
      " 0.65361935 0.64751557 0.64751557        nan 0.65466062 0.64662231\n",
      " 0.67014146        nan 0.6792219  0.6719277  0.66671844        nan\n",
      " 0.67788274 0.66776044 0.66642029        nan 0.6777336  0.67148008\n",
      " 0.67028987        nan 0.68205027 0.67311885 0.66805813        nan\n",
      " 0.67803162 0.66716514 0.66582425        nan 0.67624484 0.67192671\n",
      " 0.6692482         nan 0.68115695 0.67296997 0.66508094        nan\n",
      " 0.67832917 0.66790971 0.66701526        nan 0.67788215 0.67133187\n",
      " 0.66031857        nan 0.67401144 0.66731394 0.660764          nan\n",
      " 0.67609663 0.66478325 0.66016936        nan 0.67475655 0.66656923\n",
      " 0.65957459        nan 0.67520258 0.66627148 0.66165752        nan\n",
      " 0.6746082  0.66522981 0.66031844        nan 0.67713797 0.66746222\n",
      " 0.65838338        nan 0.67505377 0.66820654 0.66150865        nan\n",
      " 0.67520351 0.6634433  0.65793669        nan 0.67609623 0.66746242\n",
      " 0.64215689        nan 0.65466055 0.64453785 0.64200802        nan\n",
      " 0.65004639 0.64305002 0.64379353        nan 0.65376723 0.64424063\n",
      " 0.64379406        nan 0.65361842 0.64825941 0.64438997        nan\n",
      " 0.65049295 0.64572932 0.64528196        nan 0.65361802 0.64290094\n",
      " 0.64528296        nan 0.65480943 0.6481112  0.64662271        nan\n",
      " 0.65153515 0.64736689 0.64632449        nan 0.65257655 0.64334817\n",
      " 0.66746229        nan 0.67788235 0.67088584 0.66567657        nan\n",
      " 0.67505437 0.66671824 0.66388913        nan 0.67565    0.66537716\n",
      " 0.66895078        nan 0.67803129 0.67073676 0.66627148        nan\n",
      " 0.67401237 0.66939768 0.66403827        nan 0.67877587 0.66731248\n",
      " 0.66686692        nan 0.67788241 0.66954589 0.6671646         nan\n",
      " 0.67267268 0.66880171 0.66522935        nan 0.67743578 0.66894985\n",
      " 0.66225296        nan 0.67460827 0.66776071 0.66299754        nan\n",
      " 0.6734174  0.66716467 0.65734072        nan 0.67207798 0.66389026\n",
      " 0.66150871        nan 0.67669207 0.66835535 0.66165785        nan\n",
      " 0.67535265 0.66642095 0.65808476        nan 0.67371515 0.66567624\n",
      " 0.66061572        nan 0.67654319 0.66895105 0.66195574        nan\n",
      " 0.67445906 0.66627188 0.6580851         nan 0.67475721 0.66537836\n",
      " 0.64602594        nan 0.65495817 0.65004573 0.64706827        nan\n",
      " 0.6574886  0.64825961 0.64810941        nan 0.65674355 0.64915174\n",
      " 0.64721668        nan 0.6586792  0.65034315 0.64706834        nan\n",
      " 0.65614858 0.648111   0.64974784        nan 0.65808363 0.64796086\n",
      " 0.64989652        nan 0.65808463 0.65064123 0.65108773        nan\n",
      " 0.65629819 0.64959936 0.65183184        nan 0.65897729 0.64796133\n",
      " 0.67014159        nan 0.68160232 0.67252254 0.66686659        nan\n",
      " 0.67520244 0.66909973 0.66507974        nan 0.68011555 0.67252201\n",
      " 0.66909919        nan 0.68070933 0.67192737 0.66820667        nan\n",
      " 0.67966819 0.67118366 0.66552683        nan 0.67937097 0.67148048\n",
      " 0.66761077        nan 0.67937011 0.67088537 0.66835555        nan\n",
      " 0.6813057  0.67088591 0.66522922        nan 0.67951952 0.67088471\n",
      " 0.65317252        nan 0.67148074 0.66939741 0.65376769        nan\n",
      " 0.67222625 0.66731394 0.65213046        nan 0.67192784 0.66627128\n",
      " 0.653321          nan 0.67386263 0.6696949  0.65317245        nan\n",
      " 0.67445906 0.66612327 0.6501952         nan 0.67311871 0.66627148\n",
      " 0.65272556        nan 0.67282089 0.66716427 0.65287503        nan\n",
      " 0.67445866 0.66731388 0.65361902        nan 0.67311865 0.66552743\n",
      " 0.64349571        nan 0.65734072 0.64721748 0.64766457        nan\n",
      " 0.65302305 0.64766471 0.64543117        nan 0.65525546 0.64632442\n",
      " 0.64632396        nan 0.65838218 0.64915214 0.64781325        nan\n",
      " 0.65272583 0.64840909 0.64424003        nan 0.65555334 0.64409188\n",
      " 0.64781252        nan 0.6597226  0.64766444 0.64855743        nan\n",
      " 0.65540513 0.64706927 0.64751517        nan 0.6565958  0.64468732\n",
      " 0.66895112        nan 0.67847725 0.67222526 0.66642076        nan\n",
      " 0.67877587 0.66805813 0.66612234        nan 0.67966906 0.67103352\n",
      " 0.67014133        nan 0.68279432 0.67386309 0.66731361        nan\n",
      " 0.67832937 0.66880244 0.66552664        nan 0.67594709 0.67401057\n",
      " 0.66865263        nan 0.6819014  0.67311878 0.66433669        nan\n",
      " 0.67803142 0.66820727 0.66582432        nan 0.67758426 0.67192717\n",
      " 0.66031857        nan 0.67416031 0.66701619 0.660764          nan\n",
      " 0.67609663 0.66463438 0.66016936        nan 0.67460767 0.66656917\n",
      " 0.65957459        nan 0.67490483 0.6659738  0.66165752        nan\n",
      " 0.6746082  0.66508094 0.66031844        nan 0.67728684 0.66775997\n",
      " 0.6582345         nan 0.67490489 0.66835541 0.66135977        nan\n",
      " 0.67520351 0.6634433  0.65778788        nan 0.67594742 0.66701579\n",
      " 0.64260246        nan 0.65361955 0.64498507 0.64394301        nan\n",
      " 0.64930141 0.64290134 0.64304962        nan 0.65361842 0.64394321\n",
      " 0.64334724        nan 0.65198138 0.64677138 0.647069          nan\n",
      " 0.65213032 0.64409235 0.64394327        nan 0.65153449 0.64349651\n",
      " 0.64438937        nan 0.65481022 0.64781372 0.64632516        nan\n",
      " 0.65138647 0.64587879 0.64647357        nan 0.65227907 0.64290107\n",
      " 0.6682066         nan 0.67788221 0.67148128 0.66537896        nan\n",
      " 0.67579848 0.6670154  0.66240084        nan 0.67565    0.66582366\n",
      " 0.66835541        nan 0.67788235 0.67148108 0.66731361        nan\n",
      " 0.67460794 0.66984444 0.66403821        nan 0.67788248 0.67088478\n",
      " 0.66671798        nan 0.67832891 0.67058782 0.66642036        nan\n",
      " 0.67326852 0.66909966 0.66478265        nan 0.67773354 0.66999179\n",
      " 0.66225296        nan 0.67460827 0.6676119  0.66314635        nan\n",
      " 0.67356627 0.66731355 0.65734072        nan 0.6719291  0.66359264\n",
      " 0.66150871        nan 0.67669207 0.66820654 0.66165785        nan\n",
      " 0.67535265 0.66656983 0.65808476        nan 0.67371515 0.66612267\n",
      " 0.66061572        nan 0.67669207 0.66835568 0.66195574        nan\n",
      " 0.67431019 0.666123   0.6580851         nan 0.67520384 0.66537836\n",
      " 0.64602594        nan 0.65495817 0.65004573 0.64706827        nan\n",
      " 0.6574886  0.64825961 0.64810941        nan 0.65689243 0.64900286\n",
      " 0.64721668        nan 0.6586792  0.65034315 0.64706834        nan\n",
      " 0.65614858 0.648111   0.64974784        nan 0.65808363 0.64796086\n",
      " 0.64989652        nan 0.65808463 0.65064123 0.65108773        nan\n",
      " 0.65629819 0.64959936 0.65183184        nan 0.65897729 0.64796133\n",
      " 0.67014159        nan 0.68160232 0.67252254 0.66686659        nan\n",
      " 0.67520244 0.66909973 0.66507974        nan 0.68011555 0.67252201\n",
      " 0.66909919        nan 0.68070933 0.67192737 0.66820667        nan\n",
      " 0.67966819 0.67118366 0.66552683        nan 0.67937097 0.67148048\n",
      " 0.66761077        nan 0.67937011 0.67088537 0.66835555        nan\n",
      " 0.6813057  0.67088591 0.66522922        nan 0.67951952 0.67088471\n",
      " 0.65317252        nan 0.67148074 0.66939741 0.65376769        nan\n",
      " 0.67222625 0.66731394 0.65213046        nan 0.67192784 0.66627128\n",
      " 0.653321          nan 0.67386263 0.6696949  0.65317245        nan\n",
      " 0.67445906 0.66612327 0.6501952         nan 0.67311871 0.66627148\n",
      " 0.65272556        nan 0.67282089 0.66716427 0.65287503        nan\n",
      " 0.67445866 0.66731388 0.65361902        nan 0.67311865 0.66552743\n",
      " 0.64349571        nan 0.65734072 0.64721748 0.64766457        nan\n",
      " 0.65302305 0.64766471 0.64543117        nan 0.65525546 0.64632442\n",
      " 0.64632396        nan 0.65838218 0.64915214 0.64781325        nan\n",
      " 0.65272583 0.64840909 0.64424003        nan 0.65555334 0.64409188\n",
      " 0.64781252        nan 0.6597226  0.64766444 0.64855743        nan\n",
      " 0.65540513 0.64706927 0.64751517        nan 0.6565958  0.64468732\n",
      " 0.66895112        nan 0.67847725 0.67222526 0.66642076        nan\n",
      " 0.67877587 0.66805813 0.66612234        nan 0.67966906 0.67103352\n",
      " 0.67014133        nan 0.68279432 0.67386309 0.66731361        nan\n",
      " 0.67832937 0.66880244 0.66552664        nan 0.67594709 0.67401057\n",
      " 0.66865263        nan 0.6819014  0.67311878 0.66433669        nan\n",
      " 0.67803142 0.66820727 0.66582432        nan 0.67758426 0.67192717\n",
      " 0.66031857        nan 0.67416031 0.66701619 0.660764          nan\n",
      " 0.67609663 0.66463438 0.66016936        nan 0.67460767 0.66656917\n",
      " 0.65957459        nan 0.67490483 0.6659738  0.66165752        nan\n",
      " 0.6746082  0.66508094 0.66031844        nan 0.67728684 0.66775997\n",
      " 0.6582345         nan 0.67490489 0.66835541 0.66135977        nan\n",
      " 0.67520351 0.6634433  0.65778788        nan 0.67594742 0.66701579\n",
      " 0.64260246        nan 0.65361955 0.64498507 0.64394301        nan\n",
      " 0.64930141 0.64290134 0.64304962        nan 0.65361842 0.64394321\n",
      " 0.64334724        nan 0.65198138 0.64677138 0.647069          nan\n",
      " 0.65213032 0.64409235 0.64394327        nan 0.65153449 0.64349651\n",
      " 0.64438937        nan 0.65481022 0.64781372 0.64632516        nan\n",
      " 0.65138647 0.64587879 0.64647357        nan 0.65227907 0.64290107\n",
      " 0.6682066         nan 0.67788221 0.67148128 0.66537896        nan\n",
      " 0.67579848 0.6670154  0.66240084        nan 0.67565    0.66582366\n",
      " 0.66835541        nan 0.67788235 0.67148108 0.66731361        nan\n",
      " 0.67460794 0.66984444 0.66403821        nan 0.67788248 0.67088478\n",
      " 0.66671798        nan 0.67832891 0.67058782 0.66642036        nan\n",
      " 0.67326852 0.66909966 0.66478265        nan 0.67773354 0.66999179\n",
      " 0.66225296        nan 0.67460827 0.6676119  0.66314635        nan\n",
      " 0.67356627 0.66731355 0.65734072        nan 0.6719291  0.66359264\n",
      " 0.66150871        nan 0.67669207 0.66820654 0.66165785        nan\n",
      " 0.67535265 0.66656983 0.65808476        nan 0.67371515 0.66612267\n",
      " 0.66061572        nan 0.67669207 0.66835568 0.66195574        nan\n",
      " 0.67431019 0.666123   0.6580851         nan 0.67520384 0.66537836]\n",
      "  warnings.warn(\n"
     ]
    },
    {
     "name": "stdout",
     "output_type": "stream",
     "text": [
      "{'model__max_depth': 50, 'model__max_features': 0.6, 'model__min_samples_leaf': 5, 'model__n_estimators': 150, 'smote__k_neighbors': 3, 'smote__sampling_strategy': 'not minority'}\n",
      "[[558  37 165]\n",
      " [ 44 175 122]\n",
      " [125  53 401]] \n",
      "\n",
      "              precision    recall  f1-score   support\n",
      "\n",
      "           0       0.83      0.82      0.83      3036\n",
      "           1       0.78      0.69      0.73      1365\n",
      "           2       0.70      0.76      0.73      2317\n",
      "\n",
      "    accuracy                           0.77      6718\n",
      "   macro avg       0.77      0.76      0.76      6718\n",
      "weighted avg       0.78      0.77      0.77      6718\n",
      " \n",
      "\n",
      "              precision    recall  f1-score   support\n",
      "\n",
      "           0       0.77      0.73      0.75       760\n",
      "           1       0.66      0.51      0.58       341\n",
      "           2       0.58      0.69      0.63       579\n",
      "\n",
      "    accuracy                           0.68      1680\n",
      "   macro avg       0.67      0.65      0.65      1680\n",
      "weighted avg       0.68      0.68      0.67      1680\n",
      "\n"
     ]
    },
    {
     "ename": "",
     "evalue": "",
     "output_type": "error",
     "traceback": [
      "\u001b[1;31mThe Kernel crashed while executing code in the the current cell or a previous cell. Please review the code in the cell(s) to identify a possible cause of the failure. Click <a href='https://aka.ms/vscodeJupyterKernelCrash'>here</a> for more info. View Jupyter <a href='command:jupyter.viewOutput'>log</a> for further details."
     ]
    }
   ],
   "source": [
    "from sklearn.ensemble import RandomForestClassifier\n",
    "from sklearn.model_selection import GridSearchCV\n",
    "from sklearn.metrics import confusion_matrix, classification_report\n",
    "from imblearn.pipeline import Pipeline\n",
    "from imblearn.over_sampling import SMOTE\n",
    "\n",
    "pipeline = Pipeline([\n",
    "    ('smote', SMOTE(random_state=42, n_jobs=-1)), \n",
    "    ('model', RandomForestClassifier(n_jobs=-1, random_state=42)),\n",
    "])\n",
    "\n",
    "model = GridSearchCV(pipeline, paramater_smote, cv=3, n_jobs=-1, verbose=1)\n",
    "model.fit(X_train, y_train)\n",
    "\n",
    "print(model.best_params_)\n",
    "\n",
    "y_pred = model.predict(X_test)\n",
    "y_pred_train = model.predict(X_train)\n",
    "\n",
    "print(confusion_matrix(y_test, y_pred), \"\\n\")\n",
    "print(classification_report(y_train, y_pred_train), \"\\n\")\n",
    "print(classification_report(y_test, y_pred))"
   ]
  },
  {
   "cell_type": "markdown",
   "metadata": {},
   "source": [
    "# Kesimpulan"
   ]
  },
  {
   "cell_type": "markdown",
   "metadata": {},
   "source": [
    "berdasarkan algoritma Random Forest dengan XGBoost didapatkan bahwa: <br>\n",
    "Akurasi yang didapatkan algoritma XGBoost lebih tinggi daripada Random Forest yaitu 69% sedangkan Random Forest 68% <br>\n",
    "<br>\n",
    "Proses Reduksi Dimensi tidak diperlukan karena Akurasi yang didapatkan dari proses tersebut tidak lebih baik dari sebelumnya dan juga proses tersebut tidak diperlukan karena kolom asli dari dataset yang digunakan tidak sampai 21 kolom"
   ]
  }
 ],
 "metadata": {
  "interpreter": {
   "hash": "2469a70536e4d2335a2ea8907942d0699c37342a371ac185bdb5b0aa6f073890"
  },
  "kernelspec": {
   "display_name": "Python 3.10.1 64-bit",
   "language": "python",
   "name": "python3"
  },
  "language_info": {
   "codemirror_mode": {
    "name": "ipython",
    "version": 3
   },
   "file_extension": ".py",
   "mimetype": "text/x-python",
   "name": "python",
   "nbconvert_exporter": "python",
   "pygments_lexer": "ipython3",
   "version": "3.10.1"
  },
  "orig_nbformat": 4
 },
 "nbformat": 4,
 "nbformat_minor": 2
}
